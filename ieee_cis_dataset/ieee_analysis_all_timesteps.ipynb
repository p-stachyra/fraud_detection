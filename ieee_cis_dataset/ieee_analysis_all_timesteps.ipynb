{
 "cells": [
  {
   "cell_type": "markdown",
   "metadata": {
    "pycharm": {
     "name": "#%% md\n"
    }
   },
   "source": [
    "# Single timestep graph - Elliptic data set"
   ]
  },
  {
   "cell_type": "code",
   "execution_count": 70,
   "metadata": {
    "pycharm": {
     "name": "#%%\n"
    }
   },
   "outputs": [],
   "source": [
    "# global imports\n",
    "import matplotlib.pyplot as plt\n",
    "import networkx as nx\n",
    "import numpy as np\n",
    "import pandas as pd\n",
    "import powerlaw\n",
    "import seaborn as sns\n",
    "\n",
    "from graphdatascience import GraphDataScience\n",
    "from matplotlib.ticker import FormatStrFormatter\n",
    "from tqdm.notebook import tqdm\n",
    "\n",
    "# local imports\n",
    "from AnalysisManager import AnalysisManager\n",
    "from NodeMetrics import NodeMetrics\n",
    "from GraphMetrics import GraphMetrics"
   ]
  },
  {
   "cell_type": "markdown",
   "metadata": {
    "pycharm": {
     "name": "#%% md\n"
    }
   },
   "source": [
    "#### Neo4j modules"
   ]
  },
  {
   "cell_type": "code",
   "execution_count": 71,
   "metadata": {
    "pycharm": {
     "name": "#%%\n"
    }
   },
   "outputs": [],
   "source": [
    "manager = AnalysisManager(\"neo4j\", \"ieeedataset\", \"../\", outputs_base_location=\"../\")\n",
    "connector = GraphDataScience(\"bolt://localhost:7687\", auth=(\"neo4j\", \"ieeedataset\"))\n",
    "node_metrics = NodeMetrics(connector, \"paysim\", \"node\", \"TRANSACTION\")\n",
    "graph_metrics = GraphMetrics(connector, \"paysim\", \"node\", \"TRANSACTION\")"
   ]
  },
  {
   "cell_type": "markdown",
   "metadata": {
    "pycharm": {
     "name": "#%% md\n"
    }
   },
   "source": [
    "#### Networkx graph"
   ]
  },
  {
   "cell_type": "code",
   "execution_count": 72,
   "metadata": {
    "pycharm": {
     "name": "#%%\n"
    }
   },
   "outputs": [],
   "source": [
    "edgelist = pd.read_csv(\"weights_account_to_device.csv\")\n",
    "graphtype = nx.DiGraph()\n",
    "graph = nx.from_pandas_edgelist(edgelist,\n",
    "                                source=\"AccountName\",\n",
    "                                target=\"DeviceInfo\",\n",
    "                                create_using=graphtype)"
   ]
  },
  {
   "cell_type": "markdown",
   "metadata": {
    "pycharm": {
     "name": "#%% md\n"
    }
   },
   "source": [
    "### Functions related to working with Networkx library"
   ]
  },
  {
   "cell_type": "markdown",
   "metadata": {
    "pycharm": {
     "name": "#%% md\n"
    }
   },
   "source": [
    "Note on shortest paths"
   ]
  },
  {
   "cell_type": "markdown",
   "metadata": {
    "pycharm": {
     "name": "#%% md\n"
    }
   },
   "source": [
    "The shortest paths are determined using Networkx class static method shortest_path_length() which returns pairs of node ID and a dictionary containing all its neighbours IDs and path lengths to them. <br>\n",
    "In this case, the information is stored in a multidimensional array of heterogenious sizes of elements which store the origin node ID, destination node IDs and path lengths."
   ]
  },
  {
   "cell_type": "code",
   "execution_count": 73,
   "metadata": {
    "pycharm": {
     "name": "#%%\n"
    }
   },
   "outputs": [],
   "source": [
    "def getAllShortestPaths(graph):\n",
    "    all_shortest_paths = []\n",
    "    for (i,j) in nx.shortest_path_length(graph):\n",
    "        all_shortest_paths.append([i, list(j.keys()), np.array(list(j.values()))])\n",
    "    return all_shortest_paths"
   ]
  },
  {
   "cell_type": "code",
   "execution_count": 74,
   "metadata": {
    "pycharm": {
     "name": "#%%\n"
    }
   },
   "outputs": [],
   "source": [
    "def getMeanOfShortestPaths(shortest_paths):\n",
    "    summed_lengths = 0\n",
    "    number_of_paths = 0\n",
    "    for i in range(len(shortest_paths)):\n",
    "        summed_lengths += (shortest_paths[i][2].sum())\n",
    "        number_of_paths += sum(shortest_paths[i][2] != 0)\n",
    "\n",
    "    return summed_lengths / number_of_paths"
   ]
  },
  {
   "cell_type": "code",
   "execution_count": 75,
   "metadata": {
    "pycharm": {
     "name": "#%%\n"
    }
   },
   "outputs": [],
   "source": [
    "def getMedianOfShortestPaths(shortest_paths):\n",
    "    all_paths_lengths = []\n",
    "    for i in range(len(shortest_paths)):\n",
    "        for path_length in shortest_paths[i][2]:\n",
    "            all_paths_lengths.append(path_length)\n",
    "    all_paths_lengths = pd.Series(np.array(all_paths_lengths))\n",
    "    return all_paths_lengths.median()"
   ]
  },
  {
   "cell_type": "code",
   "execution_count": 76,
   "metadata": {
    "pycharm": {
     "name": "#%%\n"
    }
   },
   "outputs": [],
   "source": [
    "def getDiameter(shortest_paths):\n",
    "    all_paths_lengths = []\n",
    "    for i in range(len(shortest_paths)):\n",
    "        for path_length in shortest_paths[i][2]:\n",
    "            all_paths_lengths.append(path_length)\n",
    "    all_paths_lengths = pd.Series(np.array(all_paths_lengths))\n",
    "    return all_paths_lengths.max()"
   ]
  },
  {
   "cell_type": "code",
   "execution_count": 77,
   "metadata": {
    "pycharm": {
     "name": "#%%\n"
    }
   },
   "outputs": [],
   "source": [
    "def getDegreeDistribution(connector, nodes_and_classes):\n",
    "    nodes = nodes_and_classes[\"id\"]\n",
    "    degree_df = None\n",
    "    for node in tqdm(nodes):\n",
    "        try:\n",
    "            results_in_degree = connector.run_cypher(\"\"\"\n",
    "                            MATCH (n:node)<-[r:TRANSACTION]-(m:node)\n",
    "                            WHERE n.id = '%s'\n",
    "                            RETURN n.id AS id, count(m) AS in_degree\n",
    "                            \"\"\" % node)\n",
    "            results_out_degree = connector.run_cypher(\"\"\"\n",
    "                            MATCH (n:node)-[r:TRANSACTION]->(m:node)\n",
    "                            WHERE n.id = '%s'\n",
    "                            RETURN n.id AS id, count(m) AS out_degree\n",
    "                            \"\"\" % node)\n",
    "\n",
    "            merged = pd.merge(results_in_degree, results_out_degree, on=\"id\", how=\"outer\")\n",
    "\n",
    "            if degree_df is None:\n",
    "                degree_df = merged\n",
    "            else:\n",
    "                degree_df = pd.concat([degree_df, merged], axis=0)\n",
    "        except:\n",
    "            continue\n",
    "\n",
    "    return degree_df.fillna(0)"
   ]
  },
  {
   "cell_type": "markdown",
   "metadata": {
    "pycharm": {
     "name": "#%% md\n"
    }
   },
   "source": [
    "## Large-scale Network Properties"
   ]
  },
  {
   "cell_type": "code",
   "execution_count": 14,
   "metadata": {
    "pycharm": {
     "name": "#%%\n"
    }
   },
   "outputs": [],
   "source": [
    "nodes_classes = node_metrics.getNodesClasses()"
   ]
  },
  {
   "cell_type": "code",
   "execution_count": 15,
   "metadata": {
    "pycharm": {
     "name": "#%%\n"
    }
   },
   "outputs": [
    {
     "data": {
      "application/vnd.jupyter.widget-view+json": {
       "model_id": "588f80634a8e49798c1c70b12945e905",
       "version_major": 2,
       "version_minor": 0
      },
      "text/plain": [
       "  0%|          | 0/9526 [00:00<?, ?it/s]"
      ]
     },
     "metadata": {},
     "output_type": "display_data"
    }
   ],
   "source": [
    "degree_distribution_df = getDegreeDistribution(connector=connector, nodes_and_classes=nodes_classes)"
   ]
  },
  {
   "cell_type": "code",
   "execution_count": 16,
   "metadata": {
    "pycharm": {
     "name": "#%%\n"
    }
   },
   "outputs": [],
   "source": [
    "column_names = [\"Type\", \"n\", \"m\", \"c\", \"S\", \"l\", \"alpha_in\", \"alpha_out\", \"C\"]\n",
    "properties = [\"Directed\"]"
   ]
  },
  {
   "cell_type": "markdown",
   "metadata": {
    "pycharm": {
     "name": "#%% md\n"
    }
   },
   "source": [
    "Number of nodes"
   ]
  },
  {
   "cell_type": "code",
   "execution_count": 17,
   "metadata": {
    "pycharm": {
     "name": "#%%\n"
    }
   },
   "outputs": [
    {
     "name": "stdout",
     "output_type": "stream",
     "text": [
      "9526\n"
     ]
    }
   ],
   "source": [
    "n = graph_metrics.getGraphSize()\n",
    "properties.append(n)\n",
    "print(n)"
   ]
  },
  {
   "cell_type": "markdown",
   "metadata": {
    "pycharm": {
     "name": "#%% md\n"
    }
   },
   "source": [
    "Number of edges"
   ]
  },
  {
   "cell_type": "code",
   "execution_count": 18,
   "metadata": {
    "pycharm": {
     "name": "#%%\n"
    }
   },
   "outputs": [
    {
     "name": "stdout",
     "output_type": "stream",
     "text": [
      "117386\n"
     ]
    }
   ],
   "source": [
    "m = graph_metrics.getNumberOfEdges().values[0][0]\n",
    "properties.append(m)\n",
    "print(m)"
   ]
  },
  {
   "cell_type": "markdown",
   "metadata": {
    "pycharm": {
     "name": "#%% md\n"
    }
   },
   "source": [
    "Mean degree"
   ]
  },
  {
   "cell_type": "code",
   "execution_count": 19,
   "metadata": {
    "pycharm": {
     "name": "#%%\n"
    }
   },
   "outputs": [
    {
     "name": "stdout",
     "output_type": "stream",
     "text": [
      "24.645391559941213\n"
     ]
    }
   ],
   "source": [
    "c = 2 * m / n\n",
    "properties.append(c)\n",
    "print(c)"
   ]
  },
  {
   "cell_type": "markdown",
   "metadata": {
    "pycharm": {
     "name": "#%% md\n"
    }
   },
   "source": [
    "Fraction of nodes in the giant component (the largest component)"
   ]
  },
  {
   "cell_type": "code",
   "execution_count": 20,
   "metadata": {
    "pycharm": {
     "name": "#%%\n"
    }
   },
   "outputs": [
    {
     "name": "stdout",
     "output_type": "stream",
     "text": [
      "0.9888725593113584\n"
     ]
    }
   ],
   "source": [
    "fractions = pd.DataFrame(graph_metrics.getFractionsWeaklyConnectedComponents())\n",
    "fractions = fractions.reset_index()\n",
    "fractions.columns = [\"componentId\", \"fraction_of_nodes\"]\n",
    "S = fractions[fractions[\"fraction_of_nodes\"] == fractions[\"fraction_of_nodes\"].max()][\"fraction_of_nodes\"][0]\n",
    "properties.append(S)\n",
    "print(S)"
   ]
  },
  {
   "cell_type": "markdown",
   "metadata": {
    "pycharm": {
     "name": "#%% md\n"
    }
   },
   "source": [
    "Mean distance between connected node pairs"
   ]
  },
  {
   "cell_type": "code",
   "execution_count": 21,
   "metadata": {
    "pycharm": {
     "name": "#%%\n"
    }
   },
   "outputs": [
    {
     "name": "stdout",
     "output_type": "stream",
     "text": [
      "1.0\n"
     ]
    }
   ],
   "source": [
    "l = getMeanOfShortestPaths(getAllShortestPaths(graph=graph))\n",
    "properties.append(l)\n",
    "print(l)"
   ]
  },
  {
   "cell_type": "markdown",
   "metadata": {
    "pycharm": {
     "name": "#%% md\n"
    }
   },
   "source": [
    "Exponent alpha"
   ]
  },
  {
   "cell_type": "code",
   "execution_count": 22,
   "metadata": {
    "pycharm": {
     "name": "#%%\n"
    }
   },
   "outputs": [
    {
     "name": "stdout",
     "output_type": "stream",
     "text": [
      "0      7750\n",
      "1       438\n",
      "2       195\n",
      "3       142\n",
      "4       119\n",
      "       ... \n",
      "178       1\n",
      "130       1\n",
      "122       1\n",
      "106       1\n",
      "311       1\n",
      "Name: in_degree, Length: 146, dtype: int64\n",
      "1       3009\n",
      "0       1775\n",
      "2       1181\n",
      "3        738\n",
      "4        499\n",
      "        ... \n",
      "1890       1\n",
      "1330       1\n",
      "1282       1\n",
      "618        1\n",
      "1831       1\n",
      "Name: out_degree, Length: 218, dtype: int64\n",
      "Calculating best minimal value for power law fit\n",
      "Calculating best minimal value for power law fit\n",
      "xmin progress: 99%\r"
     ]
    },
    {
     "name": "stderr",
     "output_type": "stream",
     "text": [
      "Values less than or equal to 0 in data. Throwing out 0 or negative values\n",
      "Values less than or equal to 0 in data. Throwing out 0 or negative values\n"
     ]
    }
   ],
   "source": [
    "print(degree_distribution_df[\"in_degree\"].value_counts())\n",
    "print(degree_distribution_df[\"out_degree\"].value_counts())\n",
    "x1 = degree_distribution_df[\"in_degree\"].values\n",
    "x2 = degree_distribution_df[\"out_degree\"].values\n",
    "data1 = powerlaw.Fit(x1)\n",
    "data2 = powerlaw.Fit(x2)\n",
    "properties.append(data1.alpha)\n",
    "properties.append(data2.alpha)"
   ]
  },
  {
   "cell_type": "code",
   "execution_count": 23,
   "metadata": {
    "pycharm": {
     "name": "#%%\n"
    }
   },
   "outputs": [
    {
     "name": "stdout",
     "output_type": "stream",
     "text": [
      "2.1965293412785316\n",
      "1.964670376177331\n"
     ]
    }
   ],
   "source": [
    "print(data1.alpha)\n",
    "print(data2.alpha)"
   ]
  },
  {
   "cell_type": "markdown",
   "metadata": {
    "pycharm": {
     "name": "#%% md\n"
    }
   },
   "source": [
    "Mean clustering coefficient"
   ]
  },
  {
   "cell_type": "code",
   "execution_count": 24,
   "metadata": {
    "pycharm": {
     "name": "#%%\n"
    }
   },
   "outputs": [
    {
     "name": "stdout",
     "output_type": "stream",
     "text": [
      "0.0\n"
     ]
    }
   ],
   "source": [
    "local_clustering_coefficients = node_metrics.getClusteringCoefficient()\n",
    "C = local_clustering_coefficients[\"localClusteringCoefficient\"].mean()\n",
    "properties.append(C)\n",
    "print(C)"
   ]
  },
  {
   "cell_type": "code",
   "execution_count": 25,
   "metadata": {
    "pycharm": {
     "name": "#%%\n"
    }
   },
   "outputs": [
    {
     "data": {
      "text/html": [
       "<div>\n",
       "<style scoped>\n",
       "    .dataframe tbody tr th:only-of-type {\n",
       "        vertical-align: middle;\n",
       "    }\n",
       "\n",
       "    .dataframe tbody tr th {\n",
       "        vertical-align: top;\n",
       "    }\n",
       "\n",
       "    .dataframe thead th {\n",
       "        text-align: right;\n",
       "    }\n",
       "</style>\n",
       "<table border=\"1\" class=\"dataframe\">\n",
       "  <thead>\n",
       "    <tr style=\"text-align: right;\">\n",
       "      <th></th>\n",
       "      <th>Type</th>\n",
       "      <th>n</th>\n",
       "      <th>m</th>\n",
       "      <th>c</th>\n",
       "      <th>S</th>\n",
       "      <th>l</th>\n",
       "      <th>alpha_in</th>\n",
       "      <th>alpha_out</th>\n",
       "      <th>C</th>\n",
       "    </tr>\n",
       "  </thead>\n",
       "  <tbody>\n",
       "    <tr>\n",
       "      <th>0</th>\n",
       "      <td>Directed</td>\n",
       "      <td>9526</td>\n",
       "      <td>117386</td>\n",
       "      <td>24.645392</td>\n",
       "      <td>0.988873</td>\n",
       "      <td>1.0</td>\n",
       "      <td>2.196529</td>\n",
       "      <td>1.96467</td>\n",
       "      <td>0.0</td>\n",
       "    </tr>\n",
       "  </tbody>\n",
       "</table>\n",
       "</div>"
      ],
      "text/plain": [
       "       Type     n       m          c         S    l  alpha_in  alpha_out    C\n",
       "0  Directed  9526  117386  24.645392  0.988873  1.0  2.196529    1.96467  0.0"
      ]
     },
     "execution_count": 25,
     "metadata": {},
     "output_type": "execute_result"
    }
   ],
   "source": [
    "large_scale_structure_df = pd.DataFrame([properties])\n",
    "large_scale_structure_df.columns = column_names\n",
    "large_scale_structure_df.to_csv(\"../graph_large_scale_properties.csv\")\n",
    "large_scale_structure_df"
   ]
  },
  {
   "cell_type": "markdown",
   "metadata": {
    "pycharm": {
     "name": "#%% md\n"
    }
   },
   "source": [
    "### Additional properties"
   ]
  },
  {
   "cell_type": "markdown",
   "metadata": {
    "pycharm": {
     "name": "#%% md\n"
    }
   },
   "source": [
    "Density"
   ]
  },
  {
   "cell_type": "code",
   "execution_count": 26,
   "metadata": {
    "pycharm": {
     "name": "#%%\n"
    }
   },
   "outputs": [
    {
     "name": "stdout",
     "output_type": "stream",
     "text": [
      "0.002587442683458395\n"
     ]
    }
   ],
   "source": [
    "rho = (2 * m) / (n * (n - 1))\n",
    "print(rho)"
   ]
  },
  {
   "cell_type": "markdown",
   "metadata": {
    "pycharm": {
     "name": "#%% md\n"
    }
   },
   "source": [
    "Number of strongly connected components"
   ]
  },
  {
   "cell_type": "code",
   "execution_count": 27,
   "metadata": {
    "pycharm": {
     "name": "#%%\n"
    }
   },
   "outputs": [
    {
     "data": {
      "text/plain": [
       "9526"
      ]
     },
     "execution_count": 27,
     "metadata": {},
     "output_type": "execute_result"
    }
   ],
   "source": [
    "len(graph_metrics.getFractionsStronglyConnectedComponents())"
   ]
  },
  {
   "cell_type": "markdown",
   "metadata": {
    "pycharm": {
     "name": "#%% md\n"
    }
   },
   "source": [
    "Number of weakly connected components"
   ]
  },
  {
   "cell_type": "code",
   "execution_count": 28,
   "metadata": {
    "pycharm": {
     "name": "#%%\n"
    }
   },
   "outputs": [
    {
     "data": {
      "text/plain": [
       "50"
      ]
     },
     "execution_count": 28,
     "metadata": {},
     "output_type": "execute_result"
    }
   ],
   "source": [
    "len(graph_metrics.getFractionsWeaklyConnectedComponents())"
   ]
  },
  {
   "cell_type": "markdown",
   "metadata": {
    "pycharm": {
     "name": "#%% md\n"
    }
   },
   "source": [
    "Graph's diameter"
   ]
  },
  {
   "cell_type": "code",
   "execution_count": 29,
   "metadata": {
    "pycharm": {
     "name": "#%%\n"
    }
   },
   "outputs": [],
   "source": [
    "path_lengths = {}\n",
    "all_shortest_paths = getAllShortestPaths(graph)\n",
    "for i in range(len(all_shortest_paths)):\n",
    "    for path in all_shortest_paths[i][2]:\n",
    "        if path in path_lengths.keys():\n",
    "            path_lengths[path] += 1\n",
    "        else:\n",
    "            path_lengths[path] = 1"
   ]
  },
  {
   "cell_type": "code",
   "execution_count": 30,
   "metadata": {
    "pycharm": {
     "name": "#%%\n"
    }
   },
   "outputs": [
    {
     "data": {
      "text/plain": [
       "{0: 9526, 1: 25984}"
      ]
     },
     "execution_count": 30,
     "metadata": {},
     "output_type": "execute_result"
    }
   ],
   "source": [
    "path_lengths"
   ]
  },
  {
   "cell_type": "code",
   "execution_count": 31,
   "metadata": {
    "pycharm": {
     "name": "#%%\n"
    }
   },
   "outputs": [
    {
     "data": {
      "text/plain": [
       "1"
      ]
     },
     "execution_count": 31,
     "metadata": {},
     "output_type": "execute_result"
    }
   ],
   "source": [
    "getDiameter(getAllShortestPaths(graph=graph))"
   ]
  },
  {
   "cell_type": "markdown",
   "metadata": {
    "pycharm": {
     "name": "#%% md\n"
    }
   },
   "source": [
    "## Centrality Metrics Analysis"
   ]
  },
  {
   "cell_type": "markdown",
   "metadata": {
    "pycharm": {
     "name": "#%% md\n"
    }
   },
   "source": [
    "#### Class imbalance"
   ]
  },
  {
   "cell_type": "code",
   "execution_count": 78,
   "metadata": {
    "pycharm": {
     "name": "#%%\n"
    }
   },
   "outputs": [],
   "source": [
    "customers_fraud = connector.run_cypher(\"MATCH (n:node)-[r:TRANSACTION]->(m:node) WHERE r.isFraud = '1' RETURN n.id\")"
   ]
  },
  {
   "cell_type": "code",
   "execution_count": 83,
   "metadata": {
    "pycharm": {
     "name": "#%%\n"
    }
   },
   "outputs": [],
   "source": [
    "degree_distribution_fraud = pd.merge(customers_fraud, degree_distribution_df, left_on=\"n.id\", right_on=\"id\", how=\"inner\")"
   ]
  },
  {
   "cell_type": "code",
   "execution_count": 85,
   "metadata": {
    "pycharm": {
     "name": "#%%\n"
    }
   },
   "outputs": [
    {
     "data": {
      "text/html": [
       "<div>\n",
       "<style scoped>\n",
       "    .dataframe tbody tr th:only-of-type {\n",
       "        vertical-align: middle;\n",
       "    }\n",
       "\n",
       "    .dataframe tbody tr th {\n",
       "        vertical-align: top;\n",
       "    }\n",
       "\n",
       "    .dataframe thead th {\n",
       "        text-align: right;\n",
       "    }\n",
       "</style>\n",
       "<table border=\"1\" class=\"dataframe\">\n",
       "  <thead>\n",
       "    <tr style=\"text-align: right;\">\n",
       "      <th></th>\n",
       "      <th>n.id</th>\n",
       "      <th>in_degree</th>\n",
       "      <th>id</th>\n",
       "      <th>out_degree</th>\n",
       "    </tr>\n",
       "  </thead>\n",
       "  <tbody>\n",
       "    <tr>\n",
       "      <th>0</th>\n",
       "      <td>9987555203226v6</td>\n",
       "      <td>0</td>\n",
       "      <td>9987555203226v6</td>\n",
       "      <td>7</td>\n",
       "    </tr>\n",
       "    <tr>\n",
       "      <th>5</th>\n",
       "      <td>9941273185224m6</td>\n",
       "      <td>0</td>\n",
       "      <td>9941273185224m6</td>\n",
       "      <td>10</td>\n",
       "    </tr>\n",
       "    <tr>\n",
       "      <th>6</th>\n",
       "      <td>9938375185224m5</td>\n",
       "      <td>0</td>\n",
       "      <td>9938375185224m5</td>\n",
       "      <td>20</td>\n",
       "    </tr>\n",
       "    <tr>\n",
       "      <th>10</th>\n",
       "      <td>9926122150126m5</td>\n",
       "      <td>0</td>\n",
       "      <td>9926122150126m5</td>\n",
       "      <td>1</td>\n",
       "    </tr>\n",
       "    <tr>\n",
       "      <th>11</th>\n",
       "      <td>9917142185138v5</td>\n",
       "      <td>0</td>\n",
       "      <td>9917142185138v5</td>\n",
       "      <td>635</td>\n",
       "    </tr>\n",
       "    <tr>\n",
       "      <th>...</th>\n",
       "      <td>...</td>\n",
       "      <td>...</td>\n",
       "      <td>...</td>\n",
       "      <td>...</td>\n",
       "    </tr>\n",
       "    <tr>\n",
       "      <th>8326</th>\n",
       "      <td>2089168144195v6</td>\n",
       "      <td>0</td>\n",
       "      <td>2089168144195v6</td>\n",
       "      <td>4</td>\n",
       "    </tr>\n",
       "    <tr>\n",
       "      <th>8330</th>\n",
       "      <td>9475555119224m5</td>\n",
       "      <td>0</td>\n",
       "      <td>9475555119224m5</td>\n",
       "      <td>3</td>\n",
       "    </tr>\n",
       "    <tr>\n",
       "      <th>8332</th>\n",
       "      <td>2870555119224m6</td>\n",
       "      <td>0</td>\n",
       "      <td>2870555119224m6</td>\n",
       "      <td>6</td>\n",
       "    </tr>\n",
       "    <tr>\n",
       "      <th>8333</th>\n",
       "      <td>5691417150226v5</td>\n",
       "      <td>0</td>\n",
       "      <td>5691417150226v5</td>\n",
       "      <td>7</td>\n",
       "    </tr>\n",
       "    <tr>\n",
       "      <th>8334</th>\n",
       "      <td>8841399150137a6</td>\n",
       "      <td>0</td>\n",
       "      <td>8841399150137a6</td>\n",
       "      <td>6</td>\n",
       "    </tr>\n",
       "  </tbody>\n",
       "</table>\n",
       "<p>1133 rows × 4 columns</p>\n",
       "</div>"
      ],
      "text/plain": [
       "                 n.id  in_degree               id  out_degree\n",
       "0     9987555203226v6          0  9987555203226v6           7\n",
       "5     9941273185224m6          0  9941273185224m6          10\n",
       "6     9938375185224m5          0  9938375185224m5          20\n",
       "10    9926122150126m5          0  9926122150126m5           1\n",
       "11    9917142185138v5          0  9917142185138v5         635\n",
       "...               ...        ...              ...         ...\n",
       "8326  2089168144195v6          0  2089168144195v6           4\n",
       "8330  9475555119224m5          0  9475555119224m5           3\n",
       "8332  2870555119224m6          0  2870555119224m6           6\n",
       "8333  5691417150226v5          0  5691417150226v5           7\n",
       "8334  8841399150137a6          0  8841399150137a6           6\n",
       "\n",
       "[1133 rows x 4 columns]"
      ]
     },
     "execution_count": 85,
     "metadata": {},
     "output_type": "execute_result"
    }
   ],
   "source": [
    "degree_distribution_fraud.drop_duplicates(subset=\"n.id\", inplace=True)\n",
    "degree_distribution_fraud"
   ]
  },
  {
   "cell_type": "markdown",
   "metadata": {
    "pycharm": {
     "name": "#%% md\n"
    }
   },
   "source": [
    "### Degree Distribution"
   ]
  },
  {
   "cell_type": "code",
   "execution_count": 33,
   "metadata": {
    "pycharm": {
     "name": "#%%\n"
    }
   },
   "outputs": [
    {
     "data": {
      "text/html": [
       "<div>\n",
       "<style scoped>\n",
       "    .dataframe tbody tr th:only-of-type {\n",
       "        vertical-align: middle;\n",
       "    }\n",
       "\n",
       "    .dataframe tbody tr th {\n",
       "        vertical-align: top;\n",
       "    }\n",
       "\n",
       "    .dataframe thead th {\n",
       "        text-align: right;\n",
       "    }\n",
       "</style>\n",
       "<table border=\"1\" class=\"dataframe\">\n",
       "  <thead>\n",
       "    <tr style=\"text-align: right;\">\n",
       "      <th></th>\n",
       "      <th>in_degree</th>\n",
       "      <th>id</th>\n",
       "      <th>out_degree</th>\n",
       "    </tr>\n",
       "  </thead>\n",
       "  <tbody>\n",
       "    <tr>\n",
       "      <th>0</th>\n",
       "      <td>0</td>\n",
       "      <td>10003555128226v5</td>\n",
       "      <td>3</td>\n",
       "    </tr>\n",
       "    <tr>\n",
       "      <th>0</th>\n",
       "      <td>0</td>\n",
       "      <td>10004529150162v6</td>\n",
       "      <td>11</td>\n",
       "    </tr>\n",
       "    <tr>\n",
       "      <th>0</th>\n",
       "      <td>0</td>\n",
       "      <td>10005399150150a6</td>\n",
       "      <td>4</td>\n",
       "    </tr>\n",
       "    <tr>\n",
       "      <th>0</th>\n",
       "      <td>0</td>\n",
       "      <td>1000555185224m5</td>\n",
       "      <td>1</td>\n",
       "    </tr>\n",
       "    <tr>\n",
       "      <th>0</th>\n",
       "      <td>0</td>\n",
       "      <td>10006390150102m6</td>\n",
       "      <td>1</td>\n",
       "    </tr>\n",
       "  </tbody>\n",
       "</table>\n",
       "</div>"
      ],
      "text/plain": [
       "   in_degree                id  out_degree\n",
       "0          0  10003555128226v5           3\n",
       "0          0  10004529150162v6          11\n",
       "0          0  10005399150150a6           4\n",
       "0          0   1000555185224m5           1\n",
       "0          0  10006390150102m6           1"
      ]
     },
     "execution_count": 33,
     "metadata": {},
     "output_type": "execute_result"
    }
   ],
   "source": [
    "degree_distribution_df.head()"
   ]
  },
  {
   "cell_type": "code",
   "execution_count": 36,
   "metadata": {
    "pycharm": {
     "name": "#%%\n"
    }
   },
   "outputs": [],
   "source": [
    "def plotInDegreeDistribution(x, y, color, title_postfix=\"\"):\n",
    "    plt.figure(figsize=(8,7))\n",
    "    ax = sns.barplot(x=x, y=y, color=color)\n",
    "    ax.xaxis.set_major_locator(plt.MaxNLocator(10))\n",
    "    plt.xticks(rotation=45)\n",
    "    plt.xlabel(\"in-degree\")\n",
    "    plt.ylabel(\"count\")\n",
    "    plt.title(f\"In-degree distribution{title_postfix}\", fontsize=16)\n",
    "    plt.show()\n",
    "\n",
    "def plotOutDegreeDistribution(x, y, color, title_postfix=\"\"):\n",
    "    plt.figure(figsize=(8,7))\n",
    "    ax = sns.barplot(x=x, y=y, color=color)\n",
    "    ax.xaxis.set_major_locator(plt.MaxNLocator(10))\n",
    "    plt.xticks(rotation=45)\n",
    "    plt.xlabel(\"out-degree\")\n",
    "    plt.ylabel(\"count\")\n",
    "    plt.title(f\"Out-degree distribution{title_postfix}\", fontsize=16)\n",
    "    plt.show()"
   ]
  },
  {
   "cell_type": "code",
   "execution_count": 37,
   "metadata": {
    "pycharm": {
     "name": "#%%\n"
    }
   },
   "outputs": [
    {
     "data": {
      "image/png": "[encoded data removed]",
      "text/plain": [
       "<Figure size 576x504 with 1 Axes>"
      ]
     },
     "metadata": {},
     "output_type": "display_data"
    }
   ],
   "source": [
    "plotInDegreeDistribution(x=degree_distribution_df[\"in_degree\"].value_counts().index, y=degree_distribution_df[\"in_degree\"].value_counts(), color=\"lightseagreen\")"
   ]
  },
  {
   "cell_type": "code",
   "execution_count": 38,
   "metadata": {
    "pycharm": {
     "name": "#%%\n"
    }
   },
   "outputs": [
    {
     "data": {
      "image/png": "[encoded data removed]",
      "text/plain": [
       "<Figure size 576x504 with 1 Axes>"
      ]
     },
     "metadata": {},
     "output_type": "display_data"
    }
   ],
   "source": [
    "plotOutDegreeDistribution(x=degree_distribution_df[\"out_degree\"].value_counts().index, y=degree_distribution_df[\"out_degree\"].value_counts(), color=\"orange\")"
   ]
  },
  {
   "cell_type": "code",
   "execution_count": 90,
   "metadata": {
    "pycharm": {
     "name": "#%%\n"
    }
   },
   "outputs": [
    {
     "data": {
      "image/png": "[encoded data removed]",
      "text/plain": [
       "<Figure size 576x504 with 1 Axes>"
      ]
     },
     "metadata": {},
     "output_type": "display_data"
    }
   ],
   "source": [
    "plotInDegreeDistribution(degree_distribution_fraud[\"in_degree\"].value_counts().index, y=degree_distribution_fraud[\"in_degree\"].value_counts(), color=\"crimson\")"
   ]
  },
  {
   "cell_type": "code",
   "execution_count": 91,
   "metadata": {
    "pycharm": {
     "name": "#%%\n"
    }
   },
   "outputs": [
    {
     "data": {
      "image/png": "[encoded data removed]",
      "text/plain": [
       "<Figure size 576x504 with 1 Axes>"
      ]
     },
     "metadata": {},
     "output_type": "display_data"
    }
   ],
   "source": [
    "plotOutDegreeDistribution(degree_distribution_fraud[\"out_degree\"].value_counts().index, y=degree_distribution_fraud[\"out_degree\"].value_counts(), color=\"crimson\")"
   ]
  },
  {
   "cell_type": "markdown",
   "metadata": {
    "pycharm": {
     "name": "#%% md\n"
    }
   },
   "source": [
    "### Pagerank scores distribution"
   ]
  },
  {
   "cell_type": "code",
   "execution_count": 39,
   "metadata": {
    "pycharm": {
     "name": "#%%\n"
    }
   },
   "outputs": [],
   "source": [
    "def plotPageRankDistribution(subset, color, title_postfix=\"\"):\n",
    "    subset = subset.value_counts()\n",
    "    plt.figure(figsize=(8,7))\n",
    "    sns.barplot(x=subset, y=subset.index, color=color)\n",
    "    plt.xlabel(\"pagerank score\")\n",
    "    plt.xticks(rotation=45)\n",
    "    plt.ylabel(\"count\")\n",
    "    plt.title(f\"Pagerank scores distribution{title_postfix}\")\n",
    "    plt.show()"
   ]
  },
  {
   "cell_type": "code",
   "execution_count": 40,
   "metadata": {
    "pycharm": {
     "name": "#%%\n"
    }
   },
   "outputs": [],
   "source": [
    "pagerank_scores = node_metrics.getPageRankScores().round(decimals=3)\n",
    "pagerank_scores_classes = pd.merge(pagerank_scores, nodes_classes, on=\"id\")"
   ]
  },
  {
   "cell_type": "code",
   "execution_count": 41,
   "metadata": {
    "pycharm": {
     "name": "#%%\n"
    }
   },
   "outputs": [
    {
     "name": "stderr",
     "output_type": "stream",
     "text": [
      "ERROR:root:Internal Python error in the inspect module.\n",
      "Below is the traceback from this internal error.\n",
      "\n"
     ]
    },
    {
     "name": "stdout",
     "output_type": "stream",
     "text": [
      "Error.\n",
      "Exception message: 'NodeMetrics' object has no attribute 'getHITSCentrality'\n",
      "Function: getNodesMetrics\n",
      "Traceback (most recent call last):\n",
      "  File \"C:\\Users\\pstac\\Data_Science\\thesis\\ieee_dataset_analysis\\AnalysisManager.py\", line 50, in getNodesMetrics\n",
      "    hits_distribution = self.node_metrics.getHITSCentrality()\n",
      "AttributeError: 'NodeMetrics' object has no attribute 'getHITSCentrality'\n",
      "\n",
      "During handling of the above exception, another exception occurred:\n",
      "\n",
      "Traceback (most recent call last):\n",
      "  File \"c:\\users\\pstac\\appdata\\local\\programs\\python\\python39\\lib\\site-packages\\IPython\\core\\interactiveshell.py\", line 3441, in run_code\n",
      "    exec(code_obj, self.user_global_ns, self.user_ns)\n",
      "  File \"<ipython-input-41-0492b5f8ab7c>\", line 1, in <module>\n",
      "    manager.getCentralityMetricsDataFrame(\"PageRankScore\")\n",
      "  File \"C:\\Users\\pstac\\Data_Science\\thesis\\ieee_dataset_analysis\\AnalysisManager.py\", line 72, in getCentralityMetricsDataFrame\n",
      "    self.nodes_characteristics = self.getNodesMetrics()\n",
      "  File \"C:\\Users\\pstac\\Data_Science\\thesis\\ieee_dataset_analysis\\AnalysisManager.py\", line 60, in getNodesMetrics\n",
      "    sys.exit(1)\n",
      "SystemExit: 1\n",
      "\n",
      "During handling of the above exception, another exception occurred:\n",
      "\n",
      "Traceback (most recent call last):\n",
      "  File \"c:\\users\\pstac\\appdata\\local\\programs\\python\\python39\\lib\\site-packages\\IPython\\core\\ultratb.py\", line 1101, in get_records\n",
      "    return _fixed_getinnerframes(etb, number_of_lines_of_context, tb_offset)\n",
      "  File \"c:\\users\\pstac\\appdata\\local\\programs\\python\\python39\\lib\\site-packages\\IPython\\core\\ultratb.py\", line 248, in wrapped\n",
      "    return f(*args, **kwargs)\n",
      "  File \"c:\\users\\pstac\\appdata\\local\\programs\\python\\python39\\lib\\site-packages\\IPython\\core\\ultratb.py\", line 281, in _fixed_getinnerframes\n",
      "    records = fix_frame_records_filenames(inspect.getinnerframes(etb, context))\n",
      "  File \"c:\\users\\pstac\\appdata\\local\\programs\\python\\python39\\lib\\inspect.py\", line 1541, in getinnerframes\n",
      "    frameinfo = (tb.tb_frame,) + getframeinfo(tb, context)\n",
      "AttributeError: 'tuple' object has no attribute 'tb_frame'\n"
     ]
    },
    {
     "ename": "TypeError",
     "evalue": "object of type 'NoneType' has no len()",
     "output_type": "error",
     "traceback": [
      "\u001B[1;31m---------------------------------------------------------------------------\u001B[0m",
      "\u001B[1;31mAttributeError\u001B[0m                            Traceback (most recent call last)",
      "\u001B[1;32m~\\Data_Science\\thesis\\ieee_dataset_analysis\\AnalysisManager.py\u001B[0m in \u001B[0;36mgetNodesMetrics\u001B[1;34m(self, save)\u001B[0m\n\u001B[0;32m     49\u001B[0m             \u001B[0mmerged_classes\u001B[0m \u001B[1;33m=\u001B[0m \u001B[0mpd\u001B[0m\u001B[1;33m.\u001B[0m\u001B[0mmerge\u001B[0m\u001B[1;33m(\u001B[0m\u001B[0mmerged_classes\u001B[0m\u001B[1;33m,\u001B[0m \u001B[0mcloseness_distribution\u001B[0m\u001B[1;33m,\u001B[0m \u001B[0mon\u001B[0m\u001B[1;33m=\u001B[0m\u001B[1;34m\"id\"\u001B[0m\u001B[1;33m)\u001B[0m\u001B[1;33m\u001B[0m\u001B[1;33m\u001B[0m\u001B[0m\n\u001B[1;32m---> 50\u001B[1;33m             \u001B[0mhits_distribution\u001B[0m \u001B[1;33m=\u001B[0m \u001B[0mself\u001B[0m\u001B[1;33m.\u001B[0m\u001B[0mnode_metrics\u001B[0m\u001B[1;33m.\u001B[0m\u001B[0mgetHITSCentrality\u001B[0m\u001B[1;33m(\u001B[0m\u001B[1;33m)\u001B[0m\u001B[1;33m\u001B[0m\u001B[1;33m\u001B[0m\u001B[0m\n\u001B[0m\u001B[0;32m     51\u001B[0m             \u001B[0mmerged_classes\u001B[0m \u001B[1;33m=\u001B[0m \u001B[0mpd\u001B[0m\u001B[1;33m.\u001B[0m\u001B[0mmerge\u001B[0m\u001B[1;33m(\u001B[0m\u001B[0mmerged_classes\u001B[0m\u001B[1;33m,\u001B[0m \u001B[0mhits_distribution\u001B[0m\u001B[1;33m,\u001B[0m \u001B[0mon\u001B[0m\u001B[1;33m=\u001B[0m\u001B[1;34m\"id\"\u001B[0m\u001B[1;33m)\u001B[0m\u001B[1;33m\u001B[0m\u001B[1;33m\u001B[0m\u001B[0m\n",
      "\u001B[1;31mAttributeError\u001B[0m: 'NodeMetrics' object has no attribute 'getHITSCentrality'",
      "\nDuring handling of the above exception, another exception occurred:\n",
      "\u001B[1;31mSystemExit\u001B[0m                                Traceback (most recent call last)",
      "    \u001B[1;31m[... skipping hidden 1 frame]\u001B[0m\n",
      "\u001B[1;32m<ipython-input-41-0492b5f8ab7c>\u001B[0m in \u001B[0;36m<module>\u001B[1;34m\u001B[0m\n\u001B[1;32m----> 1\u001B[1;33m \u001B[0mmanager\u001B[0m\u001B[1;33m.\u001B[0m\u001B[0mgetCentralityMetricsDataFrame\u001B[0m\u001B[1;33m(\u001B[0m\u001B[1;34m\"PageRankScore\"\u001B[0m\u001B[1;33m)\u001B[0m\u001B[1;33m\u001B[0m\u001B[1;33m\u001B[0m\u001B[0m\n\u001B[0m",
      "\u001B[1;32m~\\Data_Science\\thesis\\ieee_dataset_analysis\\AnalysisManager.py\u001B[0m in \u001B[0;36mgetCentralityMetricsDataFrame\u001B[1;34m(self, metric_name)\u001B[0m\n\u001B[0;32m     71\u001B[0m             \u001B[1;31m# if not, generate one\u001B[0m\u001B[1;33m\u001B[0m\u001B[1;33m\u001B[0m\u001B[1;33m\u001B[0m\u001B[0m\n\u001B[1;32m---> 72\u001B[1;33m             \u001B[0mself\u001B[0m\u001B[1;33m.\u001B[0m\u001B[0mnodes_characteristics\u001B[0m \u001B[1;33m=\u001B[0m \u001B[0mself\u001B[0m\u001B[1;33m.\u001B[0m\u001B[0mgetNodesMetrics\u001B[0m\u001B[1;33m(\u001B[0m\u001B[1;33m)\u001B[0m\u001B[1;33m\u001B[0m\u001B[1;33m\u001B[0m\u001B[0m\n\u001B[0m\u001B[0;32m     73\u001B[0m \u001B[1;33m\u001B[0m\u001B[0m\n",
      "\u001B[1;32m~\\Data_Science\\thesis\\ieee_dataset_analysis\\AnalysisManager.py\u001B[0m in \u001B[0;36mgetNodesMetrics\u001B[1;34m(self, save)\u001B[0m\n\u001B[0;32m     59\u001B[0m             \u001B[0mprint\u001B[0m\u001B[1;33m(\u001B[0m\u001B[1;34m\"Error.\\nException message: %s\\nFunction: %s\"\u001B[0m \u001B[1;33m%\u001B[0m \u001B[1;33m(\u001B[0m\u001B[0mex\u001B[0m\u001B[1;33m,\u001B[0m \u001B[0minspect\u001B[0m\u001B[1;33m.\u001B[0m\u001B[0mstack\u001B[0m\u001B[1;33m(\u001B[0m\u001B[1;33m)\u001B[0m\u001B[1;33m[\u001B[0m\u001B[1;36m0\u001B[0m\u001B[1;33m]\u001B[0m\u001B[1;33m[\u001B[0m\u001B[1;36m3\u001B[0m\u001B[1;33m]\u001B[0m\u001B[1;33m)\u001B[0m\u001B[1;33m)\u001B[0m\u001B[1;33m\u001B[0m\u001B[1;33m\u001B[0m\u001B[0m\n\u001B[1;32m---> 60\u001B[1;33m             \u001B[0msys\u001B[0m\u001B[1;33m.\u001B[0m\u001B[0mexit\u001B[0m\u001B[1;33m(\u001B[0m\u001B[1;36m1\u001B[0m\u001B[1;33m)\u001B[0m\u001B[1;33m\u001B[0m\u001B[1;33m\u001B[0m\u001B[0m\n\u001B[0m\u001B[0;32m     61\u001B[0m \u001B[1;33m\u001B[0m\u001B[0m\n",
      "\u001B[1;31mSystemExit\u001B[0m: 1",
      "\nDuring handling of the above exception, another exception occurred:\n",
      "\u001B[1;31mTypeError\u001B[0m                                 Traceback (most recent call last)",
      "    \u001B[1;31m[... skipping hidden 1 frame]\u001B[0m\n",
      "\u001B[1;32mc:\\users\\pstac\\appdata\\local\\programs\\python\\python39\\lib\\site-packages\\IPython\\core\\interactiveshell.py\u001B[0m in \u001B[0;36mshowtraceback\u001B[1;34m(self, exc_tuple, filename, tb_offset, exception_only, running_compiled_code)\u001B[0m\n\u001B[0;32m   2052\u001B[0m                     stb = ['An exception has occurred, use %tb to see '\n\u001B[0;32m   2053\u001B[0m                            'the full traceback.\\n']\n\u001B[1;32m-> 2054\u001B[1;33m                     stb.extend(self.InteractiveTB.get_exception_only(etype,\n\u001B[0m\u001B[0;32m   2055\u001B[0m                                                                      value))\n\u001B[0;32m   2056\u001B[0m                 \u001B[1;32melse\u001B[0m\u001B[1;33m:\u001B[0m\u001B[1;33m\u001B[0m\u001B[1;33m\u001B[0m\u001B[0m\n",
      "\u001B[1;32mc:\\users\\pstac\\appdata\\local\\programs\\python\\python39\\lib\\site-packages\\IPython\\core\\ultratb.py\u001B[0m in \u001B[0;36mget_exception_only\u001B[1;34m(self, etype, value)\u001B[0m\n\u001B[0;32m    752\u001B[0m         \u001B[0mvalue\u001B[0m \u001B[1;33m:\u001B[0m \u001B[0mexception\u001B[0m \u001B[0mvalue\u001B[0m\u001B[1;33m\u001B[0m\u001B[1;33m\u001B[0m\u001B[0m\n\u001B[0;32m    753\u001B[0m         \"\"\"\n\u001B[1;32m--> 754\u001B[1;33m         \u001B[1;32mreturn\u001B[0m \u001B[0mListTB\u001B[0m\u001B[1;33m.\u001B[0m\u001B[0mstructured_traceback\u001B[0m\u001B[1;33m(\u001B[0m\u001B[0mself\u001B[0m\u001B[1;33m,\u001B[0m \u001B[0metype\u001B[0m\u001B[1;33m,\u001B[0m \u001B[0mvalue\u001B[0m\u001B[1;33m)\u001B[0m\u001B[1;33m\u001B[0m\u001B[1;33m\u001B[0m\u001B[0m\n\u001B[0m\u001B[0;32m    755\u001B[0m \u001B[1;33m\u001B[0m\u001B[0m\n\u001B[0;32m    756\u001B[0m     \u001B[1;32mdef\u001B[0m \u001B[0mshow_exception_only\u001B[0m\u001B[1;33m(\u001B[0m\u001B[0mself\u001B[0m\u001B[1;33m,\u001B[0m \u001B[0metype\u001B[0m\u001B[1;33m,\u001B[0m \u001B[0mevalue\u001B[0m\u001B[1;33m)\u001B[0m\u001B[1;33m:\u001B[0m\u001B[1;33m\u001B[0m\u001B[1;33m\u001B[0m\u001B[0m\n",
      "\u001B[1;32mc:\\users\\pstac\\appdata\\local\\programs\\python\\python39\\lib\\site-packages\\IPython\\core\\ultratb.py\u001B[0m in \u001B[0;36mstructured_traceback\u001B[1;34m(self, etype, evalue, etb, tb_offset, context)\u001B[0m\n\u001B[0;32m    627\u001B[0m             \u001B[0mchained_exceptions_tb_offset\u001B[0m \u001B[1;33m=\u001B[0m \u001B[1;36m0\u001B[0m\u001B[1;33m\u001B[0m\u001B[1;33m\u001B[0m\u001B[0m\n\u001B[0;32m    628\u001B[0m             out_list = (\n\u001B[1;32m--> 629\u001B[1;33m                 self.structured_traceback(\n\u001B[0m\u001B[0;32m    630\u001B[0m                     \u001B[0metype\u001B[0m\u001B[1;33m,\u001B[0m \u001B[0mevalue\u001B[0m\u001B[1;33m,\u001B[0m \u001B[1;33m(\u001B[0m\u001B[0metb\u001B[0m\u001B[1;33m,\u001B[0m \u001B[0mchained_exc_ids\u001B[0m\u001B[1;33m)\u001B[0m\u001B[1;33m,\u001B[0m\u001B[1;33m\u001B[0m\u001B[1;33m\u001B[0m\u001B[0m\n\u001B[0;32m    631\u001B[0m                     chained_exceptions_tb_offset, context)\n",
      "\u001B[1;32mc:\\users\\pstac\\appdata\\local\\programs\\python\\python39\\lib\\site-packages\\IPython\\core\\ultratb.py\u001B[0m in \u001B[0;36mstructured_traceback\u001B[1;34m(self, etype, value, tb, tb_offset, number_of_lines_of_context)\u001B[0m\n\u001B[0;32m   1365\u001B[0m         \u001B[1;32melse\u001B[0m\u001B[1;33m:\u001B[0m\u001B[1;33m\u001B[0m\u001B[1;33m\u001B[0m\u001B[0m\n\u001B[0;32m   1366\u001B[0m             \u001B[0mself\u001B[0m\u001B[1;33m.\u001B[0m\u001B[0mtb\u001B[0m \u001B[1;33m=\u001B[0m \u001B[0mtb\u001B[0m\u001B[1;33m\u001B[0m\u001B[1;33m\u001B[0m\u001B[0m\n\u001B[1;32m-> 1367\u001B[1;33m         return FormattedTB.structured_traceback(\n\u001B[0m\u001B[0;32m   1368\u001B[0m             self, etype, value, tb, tb_offset, number_of_lines_of_context)\n\u001B[0;32m   1369\u001B[0m \u001B[1;33m\u001B[0m\u001B[0m\n",
      "\u001B[1;32mc:\\users\\pstac\\appdata\\local\\programs\\python\\python39\\lib\\site-packages\\IPython\\core\\ultratb.py\u001B[0m in \u001B[0;36mstructured_traceback\u001B[1;34m(self, etype, value, tb, tb_offset, number_of_lines_of_context)\u001B[0m\n\u001B[0;32m   1265\u001B[0m         \u001B[1;32mif\u001B[0m \u001B[0mmode\u001B[0m \u001B[1;32min\u001B[0m \u001B[0mself\u001B[0m\u001B[1;33m.\u001B[0m\u001B[0mverbose_modes\u001B[0m\u001B[1;33m:\u001B[0m\u001B[1;33m\u001B[0m\u001B[1;33m\u001B[0m\u001B[0m\n\u001B[0;32m   1266\u001B[0m             \u001B[1;31m# Verbose modes need a full traceback\u001B[0m\u001B[1;33m\u001B[0m\u001B[1;33m\u001B[0m\u001B[1;33m\u001B[0m\u001B[0m\n\u001B[1;32m-> 1267\u001B[1;33m             return VerboseTB.structured_traceback(\n\u001B[0m\u001B[0;32m   1268\u001B[0m                 \u001B[0mself\u001B[0m\u001B[1;33m,\u001B[0m \u001B[0metype\u001B[0m\u001B[1;33m,\u001B[0m \u001B[0mvalue\u001B[0m\u001B[1;33m,\u001B[0m \u001B[0mtb\u001B[0m\u001B[1;33m,\u001B[0m \u001B[0mtb_offset\u001B[0m\u001B[1;33m,\u001B[0m \u001B[0mnumber_of_lines_of_context\u001B[0m\u001B[1;33m\u001B[0m\u001B[1;33m\u001B[0m\u001B[0m\n\u001B[0;32m   1269\u001B[0m             )\n",
      "\u001B[1;32mc:\\users\\pstac\\appdata\\local\\programs\\python\\python39\\lib\\site-packages\\IPython\\core\\ultratb.py\u001B[0m in \u001B[0;36mstructured_traceback\u001B[1;34m(self, etype, evalue, etb, tb_offset, number_of_lines_of_context)\u001B[0m\n\u001B[0;32m   1122\u001B[0m         \u001B[1;34m\"\"\"Return a nice text document describing the traceback.\"\"\"\u001B[0m\u001B[1;33m\u001B[0m\u001B[1;33m\u001B[0m\u001B[0m\n\u001B[0;32m   1123\u001B[0m \u001B[1;33m\u001B[0m\u001B[0m\n\u001B[1;32m-> 1124\u001B[1;33m         formatted_exception = self.format_exception_as_a_whole(etype, evalue, etb, number_of_lines_of_context,\n\u001B[0m\u001B[0;32m   1125\u001B[0m                                                                tb_offset)\n\u001B[0;32m   1126\u001B[0m \u001B[1;33m\u001B[0m\u001B[0m\n",
      "\u001B[1;32mc:\\users\\pstac\\appdata\\local\\programs\\python\\python39\\lib\\site-packages\\IPython\\core\\ultratb.py\u001B[0m in \u001B[0;36mformat_exception_as_a_whole\u001B[1;34m(self, etype, evalue, etb, number_of_lines_of_context, tb_offset)\u001B[0m\n\u001B[0;32m   1080\u001B[0m \u001B[1;33m\u001B[0m\u001B[0m\n\u001B[0;32m   1081\u001B[0m \u001B[1;33m\u001B[0m\u001B[0m\n\u001B[1;32m-> 1082\u001B[1;33m         \u001B[0mlast_unique\u001B[0m\u001B[1;33m,\u001B[0m \u001B[0mrecursion_repeat\u001B[0m \u001B[1;33m=\u001B[0m \u001B[0mfind_recursion\u001B[0m\u001B[1;33m(\u001B[0m\u001B[0morig_etype\u001B[0m\u001B[1;33m,\u001B[0m \u001B[0mevalue\u001B[0m\u001B[1;33m,\u001B[0m \u001B[0mrecords\u001B[0m\u001B[1;33m)\u001B[0m\u001B[1;33m\u001B[0m\u001B[1;33m\u001B[0m\u001B[0m\n\u001B[0m\u001B[0;32m   1083\u001B[0m \u001B[1;33m\u001B[0m\u001B[0m\n\u001B[0;32m   1084\u001B[0m         \u001B[0mframes\u001B[0m \u001B[1;33m=\u001B[0m \u001B[0mself\u001B[0m\u001B[1;33m.\u001B[0m\u001B[0mformat_records\u001B[0m\u001B[1;33m(\u001B[0m\u001B[0mrecords\u001B[0m\u001B[1;33m,\u001B[0m \u001B[0mlast_unique\u001B[0m\u001B[1;33m,\u001B[0m \u001B[0mrecursion_repeat\u001B[0m\u001B[1;33m)\u001B[0m\u001B[1;33m\u001B[0m\u001B[1;33m\u001B[0m\u001B[0m\n",
      "\u001B[1;32mc:\\users\\pstac\\appdata\\local\\programs\\python\\python39\\lib\\site-packages\\IPython\\core\\ultratb.py\u001B[0m in \u001B[0;36mfind_recursion\u001B[1;34m(etype, value, records)\u001B[0m\n\u001B[0;32m    380\u001B[0m     \u001B[1;31m# first frame (from in to out) that looks different.\u001B[0m\u001B[1;33m\u001B[0m\u001B[1;33m\u001B[0m\u001B[1;33m\u001B[0m\u001B[0m\n\u001B[0;32m    381\u001B[0m     \u001B[1;32mif\u001B[0m \u001B[1;32mnot\u001B[0m \u001B[0mis_recursion_error\u001B[0m\u001B[1;33m(\u001B[0m\u001B[0metype\u001B[0m\u001B[1;33m,\u001B[0m \u001B[0mvalue\u001B[0m\u001B[1;33m,\u001B[0m \u001B[0mrecords\u001B[0m\u001B[1;33m)\u001B[0m\u001B[1;33m:\u001B[0m\u001B[1;33m\u001B[0m\u001B[1;33m\u001B[0m\u001B[0m\n\u001B[1;32m--> 382\u001B[1;33m         \u001B[1;32mreturn\u001B[0m \u001B[0mlen\u001B[0m\u001B[1;33m(\u001B[0m\u001B[0mrecords\u001B[0m\u001B[1;33m)\u001B[0m\u001B[1;33m,\u001B[0m \u001B[1;36m0\u001B[0m\u001B[1;33m\u001B[0m\u001B[1;33m\u001B[0m\u001B[0m\n\u001B[0m\u001B[0;32m    383\u001B[0m \u001B[1;33m\u001B[0m\u001B[0m\n\u001B[0;32m    384\u001B[0m     \u001B[1;31m# Select filename, lineno, func_name to track frames with\u001B[0m\u001B[1;33m\u001B[0m\u001B[1;33m\u001B[0m\u001B[1;33m\u001B[0m\u001B[0m\n",
      "\u001B[1;31mTypeError\u001B[0m: object of type 'NoneType' has no len()"
     ]
    }
   ],
   "source": [
    "manager.getCentralityMetricsDataFrame(\"PageRankScore\")"
   ]
  },
  {
   "cell_type": "code",
   "execution_count": 42,
   "metadata": {
    "pycharm": {
     "name": "#%%\n"
    }
   },
   "outputs": [
    {
     "data": {
      "image/png": "[encoded data removed]",
      "text/plain": [
       "<Figure size 576x504 with 1 Axes>"
      ]
     },
     "metadata": {},
     "output_type": "display_data"
    }
   ],
   "source": [
    "plt.figure(figsize=(8,7))\n",
    "sns.barplot(x=pagerank_scores_classes[\"PageRankScore\"].value_counts().index, y=pagerank_scores_classes[\"PageRankScore\"].value_counts(), color=\"lightseagreen\")\n",
    "plt.xlabel(\"pagerank score\")\n",
    "plt.xticks(rotation=45)\n",
    "plt.ylabel(\"count\")\n",
    "plt.title(f\"Pagerank scores distribution\")\n",
    "plt.show()"
   ]
  },
  {
   "cell_type": "code",
   "execution_count": 158,
   "metadata": {
    "pycharm": {
     "name": "#%%\n"
    }
   },
   "outputs": [
    {
     "data": {
      "image/png": "[encoded data removed]",
      "text/plain": [
       "<Figure size 576x504 with 1 Axes>"
      ]
     },
     "metadata": {},
     "output_type": "display_data"
    }
   ],
   "source": [
    "subset = pagerank_scores_classes[pagerank_scores_classes[\"class\"] == 1][\"PageRankScore\"]\n",
    "plt.figure(figsize=(8,7))\n",
    "sns.barplot(x=subset.value_counts().index, y=subset.value_counts(), color=\"crimson\")\n",
    "plt.xlabel(\"PageRank score\")\n",
    "plt.xticks(rotation=45)\n",
    "plt.ylabel(\"count\")\n",
    "plt.title(f\"PageRank scores distribution: fraudulent nodes\", fontsize=16)\n",
    "plt.show()"
   ]
  },
  {
   "cell_type": "code",
   "execution_count": 159,
   "metadata": {
    "pycharm": {
     "name": "#%%\n"
    }
   },
   "outputs": [
    {
     "data": {
      "image/png": "[encoded data removed]",
      "text/plain": [
       "<Figure size 576x504 with 1 Axes>"
      ]
     },
     "metadata": {},
     "output_type": "display_data"
    }
   ],
   "source": [
    "subset = pagerank_scores_classes[pagerank_scores_classes[\"class\"] == 0][\"PageRankScore\"]\n",
    "plt.figure(figsize=(8,7))\n",
    "ax = sns.barplot(x=subset.value_counts().index, y=subset.value_counts(), color=\"lightseagreen\")\n",
    "ax.xaxis.set_major_locator(plt.MaxNLocator(10))\n",
    "plt.xlabel(\"PageRank score\")\n",
    "plt.xticks(rotation=45)\n",
    "plt.ylabel(\"count\")\n",
    "plt.title(f\"PageRank scores distribution: non-fraudulent nodes\", fontsize=16)\n",
    "plt.show()"
   ]
  },
  {
   "cell_type": "markdown",
   "metadata": {
    "pycharm": {
     "name": "#%% md\n"
    }
   },
   "source": [
    "### Betweenness scores distribution"
   ]
  },
  {
   "cell_type": "code",
   "execution_count": 45,
   "metadata": {
    "pycharm": {
     "name": "#%%\n"
    }
   },
   "outputs": [
    {
     "name": "stdout",
     "output_type": "stream",
     "text": [
      "0.0\n",
      "0.0\n"
     ]
    }
   ],
   "source": [
    "betweenness_scores = node_metrics.getBetweennessCentrality()\n",
    "print(betweenness_scores[\"BetweennessScore\"].max())\n",
    "print(betweenness_scores[\"BetweennessScore\"].min())"
   ]
  },
  {
   "cell_type": "markdown",
   "metadata": {
    "pycharm": {
     "name": "#%% md\n"
    }
   },
   "source": [
    "### Eigenvector scores distribution"
   ]
  },
  {
   "cell_type": "code",
   "execution_count": 46,
   "metadata": {
    "pycharm": {
     "name": "#%%\n"
    }
   },
   "outputs": [],
   "source": [
    "def plotEigenvectorScoresDistribution(subset, color, title_postfix=\"\"):\n",
    "    subset = subset.value_counts()\n",
    "    plt.figure(figsize=(8,7))\n",
    "    sns.barplot(x=subset.index, y=subset, color=color)\n",
    "    plt.xlabel(\"eigenvector score\")\n",
    "    plt.xticks(rotation=45)\n",
    "    plt.ylabel(\"count\")\n",
    "    plt.title(f\"Eigenvector scores distribution{title_postfix}\")\n",
    "    plt.show()"
   ]
  },
  {
   "cell_type": "code",
   "execution_count": 47,
   "metadata": {
    "pycharm": {
     "name": "#%%\n"
    }
   },
   "outputs": [],
   "source": [
    "eigenvector_scores = node_metrics.getEigenvectorCentrality().round(decimals=3)"
   ]
  },
  {
   "cell_type": "code",
   "execution_count": 48,
   "metadata": {
    "pycharm": {
     "name": "#%%\n"
    }
   },
   "outputs": [],
   "source": [
    "eigenvector_scores_classes = pd.merge(eigenvector_scores, nodes_classes, on=\"id\")"
   ]
  },
  {
   "cell_type": "code",
   "execution_count": 49,
   "metadata": {
    "pycharm": {
     "name": "#%%\n"
    }
   },
   "outputs": [
    {
     "data": {
      "text/html": [
       "<div>\n",
       "<style scoped>\n",
       "    .dataframe tbody tr th:only-of-type {\n",
       "        vertical-align: middle;\n",
       "    }\n",
       "\n",
       "    .dataframe tbody tr th {\n",
       "        vertical-align: top;\n",
       "    }\n",
       "\n",
       "    .dataframe thead th {\n",
       "        text-align: right;\n",
       "    }\n",
       "</style>\n",
       "<table border=\"1\" class=\"dataframe\">\n",
       "  <thead>\n",
       "    <tr style=\"text-align: right;\">\n",
       "      <th></th>\n",
       "      <th>all_classes</th>\n",
       "      <th>illicit</th>\n",
       "      <th>licit</th>\n",
       "    </tr>\n",
       "  </thead>\n",
       "  <tbody>\n",
       "    <tr>\n",
       "      <th>mean_EigenvectorCentrality</th>\n",
       "      <td>0.00375</td>\n",
       "      <td>0.00952</td>\n",
       "      <td>0.00370</td>\n",
       "    </tr>\n",
       "    <tr>\n",
       "      <th>median_EigenvectorCentrality</th>\n",
       "      <td>0.00024</td>\n",
       "      <td>0.00306</td>\n",
       "      <td>0.00024</td>\n",
       "    </tr>\n",
       "    <tr>\n",
       "      <th>standard_deviation_EigenvectorCentrality</th>\n",
       "      <td>0.01146</td>\n",
       "      <td>0.01919</td>\n",
       "      <td>0.01137</td>\n",
       "    </tr>\n",
       "    <tr>\n",
       "      <th>minimum_value_EigenvectorCentrality</th>\n",
       "      <td>0.00024</td>\n",
       "      <td>0.00024</td>\n",
       "      <td>0.00024</td>\n",
       "    </tr>\n",
       "    <tr>\n",
       "      <th>maximum_value_EigenvectorCentrality</th>\n",
       "      <td>0.23751</td>\n",
       "      <td>0.09628</td>\n",
       "      <td>0.23751</td>\n",
       "    </tr>\n",
       "  </tbody>\n",
       "</table>\n",
       "</div>"
      ],
      "text/plain": [
       "                                          all_classes  illicit    licit\n",
       "mean_EigenvectorCentrality                    0.00375  0.00952  0.00370\n",
       "median_EigenvectorCentrality                  0.00024  0.00306  0.00024\n",
       "standard_deviation_EigenvectorCentrality      0.01146  0.01919  0.01137\n",
       "minimum_value_EigenvectorCentrality           0.00024  0.00024  0.00024\n",
       "maximum_value_EigenvectorCentrality           0.23751  0.09628  0.23751"
      ]
     },
     "execution_count": 49,
     "metadata": {},
     "output_type": "execute_result"
    }
   ],
   "source": [
    "manager.getCentralityMetricsDataFrame(\"EigenvectorCentrality\")"
   ]
  },
  {
   "cell_type": "code",
   "execution_count": 50,
   "metadata": {
    "pycharm": {
     "name": "#%%\n"
    }
   },
   "outputs": [
    {
     "data": {
      "image/png": "[encoded data removed]",
      "text/plain": [
       "<Figure size 576x504 with 1 Axes>"
      ]
     },
     "metadata": {},
     "output_type": "display_data"
    }
   ],
   "source": [
    "plotEigenvectorScoresDistribution(eigenvector_scores[\"EigenvectorCentrality\"], color=\"navy\", title_postfix=\": all nodes\")"
   ]
  },
  {
   "cell_type": "code",
   "execution_count": 51,
   "metadata": {
    "pycharm": {
     "name": "#%%\n"
    }
   },
   "outputs": [
    {
     "data": {
      "image/png": "[encoded data removed]",
      "text/plain": [
       "<Figure size 576x504 with 1 Axes>"
      ]
     },
     "metadata": {},
     "output_type": "display_data"
    }
   ],
   "source": [
    "plotEigenvectorScoresDistribution(eigenvector_scores_classes[eigenvector_scores_classes[\"class\"] == 1][\"EigenvectorCentrality\"], color=\"navy\", title_postfix=\": fraudulent nodes\")"
   ]
  },
  {
   "cell_type": "code",
   "execution_count": 52,
   "metadata": {
    "pycharm": {
     "name": "#%%\n"
    }
   },
   "outputs": [
    {
     "data": {
      "image/png": "[encoded data removed]",
      "text/plain": [
       "<Figure size 576x504 with 1 Axes>"
      ]
     },
     "metadata": {},
     "output_type": "display_data"
    }
   ],
   "source": [
    "plotEigenvectorScoresDistribution(eigenvector_scores_classes[eigenvector_scores_classes[\"class\"] == 1][\"EigenvectorCentrality\"], color=\"navy\", title_postfix=\": non-fraudulent nodes\")"
   ]
  },
  {
   "cell_type": "markdown",
   "metadata": {
    "pycharm": {
     "name": "#%% md\n"
    }
   },
   "source": [
    "### Closeness Centrality Distribution"
   ]
  },
  {
   "cell_type": "code",
   "execution_count": 141,
   "metadata": {
    "pycharm": {
     "name": "#%%\n"
    }
   },
   "outputs": [],
   "source": [
    "def plotClosenessScoresDistribution(subset, color, title_postfix=\"\"):\n",
    "    subset = subset.value_counts()\n",
    "    plt.figure(figsize=(8,7))\n",
    "    ax = sns.barplot(x=subset.index, y=subset, color=color)\n",
    "    ax.xaxis.set_major_formatter(FormatStrFormatter('%.2f'))\n",
    "    plt.xlabel(\"closeness score\")\n",
    "    plt.ylabel(\"count\")\n",
    "    plt.title(f\"Closeness scores distribution{title_postfix}\", fontsize=16)\n",
    "    plt.show()"
   ]
  },
  {
   "cell_type": "code",
   "execution_count": 142,
   "metadata": {
    "pycharm": {
     "name": "#%%\n"
    }
   },
   "outputs": [],
   "source": [
    "closeness_scores = node_metrics.getClosenessCentrality()"
   ]
  },
  {
   "cell_type": "code",
   "execution_count": 143,
   "metadata": {
    "pycharm": {
     "name": "#%%\n"
    }
   },
   "outputs": [],
   "source": [
    "closeness_scores_classes = pd.merge(closeness_scores, nodes_classes, on=\"id\")"
   ]
  },
  {
   "cell_type": "code",
   "execution_count": 144,
   "metadata": {
    "pycharm": {
     "name": "#%%\n"
    }
   },
   "outputs": [
    {
     "data": {
      "text/html": [
       "<div>\n",
       "<style scoped>\n",
       "    .dataframe tbody tr th:only-of-type {\n",
       "        vertical-align: middle;\n",
       "    }\n",
       "\n",
       "    .dataframe tbody tr th {\n",
       "        vertical-align: top;\n",
       "    }\n",
       "\n",
       "    .dataframe thead th {\n",
       "        text-align: right;\n",
       "    }\n",
       "</style>\n",
       "<table border=\"1\" class=\"dataframe\">\n",
       "  <thead>\n",
       "    <tr style=\"text-align: right;\">\n",
       "      <th></th>\n",
       "      <th>all_classes</th>\n",
       "      <th>illicit</th>\n",
       "      <th>licit</th>\n",
       "    </tr>\n",
       "  </thead>\n",
       "  <tbody>\n",
       "    <tr>\n",
       "      <th>mean_ClosenessScore</th>\n",
       "      <td>0.37842</td>\n",
       "      <td>0.50000</td>\n",
       "      <td>0.37742</td>\n",
       "    </tr>\n",
       "    <tr>\n",
       "      <th>median_ClosenessScore</th>\n",
       "      <td>0.00000</td>\n",
       "      <td>0.50000</td>\n",
       "      <td>0.00000</td>\n",
       "    </tr>\n",
       "    <tr>\n",
       "      <th>standard_deviation_ClosenessScore</th>\n",
       "      <td>0.48503</td>\n",
       "      <td>0.50452</td>\n",
       "      <td>0.48478</td>\n",
       "    </tr>\n",
       "    <tr>\n",
       "      <th>minimum_value_ClosenessScore</th>\n",
       "      <td>0.00000</td>\n",
       "      <td>0.00000</td>\n",
       "      <td>0.00000</td>\n",
       "    </tr>\n",
       "    <tr>\n",
       "      <th>maximum_value_ClosenessScore</th>\n",
       "      <td>1.00000</td>\n",
       "      <td>1.00000</td>\n",
       "      <td>1.00000</td>\n",
       "    </tr>\n",
       "  </tbody>\n",
       "</table>\n",
       "</div>"
      ],
      "text/plain": [
       "                                   all_classes  illicit    licit\n",
       "mean_ClosenessScore                    0.37842  0.50000  0.37742\n",
       "median_ClosenessScore                  0.00000  0.50000  0.00000\n",
       "standard_deviation_ClosenessScore      0.48503  0.50452  0.48478\n",
       "minimum_value_ClosenessScore           0.00000  0.00000  0.00000\n",
       "maximum_value_ClosenessScore           1.00000  1.00000  1.00000"
      ]
     },
     "execution_count": 144,
     "metadata": {},
     "output_type": "execute_result"
    }
   ],
   "source": [
    "manager.getCentralityMetricsDataFrame(\"ClosenessScore\")"
   ]
  },
  {
   "cell_type": "code",
   "execution_count": 145,
   "metadata": {
    "pycharm": {
     "name": "#%%\n"
    }
   },
   "outputs": [
    {
     "data": {
      "image/png": "[encoded data removed]",
      "text/plain": [
       "<Figure size 576x504 with 1 Axes>"
      ]
     },
     "metadata": {},
     "output_type": "display_data"
    }
   ],
   "source": [
    "plotClosenessScoresDistribution(closeness_scores[\"ClosenessScore\"], color=\"orange\")"
   ]
  },
  {
   "cell_type": "code",
   "execution_count": 160,
   "metadata": {
    "pycharm": {
     "name": "#%%\n"
    }
   },
   "outputs": [
    {
     "data": {
      "image/png": "[encoded data removed]",
      "text/plain": [
       "<Figure size 576x504 with 1 Axes>"
      ]
     },
     "metadata": {},
     "output_type": "display_data"
    }
   ],
   "source": [
    "plotClosenessScoresDistribution(closeness_scores_classes[closeness_scores_classes[\"class\"] == 0][\"ClosenessScore\"], color=\"lightseagreen\", title_postfix=\": non-fraudulent nodes\")"
   ]
  },
  {
   "cell_type": "code",
   "execution_count": 147,
   "metadata": {
    "pycharm": {
     "name": "#%%\n"
    }
   },
   "outputs": [
    {
     "data": {
      "image/png": "[encoded data removed]",
      "text/plain": [
       "<Figure size 576x504 with 1 Axes>"
      ]
     },
     "metadata": {},
     "output_type": "display_data"
    }
   ],
   "source": [
    "plotClosenessScoresDistribution(closeness_scores_classes[closeness_scores_classes[\"class\"] == 1][\"ClosenessScore\"], color=\"crimson\", title_postfix=\": fraudulent nodes\")"
   ]
  },
  {
   "cell_type": "markdown",
   "metadata": {
    "pycharm": {
     "name": "#%% md\n"
    }
   },
   "source": [
    "### HITS scores distribution"
   ]
  },
  {
   "cell_type": "code",
   "execution_count": 60,
   "metadata": {
    "pycharm": {
     "name": "#%%\n"
    }
   },
   "outputs": [],
   "source": [
    "hits_scores = node_metrics.getHITSCentrality()\n",
    "hits_scores_classes = pd.merge(hits_scores, nodes_classes, on=\"id\")"
   ]
  },
  {
   "cell_type": "code",
   "execution_count": 61,
   "metadata": {
    "pycharm": {
     "name": "#%%\n"
    }
   },
   "outputs": [
    {
     "data": {
      "text/plain": [
       "(4588, 0.999)"
      ]
     },
     "execution_count": 61,
     "metadata": {},
     "output_type": "execute_result"
    }
   ],
   "source": [
    "hits_scores_classes.round(decimals=3)[\"authorityScore\"].idxmax(), hits_scores_classes.round(decimals=3)[\"authorityScore\"].max()"
   ]
  },
  {
   "cell_type": "code",
   "execution_count": 62,
   "metadata": {
    "pycharm": {
     "name": "#%%\n"
    }
   },
   "outputs": [
    {
     "data": {
      "text/plain": [
       "id                C985934102\n",
       "authorityScore      0.998611\n",
       "hubScore                 0.0\n",
       "class                      0\n",
       "Name: 4588, dtype: object"
      ]
     },
     "execution_count": 62,
     "metadata": {},
     "output_type": "execute_result"
    }
   ],
   "source": [
    "hits_scores_classes.iloc[4588]"
   ]
  },
  {
   "cell_type": "code",
   "execution_count": 63,
   "metadata": {
    "pycharm": {
     "name": "#%%\n"
    }
   },
   "outputs": [
    {
     "data": {
      "text/plain": [
       "(15, 0.154)"
      ]
     },
     "execution_count": 63,
     "metadata": {},
     "output_type": "execute_result"
    }
   ],
   "source": [
    "hits_scores_classes.round(decimals=3)[\"hubScore\"].idxmax(), hits_scores_classes.round(decimals=3)[\"hubScore\"].max()"
   ]
  },
  {
   "cell_type": "code",
   "execution_count": 64,
   "metadata": {
    "pycharm": {
     "name": "#%%\n"
    }
   },
   "outputs": [
    {
     "data": {
      "text/plain": [
       "id                C100708535\n",
       "authorityScore           0.0\n",
       "hubScore            0.154121\n",
       "class                      0\n",
       "Name: 15, dtype: object"
      ]
     },
     "execution_count": 64,
     "metadata": {},
     "output_type": "execute_result"
    }
   ],
   "source": [
    "hits_scores_classes.iloc[15]"
   ]
  },
  {
   "cell_type": "code",
   "execution_count": 65,
   "metadata": {
    "pycharm": {
     "name": "#%%\n"
    }
   },
   "outputs": [
    {
     "data": {
      "text/html": [
       "<div>\n",
       "<style scoped>\n",
       "    .dataframe tbody tr th:only-of-type {\n",
       "        vertical-align: middle;\n",
       "    }\n",
       "\n",
       "    .dataframe tbody tr th {\n",
       "        vertical-align: top;\n",
       "    }\n",
       "\n",
       "    .dataframe thead th {\n",
       "        text-align: right;\n",
       "    }\n",
       "</style>\n",
       "<table border=\"1\" class=\"dataframe\">\n",
       "  <thead>\n",
       "    <tr style=\"text-align: right;\">\n",
       "      <th></th>\n",
       "      <th>all_classes</th>\n",
       "      <th>illicit</th>\n",
       "      <th>licit</th>\n",
       "    </tr>\n",
       "  </thead>\n",
       "  <tbody>\n",
       "    <tr>\n",
       "      <th>mean_authorityScore</th>\n",
       "      <td>0.00016</td>\n",
       "      <td>0.0</td>\n",
       "      <td>0.00016</td>\n",
       "    </tr>\n",
       "    <tr>\n",
       "      <th>median_authorityScore</th>\n",
       "      <td>0.00000</td>\n",
       "      <td>0.0</td>\n",
       "      <td>0.00000</td>\n",
       "    </tr>\n",
       "    <tr>\n",
       "      <th>standard_deviation_authorityScore</th>\n",
       "      <td>0.01206</td>\n",
       "      <td>0.0</td>\n",
       "      <td>0.01211</td>\n",
       "    </tr>\n",
       "    <tr>\n",
       "      <th>minimum_value_authorityScore</th>\n",
       "      <td>0.00000</td>\n",
       "      <td>0.0</td>\n",
       "      <td>0.00000</td>\n",
       "    </tr>\n",
       "    <tr>\n",
       "      <th>maximum_value_authorityScore</th>\n",
       "      <td>0.99861</td>\n",
       "      <td>0.0</td>\n",
       "      <td>0.99861</td>\n",
       "    </tr>\n",
       "  </tbody>\n",
       "</table>\n",
       "</div>"
      ],
      "text/plain": [
       "                                   all_classes  illicit    licit\n",
       "mean_authorityScore                    0.00016      0.0  0.00016\n",
       "median_authorityScore                  0.00000      0.0  0.00000\n",
       "standard_deviation_authorityScore      0.01206      0.0  0.01211\n",
       "minimum_value_authorityScore           0.00000      0.0  0.00000\n",
       "maximum_value_authorityScore           0.99861      0.0  0.99861"
      ]
     },
     "execution_count": 65,
     "metadata": {},
     "output_type": "execute_result"
    }
   ],
   "source": [
    "manager.getCentralityMetricsDataFrame(\"authorityScore\")"
   ]
  },
  {
   "cell_type": "code",
   "execution_count": 66,
   "metadata": {
    "pycharm": {
     "name": "#%%\n"
    }
   },
   "outputs": [
    {
     "data": {
      "text/html": [
       "<div>\n",
       "<style scoped>\n",
       "    .dataframe tbody tr th:only-of-type {\n",
       "        vertical-align: middle;\n",
       "    }\n",
       "\n",
       "    .dataframe tbody tr th {\n",
       "        vertical-align: top;\n",
       "    }\n",
       "\n",
       "    .dataframe thead th {\n",
       "        text-align: right;\n",
       "    }\n",
       "</style>\n",
       "<table border=\"1\" class=\"dataframe\">\n",
       "  <thead>\n",
       "    <tr style=\"text-align: right;\">\n",
       "      <th></th>\n",
       "      <th>all_classes</th>\n",
       "      <th>illicit</th>\n",
       "      <th>licit</th>\n",
       "    </tr>\n",
       "  </thead>\n",
       "  <tbody>\n",
       "    <tr>\n",
       "      <th>mean_hubScore</th>\n",
       "      <td>0.00100</td>\n",
       "      <td>0.0</td>\n",
       "      <td>0.00101</td>\n",
       "    </tr>\n",
       "    <tr>\n",
       "      <th>median_hubScore</th>\n",
       "      <td>0.00000</td>\n",
       "      <td>0.0</td>\n",
       "      <td>0.00000</td>\n",
       "    </tr>\n",
       "    <tr>\n",
       "      <th>standard_deviation_hubScore</th>\n",
       "      <td>0.01202</td>\n",
       "      <td>0.0</td>\n",
       "      <td>0.01207</td>\n",
       "    </tr>\n",
       "    <tr>\n",
       "      <th>minimum_value_hubScore</th>\n",
       "      <td>0.00000</td>\n",
       "      <td>0.0</td>\n",
       "      <td>0.00000</td>\n",
       "    </tr>\n",
       "    <tr>\n",
       "      <th>maximum_value_hubScore</th>\n",
       "      <td>0.15412</td>\n",
       "      <td>0.0</td>\n",
       "      <td>0.15412</td>\n",
       "    </tr>\n",
       "  </tbody>\n",
       "</table>\n",
       "</div>"
      ],
      "text/plain": [
       "                             all_classes  illicit    licit\n",
       "mean_hubScore                    0.00100      0.0  0.00101\n",
       "median_hubScore                  0.00000      0.0  0.00000\n",
       "standard_deviation_hubScore      0.01202      0.0  0.01207\n",
       "minimum_value_hubScore           0.00000      0.0  0.00000\n",
       "maximum_value_hubScore           0.15412      0.0  0.15412"
      ]
     },
     "execution_count": 66,
     "metadata": {},
     "output_type": "execute_result"
    }
   ],
   "source": [
    "manager.getCentralityMetricsDataFrame(\"hubScore\")"
   ]
  },
  {
   "cell_type": "code",
   "execution_count": 67,
   "metadata": {
    "pycharm": {
     "name": "#%%\n"
    }
   },
   "outputs": [
    {
     "data": {
      "text/plain": [
       "0.000    6870\n",
       "0.001       3\n",
       "0.046       1\n",
       "0.026       1\n",
       "0.999       1\n",
       "Name: authorityScore, dtype: int64"
      ]
     },
     "execution_count": 67,
     "metadata": {},
     "output_type": "execute_result"
    }
   ],
   "source": [
    "hits_scores_classes[\"authorityScore\"].round(decimals=3).value_counts()"
   ]
  },
  {
   "cell_type": "code",
   "execution_count": 68,
   "metadata": {
    "pycharm": {
     "name": "#%%\n"
    }
   },
   "outputs": [
    {
     "data": {
      "text/plain": [
       "0.0    56\n",
       "Name: authorityScore, dtype: int64"
      ]
     },
     "execution_count": 68,
     "metadata": {},
     "output_type": "execute_result"
    }
   ],
   "source": [
    "hits_scores_classes[hits_scores_classes[\"class\"] == 1][\"authorityScore\"].round(decimals=3).value_counts()"
   ]
  },
  {
   "cell_type": "code",
   "execution_count": 69,
   "metadata": {
    "pycharm": {
     "name": "#%%\n"
    }
   },
   "outputs": [
    {
     "data": {
      "text/plain": [
       "0.000    6814\n",
       "0.001       3\n",
       "0.046       1\n",
       "0.026       1\n",
       "0.999       1\n",
       "Name: authorityScore, dtype: int64"
      ]
     },
     "execution_count": 69,
     "metadata": {},
     "output_type": "execute_result"
    }
   ],
   "source": [
    "hits_scores_classes[hits_scores_classes[\"class\"] == 0][\"authorityScore\"].round(decimals=3).value_counts()"
   ]
  },
  {
   "cell_type": "code",
   "execution_count": 70,
   "metadata": {
    "pycharm": {
     "name": "#%%\n"
    }
   },
   "outputs": [
    {
     "data": {
      "text/plain": [
       "0.000    6763\n",
       "0.154      42\n",
       "0.007      36\n",
       "0.004      35\n",
       "Name: hubScore, dtype: int64"
      ]
     },
     "execution_count": 70,
     "metadata": {},
     "output_type": "execute_result"
    }
   ],
   "source": [
    "hits_scores_classes[\"hubScore\"].round(decimals=3).value_counts()"
   ]
  },
  {
   "cell_type": "code",
   "execution_count": 71,
   "metadata": {
    "pycharm": {
     "name": "#%%\n"
    }
   },
   "outputs": [
    {
     "data": {
      "text/plain": [
       "0.0    56\n",
       "Name: hubScore, dtype: int64"
      ]
     },
     "execution_count": 71,
     "metadata": {},
     "output_type": "execute_result"
    }
   ],
   "source": [
    "hits_scores_classes[hits_scores_classes[\"class\"] == 1][\"hubScore\"].round(decimals=3).value_counts()"
   ]
  },
  {
   "cell_type": "code",
   "execution_count": 72,
   "metadata": {
    "pycharm": {
     "name": "#%%\n"
    }
   },
   "outputs": [
    {
     "data": {
      "text/plain": [
       "0.000    6707\n",
       "0.154      42\n",
       "0.007      36\n",
       "0.004      35\n",
       "Name: hubScore, dtype: int64"
      ]
     },
     "execution_count": 72,
     "metadata": {},
     "output_type": "execute_result"
    }
   ],
   "source": [
    "hits_scores_classes[hits_scores_classes[\"class\"] == 0][\"hubScore\"].round(decimals=3).value_counts()"
   ]
  },
  {
   "cell_type": "markdown",
   "metadata": {
    "pycharm": {
     "name": "#%% md\n"
    }
   },
   "source": [
    "## Louvain Communities Analysis"
   ]
  },
  {
   "cell_type": "code",
   "execution_count": 54,
   "metadata": {
    "pycharm": {
     "name": "#%%\n"
    }
   },
   "outputs": [],
   "source": [
    "def getClassesDistributionInAllCommunities(analysis_manager, save=False, output_directory=None):\n",
    "    communities_distribution = analysis_manager.getNodeClassesInCommunities().groupby(\"communityId\")[\"class\"].value_counts()\n",
    "    content = pd.DataFrame(communities_distribution)\n",
    "    content.columns = [\"frequency\"]\n",
    "    content = content.reset_index()\n",
    "\n",
    "    if save & (output_directory is not None):\n",
    "        try:\n",
    "            with open(f\"{output_directory}/classes_distribution_in_louvain_communities.txt\", 'w') as fh:\n",
    "                fh.write(f\"{content.to_string(header=True, index=True)}\\n\")\n",
    "\n",
    "        except Exception as e:\n",
    "            print(\"Saving the contents failed. Error message: %s\" % e)\n",
    "\n",
    "    return content\n",
    "\n",
    "def getSuspiciousCommunities(classes_distribution_in_communities):\n",
    "    \"\"\"\n",
    "    :param classes_distribution_in_communities: a dataframe containing all communities' IDs and all transaction classes.\n",
    "    :return: a dataframe of communities which can be considered suspicious, potentially a fraud ring.\n",
    "    \"\"\"\n",
    "    communities_illicit = classes_distribution_in_communities[classes_distribution_in_communities[\"class\"] == 1][\"communityId\"]\n",
    "    communities_illicit = pd.DataFrame(communities_illicit)\n",
    "    communities_illicit.columns = [\"communityId\"]\n",
    "    return communities_illicit\n",
    "\n",
    "def getClassesDistributionInSuspiciousCommunities(suspicious_communities, classes_distribution_in_communities):\n",
    "    return pd.merge(suspicious_communities, classes_distribution_in_communities, on=\"communityId\")"
   ]
  },
  {
   "cell_type": "code",
   "execution_count": 55,
   "metadata": {
    "pycharm": {
     "name": "#%%\n"
    }
   },
   "outputs": [],
   "source": [
    "def getSuspiciousCommunitiesFlow(analysis_manager, suspicious_communities):\n",
    "\n",
    "    transactions_flow = None\n",
    "\n",
    "    classes_assigned = analysis_manager.getNodeClassesInCommunities()\n",
    "    node_ids = pd.merge(classes_assigned, suspicious_communities, on=\"communityId\")[\"id\"]\n",
    "    str1 = f\"{list(node_ids)}\"\n",
    "\n",
    "    try:\n",
    "        gds = GraphDataScience(\"bolt://localhost:7687\", auth=(\"neo4j\", \"ieeedataset\"))\n",
    "        transactions_flow = gds.run_cypher(\"MATCH (n:node)-[r:TRANSACTION]->(m:node) WHERE n.id IN %s RETURN n.id AS txId1, n.class AS txId1_class, r.cost AS weight, m.id AS txId2, m.class AS txId2_class\" % str1)\n",
    "        gds.close()\n",
    "    except Exception as e:\n",
    "        print(\"Error occurred. Check if the database is online. Error message: %s\" % e)\n",
    "\n",
    "    return transactions_flow"
   ]
  },
  {
   "cell_type": "markdown",
   "metadata": {
    "pycharm": {
     "name": "#%% md\n"
    }
   },
   "source": [
    "### Degree distribution in communities"
   ]
  },
  {
   "cell_type": "code",
   "execution_count": 56,
   "metadata": {
    "pycharm": {
     "name": "#%%\n"
    }
   },
   "outputs": [],
   "source": [
    "communities = manager.detectLouvainCommunities()"
   ]
  },
  {
   "cell_type": "code",
   "execution_count": 57,
   "metadata": {
    "pycharm": {
     "name": "#%%\n"
    }
   },
   "outputs": [],
   "source": [
    "nodes_class = node_metrics.getNodesClasses()"
   ]
  },
  {
   "cell_type": "code",
   "execution_count": 58,
   "metadata": {
    "pycharm": {
     "name": "#%%\n"
    }
   },
   "outputs": [
    {
     "data": {
      "text/plain": [
       "0"
      ]
     },
     "execution_count": 58,
     "metadata": {},
     "output_type": "execute_result"
    }
   ],
   "source": [
    "sum(nodes_class[\"class\"] == 1)"
   ]
  },
  {
   "cell_type": "code",
   "execution_count": 59,
   "metadata": {
    "pycharm": {
     "name": "#%%\n"
    }
   },
   "outputs": [
    {
     "data": {
      "text/html": [
       "<div>\n",
       "<style scoped>\n",
       "    .dataframe tbody tr th:only-of-type {\n",
       "        vertical-align: middle;\n",
       "    }\n",
       "\n",
       "    .dataframe tbody tr th {\n",
       "        vertical-align: top;\n",
       "    }\n",
       "\n",
       "    .dataframe thead th {\n",
       "        text-align: right;\n",
       "    }\n",
       "</style>\n",
       "<table border=\"1\" class=\"dataframe\">\n",
       "  <thead>\n",
       "    <tr style=\"text-align: right;\">\n",
       "      <th></th>\n",
       "      <th>id</th>\n",
       "      <th>communityId</th>\n",
       "      <th>intermediateCommunityIds</th>\n",
       "      <th>in_degree</th>\n",
       "      <th>out_degree</th>\n",
       "      <th>class</th>\n",
       "    </tr>\n",
       "  </thead>\n",
       "  <tbody>\n",
       "  </tbody>\n",
       "</table>\n",
       "</div>"
      ],
      "text/plain": [
       "Empty DataFrame\n",
       "Columns: [id, communityId, intermediateCommunityIds, in_degree, out_degree, class]\n",
       "Index: []"
      ]
     },
     "execution_count": 59,
     "metadata": {},
     "output_type": "execute_result"
    }
   ],
   "source": [
    "degree_distribution_in_communities = pd.merge(communities, degree_distribution_df, on=\"id\")\n",
    "degree_class_in_communities = pd.merge(degree_distribution_in_communities, nodes_class, on=\"id\")\n",
    "degree_class_in_communities[degree_class_in_communities[\"class\"] == 1]"
   ]
  },
  {
   "cell_type": "code",
   "execution_count": 60,
   "metadata": {
    "pycharm": {
     "name": "#%%\n"
    }
   },
   "outputs": [
    {
     "data": {
      "text/html": [
       "<div>\n",
       "<style scoped>\n",
       "    .dataframe tbody tr th:only-of-type {\n",
       "        vertical-align: middle;\n",
       "    }\n",
       "\n",
       "    .dataframe tbody tr th {\n",
       "        vertical-align: top;\n",
       "    }\n",
       "\n",
       "    .dataframe thead th {\n",
       "        text-align: right;\n",
       "    }\n",
       "</style>\n",
       "<table border=\"1\" class=\"dataframe\">\n",
       "  <thead>\n",
       "    <tr style=\"text-align: right;\">\n",
       "      <th></th>\n",
       "      <th>id</th>\n",
       "      <th>communityId</th>\n",
       "      <th>intermediateCommunityIds</th>\n",
       "      <th>in_degree</th>\n",
       "      <th>out_degree</th>\n",
       "      <th>class</th>\n",
       "    </tr>\n",
       "  </thead>\n",
       "  <tbody>\n",
       "    <tr>\n",
       "      <th>0</th>\n",
       "      <td>0PAJ5</td>\n",
       "      <td>8733</td>\n",
       "      <td>None</td>\n",
       "      <td>1</td>\n",
       "      <td>0</td>\n",
       "      <td>None</td>\n",
       "    </tr>\n",
       "    <tr>\n",
       "      <th>1</th>\n",
       "      <td>0PJA2</td>\n",
       "      <td>8465</td>\n",
       "      <td>None</td>\n",
       "      <td>1</td>\n",
       "      <td>0</td>\n",
       "      <td>None</td>\n",
       "    </tr>\n",
       "    <tr>\n",
       "      <th>2</th>\n",
       "      <td>0PM92</td>\n",
       "      <td>7780</td>\n",
       "      <td>None</td>\n",
       "      <td>4</td>\n",
       "      <td>0</td>\n",
       "      <td>None</td>\n",
       "    </tr>\n",
       "    <tr>\n",
       "      <th>3</th>\n",
       "      <td>10003555128226v5</td>\n",
       "      <td>7750</td>\n",
       "      <td>None</td>\n",
       "      <td>0</td>\n",
       "      <td>3</td>\n",
       "      <td>None</td>\n",
       "    </tr>\n",
       "    <tr>\n",
       "      <th>4</th>\n",
       "      <td>10004529150162v6</td>\n",
       "      <td>7751</td>\n",
       "      <td>None</td>\n",
       "      <td>0</td>\n",
       "      <td>11</td>\n",
       "      <td>None</td>\n",
       "    </tr>\n",
       "    <tr>\n",
       "      <th>...</th>\n",
       "      <td>...</td>\n",
       "      <td>...</td>\n",
       "      <td>...</td>\n",
       "      <td>...</td>\n",
       "      <td>...</td>\n",
       "      <td>...</td>\n",
       "    </tr>\n",
       "    <tr>\n",
       "      <th>9520</th>\n",
       "      <td>verykools5004</td>\n",
       "      <td>8934</td>\n",
       "      <td>None</td>\n",
       "      <td>2</td>\n",
       "      <td>0</td>\n",
       "      <td>None</td>\n",
       "    </tr>\n",
       "    <tr>\n",
       "      <th>9521</th>\n",
       "      <td>verykools5034</td>\n",
       "      <td>9515</td>\n",
       "      <td>None</td>\n",
       "      <td>1</td>\n",
       "      <td>0</td>\n",
       "      <td>None</td>\n",
       "    </tr>\n",
       "    <tr>\n",
       "      <th>9522</th>\n",
       "      <td>verykools5035</td>\n",
       "      <td>9044</td>\n",
       "      <td>None</td>\n",
       "      <td>1</td>\n",
       "      <td>0</td>\n",
       "      <td>None</td>\n",
       "    </tr>\n",
       "    <tr>\n",
       "      <th>9523</th>\n",
       "      <td>vivo</td>\n",
       "      <td>8405</td>\n",
       "      <td>None</td>\n",
       "      <td>5</td>\n",
       "      <td>0</td>\n",
       "      <td>None</td>\n",
       "    </tr>\n",
       "    <tr>\n",
       "      <th>9524</th>\n",
       "      <td>xs-Z47b7VqTMxs</td>\n",
       "      <td>9164</td>\n",
       "      <td>None</td>\n",
       "      <td>1</td>\n",
       "      <td>0</td>\n",
       "      <td>None</td>\n",
       "    </tr>\n",
       "  </tbody>\n",
       "</table>\n",
       "<p>9525 rows × 6 columns</p>\n",
       "</div>"
      ],
      "text/plain": [
       "                    id  communityId intermediateCommunityIds  in_degree  \\\n",
       "0                0PAJ5         8733                     None          1   \n",
       "1                0PJA2         8465                     None          1   \n",
       "2                0PM92         7780                     None          4   \n",
       "3     10003555128226v5         7750                     None          0   \n",
       "4     10004529150162v6         7751                     None          0   \n",
       "...                ...          ...                      ...        ...   \n",
       "9520     verykools5004         8934                     None          2   \n",
       "9521     verykools5034         9515                     None          1   \n",
       "9522     verykools5035         9044                     None          1   \n",
       "9523              vivo         8405                     None          5   \n",
       "9524    xs-Z47b7VqTMxs         9164                     None          1   \n",
       "\n",
       "      out_degree class  \n",
       "0              0  None  \n",
       "1              0  None  \n",
       "2              0  None  \n",
       "3              3  None  \n",
       "4             11  None  \n",
       "...          ...   ...  \n",
       "9520           0  None  \n",
       "9521           0  None  \n",
       "9522           0  None  \n",
       "9523           0  None  \n",
       "9524           0  None  \n",
       "\n",
       "[9525 rows x 6 columns]"
      ]
     },
     "execution_count": 60,
     "metadata": {},
     "output_type": "execute_result"
    }
   ],
   "source": [
    "degree_class_in_communities"
   ]
  },
  {
   "cell_type": "markdown",
   "metadata": {
    "pycharm": {
     "name": "#%% md\n"
    }
   },
   "source": [
    "### Transactions of each class - frequencies in communities"
   ]
  },
  {
   "cell_type": "code",
   "execution_count": 61,
   "metadata": {
    "pycharm": {
     "name": "#%%\n"
    }
   },
   "outputs": [
    {
     "data": {
      "text/html": [
       "<div>\n",
       "<style scoped>\n",
       "    .dataframe tbody tr th:only-of-type {\n",
       "        vertical-align: middle;\n",
       "    }\n",
       "\n",
       "    .dataframe tbody tr th {\n",
       "        vertical-align: top;\n",
       "    }\n",
       "\n",
       "    .dataframe thead th {\n",
       "        text-align: right;\n",
       "    }\n",
       "</style>\n",
       "<table border=\"1\" class=\"dataframe\">\n",
       "  <thead>\n",
       "    <tr style=\"text-align: right;\">\n",
       "      <th></th>\n",
       "      <th>communityId</th>\n",
       "      <th>class</th>\n",
       "      <th>frequency</th>\n",
       "    </tr>\n",
       "  </thead>\n",
       "  <tbody>\n",
       "  </tbody>\n",
       "</table>\n",
       "</div>"
      ],
      "text/plain": [
       "Empty DataFrame\n",
       "Columns: [communityId, class, frequency]\n",
       "Index: []"
      ]
     },
     "execution_count": 61,
     "metadata": {},
     "output_type": "execute_result"
    }
   ],
   "source": [
    "communities_classes_distribution = getClassesDistributionInAllCommunities(manager, save=True, output_directory=\"../\")\n",
    "suspicious_communities = getSuspiciousCommunities(communities_classes_distribution)\n",
    "getClassesDistributionInSuspiciousCommunities(suspicious_communities, communities_classes_distribution)"
   ]
  },
  {
   "cell_type": "markdown",
   "metadata": {
    "pycharm": {
     "name": "#%% md\n"
    }
   },
   "source": [
    "### Studying the transactions flow"
   ]
  },
  {
   "cell_type": "code",
   "execution_count": 62,
   "metadata": {
    "pycharm": {
     "name": "#%%\n"
    }
   },
   "outputs": [],
   "source": [
    "transaction_flow_in_suspicious_communities = getSuspiciousCommunitiesFlow(manager,\n",
    "                                                                          suspicious_communities=suspicious_communities)"
   ]
  },
  {
   "cell_type": "code",
   "execution_count": 63,
   "metadata": {
    "pycharm": {
     "name": "#%%\n"
    }
   },
   "outputs": [
    {
     "data": {
      "text/html": [
       "<div>\n",
       "<style scoped>\n",
       "    .dataframe tbody tr th:only-of-type {\n",
       "        vertical-align: middle;\n",
       "    }\n",
       "\n",
       "    .dataframe tbody tr th {\n",
       "        vertical-align: top;\n",
       "    }\n",
       "\n",
       "    .dataframe thead th {\n",
       "        text-align: right;\n",
       "    }\n",
       "</style>\n",
       "<table border=\"1\" class=\"dataframe\">\n",
       "  <thead>\n",
       "    <tr style=\"text-align: right;\">\n",
       "      <th></th>\n",
       "      <th>txId1</th>\n",
       "      <th>txId1_class</th>\n",
       "      <th>weight</th>\n",
       "      <th>txId2</th>\n",
       "      <th>txId2_class</th>\n",
       "    </tr>\n",
       "  </thead>\n",
       "  <tbody>\n",
       "  </tbody>\n",
       "</table>\n",
       "</div>"
      ],
      "text/plain": [
       "Empty DataFrame\n",
       "Columns: [txId1, txId1_class, weight, txId2, txId2_class]\n",
       "Index: []"
      ]
     },
     "execution_count": 63,
     "metadata": {},
     "output_type": "execute_result"
    }
   ],
   "source": [
    "transaction_flow_in_suspicious_communities"
   ]
  },
  {
   "cell_type": "markdown",
   "metadata": {
    "pycharm": {
     "name": "#%% md\n"
    }
   },
   "source": [
    "As seen below, because the transaction is directed from nameOrig to nameDest, we can see that illicit transactions changed their status, as their counts dropped for txId2 classes. The number of licit transactions (2) increased, the number of unknown class transaction decreased as well."
   ]
  },
  {
   "cell_type": "code",
   "execution_count": 64,
   "metadata": {
    "pycharm": {
     "name": "#%%\n"
    }
   },
   "outputs": [],
   "source": [
    "def getTransactionsFlowDf(value_counts_transactions):\n",
    "    transactions_flow_df = pd.DataFrame(value_counts_transactions)\n",
    "    transactions_flow_df= transactions_flow_df.reset_index()\n",
    "    transactions_flow_df.columns = [\"transaction_class\", \"frequency\"]\n",
    "    return transactions_flow_df"
   ]
  },
  {
   "cell_type": "code",
   "execution_count": 65,
   "metadata": {
    "pycharm": {
     "name": "#%%\n"
    }
   },
   "outputs": [
    {
     "data": {
      "text/html": [
       "<div>\n",
       "<style scoped>\n",
       "    .dataframe tbody tr th:only-of-type {\n",
       "        vertical-align: middle;\n",
       "    }\n",
       "\n",
       "    .dataframe tbody tr th {\n",
       "        vertical-align: top;\n",
       "    }\n",
       "\n",
       "    .dataframe thead th {\n",
       "        text-align: right;\n",
       "    }\n",
       "</style>\n",
       "<table border=\"1\" class=\"dataframe\">\n",
       "  <thead>\n",
       "    <tr style=\"text-align: right;\">\n",
       "      <th></th>\n",
       "      <th>transaction_class</th>\n",
       "      <th>frequency</th>\n",
       "    </tr>\n",
       "  </thead>\n",
       "  <tbody>\n",
       "  </tbody>\n",
       "</table>\n",
       "</div>"
      ],
      "text/plain": [
       "Empty DataFrame\n",
       "Columns: [transaction_class, frequency]\n",
       "Index: []"
      ]
     },
     "execution_count": 65,
     "metadata": {},
     "output_type": "execute_result"
    }
   ],
   "source": [
    "flow_from = getTransactionsFlowDf(transaction_flow_in_suspicious_communities.txId1_class.value_counts())\n",
    "flow_from"
   ]
  },
  {
   "cell_type": "code",
   "execution_count": 66,
   "metadata": {
    "pycharm": {
     "name": "#%%\n"
    }
   },
   "outputs": [
    {
     "data": {
      "text/html": [
       "<div>\n",
       "<style scoped>\n",
       "    .dataframe tbody tr th:only-of-type {\n",
       "        vertical-align: middle;\n",
       "    }\n",
       "\n",
       "    .dataframe tbody tr th {\n",
       "        vertical-align: top;\n",
       "    }\n",
       "\n",
       "    .dataframe thead th {\n",
       "        text-align: right;\n",
       "    }\n",
       "</style>\n",
       "<table border=\"1\" class=\"dataframe\">\n",
       "  <thead>\n",
       "    <tr style=\"text-align: right;\">\n",
       "      <th></th>\n",
       "      <th>transaction_class</th>\n",
       "      <th>frequency</th>\n",
       "    </tr>\n",
       "  </thead>\n",
       "  <tbody>\n",
       "  </tbody>\n",
       "</table>\n",
       "</div>"
      ],
      "text/plain": [
       "Empty DataFrame\n",
       "Columns: [transaction_class, frequency]\n",
       "Index: []"
      ]
     },
     "execution_count": 66,
     "metadata": {},
     "output_type": "execute_result"
    }
   ],
   "source": [
    "flow_to = getTransactionsFlowDf(transaction_flow_in_suspicious_communities.txId2_class.value_counts())\n",
    "flow_to"
   ]
  },
  {
   "cell_type": "code",
   "execution_count": 67,
   "metadata": {
    "pycharm": {
     "name": "#%%\n"
    }
   },
   "outputs": [],
   "source": [
    "def plotTransactionsFlowClasses(value_counts_transactions_flow1, value_counts_transactions_flow2):\n",
    "    fig, ax = plt.subplots(ncols=2, figsize=(8, 6))\n",
    "    sns.barplot(data=value_counts_transactions_flow1, x=\"transaction_class\", y=\"frequency\", ax=ax[0])\n",
    "    sns.barplot(data=value_counts_transactions_flow2, x=\"transaction_class\", y=\"frequency\", ax=ax[1])\n",
    "    ax[0].set_xlabel(\"Transaction class\", fontsize=12)\n",
    "    ax[1].set_xlabel(\"Transaction class\", fontsize=12)\n",
    "    ax[0].set_ylabel(\"Frequency\", fontsize=12)\n",
    "    ax[1].set_ylabel(\"Frequency\", fontsize=12)\n",
    "    ax[0].set_title(\"Transaction origin's entity\", fontsize=14)\n",
    "    ax[1].set_title(\"Transaction destination's entity\", fontsize=14)\n",
    "    plt.tight_layout()\n",
    "    plt.show()"
   ]
  },
  {
   "cell_type": "code",
   "execution_count": 68,
   "metadata": {
    "pycharm": {
     "name": "#%%\n"
    }
   },
   "outputs": [
    {
     "ename": "ValueError",
     "evalue": "min() arg is an empty sequence",
     "output_type": "error",
     "traceback": [
      "\u001B[1;31m---------------------------------------------------------------------------\u001B[0m",
      "\u001B[1;31mValueError\u001B[0m                                Traceback (most recent call last)",
      "\u001B[1;32m<ipython-input-68-c2ac2fc8b348>\u001B[0m in \u001B[0;36m<module>\u001B[1;34m\u001B[0m\n\u001B[1;32m----> 1\u001B[1;33m \u001B[0mplotTransactionsFlowClasses\u001B[0m\u001B[1;33m(\u001B[0m\u001B[0mflow_from\u001B[0m\u001B[1;33m,\u001B[0m \u001B[0mflow_to\u001B[0m\u001B[1;33m)\u001B[0m\u001B[1;33m\u001B[0m\u001B[1;33m\u001B[0m\u001B[0m\n\u001B[0m",
      "\u001B[1;32m<ipython-input-67-b3bebb4d9ce8>\u001B[0m in \u001B[0;36mplotTransactionsFlowClasses\u001B[1;34m(value_counts_transactions_flow1, value_counts_transactions_flow2)\u001B[0m\n\u001B[0;32m      1\u001B[0m \u001B[1;32mdef\u001B[0m \u001B[0mplotTransactionsFlowClasses\u001B[0m\u001B[1;33m(\u001B[0m\u001B[0mvalue_counts_transactions_flow1\u001B[0m\u001B[1;33m,\u001B[0m \u001B[0mvalue_counts_transactions_flow2\u001B[0m\u001B[1;33m)\u001B[0m\u001B[1;33m:\u001B[0m\u001B[1;33m\u001B[0m\u001B[1;33m\u001B[0m\u001B[0m\n\u001B[0;32m      2\u001B[0m     \u001B[0mfig\u001B[0m\u001B[1;33m,\u001B[0m \u001B[0max\u001B[0m \u001B[1;33m=\u001B[0m \u001B[0mplt\u001B[0m\u001B[1;33m.\u001B[0m\u001B[0msubplots\u001B[0m\u001B[1;33m(\u001B[0m\u001B[0mncols\u001B[0m\u001B[1;33m=\u001B[0m\u001B[1;36m2\u001B[0m\u001B[1;33m,\u001B[0m \u001B[0mfigsize\u001B[0m\u001B[1;33m=\u001B[0m\u001B[1;33m(\u001B[0m\u001B[1;36m8\u001B[0m\u001B[1;33m,\u001B[0m \u001B[1;36m6\u001B[0m\u001B[1;33m)\u001B[0m\u001B[1;33m)\u001B[0m\u001B[1;33m\u001B[0m\u001B[1;33m\u001B[0m\u001B[0m\n\u001B[1;32m----> 3\u001B[1;33m     \u001B[0msns\u001B[0m\u001B[1;33m.\u001B[0m\u001B[0mbarplot\u001B[0m\u001B[1;33m(\u001B[0m\u001B[0mdata\u001B[0m\u001B[1;33m=\u001B[0m\u001B[0mvalue_counts_transactions_flow1\u001B[0m\u001B[1;33m,\u001B[0m \u001B[0mx\u001B[0m\u001B[1;33m=\u001B[0m\u001B[1;34m\"transaction_class\"\u001B[0m\u001B[1;33m,\u001B[0m \u001B[0my\u001B[0m\u001B[1;33m=\u001B[0m\u001B[1;34m\"frequency\"\u001B[0m\u001B[1;33m,\u001B[0m \u001B[0max\u001B[0m\u001B[1;33m=\u001B[0m\u001B[0max\u001B[0m\u001B[1;33m[\u001B[0m\u001B[1;36m0\u001B[0m\u001B[1;33m]\u001B[0m\u001B[1;33m)\u001B[0m\u001B[1;33m\u001B[0m\u001B[1;33m\u001B[0m\u001B[0m\n\u001B[0m\u001B[0;32m      4\u001B[0m     \u001B[0msns\u001B[0m\u001B[1;33m.\u001B[0m\u001B[0mbarplot\u001B[0m\u001B[1;33m(\u001B[0m\u001B[0mdata\u001B[0m\u001B[1;33m=\u001B[0m\u001B[0mvalue_counts_transactions_flow2\u001B[0m\u001B[1;33m,\u001B[0m \u001B[0mx\u001B[0m\u001B[1;33m=\u001B[0m\u001B[1;34m\"transaction_class\"\u001B[0m\u001B[1;33m,\u001B[0m \u001B[0my\u001B[0m\u001B[1;33m=\u001B[0m\u001B[1;34m\"frequency\"\u001B[0m\u001B[1;33m,\u001B[0m \u001B[0max\u001B[0m\u001B[1;33m=\u001B[0m\u001B[0max\u001B[0m\u001B[1;33m[\u001B[0m\u001B[1;36m1\u001B[0m\u001B[1;33m]\u001B[0m\u001B[1;33m)\u001B[0m\u001B[1;33m\u001B[0m\u001B[1;33m\u001B[0m\u001B[0m\n\u001B[0;32m      5\u001B[0m     \u001B[0max\u001B[0m\u001B[1;33m[\u001B[0m\u001B[1;36m0\u001B[0m\u001B[1;33m]\u001B[0m\u001B[1;33m.\u001B[0m\u001B[0mset_xlabel\u001B[0m\u001B[1;33m(\u001B[0m\u001B[1;34m\"Transaction class\"\u001B[0m\u001B[1;33m,\u001B[0m \u001B[0mfontsize\u001B[0m\u001B[1;33m=\u001B[0m\u001B[1;36m12\u001B[0m\u001B[1;33m)\u001B[0m\u001B[1;33m\u001B[0m\u001B[1;33m\u001B[0m\u001B[0m\n",
      "\u001B[1;32mc:\\users\\pstac\\appdata\\local\\programs\\python\\python39\\lib\\site-packages\\seaborn\\_decorators.py\u001B[0m in \u001B[0;36minner_f\u001B[1;34m(*args, **kwargs)\u001B[0m\n\u001B[0;32m     44\u001B[0m             )\n\u001B[0;32m     45\u001B[0m         \u001B[0mkwargs\u001B[0m\u001B[1;33m.\u001B[0m\u001B[0mupdate\u001B[0m\u001B[1;33m(\u001B[0m\u001B[1;33m{\u001B[0m\u001B[0mk\u001B[0m\u001B[1;33m:\u001B[0m \u001B[0marg\u001B[0m \u001B[1;32mfor\u001B[0m \u001B[0mk\u001B[0m\u001B[1;33m,\u001B[0m \u001B[0marg\u001B[0m \u001B[1;32min\u001B[0m \u001B[0mzip\u001B[0m\u001B[1;33m(\u001B[0m\u001B[0msig\u001B[0m\u001B[1;33m.\u001B[0m\u001B[0mparameters\u001B[0m\u001B[1;33m,\u001B[0m \u001B[0margs\u001B[0m\u001B[1;33m)\u001B[0m\u001B[1;33m}\u001B[0m\u001B[1;33m)\u001B[0m\u001B[1;33m\u001B[0m\u001B[1;33m\u001B[0m\u001B[0m\n\u001B[1;32m---> 46\u001B[1;33m         \u001B[1;32mreturn\u001B[0m \u001B[0mf\u001B[0m\u001B[1;33m(\u001B[0m\u001B[1;33m**\u001B[0m\u001B[0mkwargs\u001B[0m\u001B[1;33m)\u001B[0m\u001B[1;33m\u001B[0m\u001B[1;33m\u001B[0m\u001B[0m\n\u001B[0m\u001B[0;32m     47\u001B[0m     \u001B[1;32mreturn\u001B[0m \u001B[0minner_f\u001B[0m\u001B[1;33m\u001B[0m\u001B[1;33m\u001B[0m\u001B[0m\n\u001B[0;32m     48\u001B[0m \u001B[1;33m\u001B[0m\u001B[0m\n",
      "\u001B[1;32mc:\\users\\pstac\\appdata\\local\\programs\\python\\python39\\lib\\site-packages\\seaborn\\categorical.py\u001B[0m in \u001B[0;36mbarplot\u001B[1;34m(x, y, hue, data, order, hue_order, estimator, ci, n_boot, units, seed, orient, color, palette, saturation, errcolor, errwidth, capsize, dodge, ax, **kwargs)\u001B[0m\n\u001B[0;32m   3180\u001B[0m ):\n\u001B[0;32m   3181\u001B[0m \u001B[1;33m\u001B[0m\u001B[0m\n\u001B[1;32m-> 3182\u001B[1;33m     plotter = _BarPlotter(x, y, hue, data, order, hue_order,\n\u001B[0m\u001B[0;32m   3183\u001B[0m                           \u001B[0mestimator\u001B[0m\u001B[1;33m,\u001B[0m \u001B[0mci\u001B[0m\u001B[1;33m,\u001B[0m \u001B[0mn_boot\u001B[0m\u001B[1;33m,\u001B[0m \u001B[0munits\u001B[0m\u001B[1;33m,\u001B[0m \u001B[0mseed\u001B[0m\u001B[1;33m,\u001B[0m\u001B[1;33m\u001B[0m\u001B[1;33m\u001B[0m\u001B[0m\n\u001B[0;32m   3184\u001B[0m                           \u001B[0morient\u001B[0m\u001B[1;33m,\u001B[0m \u001B[0mcolor\u001B[0m\u001B[1;33m,\u001B[0m \u001B[0mpalette\u001B[0m\u001B[1;33m,\u001B[0m \u001B[0msaturation\u001B[0m\u001B[1;33m,\u001B[0m\u001B[1;33m\u001B[0m\u001B[1;33m\u001B[0m\u001B[0m\n",
      "\u001B[1;32mc:\\users\\pstac\\appdata\\local\\programs\\python\\python39\\lib\\site-packages\\seaborn\\categorical.py\u001B[0m in \u001B[0;36m__init__\u001B[1;34m(self, x, y, hue, data, order, hue_order, estimator, ci, n_boot, units, seed, orient, color, palette, saturation, errcolor, errwidth, capsize, dodge)\u001B[0m\n\u001B[0;32m   1584\u001B[0m         self.establish_variables(x, y, hue, data, orient,\n\u001B[0;32m   1585\u001B[0m                                  order, hue_order, units)\n\u001B[1;32m-> 1586\u001B[1;33m         \u001B[0mself\u001B[0m\u001B[1;33m.\u001B[0m\u001B[0mestablish_colors\u001B[0m\u001B[1;33m(\u001B[0m\u001B[0mcolor\u001B[0m\u001B[1;33m,\u001B[0m \u001B[0mpalette\u001B[0m\u001B[1;33m,\u001B[0m \u001B[0msaturation\u001B[0m\u001B[1;33m)\u001B[0m\u001B[1;33m\u001B[0m\u001B[1;33m\u001B[0m\u001B[0m\n\u001B[0m\u001B[0;32m   1587\u001B[0m         \u001B[0mself\u001B[0m\u001B[1;33m.\u001B[0m\u001B[0mestimate_statistic\u001B[0m\u001B[1;33m(\u001B[0m\u001B[0mestimator\u001B[0m\u001B[1;33m,\u001B[0m \u001B[0mci\u001B[0m\u001B[1;33m,\u001B[0m \u001B[0mn_boot\u001B[0m\u001B[1;33m,\u001B[0m \u001B[0mseed\u001B[0m\u001B[1;33m)\u001B[0m\u001B[1;33m\u001B[0m\u001B[1;33m\u001B[0m\u001B[0m\n\u001B[0;32m   1588\u001B[0m \u001B[1;33m\u001B[0m\u001B[0m\n",
      "\u001B[1;32mc:\\users\\pstac\\appdata\\local\\programs\\python\\python39\\lib\\site-packages\\seaborn\\categorical.py\u001B[0m in \u001B[0;36mestablish_colors\u001B[1;34m(self, color, palette, saturation)\u001B[0m\n\u001B[0;32m    317\u001B[0m         \u001B[1;31m# Determine the gray color to use for the lines framing the plot\u001B[0m\u001B[1;33m\u001B[0m\u001B[1;33m\u001B[0m\u001B[1;33m\u001B[0m\u001B[0m\n\u001B[0;32m    318\u001B[0m         \u001B[0mlight_vals\u001B[0m \u001B[1;33m=\u001B[0m \u001B[1;33m[\u001B[0m\u001B[0mcolorsys\u001B[0m\u001B[1;33m.\u001B[0m\u001B[0mrgb_to_hls\u001B[0m\u001B[1;33m(\u001B[0m\u001B[1;33m*\u001B[0m\u001B[0mc\u001B[0m\u001B[1;33m)\u001B[0m\u001B[1;33m[\u001B[0m\u001B[1;36m1\u001B[0m\u001B[1;33m]\u001B[0m \u001B[1;32mfor\u001B[0m \u001B[0mc\u001B[0m \u001B[1;32min\u001B[0m \u001B[0mrgb_colors\u001B[0m\u001B[1;33m]\u001B[0m\u001B[1;33m\u001B[0m\u001B[1;33m\u001B[0m\u001B[0m\n\u001B[1;32m--> 319\u001B[1;33m         \u001B[0mlum\u001B[0m \u001B[1;33m=\u001B[0m \u001B[0mmin\u001B[0m\u001B[1;33m(\u001B[0m\u001B[0mlight_vals\u001B[0m\u001B[1;33m)\u001B[0m \u001B[1;33m*\u001B[0m \u001B[1;36m.6\u001B[0m\u001B[1;33m\u001B[0m\u001B[1;33m\u001B[0m\u001B[0m\n\u001B[0m\u001B[0;32m    320\u001B[0m         \u001B[0mgray\u001B[0m \u001B[1;33m=\u001B[0m \u001B[0mmpl\u001B[0m\u001B[1;33m.\u001B[0m\u001B[0mcolors\u001B[0m\u001B[1;33m.\u001B[0m\u001B[0mrgb2hex\u001B[0m\u001B[1;33m(\u001B[0m\u001B[1;33m(\u001B[0m\u001B[0mlum\u001B[0m\u001B[1;33m,\u001B[0m \u001B[0mlum\u001B[0m\u001B[1;33m,\u001B[0m \u001B[0mlum\u001B[0m\u001B[1;33m)\u001B[0m\u001B[1;33m)\u001B[0m\u001B[1;33m\u001B[0m\u001B[1;33m\u001B[0m\u001B[0m\n\u001B[0;32m    321\u001B[0m \u001B[1;33m\u001B[0m\u001B[0m\n",
      "\u001B[1;31mValueError\u001B[0m: min() arg is an empty sequence"
     ]
    },
    {
     "data": {
      "image/png": "[encoded data removed]",
      "text/plain": [
       "<Figure size 576x432 with 2 Axes>"
      ]
     },
     "metadata": {},
     "output_type": "display_data"
    }
   ],
   "source": [
    "plotTransactionsFlowClasses(flow_from, flow_to)"
   ]
  },
  {
   "cell_type": "code",
   "execution_count": 86,
   "metadata": {
    "pycharm": {
     "name": "#%%\n"
    }
   },
   "outputs": [],
   "source": [
    "connector.close()"
   ]
  },
  {
   "cell_type": "markdown",
   "metadata": {
    "pycharm": {
     "name": "#%% md\n"
    }
   },
   "source": [
    "## Mann-Whitney Test"
   ]
  },
  {
   "cell_type": "code",
   "execution_count": 87,
   "metadata": {
    "pycharm": {
     "name": "#%%\n"
    }
   },
   "outputs": [],
   "source": [
    "from scipy.stats import mannwhitneyu"
   ]
  },
  {
   "cell_type": "markdown",
   "metadata": {
    "pycharm": {
     "name": "#%% md\n"
    }
   },
   "source": [
    "### Degree distributions"
   ]
  },
  {
   "cell_type": "code",
   "execution_count": 88,
   "metadata": {
    "pycharm": {
     "name": "#%%\n"
    }
   },
   "outputs": [],
   "source": [
    "fraud_indegree_distribution = degree_distribution_and_class[degree_distribution_and_class[\"class\"] == 1][\"in_degree\"]\n",
    "fraud_outdegree_distribution = degree_distribution_and_class[degree_distribution_and_class[\"class\"] == 1][\"out_degree\"]\n",
    "non_fraud_indegree_distribution = degree_distribution_and_class[degree_distribution_and_class[\"class\"] == 0][\"in_degree\"]\n",
    "non_fraud_outdegree_distribution = degree_distribution_and_class[degree_distribution_and_class[\"class\"] == 0][\"out_degree\"]"
   ]
  },
  {
   "cell_type": "code",
   "execution_count": 89,
   "metadata": {
    "pycharm": {
     "name": "#%%\n"
    }
   },
   "outputs": [
    {
     "name": "stdout",
     "output_type": "stream",
     "text": [
      "Mann-Whitney U test statistic: 226452.000\n",
      "p-value: 0.005\n"
     ]
    }
   ],
   "source": [
    "mw_result = mannwhitneyu(x=fraud_indegree_distribution, y=non_fraud_indegree_distribution, alternative=\"two-sided\")\n",
    "print(\"Mann-Whitney U test statistic: %5.3f\" % mw_result.statistic)\n",
    "print(\"p-value: %5.3f\" % mw_result.pvalue)"
   ]
  },
  {
   "cell_type": "code",
   "execution_count": 90,
   "metadata": {
    "pycharm": {
     "name": "#%%\n"
    }
   },
   "outputs": [
    {
     "data": {
      "text/plain": [
       "0     28\n",
       "1     16\n",
       "3      4\n",
       "5      3\n",
       "4      2\n",
       "17     2\n",
       "7      1\n",
       "Name: in_degree, dtype: int64"
      ]
     },
     "execution_count": 90,
     "metadata": {},
     "output_type": "execute_result"
    }
   ],
   "source": [
    "fraud_indegree_distribution.value_counts()"
   ]
  },
  {
   "cell_type": "code",
   "execution_count": 91,
   "metadata": {
    "pycharm": {
     "name": "#%%\n"
    }
   },
   "outputs": [
    {
     "data": {
      "text/plain": [
       "0     4246\n",
       "1     2330\n",
       "2       58\n",
       "3       38\n",
       "4       30\n",
       "7       18\n",
       "5       16\n",
       "6       12\n",
       "10      11\n",
       "9        6\n",
       "11       5\n",
       "14       5\n",
       "19       4\n",
       "8        4\n",
       "18       4\n",
       "16       3\n",
       "20       3\n",
       "15       3\n",
       "25       2\n",
       "24       2\n",
       "23       2\n",
       "13       2\n",
       "22       2\n",
       "28       2\n",
       "30       2\n",
       "27       2\n",
       "12       1\n",
       "42       1\n",
       "26       1\n",
       "29       1\n",
       "21       1\n",
       "17       1\n",
       "36       1\n",
       "35       1\n",
       "Name: in_degree, dtype: int64"
      ]
     },
     "execution_count": 91,
     "metadata": {},
     "output_type": "execute_result"
    }
   ],
   "source": [
    "non_fraud_indegree_distribution.value_counts()"
   ]
  },
  {
   "cell_type": "code",
   "execution_count": 92,
   "metadata": {
    "pycharm": {
     "name": "#%%\n"
    }
   },
   "outputs": [
    {
     "name": "stdout",
     "output_type": "stream",
     "text": [
      "Mann-Whitney U test statistic: 167552.000\n",
      "p-value: 0.060\n"
     ]
    }
   ],
   "source": [
    "mw_result = mannwhitneyu(x=fraud_outdegree_distribution, y=non_fraud_outdegree_distribution, alternative=\"two-sided\")\n",
    "print(\"Mann-Whitney U test statistic: %5.3f\" % mw_result.statistic)\n",
    "print(\"p-value: %5.3f\" % mw_result.pvalue)"
   ]
  },
  {
   "cell_type": "markdown",
   "metadata": {
    "pycharm": {
     "name": "#%% md\n"
    }
   },
   "source": [
    "### PageRank scores distribution"
   ]
  },
  {
   "cell_type": "code",
   "execution_count": 93,
   "metadata": {
    "pycharm": {
     "name": "#%%\n"
    }
   },
   "outputs": [],
   "source": [
    "pagerank_distributions = pd.merge(nodes_classes, pagerank_scores, on=\"id\")"
   ]
  },
  {
   "cell_type": "code",
   "execution_count": 94,
   "metadata": {
    "pycharm": {
     "name": "#%%\n"
    }
   },
   "outputs": [],
   "source": [
    "fraud_pagerank_distribution = pagerank_scores[pagerank_distributions[\"class\"] == 1][\"PageRankScore\"]\n",
    "non_fraud_pagerank_distribution = pagerank_distributions[pagerank_distributions[\"class\"] == 0][\"PageRankScore\"]"
   ]
  },
  {
   "cell_type": "code",
   "execution_count": 95,
   "metadata": {
    "pycharm": {
     "name": "#%%\n"
    }
   },
   "outputs": [
    {
     "name": "stdout",
     "output_type": "stream",
     "text": [
      "Mann-Whitney U test statistic: 380387.000\n",
      "p-value: 0.000\n"
     ]
    }
   ],
   "source": [
    "mw_result = mannwhitneyu(x=fraud_pagerank_distribution, y=non_fraud_pagerank_distribution, alternative=\"two-sided\")\n",
    "print(\"Mann-Whitney U test statistic: %5.3f\" % mw_result.statistic)\n",
    "print(\"p-value: %5.3f\" % mw_result.pvalue)"
   ]
  },
  {
   "cell_type": "code",
   "execution_count": 96,
   "metadata": {
    "pycharm": {
     "name": "#%%\n"
    }
   },
   "outputs": [
    {
     "data": {
      "text/plain": [
       "1.425    3\n",
       "1.552    5\n",
       "1.680    1\n",
       "1.807    2\n",
       "1.935    5\n",
       "2.062    3\n",
       "2.190    3\n",
       "2.317    3\n",
       "2.445    4\n",
       "2.572    4\n",
       "2.700    3\n",
       "2.827    1\n",
       "2.955    2\n",
       "3.082    2\n",
       "3.210    2\n",
       "3.337    2\n",
       "3.465    1\n",
       "3.592    2\n",
       "3.720    2\n",
       "3.847    1\n",
       "3.975    2\n",
       "4.613    1\n",
       "4.740    1\n",
       "5.505    1\n",
       "Name: PageRankScore, dtype: int64"
      ]
     },
     "execution_count": 96,
     "metadata": {},
     "output_type": "execute_result"
    }
   ],
   "source": [
    "fraud_pagerank_distribution.value_counts().sort_index()"
   ]
  },
  {
   "cell_type": "code",
   "execution_count": 97,
   "metadata": {
    "pycharm": {
     "name": "#%%\n"
    }
   },
   "outputs": [
    {
     "data": {
      "text/plain": [
       "0.150    4246\n",
       "0.278    2330\n",
       "0.405      58\n",
       "0.533      38\n",
       "0.660      30\n",
       "0.788      16\n",
       "0.915      12\n",
       "1.043      18\n",
       "1.170       4\n",
       "1.297       6\n",
       "1.425      11\n",
       "1.552       5\n",
       "1.680       1\n",
       "1.807       2\n",
       "1.935       5\n",
       "2.062       3\n",
       "2.190       3\n",
       "2.317       1\n",
       "2.445       4\n",
       "2.572       4\n",
       "2.700       3\n",
       "2.827       1\n",
       "2.955       2\n",
       "3.082       2\n",
       "3.210       2\n",
       "3.337       2\n",
       "3.465       1\n",
       "3.592       2\n",
       "3.720       2\n",
       "3.847       1\n",
       "3.975       2\n",
       "4.613       1\n",
       "4.740       1\n",
       "5.505       1\n",
       "Name: PageRankScore, dtype: int64"
      ]
     },
     "execution_count": 97,
     "metadata": {},
     "output_type": "execute_result"
    }
   ],
   "source": [
    "non_fraud_pagerank_distribution.value_counts().sort_index()"
   ]
  },
  {
   "cell_type": "markdown",
   "metadata": {
    "pycharm": {
     "name": "#%% md\n"
    }
   },
   "source": [
    "## Amounts"
   ]
  },
  {
   "cell_type": "code",
   "execution_count": 98,
   "metadata": {
    "pycharm": {
     "name": "#%%\n"
    }
   },
   "outputs": [
    {
     "data": {
      "image/png": "[encoded data removed]",
      "text/plain": [
       "<Figure size 576x504 with 1 Axes>"
      ]
     },
     "metadata": {},
     "output_type": "display_data"
    }
   ],
   "source": [
    "plt.figure(figsize=(8,7))\n",
    "ax = sns.boxplot(x=\"isFraud\", y=\"amount\", data=edgelist, showfliers=False)\n",
    "ax.yaxis.set_major_formatter(FormatStrFormatter(\"%d\"))\n",
    "plt.show()"
   ]
  },
  {
   "cell_type": "code",
   "execution_count": 99,
   "metadata": {
    "pycharm": {
     "name": "#%%\n"
    }
   },
   "outputs": [
    {
     "data": {
      "image/png": "[encoded data removed]",
      "text/plain": [
       "<Figure size 576x504 with 1 Axes>"
      ]
     },
     "metadata": {},
     "output_type": "display_data"
    }
   ],
   "source": [
    "plt.figure(figsize=(8,7))\n",
    "ax = sns.boxplot(x=\"isFraud\", y=\"amount\", data=edgelist, showfliers=True, flierprops = dict(markerfacecolor='b', markersize=2))\n",
    "ax.yaxis.set_major_formatter(FormatStrFormatter(\"%d\"))\n",
    "plt.show()"
   ]
  },
  {
   "cell_type": "markdown",
   "metadata": {
    "pycharm": {
     "name": "#%% md\n"
    }
   },
   "source": [
    "## Notes"
   ]
  },
  {
   "cell_type": "markdown",
   "metadata": {
    "pycharm": {
     "name": "#%% md\n"
    }
   },
   "source": [
    "The graph's suspicious communities were visualized using Neo4jBrowser. The query was generated using additional code which prints the list of node IDs from a list and puts that in a formatted string of Cypher query. It is as follows:"
   ]
  },
  {
   "cell_type": "code",
   "execution_count": 100,
   "metadata": {
    "pycharm": {
     "name": "#%%\n"
    }
   },
   "outputs": [],
   "source": [
    "def getCommunitiesNodesList(transaction_flow):\n",
    "    org = transaction_flow[\"txId1\"]\n",
    "    dst = transaction_flow[\"txId2\"]\n",
    "\n",
    "    nodes_in_communities = []\n",
    "    for node1, node2 in zip(org, dst):\n",
    "        nodes_in_communities.append(node1)\n",
    "        nodes_in_communities.append(node2)\n",
    "    return list(pd.Series(nodes_in_communities).unique())"
   ]
  },
  {
   "cell_type": "code",
   "execution_count": 101,
   "metadata": {
    "pycharm": {
     "name": "#%%\n"
    }
   },
   "outputs": [
    {
     "name": "stdout",
     "output_type": "stream",
     "text": [
      "0    64\n",
      "1    28\n",
      "Name: sourceNodeClass, dtype: int64\n",
      "0    64\n",
      "1    28\n",
      "Name: transactionCategory, dtype: int64\n",
      "1    92\n",
      "Name: destinationNodeClass, dtype: int64\n"
     ]
    }
   ],
   "source": [
    "nodes_in_communities = getCommunitiesNodesList(getSuspiciousCommunitiesFlow(manager, suspicious_communities=getSuspiciousCommunities(getClassesDistributionInAllCommunities(manager, save=True, output_directory=\"../\"))))\n",
    "query = f\"MATCH (n:node)-[r:TRANSACTION]->(m:node) WHERE n.id IN {nodes_in_communities} OR m.id IN {nodes_in_communities} RETURN n.id AS sourceNodeID, m.id AS destinationNodeID, n.class AS sourceNodeClass, r.isFraud AS transactionCategory, r.type AS transactionType, m.class AS destinationNodeClass\"\n",
    "illicit_nodes_and_transactions = connector.run_cypher(query)\n",
    "for col in illicit_nodes_and_transactions:\n",
    "    if (col == \"sourceNodeID\") | (col == \"destinationNodeID\") | (col == \"transactionType\"):\n",
    "        continue\n",
    "    else:\n",
    "        print(illicit_nodes_and_transactions[col].value_counts())"
   ]
  },
  {
   "cell_type": "markdown",
   "metadata": {
    "pycharm": {
     "name": "#%% md\n"
    }
   },
   "source": [
    "As seen above, within the communities, 16 out of 29 nodes are known to make fraudulent transactions, 16 out of 29 transactions were illicit, but all destination nodes are known to make illicit transactions."
   ]
  },
  {
   "cell_type": "code",
   "execution_count": 102,
   "metadata": {
    "pycharm": {
     "name": "#%%\n"
    }
   },
   "outputs": [
    {
     "data": {
      "text/plain": [
       "transactionCategory  transactionType\n",
       "0                    CASH_IN            30\n",
       "                     CASH_OUT           14\n",
       "                     TRANSFER           11\n",
       "                     DEBIT               9\n",
       "1                    CASH_OUT           15\n",
       "                     TRANSFER           13\n",
       "Name: transactionType, dtype: int64"
      ]
     },
     "execution_count": 102,
     "metadata": {},
     "output_type": "execute_result"
    }
   ],
   "source": [
    "illicit_nodes_and_transactions.groupby(\"transactionCategory\")[\"transactionType\"].value_counts()"
   ]
  },
  {
   "cell_type": "code",
   "execution_count": 103,
   "metadata": {
    "pycharm": {
     "name": "#%%\n"
    }
   },
   "outputs": [
    {
     "data": {
      "text/html": [
       "<div>\n",
       "<style scoped>\n",
       "    .dataframe tbody tr th:only-of-type {\n",
       "        vertical-align: middle;\n",
       "    }\n",
       "\n",
       "    .dataframe tbody tr th {\n",
       "        vertical-align: top;\n",
       "    }\n",
       "\n",
       "    .dataframe thead th {\n",
       "        text-align: right;\n",
       "    }\n",
       "</style>\n",
       "<table border=\"1\" class=\"dataframe\">\n",
       "  <thead>\n",
       "    <tr style=\"text-align: right;\">\n",
       "      <th></th>\n",
       "      <th>sourceID</th>\n",
       "      <th>destinationID</th>\n",
       "      <th>sourceClass</th>\n",
       "      <th>destinationClass</th>\n",
       "      <th>transactionCategory</th>\n",
       "    </tr>\n",
       "  </thead>\n",
       "  <tbody>\n",
       "  </tbody>\n",
       "</table>\n",
       "</div>"
      ],
      "text/plain": [
       "Empty DataFrame\n",
       "Columns: [sourceID, destinationID, sourceClass, destinationClass, transactionCategory]\n",
       "Index: []"
      ]
     },
     "execution_count": 103,
     "metadata": {},
     "output_type": "execute_result"
    }
   ],
   "source": [
    "node_ids = f\"{list(illicit_nodes_and_transactions.destinationNodeID)}\"\n",
    "query = f\"MATCH (n:node)-[r:TRANSACTION]->(m:node) WHERE n.id IN {node_ids} RETURN n.id AS sourceID, m.id AS destinationID, n.class AS sourceClass, m.class AS destinationClass, r.isFraud AS transactionCategory\"\n",
    "connector.run_cypher(query)"
   ]
  },
  {
   "cell_type": "markdown",
   "metadata": {
    "pycharm": {
     "name": "#%% md\n"
    }
   },
   "source": [
    "As seen above, the trace ends at the destination nodes in communities, however, only some of the transactions were CASH_OUT type"
   ]
  }
 ],
 "metadata": {
  "kernelspec": {
   "display_name": "Python 3",
   "language": "python",
   "name": "python3"
  },
  "language_info": {
   "codemirror_mode": {
    "name": "ipython",
    "version": 3
   },
   "file_extension": ".py",
   "mimetype": "text/x-python",
   "name": "python",
   "nbconvert_exporter": "python",
   "pygments_lexer": "ipython3",
   "version": "3.9.2"
  }
 },
 "nbformat": 4,
 "nbformat_minor": 1
}