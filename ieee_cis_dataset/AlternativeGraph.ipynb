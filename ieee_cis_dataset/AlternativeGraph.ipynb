{
 "cells": [
  {
   "cell_type": "code",
   "execution_count": 1,
   "id": "8bf30101",
   "metadata": {
    "pycharm": {
     "name": "#%%\n"
    }
   },
   "outputs": [],
   "source": [
    "import datetime as dt\n",
    "import matplotlib.pyplot as plt\n",
    "import networkx as nx\n",
    "import numpy as np\n",
    "import pandas as pd\n",
    "import seaborn as sns"
   ]
  },
  {
   "cell_type": "code",
   "execution_count": 2,
   "id": "a0d5163e",
   "metadata": {
    "pycharm": {
     "name": "#%%\n"
    }
   },
   "outputs": [],
   "source": [
    "df = pd.read_csv(\"weights_account_to_device.csv\")\n",
    "df.drop(columns=[\"Unnamed: 0\"], inplace=True)\n",
    "df.columns = [\"AccountName\", \"DeviceInfo\", \"Weight\", \"TransactionID\", \"isFraud\", \"TimeStep\", \"AmountTransferred\", \"ServiceType\"]\n",
    "\n",
    "\n",
    "x = lambda a : dt.datetime.fromtimestamp(a)\n",
    "df.TimeStep = pd.to_datetime(df.TimeStep.apply(x), format=\"%Y-%m-%d %H:%M:%S\")"
   ]
  },
  {
   "cell_type": "code",
   "execution_count": 3,
   "id": "dfd7f9dc",
   "metadata": {
    "pycharm": {
     "name": "#%%\n"
    }
   },
   "outputs": [
    {
     "data": {
      "text/html": [
       "<div>\n",
       "<style scoped>\n",
       "    .dataframe tbody tr th:only-of-type {\n",
       "        vertical-align: middle;\n",
       "    }\n",
       "\n",
       "    .dataframe tbody tr th {\n",
       "        vertical-align: top;\n",
       "    }\n",
       "\n",
       "    .dataframe thead th {\n",
       "        text-align: right;\n",
       "    }\n",
       "</style>\n",
       "<table border=\"1\" class=\"dataframe\">\n",
       "  <thead>\n",
       "    <tr style=\"text-align: right;\">\n",
       "      <th></th>\n",
       "      <th>AccountName</th>\n",
       "      <th>DeviceInfo</th>\n",
       "      <th>Weight</th>\n",
       "      <th>TransactionID</th>\n",
       "      <th>isFraud</th>\n",
       "      <th>TimeStep</th>\n",
       "      <th>AmountTransferred</th>\n",
       "      <th>ServiceType</th>\n",
       "    </tr>\n",
       "  </thead>\n",
       "  <tbody>\n",
       "    <tr>\n",
       "      <th>0</th>\n",
       "      <td>10003555128226v5</td>\n",
       "      <td>S60 Build/MMB29M</td>\n",
       "      <td>3</td>\n",
       "      <td>3328484</td>\n",
       "      <td>0</td>\n",
       "      <td>1970-04-08 13:23:35</td>\n",
       "      <td>39.394</td>\n",
       "      <td>C</td>\n",
       "    </tr>\n",
       "    <tr>\n",
       "      <th>1</th>\n",
       "      <td>10003555128226v5</td>\n",
       "      <td>S60 Build/MMB29M</td>\n",
       "      <td>3</td>\n",
       "      <td>3337343</td>\n",
       "      <td>0</td>\n",
       "      <td>1970-04-11 00:34:42</td>\n",
       "      <td>10.755</td>\n",
       "      <td>C</td>\n",
       "    </tr>\n",
       "    <tr>\n",
       "      <th>2</th>\n",
       "      <td>10003555128226v5</td>\n",
       "      <td>S60 Build/MMB29M</td>\n",
       "      <td>3</td>\n",
       "      <td>3337365</td>\n",
       "      <td>0</td>\n",
       "      <td>1970-04-11 00:40:15</td>\n",
       "      <td>19.093</td>\n",
       "      <td>C</td>\n",
       "    </tr>\n",
       "    <tr>\n",
       "      <th>3</th>\n",
       "      <td>10004529150162v6</td>\n",
       "      <td>Windows</td>\n",
       "      <td>3</td>\n",
       "      <td>3006707</td>\n",
       "      <td>0</td>\n",
       "      <td>1970-01-06 23:35:03</td>\n",
       "      <td>35.000</td>\n",
       "      <td>H</td>\n",
       "    </tr>\n",
       "    <tr>\n",
       "      <th>4</th>\n",
       "      <td>10004529150162v6</td>\n",
       "      <td>Windows</td>\n",
       "      <td>3</td>\n",
       "      <td>3051248</td>\n",
       "      <td>0</td>\n",
       "      <td>1970-01-17 20:58:38</td>\n",
       "      <td>25.000</td>\n",
       "      <td>H</td>\n",
       "    </tr>\n",
       "    <tr>\n",
       "      <th>...</th>\n",
       "      <td>...</td>\n",
       "      <td>...</td>\n",
       "      <td>...</td>\n",
       "      <td>...</td>\n",
       "      <td>...</td>\n",
       "      <td>...</td>\n",
       "      <td>...</td>\n",
       "      <td>...</td>\n",
       "    </tr>\n",
       "    <tr>\n",
       "      <th>117381</th>\n",
       "      <td>9999174150226v5</td>\n",
       "      <td>rv:11.0</td>\n",
       "      <td>15</td>\n",
       "      <td>3529705</td>\n",
       "      <td>0</td>\n",
       "      <td>1970-06-15 19:51:17</td>\n",
       "      <td>20.000</td>\n",
       "      <td>S</td>\n",
       "    </tr>\n",
       "    <tr>\n",
       "      <th>117382</th>\n",
       "      <td>9999174150226v5</td>\n",
       "      <td>rv:11.0</td>\n",
       "      <td>15</td>\n",
       "      <td>3532261</td>\n",
       "      <td>0</td>\n",
       "      <td>1970-06-16 17:31:08</td>\n",
       "      <td>20.000</td>\n",
       "      <td>S</td>\n",
       "    </tr>\n",
       "    <tr>\n",
       "      <th>117383</th>\n",
       "      <td>9999174150226v5</td>\n",
       "      <td>rv:11.0</td>\n",
       "      <td>15</td>\n",
       "      <td>3535099</td>\n",
       "      <td>0</td>\n",
       "      <td>1970-06-17 16:53:05</td>\n",
       "      <td>30.000</td>\n",
       "      <td>S</td>\n",
       "    </tr>\n",
       "    <tr>\n",
       "      <th>117384</th>\n",
       "      <td>9999174150226v5</td>\n",
       "      <td>Trident/7.0</td>\n",
       "      <td>1</td>\n",
       "      <td>3075663</td>\n",
       "      <td>0</td>\n",
       "      <td>1970-01-22 17:13:14</td>\n",
       "      <td>20.000</td>\n",
       "      <td>S</td>\n",
       "    </tr>\n",
       "    <tr>\n",
       "      <th>117385</th>\n",
       "      <td>9999174150226v5</td>\n",
       "      <td>Windows</td>\n",
       "      <td>1</td>\n",
       "      <td>3034780</td>\n",
       "      <td>0</td>\n",
       "      <td>1970-01-14 02:31:04</td>\n",
       "      <td>50.000</td>\n",
       "      <td>S</td>\n",
       "    </tr>\n",
       "  </tbody>\n",
       "</table>\n",
       "<p>117386 rows × 8 columns</p>\n",
       "</div>"
      ],
      "text/plain": [
       "             AccountName        DeviceInfo  Weight  TransactionID  isFraud  \\\n",
       "0       10003555128226v5  S60 Build/MMB29M       3        3328484        0   \n",
       "1       10003555128226v5  S60 Build/MMB29M       3        3337343        0   \n",
       "2       10003555128226v5  S60 Build/MMB29M       3        3337365        0   \n",
       "3       10004529150162v6           Windows       3        3006707        0   \n",
       "4       10004529150162v6           Windows       3        3051248        0   \n",
       "...                  ...               ...     ...            ...      ...   \n",
       "117381   9999174150226v5           rv:11.0      15        3529705        0   \n",
       "117382   9999174150226v5           rv:11.0      15        3532261        0   \n",
       "117383   9999174150226v5           rv:11.0      15        3535099        0   \n",
       "117384   9999174150226v5       Trident/7.0       1        3075663        0   \n",
       "117385   9999174150226v5           Windows       1        3034780        0   \n",
       "\n",
       "                  TimeStep  AmountTransferred ServiceType  \n",
       "0      1970-04-08 13:23:35             39.394           C  \n",
       "1      1970-04-11 00:34:42             10.755           C  \n",
       "2      1970-04-11 00:40:15             19.093           C  \n",
       "3      1970-01-06 23:35:03             35.000           H  \n",
       "4      1970-01-17 20:58:38             25.000           H  \n",
       "...                    ...                ...         ...  \n",
       "117381 1970-06-15 19:51:17             20.000           S  \n",
       "117382 1970-06-16 17:31:08             20.000           S  \n",
       "117383 1970-06-17 16:53:05             30.000           S  \n",
       "117384 1970-01-22 17:13:14             20.000           S  \n",
       "117385 1970-01-14 02:31:04             50.000           S  \n",
       "\n",
       "[117386 rows x 8 columns]"
      ]
     },
     "execution_count": 3,
     "metadata": {},
     "output_type": "execute_result"
    }
   ],
   "source": [
    "df"
   ]
  },
  {
   "cell_type": "code",
   "execution_count": 4,
   "id": "7ae9db68",
   "metadata": {
    "pycharm": {
     "name": "#%%\n"
    }
   },
   "outputs": [],
   "source": [
    "nodes_st = df.ServiceType.unique()"
   ]
  },
  {
   "cell_type": "code",
   "execution_count": 5,
   "id": "cb34ca7e",
   "metadata": {
    "pycharm": {
     "name": "#%%\n"
    }
   },
   "outputs": [],
   "source": [
    "nodes_devices = df.DeviceInfo.unique()"
   ]
  },
  {
   "cell_type": "code",
   "execution_count": 6,
   "id": "30dfb228",
   "metadata": {
    "pycharm": {
     "name": "#%%\n"
    }
   },
   "outputs": [],
   "source": [
    "nodes_accounts = df.AccountName.unique()"
   ]
  },
  {
   "cell_type": "code",
   "execution_count": null,
   "id": "c076d840",
   "metadata": {
    "pycharm": {
     "name": "#%%\n"
    }
   },
   "outputs": [],
   "source": []
  }
 ],
 "metadata": {
  "kernelspec": {
   "display_name": "Python 3",
   "language": "python",
   "name": "python3"
  },
  "language_info": {
   "codemirror_mode": {
    "name": "ipython",
    "version": 3
   },
   "file_extension": ".py",
   "mimetype": "text/x-python",
   "name": "python",
   "nbconvert_exporter": "python",
   "pygments_lexer": "ipython3",
   "version": "3.9.2"
  }
 },
 "nbformat": 4,
 "nbformat_minor": 5
}