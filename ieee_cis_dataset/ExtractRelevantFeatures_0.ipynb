{
 "cells": [
  {
   "cell_type": "code",
   "execution_count": 1,
   "id": "32e73cf7",
   "metadata": {
    "pycharm": {
     "name": "#%%\n"
    }
   },
   "outputs": [],
   "source": [
    "import matplotlib.pyplot as plt\n",
    "import numpy as np\n",
    "import os\n",
    "import pandas as pd\n",
    "import sys"
   ]
  },
  {
   "cell_type": "markdown",
   "id": "18878a42",
   "metadata": {
    "pycharm": {
     "name": "#%% md\n"
    }
   },
   "source": [
    "# Extracting relevant data"
   ]
  },
  {
   "cell_type": "code",
   "execution_count": 2,
   "id": "c03ba986",
   "metadata": {
    "pycharm": {
     "name": "#%%\n"
    }
   },
   "outputs": [],
   "source": [
    "df_train_identity = pd.read_csv(\"data/train_identity.csv\")\n",
    "df_train_transaction = pd.read_csv(\"data/train_transaction.csv\")"
   ]
  },
  {
   "cell_type": "code",
   "execution_count": 11,
   "id": "b6f8104a",
   "metadata": {
    "pycharm": {
     "name": "#%%\n"
    }
   },
   "outputs": [],
   "source": [
    "meaningful_attributes_transactions = [\n",
    "    \"TransactionID\",\n",
    "    \"isFraud\",\n",
    "    \"TransactionDT\",\n",
    "    \"TransactionAmt\",\n",
    "    \"ProductCD\",\n",
    "    \"card1\",\n",
    "    \"card2\",\n",
    "    \"card3\",\n",
    "    \"card4\",\n",
    "    \"card5\",\n",
    "    \"card6\",\n",
    "    \"addr1\",\n",
    "    \"addr2\",\n",
    "    \"dist1\",\n",
    "    \"dist2\",\n",
    "    \"P_emaildomain\",\n",
    "    \"R_emaildomain\",\n",
    "]"
   ]
  },
  {
   "cell_type": "code",
   "execution_count": 10,
   "id": "e8d8655e",
   "metadata": {
    "pycharm": {
     "name": "#%%\n"
    }
   },
   "outputs": [],
   "source": [
    "meaningful_attributes_identity = [\"TransactionID\", \"DeviceType\", \"DeviceInfo\"]"
   ]
  },
  {
   "cell_type": "code",
   "execution_count": 12,
   "id": "3017ed4b",
   "metadata": {
    "pycharm": {
     "name": "#%%\n"
    }
   },
   "outputs": [],
   "source": [
    "df_train_identity = df_train_identity[meaningful_attributes_identity] \n",
    "df_train_transaction = df_train_transaction[meaningful_attributes_transactions]"
   ]
  },
  {
   "cell_type": "code",
   "execution_count": 36,
   "id": "f2aa174b",
   "metadata": {
    "pycharm": {
     "name": "#%%\n"
    }
   },
   "outputs": [
    {
     "name": "stdout",
     "output_type": "stream",
     "text": [
      "The cardinality of the transactions relation: \n",
      ">> 590540 records.\n",
      "The cardinality of the identity relation: \n",
      ">> 144233 records.\n",
      "The share of the original dataset that is available for the further analysis: \n",
      ">> 24.4%.\n"
     ]
    }
   ],
   "source": [
    "print(f\"\"\"The cardinality of the transactions relation: \n",
    ">> {df_train_transaction.shape[0]} records.\"\"\")\n",
    "print(f\"\"\"The cardinality of the identity relation: \n",
    ">> {df_train_identity.shape[0]} records.\"\"\")\n",
    "print(f\"\"\"The share of the original dataset that is available for the further analysis: \n",
    ">> {round(full_dataset.shape[0] / df_train_transaction.shape[0], 3) * 100}%.\"\"\")"
   ]
  },
  {
   "cell_type": "markdown",
   "id": "12a9733e",
   "metadata": {
    "pycharm": {
     "name": "#%% md\n"
    }
   },
   "source": [
    "### Saving the assembled dataset"
   ]
  },
  {
   "cell_type": "markdown",
   "id": "f9a68b48",
   "metadata": {
    "pycharm": {
     "name": "#%% md\n"
    }
   },
   "source": [
    "The produced dataset will be based on an operation of inner join between identity and transactions relations on an attribute 'TransactionID'"
   ]
  },
  {
   "cell_type": "code",
   "execution_count": 29,
   "id": "f998b982",
   "metadata": {
    "pycharm": {
     "name": "#%%\n"
    }
   },
   "outputs": [],
   "source": [
    "pd.merge(df_train_identity, df_train_transaction, \n",
    "         on=\"TransactionID\").to_csv(\"fraud_detection_dataset.csv\")"
   ]
  }
 ],
 "metadata": {
  "kernelspec": {
   "display_name": "Python 3",
   "language": "python",
   "name": "python3"
  },
  "language_info": {
   "codemirror_mode": {
    "name": "ipython",
    "version": 3
   },
   "file_extension": ".py",
   "mimetype": "text/x-python",
   "name": "python",
   "nbconvert_exporter": "python",
   "pygments_lexer": "ipython3",
   "version": "3.9.2"
  }
 },
 "nbformat": 4,
 "nbformat_minor": 5
}