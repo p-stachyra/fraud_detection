{
 "cells": [
  {
   "cell_type": "code",
   "execution_count": 1,
   "metadata": {
    "pycharm": {
     "name": "#%%\n"
    }
   },
   "outputs": [],
   "source": [
    "import numpy as np\n",
    "import matplotlib.pyplot as plt\n",
    "import pandas as pd\n",
    "import seaborn as sns"
   ]
  },
  {
   "cell_type": "code",
   "execution_count": null,
   "metadata": {
    "pycharm": {
     "name": "#%%\n"
    }
   },
   "outputs": [],
   "source": [
    "df_train_identity = pd.read_csv(\"data/train_identity.csv\")\n",
    "df_train_transaction = pd.read_csv(\"data/train_transaction.csv\")"
   ]
  },
  {
   "cell_type": "code",
   "execution_count": null,
   "metadata": {
    "pycharm": {
     "name": "#%%\n"
    }
   },
   "outputs": [],
   "source": [
    "df_train_identity.shape"
   ]
  },
  {
   "cell_type": "code",
   "execution_count": null,
   "metadata": {
    "pycharm": {
     "name": "#%%\n"
    }
   },
   "outputs": [],
   "source": [
    "df_train_transaction.shape"
   ]
  },
  {
   "cell_type": "code",
   "execution_count": null,
   "metadata": {
    "pycharm": {
     "name": "#%%\n"
    }
   },
   "outputs": [],
   "source": [
    "df_train_identity.head()"
   ]
  },
  {
   "cell_type": "code",
   "execution_count": null,
   "metadata": {
    "pycharm": {
     "name": "#%%\n"
    }
   },
   "outputs": [],
   "source": [
    "df_train_transaction = df_train_transaction[df_train_transaction.columns[:17]]\n",
    "df_train_transaction.head()"
   ]
  },
  {
   "cell_type": "markdown",
   "metadata": {
    "pycharm": {
     "name": "#%% md\n"
    }
   },
   "source": [
    "### Missing values"
   ]
  },
  {
   "cell_type": "code",
   "execution_count": null,
   "metadata": {
    "pycharm": {
     "name": "#%%\n"
    }
   },
   "outputs": [],
   "source": [
    "df_train_transaction.isnull().sum()"
   ]
  },
  {
   "cell_type": "code",
   "execution_count": null,
   "metadata": {
    "pycharm": {
     "name": "#%%\n"
    }
   },
   "outputs": [],
   "source": [
    "data = df_train_identity.isnull().sum().sort_values() / len(df_train_identity) * 100\n",
    "x_data = data[data > 0].index\n",
    "y_data = data[data > 0]"
   ]
  },
  {
   "cell_type": "code",
   "execution_count": null,
   "metadata": {
    "pycharm": {
     "name": "#%%\n"
    }
   },
   "outputs": [],
   "source": [
    "sns.set_theme(style=\"whitegrid\")\n",
    "plt.figure(figsize=(15,10))\n",
    "sns.barplot(x=x_data, y=y_data, color=\"lightblue\")\n",
    "#plt.title(\"Missing values for transaction identities\", fontsize=16)\n",
    "plt.xlabel(\"Attribute name\", fontsize=15)\n",
    "plt.ylabel(\"Percentage of missing values [%]\", fontsize=15)\n",
    "plt.xticks(rotation=45)\n",
    "plt.tight_layout()\n",
    "plt.savefig(\"missing_values_for_transaction_identities.png\")\n",
    "plt.show()"
   ]
  },
  {
   "cell_type": "code",
   "execution_count": null,
   "metadata": {
    "pycharm": {
     "name": "#%%\n"
    }
   },
   "outputs": [],
   "source": [
    "data = df_train_transaction.isnull().sum().sort_values() / len(df_train_transaction) * 100\n",
    "x_data = data[data > 0].index\n",
    "y_data = data[data > 0]\n",
    "\n",
    "sns.set_theme(style=\"whitegrid\")\n",
    "plt.figure(figsize=(15,10))\n",
    "sns.barplot(x=x_data, y=y_data, color=\"lightblue\")\n",
    "#plt.title(\"Missing values for transaction data\", fontsize=16)\n",
    "plt.xlabel(\"Attribute name\", fontsize=15)\n",
    "plt.ylabel(\"Percentage of missing values [%]\", fontsize=15)\n",
    "plt.xticks(rotation=45)\n",
    "plt.tight_layout()\n",
    "plt.savefig(\"missing_values_for_transaction_data.png\")\n",
    "plt.show()"
   ]
  },
  {
   "cell_type": "markdown",
   "metadata": {
    "pycharm": {
     "name": "#%% md\n"
    }
   },
   "source": [
    "## Transaction identity : creating device nodes"
   ]
  },
  {
   "cell_type": "markdown",
   "metadata": {
    "pycharm": {
     "name": "#%% md\n"
    }
   },
   "source": [
    "Get only those attributes which have less than 4000 missing values. Perform imputation of a character"
   ]
  },
  {
   "cell_type": "code",
   "execution_count": null,
   "metadata": {
    "pycharm": {
     "name": "#%%\n"
    }
   },
   "outputs": [],
   "source": [
    "identity_attributes = df_train_identity.isnull().sum().sort_values()[df_train_identity.isnull().sum().sort_values() < 4000].index\n",
    "device_nodes_features = df_train_identity[identity_attributes]\n",
    "device_nodes_features = device_nodes_features.dropna(axis=0, how=\"all\", subset=[\"id_38\", \"id_37\", \"id_36\", \"id_35\", \"id_15\", \"id_29\", \"id_28\", \"id_11\", \"id_02\", \"DeviceType\", \"id_31\"])"
   ]
  },
  {
   "cell_type": "markdown",
   "metadata": {
    "pycharm": {
     "name": "#%% md\n"
    }
   },
   "source": [
    "Again, drop the records which contain missing values in the attributes which allow for proper composition of node's identity"
   ]
  },
  {
   "cell_type": "code",
   "execution_count": null,
   "metadata": {
    "pycharm": {
     "name": "#%%\n"
    }
   },
   "outputs": [],
   "source": [
    "device_nodes_features.isnull().sum()"
   ]
  },
  {
   "cell_type": "markdown",
   "metadata": {
    "pycharm": {
     "name": "#%% md\n"
    }
   },
   "source": [
    "As the last resort, fill missing values with 0"
   ]
  },
  {
   "cell_type": "code",
   "execution_count": null,
   "metadata": {
    "pycharm": {
     "name": "#%%\n"
    }
   },
   "outputs": [],
   "source": [
    "device_nodes_features = device_nodes_features.fillna(0)"
   ]
  },
  {
   "cell_type": "code",
   "execution_count": null,
   "metadata": {
    "pycharm": {
     "name": "#%%\n"
    }
   },
   "outputs": [],
   "source": [
    "device_nodes_features"
   ]
  },
  {
   "cell_type": "code",
   "execution_count": null,
   "metadata": {
    "pycharm": {
     "name": "#%%\n"
    }
   },
   "outputs": [],
   "source": [
    "numeric_attributes = []\n",
    "for col in df_train_identity[identity_attributes].columns:\n",
    "    if df_train_identity[identity_attributes][col].dtypes == \"object\":\n",
    "        print(df_train_identity[identity_attributes][col].str[0])\n",
    "    else:\n",
    "        numeric_attributes.append(col)"
   ]
  },
  {
   "cell_type": "code",
   "execution_count": null,
   "metadata": {
    "pycharm": {
     "name": "#%%\n"
    }
   },
   "outputs": [],
   "source": [
    "def retrieveDeviceNode(device_nodes_features):\n",
    "\n",
    "    numeric_attribues = []\n",
    "    string_attributes = []\n",
    "\n",
    "    unique_devices = device_nodes_features.drop_duplicates()\n",
    "\n",
    "    for col in unique_devices.columns:\n",
    "        if unique_devices[col].dtypes == \"object\":\n",
    "            string_attributes.append(col)\n",
    "        else:\n",
    "            numeric_attribues.append(col)\n",
    "\n",
    "    numeric_part = unique_devices[numeric_attribues].astype(\"string\")\n",
    "    numeric_part = numeric_part.agg(\"\".join, axis=1)\n",
    "\n",
    "    char_part = []\n",
    "    for attr in string_attributes:\n",
    "        char_part.append(unique_devices[attr].str[0])\n",
    "\n",
    "    result = numeric_part\n",
    "    for char_signature in char_part:\n",
    "        result += char_signature\n",
    "\n",
    "    return pd.concat([pd.DataFrame(result), unique_devices[[\"TransactionID\"]]], axis=1)"
   ]
  },
  {
   "cell_type": "code",
   "execution_count": null,
   "metadata": {
    "pycharm": {
     "name": "#%%\n"
    }
   },
   "outputs": [],
   "source": [
    "device_nodes = retrieveDeviceNode(device_nodes_features=device_nodes_features)\n",
    "device_nodes.shape"
   ]
  },
  {
   "cell_type": "code",
   "execution_count": null,
   "metadata": {
    "pycharm": {
     "name": "#%%\n"
    }
   },
   "outputs": [],
   "source": [
    "df_train_transaction[\"TransactionDT\"]"
   ]
  },
  {
   "cell_type": "code",
   "execution_count": null,
   "metadata": {
    "pycharm": {
     "name": "#%%\n"
    }
   },
   "outputs": [],
   "source": [
    "grouped = df_train_transaction[df_train_transaction[\"TransactionDT\"] < 3701882].groupby(\"TransactionDT\")\n",
    "plt.figure(figsize=(15,10))\n",
    "sns.scatterplot(grouped.isFraud.apply(sum))\n",
    "plt.title(\"The frequencies of fraudulent transactions throughout time\", fontsize=15)\n",
    "\n",
    "plt.xlabel(\"Time Step\")\n",
    "plt.ylabel(\"Number of fraudulent transactions\")\n",
    "\n",
    "plt.axhline(y=np.mean(grouped.isFraud.apply(sum)), label = \"Mean\", color='r', linestyle='-')\n",
    "plt.axhline(y=np.median(grouped.isFraud.apply(sum)), label = \"Median\", color='black', linestyle=\"dotted\")\n",
    "\n",
    "plt.legend(loc =\"upper right\")\n",
    "\n",
    "#plt.savefig(\"Fraudulent_transactions_in_time.PNG\")\n",
    "plt.show()"
   ]
  },
  {
   "cell_type": "markdown",
   "metadata": {
    "pycharm": {
     "name": "#%% md\n"
    }
   },
   "source": [
    "### Fraudulent transactions in each of the categorical variables"
   ]
  },
  {
   "cell_type": "code",
   "execution_count": null,
   "metadata": {
    "pycharm": {
     "name": "#%%\n"
    }
   },
   "outputs": [],
   "source": [
    "df_train_transaction.groupby(\"TransactionDT\")[\"isFraud\"].value_counts()"
   ]
  },
  {
   "cell_type": "code",
   "execution_count": null,
   "metadata": {
    "pycharm": {
     "name": "#%%\n"
    }
   },
   "outputs": [],
   "source": [
    "entire_dataset = pd.merge(df_train_transaction, df_train_identity, on=\"TransactionID\")"
   ]
  },
  {
   "cell_type": "code",
   "execution_count": null,
   "metadata": {
    "pycharm": {
     "name": "#%%\n"
    }
   },
   "outputs": [],
   "source": [
    "entire_dataset.head()"
   ]
  },
  {
   "cell_type": "code",
   "execution_count": null,
   "metadata": {
    "pycharm": {
     "name": "#%%\n"
    }
   },
   "outputs": [],
   "source": [
    "entire_dataset.shape"
   ]
  },
  {
   "cell_type": "code",
   "execution_count": null,
   "metadata": {
    "pycharm": {
     "name": "#%%\n"
    }
   },
   "outputs": [],
   "source": [
    "def getFraudFrequencies(df, attribute):\n",
    "    fraud_frequencies = pd.DataFrame(df.groupby(attribute)[\"isFraud\"].value_counts())\n",
    "    fraud_frequencies.columns = [\"count\"]\n",
    "    fraud_frequencies = fraud_frequencies.reset_index()\n",
    "    return fraud_frequencies"
   ]
  },
  {
   "cell_type": "code",
   "execution_count": null,
   "metadata": {
    "pycharm": {
     "name": "#%%\n"
    }
   },
   "outputs": [],
   "source": [
    "getFraudFrequencies(entire_dataset, \"ProductCD\")"
   ]
  },
  {
   "cell_type": "code",
   "execution_count": null,
   "metadata": {
    "pycharm": {
     "name": "#%%\n"
    }
   },
   "outputs": [],
   "source": [
    "getFraudFrequencies(entire_dataset, \"DeviceType\")"
   ]
  },
  {
   "cell_type": "code",
   "execution_count": null,
   "metadata": {
    "pycharm": {
     "name": "#%%\n"
    }
   },
   "outputs": [],
   "source": [
    "getFraudFrequencies(entire_dataset, \"DeviceInfo\").sort_values(\"count\", ascending=False)"
   ]
  },
  {
   "cell_type": "code",
   "execution_count": null,
   "metadata": {
    "pycharm": {
     "name": "#%%\n"
    }
   },
   "outputs": [],
   "source": [
    "getFraudFrequencies(entire_dataset, \"R_emaildomain\").sort_values(\"count\", ascending=False)"
   ]
  },
  {
   "cell_type": "code",
   "execution_count": null,
   "metadata": {
    "pycharm": {
     "name": "#%%\n"
    }
   },
   "outputs": [],
   "source": [
    "sns.set_theme(style=\"whitegrid\")\n",
    "plt.figure(figsize=(8,7))\n",
    "sns.catplot(x=\"isFraud\", y=\"TransactionAmt\", data=entire_dataset, showfliers=False, kind=\"box\")\n",
    "plt.title(\"Amounts distribution for non-fraudulent and fraudulent transactions\", fontsize=14)\n",
    "plt.xlabel(\"\\nTransaction category\")\n",
    "plt.ylabel(\"Transaction amount\")\n",
    "plt.xticks([0, 1], [\"licit\", \"illicit\"])\n",
    "plt.show()"
   ]
  },
  {
   "cell_type": "code",
   "execution_count": null,
   "metadata": {
    "pycharm": {
     "name": "#%%\n"
    }
   },
   "outputs": [],
   "source": [
    "sns.set_theme(style=\"whitegrid\")\n",
    "plt.figure(figsize=(8,7))\n",
    "sns.catplot(x=\"isFraud\", y=\"TransactionAmt\", data=entire_dataset, showfliers=True, kind=\"box\")\n",
    "plt.title(\"Amounts distribution for non-fraudulent and fraudulent transactions\", fontsize=14)\n",
    "plt.xlabel(\"\\nTransaction category\")\n",
    "plt.ylabel(\"Transaction amount\")\n",
    "plt.xticks([0, 1], [\"licit\", \"illicit\"])\n",
    "plt.show()"
   ]
  },
  {
   "cell_type": "code",
   "execution_count": null,
   "metadata": {
    "pycharm": {
     "name": "#%%\n"
    }
   },
   "outputs": [],
   "source": []
  }
 ],
 "metadata": {
  "kernelspec": {
   "display_name": "Python 3 (ipykernel)",
   "language": "python",
   "name": "python3"
  },
  "language_info": {
   "codemirror_mode": {
    "name": "ipython",
    "version": 3
   },
   "file_extension": ".py",
   "mimetype": "text/x-python",
   "name": "python",
   "nbconvert_exporter": "python",
   "pygments_lexer": "ipython3",
   "version": "3.9.5"
  }
 },
 "nbformat": 4,
 "nbformat_minor": 1
}
