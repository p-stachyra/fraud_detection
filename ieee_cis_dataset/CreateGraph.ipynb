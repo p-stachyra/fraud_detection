{
 "cells": [
  {
   "cell_type": "code",
   "execution_count": 19,
   "id": "00f43bd7",
   "metadata": {
    "pycharm": {
     "name": "#%%\n"
    }
   },
   "outputs": [],
   "source": [
    "import matplotlib.pyplot as plt\n",
    "import networkx as nx\n",
    "import numpy as np\n",
    "import os\n",
    "import pandas as pd"
   ]
  },
  {
   "cell_type": "markdown",
   "id": "81d132e2",
   "metadata": {
    "pycharm": {
     "name": "#%% md\n"
    }
   },
   "source": [
    "# Load the dataset"
   ]
  },
  {
   "cell_type": "code",
   "execution_count": 5,
   "id": "9470e06a",
   "metadata": {
    "pycharm": {
     "name": "#%%\n"
    }
   },
   "outputs": [],
   "source": [
    "data_nodes = pd.read_csv(\"node_oriented_dataset.csv\")"
   ]
  },
  {
   "cell_type": "markdown",
   "id": "a156b2dd",
   "metadata": {
    "pycharm": {
     "name": "#%% md\n"
    }
   },
   "source": [
    "# Assign Weigths"
   ]
  },
  {
   "cell_type": "code",
   "execution_count": 6,
   "id": "3b580e10",
   "metadata": {
    "pycharm": {
     "name": "#%%\n"
    }
   },
   "outputs": [],
   "source": [
    "account_to_device = pd.DataFrame(data_nodes.groupby([\"AccountName\"])[\"DeviceInfo\"].value_counts())\n",
    "account_to_device.columns=[\"weight\"]"
   ]
  },
  {
   "cell_type": "code",
   "execution_count": 7,
   "id": "d15f57f9",
   "metadata": {
    "pycharm": {
     "name": "#%%\n"
    }
   },
   "outputs": [],
   "source": [
    "account_to_device = account_to_device.reset_index()"
   ]
  },
  {
   "cell_type": "code",
   "execution_count": 8,
   "id": "f9300087",
   "metadata": {
    "pycharm": {
     "name": "#%%\n"
    }
   },
   "outputs": [],
   "source": [
    "merged = pd.merge(account_to_device, \n",
    "                  data_nodes, \n",
    "                  on=[\"AccountName\", \"DeviceInfo\"])"
   ]
  },
  {
   "cell_type": "markdown",
   "id": "db876486",
   "metadata": {
    "pycharm": {
     "name": "#%% md\n"
    }
   },
   "source": [
    "# Save the relation to the disk"
   ]
  },
  {
   "cell_type": "code",
   "execution_count": 9,
   "id": "98354b47",
   "metadata": {
    "pycharm": {
     "name": "#%%\n"
    }
   },
   "outputs": [],
   "source": [
    "merged[[\"AccountName\", \n",
    "        \"DeviceInfo\", \n",
    "        \"weight\", \n",
    "        \"TransactionID\", \n",
    "        \"isFraud\", \n",
    "        \"TransactionDT\", \n",
    "        \"TransactionAmt\", \n",
    "        \"ProductCD\"]].to_csv(\"weights_account_to_device.csv\")"
   ]
  },
  {
   "cell_type": "code",
   "execution_count": null,
   "outputs": [],
   "source": [
    "def getData(node_oriented_df):\n",
    "\n",
    "    # obtain weights based on usage frequencies\n",
    "    account_to_device = pd.DataFrame(data_nodes.groupby([\"AccountName\"])[\"DeviceInfo\"].value_counts())\n",
    "\n",
    "    # assign weight attribute\n",
    "    account_to_device.columns = [\"weight\"]\n",
    "    account_to_device = account_to_device.reset_index()\n",
    "\n",
    "    # merge weights data and the already available accounts data\n",
    "    merged = pd.merge(account_to_device,\n",
    "                      data_nodes,\n",
    "                      on=[\"AccountName\", \"DeviceInfo\"])\n",
    "\n",
    "    # save the data frame to the disk\n",
    "    merged[[\"AccountName\",\n",
    "            \"DeviceInfo\",\n",
    "            \"weight\",\n",
    "            \"TransactionID\",\n",
    "            \"isFraud\",\n",
    "            \"TransactionDT\",\n",
    "            \"TransactionAmt\",\n",
    "            \"ProductCD\"]].to_csv(\"weights_account_to_device.csv\")\n",
    "\n",
    "    return merged\n"
   ],
   "metadata": {
    "collapsed": false,
    "pycharm": {
     "name": "#%%\n"
    }
   }
  },
  {
   "cell_type": "code",
   "execution_count": 20,
   "outputs": [],
   "source": [
    "def getNodesData(data):\n",
    "    accounts = data[\"AccountName\"].unique()\n",
    "    devices = data[\"DeviceInfo\"].unique()\n",
    "    nodes = list(accounts)\n",
    "    labels = []\n",
    "    for account in accounts:\n",
    "        labels.append(\"node\")\n",
    "    for device in devices:\n",
    "        labels.append(\"device\")\n",
    "        nodes.append(device)\n",
    "\n",
    "    header = [\"node\", \"label\"]\n",
    "    nodes_info = pd.DataFrame([nodes, labels]).T\n",
    "    nodes_info.columns = header\n",
    "\n",
    "    return nodes_info"
   ],
   "metadata": {
    "collapsed": false,
    "pycharm": {
     "name": "#%%\n"
    }
   }
  },
  {
   "cell_type": "code",
   "execution_count": 21,
   "outputs": [],
   "source": [
    "def getEdgesData(data):\n",
    "    edges_data = data[[\"AccountName\", \"weight\", \"TransactionID\", \"isFraud\", \"TransactionDT\", \"TransactionAmt\", \"ProductCD\", \"DeviceInfo\"]]\n",
    "    edges_data = edges_data.assign(Type=\"TRANSACTION\")\n",
    "    return edges_data"
   ],
   "metadata": {
    "collapsed": false,
    "pycharm": {
     "name": "#%%\n"
    }
   }
  },
  {
   "cell_type": "code",
   "execution_count": null,
   "outputs": [],
   "source": [
    "def saveEdgesData(data):\n",
    "\n",
    "    # create exports directory to copy-paste its contents to Neo4j database folder\n",
    "    if not os.path.isdir(\"export\"):\n",
    "        os.mkdir(\"export\")\n",
    "\n",
    "    # get the data related to edges\n",
    "    edges_data = getEdgesData(data)\n",
    "\n",
    "    # save edges data to a CSV file with no header nor index\n",
    "    edges_data.to_csv(\"export/edges_data.csv\", header=False, index=False)\n",
    "\n",
    "    # save a CSV header file\n",
    "    with open(\"export/edges_header.csv\", 'w') as fh:\n",
    "        fh.write(\":START_ID,weight:int,TransactionID,isFraud,TransactionDT,TransactionAmt,ProductCD,:END_ID,:TYPE\")\n",
    "\n",
    "    # upon successful exit, return 0\n",
    "    return 0"
   ],
   "metadata": {
    "collapsed": false,
    "pycharm": {
     "name": "#%%\n"
    }
   }
  },
  {
   "cell_type": "code",
   "execution_count": null,
   "outputs": [],
   "source": [
    "def saveNodesData(data):\n",
    "\n",
    "    # create exports directory to copy-paste its contents to Neo4j database folder\n",
    "    if not os.path.isdir(\"export\"):\n",
    "        os.mkdir(\"export\")\n",
    "\n",
    "    # get the data related to nodes\n",
    "    nodes_data = getNodesData(data)\n",
    "\n",
    "    # save edges data to a CSV file with no header nor index\n",
    "    nodes_data.to_csv(\"export/nodes_data.csv\", header=False, index=False)\n",
    "\n",
    "    # save a CSV header file\n",
    "    with open(\"export/nodes_header.csv\", 'w') as fh:\n",
    "        fh.write(\"id:ID,label:LABEL\")\n",
    "\n",
    "    # upon successful exit, return 0\n",
    "    return 0"
   ],
   "metadata": {
    "collapsed": false,
    "pycharm": {
     "name": "#%%\n"
    }
   }
  },
  {
   "cell_type": "code",
   "execution_count": 22,
   "outputs": [],
   "source": [
    "nodes_data = getNodesData(merged)"
   ],
   "metadata": {
    "collapsed": false,
    "pycharm": {
     "name": "#%%\n"
    }
   }
  },
  {
   "cell_type": "code",
   "execution_count": 23,
   "outputs": [],
   "source": [
    "edges_data = getEdgesData(merged)"
   ],
   "metadata": {
    "collapsed": false,
    "pycharm": {
     "name": "#%%\n"
    }
   }
  },
  {
   "cell_type": "code",
   "execution_count": 24,
   "outputs": [],
   "source": [
    "if not os.path.isdir(\"export\"):\n",
    "    os.mkdir(\"export\")\n",
    "nodes_data.to_csv(\"export/nodes_data.csv\", header=False, index=False)\n",
    "with open(\"export/nodes_header.csv\", 'w') as fh:\n",
    "    fh.write(\"id:ID,label:LABEL\")"
   ],
   "metadata": {
    "collapsed": false,
    "pycharm": {
     "name": "#%%\n"
    }
   }
  },
  {
   "cell_type": "code",
   "execution_count": 25,
   "outputs": [],
   "source": [
    "edges_data.to_csv(\"export/edges_data.csv\", header=False, index=False)\n",
    "with open(\"export/edges_header.csv\", 'w') as fh:\n",
    "    fh.write(\":START_ID,weight:int,TransactionID,isFraud,TransactionDT,TransactionAmt,ProductCD,:END_ID,:TYPE\")"
   ],
   "metadata": {
    "collapsed": false,
    "pycharm": {
     "name": "#%%\n"
    }
   }
  },
  {
   "cell_type": "markdown",
   "id": "d9db48c1",
   "metadata": {
    "pycharm": {
     "name": "#%% md\n"
    }
   },
   "source": [
    "# Creating the graph"
   ]
  },
  {
   "cell_type": "code",
   "execution_count": null,
   "outputs": [],
   "source": [
    "import os\n",
    "import pandas as pd\n",
    "\n",
    "\n",
    "def buildManager(path_edges, path_features, path_classes, time_step=None):\n",
    "\n",
    "    data_edges = pd.read_csv(path_edges)\n",
    "    data_features = pd.read_csv(path_features, header=None)\n",
    "    data_classes = pd.read_csv(path_classes)\n",
    "\n",
    "    if time_step is None:\n",
    "        nodes = extractAllTimestepsNodes(data_features=data_features)\n",
    "        createNodesHeaderFile(nodes_header=\"id:ID,class:int,label:LABEL\", output_directory=\"../export_all_timesteps\")\n",
    "        createNodesDataFile(data_classes=data_classes, nodes_timestamp_x=nodes,\n",
    "                            output_directory=\"../export_all_timesteps\")\n",
    "        edgelist = data_edges\n",
    "        createEdgesHeaderFile(edges_header=\":START_ID,cost:int,:END_ID,:TYPE\", output_directory=\"../export_all_timesteps\")\n",
    "        createEdgesDataFile(edgelist, output_directory=\"../export_all_timesteps\")\n",
    "\n",
    "    else:\n",
    "        nodes_timestep = extractTimestepNodes(data_features=data_features, timestep=time_step)\n",
    "\n",
    "        createNodesHeaderFile(nodes_header=\"id:ID,class:int,label:LABEL\",\n",
    "                              output_directory=f\"../export_timestep_{time_step}\")\n",
    "\n",
    "        createNodesDataFile(data_classes=data_classes,\n",
    "                            nodes_timestamp_x=nodes_timestep,\n",
    "                            output_directory=f\"../export_timestep_{time_step}\")\n",
    "\n",
    "        edgelist_timestep = getTimestepEdgelist(nodes_timestep_x=nodes_timestep, data_edges=data_edges)\n",
    "        createEdgesHeaderFile(edges_header=\":START_ID,cost:int,:END_ID,:TYPE\",\n",
    "                              output_directory=f\"../export_timestep_{time_step}\")\n",
    "\n",
    "        createEdgesDataFile(edgelist_timestep,\n",
    "                            output_directory=f\"../export_timestep_{time_step}\")\n",
    "\n",
    "    return 0\n",
    "\n",
    "\n",
    "def extractAllTimestepsNodes(data_features):\n",
    "    nodes_timestep_x = data_features[\"AccountName\"]\n",
    "    nodes_timestep_x = pd.DataFrame(nodes_timestep_x)\n",
    "    nodes_timestep_x.columns = [\"AccountName\"]\n",
    "    return nodes_timestep_x\n",
    "\n",
    "\n",
    "def extractTimestepNodes(data_features, timestep=1):\n",
    "    nodes_timestep_x = data_features[\"TransactionDT\" == timestep][\"AccountName\"]\n",
    "    nodes_timestep_x = pd.DataFrame(nodes_timestep_x)\n",
    "    nodes_timestep_x.columns = [\"AccountName\"]\n",
    "    return nodes_timestep_x\n",
    "\n",
    "\n",
    "def getTimestepEdgelist(nodes_timestep_x, data_edges):\n",
    "    # make sure that the transactions exist in a time step\n",
    "    # select only those records which transaction IDs exist in timestep1 list\n",
    "    nodes_timestep_x = nodes_timestep_x[\"AccountName\"].unique()\n",
    "    accounts_timestep_x = []\n",
    "    devices_timestep_x = []\n",
    "    index = 0\n",
    "    for i in range(len(data_edges)):\n",
    "        index += 1\n",
    "        print(f\"Progress: {index} / {len(data_edges)}\", end='\\r')\n",
    "\n",
    "        if (data_edges.txId1.iloc[i] in nodes_timestep_x) & (data_edges.txId2.iloc[i] in nodes_timestep_x):\n",
    "            txId1_timestep_x.append(data_edges.txId1.iloc[i])\n",
    "            txId2_timestep_x.append(data_edges.txId2.iloc[i])\n",
    "\n",
    "    data_edges_timestep_x = pd.DataFrame([txId1_timestep_x, txId2_timestep_x]).T\n",
    "    data_edges_timestep_x.columns = [\"txId1\", \"txId2\"]\n",
    "\n",
    "    return data_edges_timestep_x\n",
    "\n",
    "\n",
    "def createNodesHeaderFile(nodes_header, output_directory=\"export\"):\n",
    "    if not os.path.isdir(output_directory):\n",
    "        os.mkdir(output_directory)\n",
    "\n",
    "    with open(f\"{output_directory}/nodes_header.csv\", 'w') as fh:\n",
    "        fh.write(nodes_header)\n",
    "\n",
    "    return 0\n",
    "\n",
    "\n",
    "def createNodesDataFile(data_classes, nodes_timestamp_x, output_directory=\"export\"):\n",
    "\n",
    "    data_classes_timestep_x = pd.merge(data_classes, nodes_timestamp_x, on=\"txId\")\n",
    "    data_classes_timestep_x[\"class\"] = data_classes_timestep_x[\"class\"].replace({\"unknown\" : 3}).astype(\"uint8\")\n",
    "    data_classes_timestep_x = data_classes_timestep_x.assign(label=\"node\")\n",
    "    data_classes_timestep_x.to_csv(f\"{output_directory}/nodes_data.csv\", header=False, index=False)\n",
    "\n",
    "    return 0\n",
    "\n",
    "\n",
    "def createEdgesHeaderFile(edges_header, output_directory=\"export\"):\n",
    "    if not os.path.isdir(output_directory):\n",
    "        os.mkdir(output_directory)\n",
    "\n",
    "    with open(f\"{output_directory}/edges_header.csv\", 'w') as fh:\n",
    "        fh.write(edges_header)\n",
    "\n",
    "    return 0\n",
    "\n",
    "\n",
    "def createEdgesDataFile(edgelist_timestep_x, output_directory=\"export\"):\n",
    "    # for obtaining relationship properties, the edge properties must be added using the data from the edgelist\n",
    "    # the properties must be between START ID and END ID\n",
    "    edges_timestep_x = edgelist_timestep_x[[\"txId1\"]]\n",
    "    edges_timestep_x = edges_timestep_x.assign(cost=1)\n",
    "    edges_timestep_x = edges_timestep_x.assign(txId2=edgelist_timestep_x[\"txId2\"])\n",
    "    edges_timestep_x = edges_timestep_x.assign(Type=\"TRANSACTION\")\n",
    "    edges_timestep_x.to_csv(f\"{output_directory}/edges_data.csv\", header=False, index=False)\n",
    "\n",
    "    return 0\n"
   ],
   "metadata": {
    "collapsed": false,
    "pycharm": {
     "name": "#%%\n"
    }
   }
  },
  {
   "cell_type": "code",
   "execution_count": null,
   "outputs": [],
   "source": [
    "nodes_header = \"\""
   ],
   "metadata": {
    "collapsed": false,
    "pycharm": {
     "name": "#%%\n"
    }
   }
  },
  {
   "cell_type": "code",
   "execution_count": 14,
   "id": "7c0a7fe1",
   "metadata": {
    "pycharm": {
     "name": "#%%\n"
    }
   },
   "outputs": [],
   "source": [
    "accounts_devices_weight = merged.drop_duplicates(subset=[\"AccountName\", \"DeviceInfo\"])[[\"AccountName\", \"DeviceInfo\", \"weight\"]]"
   ]
  },
  {
   "cell_type": "code",
   "execution_count": 15,
   "id": "062ebf4e",
   "metadata": {
    "pycharm": {
     "name": "#%%\n"
    }
   },
   "outputs": [
    {
     "data": {
      "text/html": [
       "<div>\n",
       "<style scoped>\n",
       "    .dataframe tbody tr th:only-of-type {\n",
       "        vertical-align: middle;\n",
       "    }\n",
       "\n",
       "    .dataframe tbody tr th {\n",
       "        vertical-align: top;\n",
       "    }\n",
       "\n",
       "    .dataframe thead th {\n",
       "        text-align: right;\n",
       "    }\n",
       "</style>\n",
       "<table border=\"1\" class=\"dataframe\">\n",
       "  <thead>\n",
       "    <tr style=\"text-align: right;\">\n",
       "      <th></th>\n",
       "      <th>AccountName</th>\n",
       "      <th>DeviceInfo</th>\n",
       "      <th>weight</th>\n",
       "    </tr>\n",
       "  </thead>\n",
       "  <tbody>\n",
       "    <tr>\n",
       "      <th>0</th>\n",
       "      <td>10003555128226v5</td>\n",
       "      <td>S60 Build/MMB29M</td>\n",
       "      <td>3</td>\n",
       "    </tr>\n",
       "    <tr>\n",
       "      <th>3</th>\n",
       "      <td>10004529150162v6</td>\n",
       "      <td>Windows</td>\n",
       "      <td>3</td>\n",
       "    </tr>\n",
       "    <tr>\n",
       "      <th>6</th>\n",
       "      <td>10004529150162v6</td>\n",
       "      <td>iOS Device</td>\n",
       "      <td>3</td>\n",
       "    </tr>\n",
       "    <tr>\n",
       "      <th>9</th>\n",
       "      <td>10004529150162v6</td>\n",
       "      <td>Trident/7.0</td>\n",
       "      <td>2</td>\n",
       "    </tr>\n",
       "    <tr>\n",
       "      <th>11</th>\n",
       "      <td>10004529150162v6</td>\n",
       "      <td>MacOS</td>\n",
       "      <td>1</td>\n",
       "    </tr>\n",
       "    <tr>\n",
       "      <th>...</th>\n",
       "      <td>...</td>\n",
       "      <td>...</td>\n",
       "      <td>...</td>\n",
       "    </tr>\n",
       "    <tr>\n",
       "      <th>117367</th>\n",
       "      <td>9995479150166v5</td>\n",
       "      <td>Trident/7.0</td>\n",
       "      <td>1</td>\n",
       "    </tr>\n",
       "    <tr>\n",
       "      <th>117368</th>\n",
       "      <td>9995479150166v5</td>\n",
       "      <td>Windows</td>\n",
       "      <td>1</td>\n",
       "    </tr>\n",
       "    <tr>\n",
       "      <th>117369</th>\n",
       "      <td>9999174150226v5</td>\n",
       "      <td>rv:11.0</td>\n",
       "      <td>15</td>\n",
       "    </tr>\n",
       "    <tr>\n",
       "      <th>117384</th>\n",
       "      <td>9999174150226v5</td>\n",
       "      <td>Trident/7.0</td>\n",
       "      <td>1</td>\n",
       "    </tr>\n",
       "    <tr>\n",
       "      <th>117385</th>\n",
       "      <td>9999174150226v5</td>\n",
       "      <td>Windows</td>\n",
       "      <td>1</td>\n",
       "    </tr>\n",
       "  </tbody>\n",
       "</table>\n",
       "<p>25984 rows × 3 columns</p>\n",
       "</div>"
      ],
      "text/plain": [
       "             AccountName        DeviceInfo  weight\n",
       "0       10003555128226v5  S60 Build/MMB29M       3\n",
       "3       10004529150162v6           Windows       3\n",
       "6       10004529150162v6        iOS Device       3\n",
       "9       10004529150162v6       Trident/7.0       2\n",
       "11      10004529150162v6             MacOS       1\n",
       "...                  ...               ...     ...\n",
       "117367   9995479150166v5       Trident/7.0       1\n",
       "117368   9995479150166v5           Windows       1\n",
       "117369   9999174150226v5           rv:11.0      15\n",
       "117384   9999174150226v5       Trident/7.0       1\n",
       "117385   9999174150226v5           Windows       1\n",
       "\n",
       "[25984 rows x 3 columns]"
      ]
     },
     "execution_count": 15,
     "metadata": {},
     "output_type": "execute_result"
    }
   ],
   "source": [
    "accounts_devices_weight"
   ]
  },
  {
   "cell_type": "code",
   "execution_count": 68,
   "id": "edaa874d",
   "metadata": {
    "pycharm": {
     "name": "#%%\n"
    }
   },
   "outputs": [],
   "source": [
    "graphtype = nx.Graph()\n",
    "graph = nx.from_pandas_edgelist(merged, source=\"AccountName\", target=\"DeviceInfo\",\n",
    "                                             edge_attr=True, create_using=graphtype)"
   ]
  },
  {
   "cell_type": "code",
   "execution_count": 70,
   "id": "4aba3599",
   "metadata": {
    "pycharm": {
     "name": "#%%\n"
    }
   },
   "outputs": [],
   "source": [
    "# plt.figure(figsize=(15,10))\n",
    "# nx.draw(graph)"
   ]
  },
  {
   "cell_type": "code",
   "execution_count": 71,
   "id": "7d2785b6",
   "metadata": {
    "pycharm": {
     "name": "#%%\n"
    }
   },
   "outputs": [],
   "source": [
    "# from pyvis.network import Network\n",
    "\n",
    "# nt = Network(\"2000px\", \"2000px\", bgcolor=\"#222222\", font_color=\"white\")\n",
    "# nt.from_nx(graph)\n",
    "# nt.show(\"test.html\")"
   ]
  },
  {
   "cell_type": "code",
   "execution_count": 72,
   "id": "3004dc7c",
   "metadata": {
    "pycharm": {
     "name": "#%%\n"
    }
   },
   "outputs": [],
   "source": [
    "# edge_colors = ['r' if attrs[\"isFraud\"] else 'b' for attrs in graph.edges.values()]\n",
    "# edge_widths = [1 if attrs[\"weight\"] else 5 for attrs in graph.edges.values()]"
   ]
  },
  {
   "cell_type": "code",
   "execution_count": 73,
   "id": "2c24785c",
   "metadata": {
    "pycharm": {
     "name": "#%%\n"
    }
   },
   "outputs": [],
   "source": [
    "# plt.figure(figsize=(20,20))\n",
    "# plt.title(f\"Subgraph: component number 1\\nComponent size: {graph.size()}\", fontsize=20)\n",
    "# nx.draw(graph, with_labels=True, edge_color=edge_colors, width=edge_widths)"
   ]
  },
  {
   "cell_type": "code",
   "execution_count": null,
   "id": "c7b05fba",
   "metadata": {
    "pycharm": {
     "name": "#%%\n"
    }
   },
   "outputs": [],
   "source": [
    "# AccountName:ID, P_emaildomain\n",
    "# DeviceInfo:ID\n",
    "\n",
    "# :START_ID,:END_ID, weight:long, TransactionID:long, DeviceType, isFraud:long, TransactionDT:long, TransactionAmt:double, :TYPE, card1:double, card2:double, card3:double, card4:double, card5:double, card6:double, addr1, addr2, dist1, dist2, P_emaildomain, R_emaildomain:TYPE"
   ]
  },
  {
   "cell_type": "code",
   "execution_count": 62,
   "id": "8e5b2279",
   "metadata": {
    "pycharm": {
     "name": "#%%\n"
    }
   },
   "outputs": [],
   "source": [
    "# pd.Series(np.array(merged[\"AccountName\"].unique())).to_csv(\"neo4j_csv_files/source_nodes.csv\", index=False, header=False)\n",
    "# pd.Series(np.array(merged[\"DeviceInfo\"].unique())).to_csv(\"neo4j_csv_files/destination_nodes.csv\", index=False, header=False)\n",
    "# merged.to_csv(\"neo4j_csv_files/edge_properties.csv\", index=False, header=False)"
   ]
  },
  {
   "cell_type": "code",
   "execution_count": 74,
   "id": "bb395f90",
   "metadata": {
    "pycharm": {
     "name": "#%%\n"
    }
   },
   "outputs": [],
   "source": [
    "components = sorted(nx.connected_components(graph), key=len, reverse=True)\n",
    "sub_graph = graph.subgraph(components[0])\n",
    "degree_distribution = nx.degree(graph)\n",
    "nodes = []\n",
    "degree_scores = []\n",
    "for d in list(degree_distribution):\n",
    "    nodes.append(d[0])\n",
    "    degree_scores.append(d[1])\n",
    "\n",
    "degree_dist = pd.DataFrame(nodes, degree_scores).reset_index()\n",
    "degree_dist.columns = [\"degree\", \"node\"]"
   ]
  },
  {
   "cell_type": "code",
   "execution_count": 76,
   "id": "8987f2d9",
   "metadata": {
    "pycharm": {
     "name": "#%%\n"
    }
   },
   "outputs": [],
   "source": [
    "# nx.draw(sub_graph)"
   ]
  },
  {
   "cell_type": "code",
   "execution_count": 77,
   "id": "fe25ee62",
   "metadata": {
    "pycharm": {
     "name": "#%%\n"
    }
   },
   "outputs": [
    {
     "data": {
      "text/plain": [
       "50"
      ]
     },
     "execution_count": 77,
     "metadata": {},
     "output_type": "execute_result"
    }
   ],
   "source": [
    "len(components)"
   ]
  },
  {
   "cell_type": "code",
   "execution_count": 78,
   "id": "d1fc7e98",
   "metadata": {
    "pycharm": {
     "name": "#%%\n"
    }
   },
   "outputs": [
    {
     "data": {
      "text/plain": [
       "25927"
      ]
     },
     "execution_count": 78,
     "metadata": {},
     "output_type": "execute_result"
    }
   ],
   "source": [
    "sub_graph.size()"
   ]
  },
  {
   "cell_type": "code",
   "execution_count": 84,
   "id": "f0326b68",
   "metadata": {
    "pycharm": {
     "name": "#%%\n"
    }
   },
   "outputs": [
    {
     "data": {
      "text/html": [
       "<div>\n",
       "<style scoped>\n",
       "    .dataframe tbody tr th:only-of-type {\n",
       "        vertical-align: middle;\n",
       "    }\n",
       "\n",
       "    .dataframe tbody tr th {\n",
       "        vertical-align: top;\n",
       "    }\n",
       "\n",
       "    .dataframe thead th {\n",
       "        text-align: right;\n",
       "    }\n",
       "</style>\n",
       "<table border=\"1\" class=\"dataframe\">\n",
       "  <thead>\n",
       "    <tr style=\"text-align: right;\">\n",
       "      <th></th>\n",
       "      <th>degree</th>\n",
       "      <th>node</th>\n",
       "    </tr>\n",
       "  </thead>\n",
       "  <tbody>\n",
       "    <tr>\n",
       "      <th>0</th>\n",
       "      <td>1</td>\n",
       "      <td>10003555128226v5</td>\n",
       "    </tr>\n",
       "    <tr>\n",
       "      <th>1</th>\n",
       "      <td>2</td>\n",
       "      <td>S60 Build/MMB29M</td>\n",
       "    </tr>\n",
       "    <tr>\n",
       "      <th>2</th>\n",
       "      <td>6</td>\n",
       "      <td>10004529150162v6</td>\n",
       "    </tr>\n",
       "    <tr>\n",
       "      <th>3</th>\n",
       "      <td>4793</td>\n",
       "      <td>Windows</td>\n",
       "    </tr>\n",
       "    <tr>\n",
       "      <th>4</th>\n",
       "      <td>3051</td>\n",
       "      <td>iOS Device</td>\n",
       "    </tr>\n",
       "    <tr>\n",
       "      <th>...</th>\n",
       "      <td>...</td>\n",
       "      <td>...</td>\n",
       "    </tr>\n",
       "    <tr>\n",
       "      <th>9521</th>\n",
       "      <td>5</td>\n",
       "      <td>9992455150126m5</td>\n",
       "    </tr>\n",
       "    <tr>\n",
       "      <th>9522</th>\n",
       "      <td>1</td>\n",
       "      <td>9993399150185a6</td>\n",
       "    </tr>\n",
       "    <tr>\n",
       "      <th>9523</th>\n",
       "      <td>1</td>\n",
       "      <td>9994442150226v6</td>\n",
       "    </tr>\n",
       "    <tr>\n",
       "      <th>9524</th>\n",
       "      <td>2</td>\n",
       "      <td>9995479150166v5</td>\n",
       "    </tr>\n",
       "    <tr>\n",
       "      <th>9525</th>\n",
       "      <td>3</td>\n",
       "      <td>9999174150226v5</td>\n",
       "    </tr>\n",
       "  </tbody>\n",
       "</table>\n",
       "<p>9526 rows × 2 columns</p>\n",
       "</div>"
      ],
      "text/plain": [
       "      degree              node\n",
       "0          1  10003555128226v5\n",
       "1          2  S60 Build/MMB29M\n",
       "2          6  10004529150162v6\n",
       "3       4793           Windows\n",
       "4       3051        iOS Device\n",
       "...      ...               ...\n",
       "9521       5   9992455150126m5\n",
       "9522       1   9993399150185a6\n",
       "9523       1   9994442150226v6\n",
       "9524       2   9995479150166v5\n",
       "9525       3   9999174150226v5\n",
       "\n",
       "[9526 rows x 2 columns]"
      ]
     },
     "execution_count": 84,
     "metadata": {},
     "output_type": "execute_result"
    }
   ],
   "source": [
    "degree_dist"
   ]
  },
  {
   "cell_type": "markdown",
   "id": "e1b774bb",
   "metadata": {
    "pycharm": {
     "name": "#%% md\n"
    }
   },
   "source": [
    "# How many devices do the customers use"
   ]
  },
  {
   "cell_type": "code",
   "execution_count": 92,
   "id": "1c862f0f",
   "metadata": {
    "pycharm": {
     "name": "#%%\n"
    }
   },
   "outputs": [],
   "source": [
    "# list of devices for each user\n",
    "devices_list = pd.DataFrame(merged.groupby(\"AccountName\")[\"DeviceInfo\"].apply(list))\n",
    "# counts for devices used by the customers\n",
    "number_of_devices = devices_list[\"DeviceInfo\"].apply(len)"
   ]
  },
  {
   "cell_type": "code",
   "execution_count": 96,
   "id": "5c494d52",
   "metadata": {
    "pycharm": {
     "name": "#%%\n"
    }
   },
   "outputs": [
    {
     "name": "stdout",
     "output_type": "stream",
     "text": [
      "Mean number of devices: 15.14658064516129\n",
      "Median number of devices: 2.0\n",
      "Max number of devices: 6761\n"
     ]
    }
   ],
   "source": [
    "print(f\"Mean number of devices: {number_of_devices.mean()}\")\n",
    "print(f\"Median number of devices: {number_of_devices.median()}\")\n",
    "print(f\"Max number of devices: {number_of_devices.max()}\")"
   ]
  },
  {
   "cell_type": "code",
   "execution_count": 105,
   "id": "55b46e7a",
   "metadata": {
    "pycharm": {
     "name": "#%%\n"
    }
   },
   "outputs": [],
   "source": [
    "numbers_df = pd.DataFrame(number_of_devices).reset_index()\n",
    "numbers_df.columns = [\"AccountName\", \"Counts\"]"
   ]
  },
  {
   "cell_type": "code",
   "execution_count": 109,
   "id": "31397ac9",
   "metadata": {
    "pycharm": {
     "name": "#%%\n"
    }
   },
   "outputs": [
    {
     "data": {
      "text/plain": [
       "<AxesSubplot:xlabel='Counts', ylabel='Count'>"
      ]
     },
     "execution_count": 109,
     "metadata": {},
     "output_type": "execute_result"
    },
    {
     "data": {
      "image/png": "[encoded data removed]",
      "text/plain": [
       "<Figure size 432x288 with 1 Axes>"
      ]
     },
     "metadata": {},
     "output_type": "display_data"
    }
   ],
   "source": [
    "import seaborn as sns\n",
    "sns.set()\n",
    "sns.histplot(numbers_df[\"Counts\"].value_counts())"
   ]
  },
  {
   "cell_type": "markdown",
   "id": "a21ff85d",
   "metadata": {
    "pycharm": {
     "name": "#%% md\n"
    }
   },
   "source": [
    "# Most common device info"
   ]
  },
  {
   "cell_type": "code",
   "execution_count": 119,
   "id": "3f39518f",
   "metadata": {
    "pycharm": {
     "name": "#%%\n"
    }
   },
   "outputs": [
    {
     "data": {
      "text/plain": [
       "0    Windows\n",
       "dtype: object"
      ]
     },
     "execution_count": 119,
     "metadata": {},
     "output_type": "execute_result"
    }
   ],
   "source": [
    "merged[\"DeviceInfo\"].mode()"
   ]
  },
  {
   "cell_type": "code",
   "execution_count": 120,
   "id": "679a141b",
   "metadata": {
    "pycharm": {
     "name": "#%%\n"
    }
   },
   "outputs": [
    {
     "data": {
      "text/plain": [
       "47256"
      ]
     },
     "execution_count": 120,
     "metadata": {},
     "output_type": "execute_result"
    }
   ],
   "source": [
    "sum(merged[\"DeviceInfo\"] == \"Windows\")"
   ]
  },
  {
   "cell_type": "code",
   "execution_count": 123,
   "id": "5fdaca9f",
   "metadata": {
    "pycharm": {
     "name": "#%%\n"
    }
   },
   "outputs": [
    {
     "data": {
      "text/plain": [
       "Windows                        47256\n",
       "iOS Device                     19584\n",
       "MacOS                          12459\n",
       "Trident/7.0                     7361\n",
       "rv:11.0                         1883\n",
       "rv:57.0                          948\n",
       "SM-J700M Build/MMB29K            546\n",
       "SM-G610M Build/MMB29K            459\n",
       "SM-G531H Build/LMY48B            409\n",
       "rv:59.0                          356\n",
       "SM-G935F Build/NRD90M            333\n",
       "SM-G955U Build/NRD90M            323\n",
       "SM-G532M Build/MMB29T            316\n",
       "ALE-L23 Build/HuaweiALE-L23      311\n",
       "SM-G950U Build/NRD90M            282\n",
       "SM-G930V Build/NRD90M            273\n",
       "rv:58.0                          267\n",
       "rv:52.0                          256\n",
       "SAMSUNG                          231\n",
       "SM-G950F Build/NRD90M            225\n",
       "Name: DeviceInfo, dtype: int64"
      ]
     },
     "execution_count": 123,
     "metadata": {},
     "output_type": "execute_result"
    }
   ],
   "source": [
    "merged[\"DeviceInfo\"].value_counts()[:20]"
   ]
  },
  {
   "cell_type": "code",
   "execution_count": 110,
   "id": "bf460890",
   "metadata": {
    "pycharm": {
     "name": "#%%\n"
    }
   },
   "outputs": [
    {
     "data": {
      "text/plain": [
       "<networkx.classes.graph.Graph at 0x2e3dea069d0>"
      ]
     },
     "execution_count": 110,
     "metadata": {},
     "output_type": "execute_result"
    }
   ],
   "source": [
    "graph"
   ]
  },
  {
   "cell_type": "code",
   "execution_count": 126,
   "id": "70c65d2f",
   "metadata": {
    "pycharm": {
     "name": "#%%\n"
    }
   },
   "outputs": [],
   "source": [
    "sub_graph = graph.subgraph(components[1])"
   ]
  },
  {
   "cell_type": "code",
   "execution_count": 127,
   "id": "599d2faf",
   "metadata": {
    "scrolled": true,
    "pycharm": {
     "name": "#%%\n"
    }
   },
   "outputs": [
    {
     "data": {
      "image/png": "[encoded data removed]",
      "text/plain": [
       "<Figure size 1440x1440 with 1 Axes>"
      ]
     },
     "metadata": {},
     "output_type": "display_data"
    }
   ],
   "source": [
    "edge_colors = ['r' if attrs[\"isFraud\"] else 'b' for attrs in graph.edges.values()]\n",
    "edge_widths = [1 if attrs[\"weight\"] else 5 for attrs in graph.edges.values()]\n",
    "plt.figure(figsize=(20,20))\n",
    "plt.title(f\"Subgraph: {graph.size()}\", fontsize=20)\n",
    "nx.draw(sub_graph, with_labels=True, edge_color=edge_colors, width=edge_widths)"
   ]
  },
  {
   "cell_type": "code",
   "execution_count": 128,
   "id": "79c7e563",
   "metadata": {
    "pycharm": {
     "name": "#%%\n"
    }
   },
   "outputs": [
    {
     "data": {
      "text/plain": [
       "25984"
      ]
     },
     "execution_count": 128,
     "metadata": {},
     "output_type": "execute_result"
    }
   ],
   "source": [
    "graph.size()"
   ]
  },
  {
   "cell_type": "code",
   "execution_count": 129,
   "id": "8074e97c",
   "metadata": {
    "pycharm": {
     "name": "#%%\n"
    }
   },
   "outputs": [
    {
     "data": {
      "text/plain": [
       "0"
      ]
     },
     "execution_count": 129,
     "metadata": {},
     "output_type": "execute_result"
    }
   ],
   "source": [
    "nx.transitivity(graph.subgraph(components[0]))"
   ]
  },
  {
   "cell_type": "code",
   "execution_count": 144,
   "id": "9117015d",
   "metadata": {
    "pycharm": {
     "name": "#%%\n"
    }
   },
   "outputs": [
    {
     "data": {
      "text/plain": [
       "1     4540\n",
       "2     1746\n",
       "3     1054\n",
       "4      586\n",
       "5      384\n",
       "6      234\n",
       "7      139\n",
       "8      102\n",
       "9      100\n",
       "10      68\n",
       "12      53\n",
       "11      46\n",
       "13      45\n",
       "16      32\n",
       "15      30\n",
       "14      25\n",
       "20      24\n",
       "21      23\n",
       "19      17\n",
       "26      17\n",
       "Name: degree, dtype: int64"
      ]
     },
     "execution_count": 144,
     "metadata": {},
     "output_type": "execute_result"
    }
   ],
   "source": [
    "degree_whole_graph = pd.DataFrame(list(nx.degree(graph)))\n",
    "degree_whole_graph.columns = [\"node\", \"degree\"]\n",
    "degree_whole_graph.degree.value_counts()[:20]"
   ]
  },
  {
   "cell_type": "code",
   "execution_count": 134,
   "id": "ff32e725",
   "metadata": {
    "pycharm": {
     "name": "#%%\n"
    }
   },
   "outputs": [],
   "source": [
    "degree_df = pd.DataFrame(list(nx.degree(graph.subgraph(components[0]))))"
   ]
  },
  {
   "cell_type": "code",
   "execution_count": 136,
   "id": "7bd16213",
   "metadata": {
    "pycharm": {
     "name": "#%%\n"
    }
   },
   "outputs": [],
   "source": [
    "degree_df.columns = [\"node\", \"degree\"]"
   ]
  },
  {
   "cell_type": "code",
   "execution_count": 139,
   "id": "98c93e02",
   "metadata": {
    "pycharm": {
     "name": "#%%\n"
    }
   },
   "outputs": [
    {
     "data": {
      "text/plain": [
       "1     4441\n",
       "2     1740\n",
       "3     1053\n",
       "4      586\n",
       "5      384\n",
       "6      234\n",
       "7      139\n",
       "8      102\n",
       "9      100\n",
       "10      68\n",
       "12      53\n",
       "11      46\n",
       "13      45\n",
       "16      32\n",
       "15      30\n",
       "14      25\n",
       "20      24\n",
       "21      23\n",
       "19      17\n",
       "26      17\n",
       "Name: degree, dtype: int64"
      ]
     },
     "execution_count": 139,
     "metadata": {},
     "output_type": "execute_result"
    }
   ],
   "source": [
    "degree_df.degree.value_counts()[:20]"
   ]
  },
  {
   "cell_type": "code",
   "execution_count": 140,
   "id": "40fa7c07",
   "metadata": {
    "pycharm": {
     "name": "#%%\n"
    }
   },
   "outputs": [
    {
     "data": {
      "text/plain": [
       "0"
      ]
     },
     "execution_count": 140,
     "metadata": {},
     "output_type": "execute_result"
    }
   ],
   "source": [
    "nx.transitivity(graph)"
   ]
  },
  {
   "cell_type": "code",
   "execution_count": 143,
   "id": "d75b105b",
   "metadata": {
    "pycharm": {
     "name": "#%%\n"
    }
   },
   "outputs": [
    {
     "data": {
      "text/plain": [
       "9"
      ]
     },
     "execution_count": 143,
     "metadata": {},
     "output_type": "execute_result"
    }
   ],
   "source": [
    "max_values = np.array([max(j.values()) for (i, j) in nx.shortest_path_length(graph)])\n",
    "diameter = np.max(max_values)\n",
    "diameter"
   ]
  },
  {
   "cell_type": "code",
   "execution_count": 147,
   "id": "d4a78b3d",
   "metadata": {
    "pycharm": {
     "name": "#%%\n"
    }
   },
   "outputs": [
    {
     "data": {
      "text/plain": [
       "False"
      ]
     },
     "execution_count": 147,
     "metadata": {},
     "output_type": "execute_result"
    }
   ],
   "source": [
    "nx.is_connected(graph)"
   ]
  },
  {
   "cell_type": "code",
   "execution_count": null,
   "id": "3a0b071a",
   "metadata": {
    "pycharm": {
     "name": "#%%\n"
    }
   },
   "outputs": [],
   "source": []
  }
 ],
 "metadata": {
  "kernelspec": {
   "display_name": "Python 3",
   "language": "python",
   "name": "python3"
  },
  "language_info": {
   "codemirror_mode": {
    "name": "ipython",
    "version": 3
   },
   "file_extension": ".py",
   "mimetype": "text/x-python",
   "name": "python",
   "nbconvert_exporter": "python",
   "pygments_lexer": "ipython3",
   "version": "3.9.2"
  }
 },
 "nbformat": 4,
 "nbformat_minor": 5
}