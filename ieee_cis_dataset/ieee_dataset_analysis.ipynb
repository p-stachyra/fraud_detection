{
 "cells": [
  {
   "cell_type": "code",
   "execution_count": 1,
   "outputs": [],
   "source": [
    "import pandas as pd\n",
    "from graphdatascience import GraphDataScience"
   ],
   "metadata": {
    "collapsed": false,
    "pycharm": {
     "name": "#%%\n"
    }
   }
  },
  {
   "cell_type": "code",
   "execution_count": 2,
   "outputs": [],
   "source": [
    "from GraphMetrics import GraphMetrics\n",
    "from NodeMetrics import NodeMetrics"
   ],
   "metadata": {
    "collapsed": false,
    "pycharm": {
     "name": "#%%\n"
    }
   }
  },
  {
   "cell_type": "code",
   "execution_count": 3,
   "outputs": [],
   "source": [
    "connector = GraphDataScience(\"bolt://localhost:7687\", auth=(\"neo4j\", \"ieeedataset\"))\n",
    "node_metrics = NodeMetrics(connector, \"elliptic\", \"node\", \"TRANSACTION\")\n",
    "graph_metrics = GraphMetrics(connector, \"elliptic\", \"node\", \"TRANSACTION\")"
   ],
   "metadata": {
    "collapsed": false,
    "pycharm": {
     "name": "#%%\n"
    }
   }
  },
  {
   "cell_type": "code",
   "execution_count": 4,
   "outputs": [],
   "source": [
    "degree_distribution = node_metrics.getDegreeDistribution()\n",
    "pagerank_distribution = node_metrics.getPageRankScores()\n",
    "eigenvector_distribution = node_metrics.getEigenvectorCentrality()\n",
    "betweeness_distribution = node_metrics.getBetweennessCentrality()\n",
    "closeness_distribution = node_metrics.getClosenessCentrality()"
   ],
   "metadata": {
    "collapsed": false,
    "pycharm": {
     "name": "#%%\n"
    }
   }
  },
  {
   "cell_type": "code",
   "execution_count": 5,
   "outputs": [],
   "source": [
    "nodes_and_fraud = connector.run_cypher(\"\"\"MATCH (n:node)-[r:TRANSACTION]->(m:node) RETURN n.id AS cID, r.isFraud AS transactionCategory, m.id AS dID\"\"\")"
   ],
   "metadata": {
    "collapsed": false,
    "pycharm": {
     "name": "#%%\n"
    }
   }
  },
  {
   "cell_type": "code",
   "execution_count": 6,
   "outputs": [],
   "source": [
    "degree_customers = pd.merge(nodes_and_fraud, degree_distribution, left_on=\"cID\", right_on=\"id\").drop_duplicates(subset=\"cID\")[[\"cID\", \"transactionCategory\", \"degree\"]]\n",
    "degree_devices = pd.merge(nodes_and_fraud, degree_distribution, left_on=\"dID\", right_on=\"id\").drop_duplicates(subset=\"dID\")[[\"dID\", \"transactionCategory\", \"degree\"]]"
   ],
   "metadata": {
    "collapsed": false,
    "pycharm": {
     "name": "#%%\n"
    }
   }
  },
  {
   "cell_type": "code",
   "execution_count": 14,
   "outputs": [],
   "source": [
    "pagerank_customers = pd.merge(nodes_and_fraud, pagerank_distribution, left_on=\"cID\", right_on=\"id\").drop_duplicates(subset=\"cID\")[[\"cID\", \"transactionCategory\", \"PageRankScore\"]]"
   ],
   "metadata": {
    "collapsed": false,
    "pycharm": {
     "name": "#%%\n"
    }
   }
  },
  {
   "cell_type": "code",
   "execution_count": 21,
   "outputs": [],
   "source": [
    "eigenvector_customers = pd.merge(nodes_and_fraud, eigenvector_distribution, left_on=\"cID\", right_on=\"id\").drop_duplicates(subset=\"cID\")[[\"cID\", \"transactionCategory\", \"EigenvectorCentrality\"]]"
   ],
   "metadata": {
    "collapsed": false,
    "pycharm": {
     "name": "#%%\n"
    }
   }
  },
  {
   "cell_type": "code",
   "execution_count": 16,
   "outputs": [],
   "source": [
    "betweenness_customers = pd.merge(nodes_and_fraud, betweeness_distribution, left_on=\"cID\", right_on=\"id\").drop_duplicates(subset=\"cID\")[[\"cID\", \"transactionCategory\", \"BetweennessScore\"]]"
   ],
   "metadata": {
    "collapsed": false,
    "pycharm": {
     "name": "#%%\n"
    }
   }
  },
  {
   "cell_type": "code",
   "execution_count": null,
   "outputs": [],
   "source": [
    "closeness_customers = pd.merge(nodes_and_fraud, closeness_distribution, left_on=\"cID\", right_on=\"id\").drop_duplicates(subset=\"cID\")[[\"cID\", \"transactionCategory\", \"BetweennessScore\"]]"
   ],
   "metadata": {
    "collapsed": false,
    "pycharm": {
     "name": "#%%\n"
    }
   }
  },
  {
   "cell_type": "code",
   "execution_count": 22,
   "outputs": [
    {
     "data": {
      "text/plain": "                    cID transactionCategory  degree\n57      9987555203226v6                   1     7.0\n130     9941273185224m6                   1    10.0\n166     9926122150126m5                   1     1.0\n2056    9642103185226v5                   1    53.0\n2109    9635405185226v6                   1    36.0\n...                 ...                 ...     ...\n117175  9674555185195v6                   1     1.0\n117276  2555555150102m6                   1     1.0\n117279  2502141185226v6                   1     2.0\n117288  1735555150195m6                   1     1.0\n117341  2089168144195v6                   1     4.0\n\n[405 rows x 3 columns]",
      "text/html": "<div>\n<style scoped>\n    .dataframe tbody tr th:only-of-type {\n        vertical-align: middle;\n    }\n\n    .dataframe tbody tr th {\n        vertical-align: top;\n    }\n\n    .dataframe thead th {\n        text-align: right;\n    }\n</style>\n<table border=\"1\" class=\"dataframe\">\n  <thead>\n    <tr style=\"text-align: right;\">\n      <th></th>\n      <th>cID</th>\n      <th>transactionCategory</th>\n      <th>degree</th>\n    </tr>\n  </thead>\n  <tbody>\n    <tr>\n      <th>57</th>\n      <td>9987555203226v6</td>\n      <td>1</td>\n      <td>7.0</td>\n    </tr>\n    <tr>\n      <th>130</th>\n      <td>9941273185224m6</td>\n      <td>1</td>\n      <td>10.0</td>\n    </tr>\n    <tr>\n      <th>166</th>\n      <td>9926122150126m5</td>\n      <td>1</td>\n      <td>1.0</td>\n    </tr>\n    <tr>\n      <th>2056</th>\n      <td>9642103185226v5</td>\n      <td>1</td>\n      <td>53.0</td>\n    </tr>\n    <tr>\n      <th>2109</th>\n      <td>9635405185226v6</td>\n      <td>1</td>\n      <td>36.0</td>\n    </tr>\n    <tr>\n      <th>...</th>\n      <td>...</td>\n      <td>...</td>\n      <td>...</td>\n    </tr>\n    <tr>\n      <th>117175</th>\n      <td>9674555185195v6</td>\n      <td>1</td>\n      <td>1.0</td>\n    </tr>\n    <tr>\n      <th>117276</th>\n      <td>2555555150102m6</td>\n      <td>1</td>\n      <td>1.0</td>\n    </tr>\n    <tr>\n      <th>117279</th>\n      <td>2502141185226v6</td>\n      <td>1</td>\n      <td>2.0</td>\n    </tr>\n    <tr>\n      <th>117288</th>\n      <td>1735555150195m6</td>\n      <td>1</td>\n      <td>1.0</td>\n    </tr>\n    <tr>\n      <th>117341</th>\n      <td>2089168144195v6</td>\n      <td>1</td>\n      <td>4.0</td>\n    </tr>\n  </tbody>\n</table>\n<p>405 rows × 3 columns</p>\n</div>"
     },
     "execution_count": 22,
     "metadata": {},
     "output_type": "execute_result"
    }
   ],
   "source": [
    "fraudulent_customers_degree = degree_customers[degree_customers[\"transactionCategory\"] == \"1\"]\n",
    "fraudulent_customers_degree"
   ],
   "metadata": {
    "collapsed": false,
    "pycharm": {
     "name": "#%%\n"
    }
   }
  },
  {
   "cell_type": "code",
   "execution_count": 17,
   "outputs": [
    {
     "data": {
      "text/plain": "                     cID transactionCategory                     dID\n0       13904555119232m6                   0        S60 Build/MMB29M\n1       10003555128226v5                   0        S60 Build/MMB29M\n2       10003555128226v5                   0        S60 Build/MMB29M\n3       10003555128226v5                   0        S60 Build/MMB29M\n4        9999174150226v5                   0                 Windows\n...                  ...                 ...                     ...\n117381   9917142185138v5                   1                  XT1021\n117382   9917142185138v5                   1                  XT1021\n117383   9917142185138v5                   0                    AKUS\n117384   9936555150226v5                   0                  A463BG\n117385   9938375185224m5                   0  SM-J510MN Build/NMF26X\n\n[117386 rows x 3 columns]",
      "text/html": "<div>\n<style scoped>\n    .dataframe tbody tr th:only-of-type {\n        vertical-align: middle;\n    }\n\n    .dataframe tbody tr th {\n        vertical-align: top;\n    }\n\n    .dataframe thead th {\n        text-align: right;\n    }\n</style>\n<table border=\"1\" class=\"dataframe\">\n  <thead>\n    <tr style=\"text-align: right;\">\n      <th></th>\n      <th>cID</th>\n      <th>transactionCategory</th>\n      <th>dID</th>\n    </tr>\n  </thead>\n  <tbody>\n    <tr>\n      <th>0</th>\n      <td>13904555119232m6</td>\n      <td>0</td>\n      <td>S60 Build/MMB29M</td>\n    </tr>\n    <tr>\n      <th>1</th>\n      <td>10003555128226v5</td>\n      <td>0</td>\n      <td>S60 Build/MMB29M</td>\n    </tr>\n    <tr>\n      <th>2</th>\n      <td>10003555128226v5</td>\n      <td>0</td>\n      <td>S60 Build/MMB29M</td>\n    </tr>\n    <tr>\n      <th>3</th>\n      <td>10003555128226v5</td>\n      <td>0</td>\n      <td>S60 Build/MMB29M</td>\n    </tr>\n    <tr>\n      <th>4</th>\n      <td>9999174150226v5</td>\n      <td>0</td>\n      <td>Windows</td>\n    </tr>\n    <tr>\n      <th>...</th>\n      <td>...</td>\n      <td>...</td>\n      <td>...</td>\n    </tr>\n    <tr>\n      <th>117381</th>\n      <td>9917142185138v5</td>\n      <td>1</td>\n      <td>XT1021</td>\n    </tr>\n    <tr>\n      <th>117382</th>\n      <td>9917142185138v5</td>\n      <td>1</td>\n      <td>XT1021</td>\n    </tr>\n    <tr>\n      <th>117383</th>\n      <td>9917142185138v5</td>\n      <td>0</td>\n      <td>AKUS</td>\n    </tr>\n    <tr>\n      <th>117384</th>\n      <td>9936555150226v5</td>\n      <td>0</td>\n      <td>A463BG</td>\n    </tr>\n    <tr>\n      <th>117385</th>\n      <td>9938375185224m5</td>\n      <td>0</td>\n      <td>SM-J510MN Build/NMF26X</td>\n    </tr>\n  </tbody>\n</table>\n<p>117386 rows × 3 columns</p>\n</div>"
     },
     "execution_count": 17,
     "metadata": {},
     "output_type": "execute_result"
    }
   ],
   "source": [
    "nodes_and_fraud"
   ],
   "metadata": {
    "collapsed": false,
    "pycharm": {
     "name": "#%%\n"
    }
   }
  },
  {
   "cell_type": "code",
   "execution_count": null,
   "outputs": [],
   "source": [],
   "metadata": {
    "collapsed": false,
    "pycharm": {
     "name": "#%%\n"
    }
   }
  }
 ],
 "metadata": {
  "kernelspec": {
   "display_name": "Python 3",
   "language": "python",
   "name": "python3"
  },
  "language_info": {
   "codemirror_mode": {
    "name": "ipython",
    "version": 2
   },
   "file_extension": ".py",
   "mimetype": "text/x-python",
   "name": "python",
   "nbconvert_exporter": "python",
   "pygments_lexer": "ipython2",
   "version": "2.7.6"
  }
 },
 "nbformat": 4,
 "nbformat_minor": 0
}