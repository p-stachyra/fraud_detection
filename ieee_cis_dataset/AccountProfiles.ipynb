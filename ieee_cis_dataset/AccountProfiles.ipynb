{
 "cells": [
  {
   "cell_type": "code",
   "execution_count": 2,
   "id": "21056198",
   "metadata": {
    "pycharm": {
     "name": "#%%\n"
    }
   },
   "outputs": [],
   "source": [
    "import datetime as dt\n",
    "import pandas as pd"
   ]
  },
  {
   "cell_type": "code",
   "execution_count": null,
   "outputs": [],
   "source": [],
   "metadata": {
    "collapsed": false,
    "pycharm": {
     "name": "#%%\n"
    }
   }
  },
  {
   "cell_type": "code",
   "execution_count": 3,
   "id": "f5cfc018",
   "metadata": {
    "pycharm": {
     "name": "#%%\n"
    }
   },
   "outputs": [],
   "source": [
    "df = pd.read_csv(\"weights_account_to_device.csv\")\n",
    "df.drop(columns=[\"Unnamed: 0\"], inplace=True)\n",
    "df.columns = [\"AccountName\", \"DeviceInfo\", \"Weight\", \"TransactionID\", \"isFraud\", \"TimeStep\", \"AmountTransferred\", \"ServiceType\"]\n",
    "\n",
    "\n",
    "x = lambda a : dt.datetime.fromtimestamp(a)\n",
    "df.TimeStep = pd.to_datetime(df.TimeStep.apply(x), format=\"%Y-%m-%d %H:%M:%S\")"
   ]
  },
  {
   "cell_type": "code",
   "execution_count": 11,
   "id": "0ebd67f1",
   "metadata": {
    "pycharm": {
     "name": "#%%\n"
    }
   },
   "outputs": [],
   "source": [
    "accounts_number_of_devices = pd.read_csv(\"accounts_and_number_of_devices.csv\")"
   ]
  },
  {
   "cell_type": "markdown",
   "id": "f7682539",
   "metadata": {
    "pycharm": {
     "name": "#%% md\n"
    }
   },
   "source": [
    "Categories of customers: <br>\n",
    "1-5 devices: individuals (I) <br>\n",
    "6-10: small companies (S) <br>\n",
    "11-50: medium companies (M) <br>\n",
    "\\> 50: big companies (B)"
   ]
  },
  {
   "cell_type": "code",
   "execution_count": 14,
   "id": "67fcc6fa",
   "metadata": {
    "pycharm": {
     "name": "#%%\n"
    }
   },
   "outputs": [],
   "source": [
    "customer_profiles = []\n",
    "for i in range(len(accounts_number_of_devices)):\n",
    "    if accounts_number_of_devices.degree.iloc[i] <= 5:\n",
    "        customer_profiles.append(\"I\")\n",
    "    elif (accounts_number_of_devices.degree.iloc[i] > 5) & (accounts_number_of_devices.degree.iloc[i] < 11):\n",
    "        customer_profiles.append(\"S\")\n",
    "    elif (accounts_number_of_devices.degree.iloc[i] >= 11) & (accounts_number_of_devices.degree.iloc[i] < 51):\n",
    "        customer_profiles.append(\"M\")\n",
    "    else:\n",
    "        customer_profiles.append(\"B\")\n",
    "        \n",
    "accounts_number_of_devices = accounts_number_of_devices.assign(profile=customer_profiles)"
   ]
  },
  {
   "cell_type": "code",
   "execution_count": 15,
   "id": "1dc01da1",
   "metadata": {
    "pycharm": {
     "name": "#%%\n"
    }
   },
   "outputs": [
    {
     "data": {
      "text/plain": [
       "I    7093\n",
       "S     413\n",
       "M     200\n",
       "B      44\n",
       "Name: profile, dtype: int64"
      ]
     },
     "execution_count": 15,
     "metadata": {},
     "output_type": "execute_result"
    }
   ],
   "source": [
    "accounts_number_of_devices[\"profile\"].value_counts()"
   ]
  },
  {
   "cell_type": "markdown",
   "id": "94a20305",
   "metadata": {
    "pycharm": {
     "name": "#%% md\n"
    }
   },
   "source": [
    "### How much fraud among different profiles"
   ]
  },
  {
   "cell_type": "markdown",
   "id": "bf0a102e",
   "metadata": {
    "pycharm": {
     "name": "#%% md\n"
    }
   },
   "source": [
    "The table below shows fraud amoing transactions by different types of customers. The customer type is determined from the number of devices they accessed to make transactions."
   ]
  },
  {
   "cell_type": "code",
   "execution_count": 21,
   "id": "9950d0a1",
   "metadata": {
    "pycharm": {
     "name": "#%%\n"
    }
   },
   "outputs": [
    {
     "data": {
      "text/plain": [
       "profile  isFraud\n",
       "B        0          42348\n",
       "         1           4135\n",
       "I        0          26302\n",
       "         1           1232\n",
       "M        0          28115\n",
       "         1           2182\n",
       "S        0          12286\n",
       "         1            786\n",
       "Name: isFraud, dtype: int64"
      ]
     },
     "execution_count": 21,
     "metadata": {},
     "output_type": "execute_result"
    }
   ],
   "source": [
    "pd.merge(accounts_number_of_devices, df, on=\"AccountName\").groupby(\"profile\")[\"isFraud\"].value_counts()"
   ]
  }
 ],
 "metadata": {
  "kernelspec": {
   "display_name": "Python 3",
   "language": "python",
   "name": "python3"
  },
  "language_info": {
   "codemirror_mode": {
    "name": "ipython",
    "version": 3
   },
   "file_extension": ".py",
   "mimetype": "text/x-python",
   "name": "python",
   "nbconvert_exporter": "python",
   "pygments_lexer": "ipython3",
   "version": "3.9.2"
  }
 },
 "nbformat": 4,
 "nbformat_minor": 5
}