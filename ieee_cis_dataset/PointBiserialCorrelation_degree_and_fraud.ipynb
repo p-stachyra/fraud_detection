{
 "cells": [
  {
   "cell_type": "code",
   "execution_count": 1,
   "id": "6ff34ce9",
   "metadata": {
    "pycharm": {
     "name": "#%%\n"
    }
   },
   "outputs": [],
   "source": [
    "import datetime as dt\n",
    "import matplotlib.pyplot as plt\n",
    "import networkx as nx\n",
    "import numpy as np\n",
    "import pandas as pd\n",
    "import seaborn as sns\n",
    "\n",
    "from scipy.stats import pointbiserialr"
   ]
  },
  {
   "cell_type": "markdown",
   "id": "dbce92af",
   "metadata": {
    "pycharm": {
     "name": "#%% md\n"
    }
   },
   "source": [
    "### Load the dataset with weights assigned to edges"
   ]
  },
  {
   "cell_type": "code",
   "execution_count": 2,
   "id": "fd32693e",
   "metadata": {
    "pycharm": {
     "name": "#%%\n"
    }
   },
   "outputs": [],
   "source": [
    "df = pd.read_csv(\"weights_account_to_device.csv\")"
   ]
  },
  {
   "cell_type": "code",
   "execution_count": 3,
   "id": "d2fbfaca",
   "metadata": {
    "pycharm": {
     "name": "#%%\n"
    }
   },
   "outputs": [],
   "source": [
    "df.drop(columns=[\"Unnamed: 0\"], inplace=True)"
   ]
  },
  {
   "cell_type": "code",
   "execution_count": 4,
   "id": "5d3cfc2c",
   "metadata": {
    "pycharm": {
     "name": "#%%\n"
    }
   },
   "outputs": [],
   "source": [
    "df.columns = [\"AccountName\", \"DeviceInfo\", \"Weight\", \"TransactionID\", \"isFraud\", \"TimeStep\", \"AmountTransferred\", \"ServiceType\"]"
   ]
  },
  {
   "cell_type": "markdown",
   "id": "42c8dbfc",
   "metadata": {
    "pycharm": {
     "name": "#%% md\n"
    }
   },
   "source": [
    "#### Convert the timestamp to date and time (from seconds since epoch)"
   ]
  },
  {
   "cell_type": "code",
   "execution_count": 5,
   "id": "50aa0edd",
   "metadata": {
    "pycharm": {
     "name": "#%%\n"
    }
   },
   "outputs": [],
   "source": [
    "x = lambda a : dt.datetime.fromtimestamp(a)\n",
    "df.TimeStep = pd.to_datetime(df.TimeStep.apply(x), format=\"%Y-%m-%d %H:%M:%S\")"
   ]
  },
  {
   "cell_type": "code",
   "execution_count": 6,
   "id": "38c45209",
   "metadata": {
    "pycharm": {
     "name": "#%%\n"
    }
   },
   "outputs": [
    {
     "data": {
      "text/html": [
       "<div>\n",
       "<style scoped>\n",
       "    .dataframe tbody tr th:only-of-type {\n",
       "        vertical-align: middle;\n",
       "    }\n",
       "\n",
       "    .dataframe tbody tr th {\n",
       "        vertical-align: top;\n",
       "    }\n",
       "\n",
       "    .dataframe thead th {\n",
       "        text-align: right;\n",
       "    }\n",
       "</style>\n",
       "<table border=\"1\" class=\"dataframe\">\n",
       "  <thead>\n",
       "    <tr style=\"text-align: right;\">\n",
       "      <th></th>\n",
       "      <th>AccountName</th>\n",
       "      <th>DeviceInfo</th>\n",
       "      <th>Weight</th>\n",
       "      <th>TransactionID</th>\n",
       "      <th>isFraud</th>\n",
       "      <th>TimeStep</th>\n",
       "      <th>AmountTransferred</th>\n",
       "      <th>ServiceType</th>\n",
       "    </tr>\n",
       "  </thead>\n",
       "  <tbody>\n",
       "    <tr>\n",
       "      <th>0</th>\n",
       "      <td>10003555128226v5</td>\n",
       "      <td>S60 Build/MMB29M</td>\n",
       "      <td>3</td>\n",
       "      <td>3328484</td>\n",
       "      <td>0</td>\n",
       "      <td>1970-04-08 13:23:35</td>\n",
       "      <td>39.394</td>\n",
       "      <td>C</td>\n",
       "    </tr>\n",
       "    <tr>\n",
       "      <th>1</th>\n",
       "      <td>10003555128226v5</td>\n",
       "      <td>S60 Build/MMB29M</td>\n",
       "      <td>3</td>\n",
       "      <td>3337343</td>\n",
       "      <td>0</td>\n",
       "      <td>1970-04-11 00:34:42</td>\n",
       "      <td>10.755</td>\n",
       "      <td>C</td>\n",
       "    </tr>\n",
       "    <tr>\n",
       "      <th>2</th>\n",
       "      <td>10003555128226v5</td>\n",
       "      <td>S60 Build/MMB29M</td>\n",
       "      <td>3</td>\n",
       "      <td>3337365</td>\n",
       "      <td>0</td>\n",
       "      <td>1970-04-11 00:40:15</td>\n",
       "      <td>19.093</td>\n",
       "      <td>C</td>\n",
       "    </tr>\n",
       "    <tr>\n",
       "      <th>3</th>\n",
       "      <td>10004529150162v6</td>\n",
       "      <td>Windows</td>\n",
       "      <td>3</td>\n",
       "      <td>3006707</td>\n",
       "      <td>0</td>\n",
       "      <td>1970-01-06 23:35:03</td>\n",
       "      <td>35.000</td>\n",
       "      <td>H</td>\n",
       "    </tr>\n",
       "    <tr>\n",
       "      <th>4</th>\n",
       "      <td>10004529150162v6</td>\n",
       "      <td>Windows</td>\n",
       "      <td>3</td>\n",
       "      <td>3051248</td>\n",
       "      <td>0</td>\n",
       "      <td>1970-01-17 20:58:38</td>\n",
       "      <td>25.000</td>\n",
       "      <td>H</td>\n",
       "    </tr>\n",
       "  </tbody>\n",
       "</table>\n",
       "</div>"
      ],
      "text/plain": [
       "        AccountName        DeviceInfo  Weight  TransactionID  isFraud  \\\n",
       "0  10003555128226v5  S60 Build/MMB29M       3        3328484        0   \n",
       "1  10003555128226v5  S60 Build/MMB29M       3        3337343        0   \n",
       "2  10003555128226v5  S60 Build/MMB29M       3        3337365        0   \n",
       "3  10004529150162v6           Windows       3        3006707        0   \n",
       "4  10004529150162v6           Windows       3        3051248        0   \n",
       "\n",
       "             TimeStep  AmountTransferred ServiceType  \n",
       "0 1970-04-08 13:23:35             39.394           C  \n",
       "1 1970-04-11 00:34:42             10.755           C  \n",
       "2 1970-04-11 00:40:15             19.093           C  \n",
       "3 1970-01-06 23:35:03             35.000           H  \n",
       "4 1970-01-17 20:58:38             25.000           H  "
      ]
     },
     "execution_count": 6,
     "metadata": {},
     "output_type": "execute_result"
    }
   ],
   "source": [
    "df.head()"
   ]
  },
  {
   "cell_type": "markdown",
   "id": "6d6a8ca1",
   "metadata": {
    "pycharm": {
     "name": "#%% md\n"
    }
   },
   "source": [
    "### Construct the graph"
   ]
  },
  {
   "cell_type": "code",
   "execution_count": 8,
   "id": "ce6838ce",
   "metadata": {
    "pycharm": {
     "name": "#%%\n"
    }
   },
   "outputs": [],
   "source": [
    "graphtype = nx.Graph()\n",
    "graph = nx.from_pandas_edgelist(df, \n",
    "                                source=\"AccountName\", \n",
    "                                target=\"DeviceInfo\",\n",
    "                                edge_attr=True, \n",
    "                                create_using=graphtype)"
   ]
  },
  {
   "cell_type": "markdown",
   "id": "8f5ed711",
   "metadata": {
    "pycharm": {
     "name": "#%% md\n"
    }
   },
   "source": [
    "### Get degrees for accounts"
   ]
  },
  {
   "cell_type": "markdown",
   "id": "ca288d12",
   "metadata": {
    "pycharm": {
     "name": "#%% md\n"
    }
   },
   "source": [
    "The degree of the accounts will provide information on to how many devices they accessed. Logically, the bigger number of devices the bigger the chance that one of them belonged to criminals. Additionally, we can create profiles of customers."
   ]
  },
  {
   "cell_type": "code",
   "execution_count": 9,
   "id": "c11cd430",
   "metadata": {
    "pycharm": {
     "name": "#%%\n"
    }
   },
   "outputs": [],
   "source": [
    "device_info = df[\"DeviceInfo\"].unique()\n",
    "degrees_accounts = []\n",
    "account_names = []\n",
    "# account name --- degree\n",
    "degree_df = pd.DataFrame(list(nx.degree(graph)))\n",
    "# iterate over the degrees dataframe\n",
    "for i in range(len(degree_df)):\n",
    "    # check if the account name is a 'device name'\n",
    "    if degree_df.iloc[i][0] not in device_info:\n",
    "        # if it is not, then it is an account\n",
    "        # append its degree\n",
    "        degrees_accounts.append(degree_df.iloc[i][1])\n",
    "        # append its name\n",
    "        account_names.append(degree_df.iloc[i][0])"
   ]
  },
  {
   "cell_type": "code",
   "execution_count": 10,
   "id": "6136ed72",
   "metadata": {
    "pycharm": {
     "name": "#%%\n"
    }
   },
   "outputs": [],
   "source": [
    "accounts_degrees_df = pd.DataFrame(account_names, degrees_accounts).reset_index()\n",
    "accounts_degrees_df.columns = [\"degree\", \"account_name\"]"
   ]
  },
  {
   "cell_type": "code",
   "execution_count": 11,
   "id": "5ea7939b",
   "metadata": {
    "pycharm": {
     "name": "#%%\n"
    }
   },
   "outputs": [],
   "source": [
    "degree_distribution_accounts = pd.DataFrame(accounts_degrees_df[\"degree\"].value_counts()).reset_index()\n",
    "degree_distribution_accounts.columns = [\"degree\", \"counts\"]"
   ]
  },
  {
   "cell_type": "code",
   "execution_count": 12,
   "id": "4380fe5c",
   "metadata": {
    "pycharm": {
     "name": "#%%\n"
    }
   },
   "outputs": [],
   "source": [
    "accounts_degrees_df.columns = [\"degree\", \"AccountName\"]"
   ]
  },
  {
   "cell_type": "code",
   "execution_count": 13,
   "id": "ce2c3bab",
   "metadata": {
    "pycharm": {
     "name": "#%%\n"
    }
   },
   "outputs": [],
   "source": [
    "degree_and_fraud_df = pd.merge(accounts_degrees_df, df[[\"AccountName\", \"isFraud\"]], on=\"AccountName\")"
   ]
  },
  {
   "cell_type": "markdown",
   "id": "f6803eb2",
   "metadata": {
    "pycharm": {
     "name": "#%% md\n"
    }
   },
   "source": [
    "### Compute Point Biserial Correlation"
   ]
  },
  {
   "cell_type": "markdown",
   "id": "f6f4fa58",
   "metadata": {
    "pycharm": {
     "name": "#%% md\n"
    }
   },
   "source": [
    "The point biserial correlation is used to measure the relationship between a binary variable, x, and a continuous variable, y. Like other correlation coefficients, this one varies between -1 and +1 with 0 implying no correlation. Correlations of -1 or +1 imply a determinative relationship."
   ]
  },
  {
   "cell_type": "code",
   "execution_count": 14,
   "id": "b40a2c85",
   "metadata": {
    "pycharm": {
     "name": "#%%\n"
    }
   },
   "outputs": [],
   "source": [
    "stat = pointbiserialr(x=degree_and_fraud_df.isFraud.values.tolist(), y=degree_and_fraud_df.degree.values.tolist())"
   ]
  },
  {
   "cell_type": "code",
   "execution_count": 15,
   "id": "8ce37a21",
   "metadata": {
    "pycharm": {
     "name": "#%%\n"
    }
   },
   "outputs": [
    {
     "name": "stdout",
     "output_type": "stream",
     "text": [
      "Correlation: 0.01599\n",
      "p-value: 0.00000\n"
     ]
    }
   ],
   "source": [
    "print(\"Correlation: %0.5f\\np-value: %0.5f\" % (stat.correlation, stat.pvalue))"
   ]
  },
  {
   "cell_type": "markdown",
   "id": "14daa8b9",
   "metadata": {
    "pycharm": {
     "name": "#%% md\n"
    }
   },
   "source": [
    "As seen above, we can assume that there is no correlation between the degree of a node and fraud."
   ]
  },
  {
   "cell_type": "code",
   "execution_count": 19,
   "id": "776c6ab9",
   "metadata": {
    "pycharm": {
     "name": "#%%\n"
    }
   },
   "outputs": [],
   "source": [
    "accounts_degrees_df.to_csv(\"accounts_and_number_of_devices.csv\", index=False)"
   ]
  }
 ],
 "metadata": {
  "kernelspec": {
   "display_name": "Python 3",
   "language": "python",
   "name": "python3"
  },
  "language_info": {
   "codemirror_mode": {
    "name": "ipython",
    "version": 3
   },
   "file_extension": ".py",
   "mimetype": "text/x-python",
   "name": "python",
   "nbconvert_exporter": "python",
   "pygments_lexer": "ipython3",
   "version": "3.9.2"
  }
 },
 "nbformat": 4,
 "nbformat_minor": 5
}