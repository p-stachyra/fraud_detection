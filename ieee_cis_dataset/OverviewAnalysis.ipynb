{
 "cells": [
  {
   "cell_type": "code",
   "execution_count": 1,
   "id": "90f46ce2",
   "metadata": {
    "pycharm": {
     "name": "#%%\n"
    }
   },
   "outputs": [],
   "source": [
    "import matplotlib.pyplot as plt\n",
    "import numpy as np\n",
    "import os\n",
    "import pandas as pd"
   ]
  },
  {
   "cell_type": "code",
   "execution_count": 2,
   "id": "6e02d2e3",
   "metadata": {
    "pycharm": {
     "name": "#%%\n"
    }
   },
   "outputs": [
    {
     "name": "stdout",
     "output_type": "stream",
     "text": [
      "sample_submission.csv \t 6.080314 MB\n",
      "test_identity.csv \t 25.797161 MB\n",
      "test_transaction.csv \t 613.194934 MB\n",
      "train_identity.csv \t 26.52968 MB\n",
      "train_transaction.csv \t 683.351067 MB\n"
     ]
    }
   ],
   "source": [
    "for file in os.listdir(\"data\"):\n",
    "    print(file, \"\\t\", os.path.getsize(f\"data/{file}\") / 1e6, \"MB\")"
   ]
  },
  {
   "cell_type": "code",
   "execution_count": 3,
   "id": "0f760b7a",
   "metadata": {
    "pycharm": {
     "name": "#%%\n"
    }
   },
   "outputs": [],
   "source": [
    "df_train_identity = pd.read_csv(\"data/train_identity.csv\")\n",
    "df_train_transaction = pd.read_csv(\"data/train_transaction.csv\")"
   ]
  },
  {
   "cell_type": "code",
   "execution_count": null,
   "id": "326727e0",
   "metadata": {
    "pycharm": {
     "name": "#%%\n"
    }
   },
   "outputs": [],
   "source": [
    "def generateSignature(dataframe, attributes):\n",
    "    identity_attributes = df_train_transaction[attributes].dropna()\n",
    "    unique_accounts = identity_attributes.drop_duplicates()\n",
    "    \n",
    "    numeric_part = identity_attributes[[\"card1\", \"card2\", \"card3\", \"card5\"]].astype(int)\n",
    "    numeric_part = numeric_part.astype(str)\n",
    "    numeric_part = numeric_part[[\"card1\", \"card2\", \"card3\", \"card5\"]].agg(\"\".join, axis=1)\n",
    "    \n",
    "    first_char = identity_attributes[\"card4\"].str[0]\n",
    "    \n",
    "    second_char = identity_attributes[\"card6\"].apply(len).astype(str)\n",
    "    \n",
    "    result = numeric_part + first_char + second_char\n",
    "    \n",
    "    return result"
   ]
  },
  {
   "cell_type": "markdown",
   "id": "3fd9ccf8",
   "metadata": {
    "pycharm": {
     "name": "#%% md\n"
    }
   },
   "source": [
    "# ProductCD Attribute - the payment service attribute"
   ]
  },
  {
   "cell_type": "code",
   "execution_count": null,
   "id": "0267b42f",
   "metadata": {
    "pycharm": {
     "name": "#%%\n"
    }
   },
   "outputs": [],
   "source": [
    "df_train_transaction.ProductCD.value_counts()"
   ]
  },
  {
   "cell_type": "markdown",
   "id": "d7507bcd",
   "metadata": {
    "pycharm": {
     "name": "#%% md\n"
    }
   },
   "source": [
    "# Filtering Out Information : Selecting Attributes"
   ]
  },
  {
   "cell_type": "code",
   "execution_count": null,
   "id": "d7821370",
   "metadata": {
    "pycharm": {
     "name": "#%%\n"
    }
   },
   "outputs": [],
   "source": [
    "meaningful_attributes = [\n",
    "    \"TransactionID\",\n",
    "    \"isFraud\",\n",
    "    \"TransactionDT\",\n",
    "    \"TransactionAmt\",\n",
    "    \"ProductCD\",\n",
    "    \"card1\",\n",
    "    \"card2\",\n",
    "    \"card3\",\n",
    "    \"card4\",\n",
    "    \"card5\",\n",
    "    \"card6\",\n",
    "    \"addr1\",\n",
    "    \"addr2\",\n",
    "    \"dist1\",\n",
    "    \"dist2\",\n",
    "    \"P_emaildomain\",\n",
    "    \"R_emaildomain\",\n",
    "]"
   ]
  },
  {
   "cell_type": "code",
   "execution_count": null,
   "id": "a2e625b4",
   "metadata": {
    "pycharm": {
     "name": "#%%\n"
    }
   },
   "outputs": [],
   "source": [
    "df_train_transaction = df_train_transaction[meaningful_attributes]"
   ]
  },
  {
   "cell_type": "code",
   "execution_count": null,
   "id": "5fd4d727",
   "metadata": {
    "pycharm": {
     "name": "#%%\n"
    }
   },
   "outputs": [],
   "source": [
    "df_train_transaction.shape"
   ]
  },
  {
   "cell_type": "code",
   "execution_count": null,
   "id": "7b2ec14f",
   "metadata": {
    "pycharm": {
     "name": "#%%\n"
    }
   },
   "outputs": [],
   "source": [
    "df_train_identity = df_train_identity[[\"TransactionID\", \"DeviceType\", \"DeviceInfo\"]]"
   ]
  },
  {
   "cell_type": "code",
   "execution_count": null,
   "id": "79988f6e",
   "metadata": {
    "pycharm": {
     "name": "#%%\n"
    }
   },
   "outputs": [],
   "source": [
    "df_train_identity.shape"
   ]
  },
  {
   "cell_type": "code",
   "execution_count": null,
   "id": "224b1df2",
   "metadata": {
    "pycharm": {
     "name": "#%%\n"
    }
   },
   "outputs": [],
   "source": [
    "full_dataset = pd.merge(df_train_identity, df_train_transaction, on=\"TransactionID\")"
   ]
  },
  {
   "cell_type": "code",
   "execution_count": null,
   "id": "32add1f9",
   "metadata": {
    "pycharm": {
     "name": "#%%\n"
    }
   },
   "outputs": [],
   "source": [
    "full_dataset.to_csv(\"fraud_detection_dataset.csv\")"
   ]
  },
  {
   "cell_type": "markdown",
   "id": "7c7c48b3",
   "metadata": {
    "pycharm": {
     "name": "#%% md\n"
    }
   },
   "source": [
    "# Map Device Info/Transaction Amount to Unique Accounts"
   ]
  },
  {
   "cell_type": "code",
   "execution_count": null,
   "id": "8f20b940",
   "metadata": {
    "pycharm": {
     "name": "#%%\n"
    }
   },
   "outputs": [],
   "source": []
  },
  {
   "cell_type": "code",
   "execution_count": null,
   "id": "5db3f18a",
   "metadata": {
    "pycharm": {
     "name": "#%%\n"
    }
   },
   "outputs": [],
   "source": [
    "def createBuckets(num_bins, attribute, df):\n",
    "    # First, we need to calculate our IQR.\n",
    "    q1 = df[attribute].quantile(0.25)                 \n",
    "    q3 = df[attribute].quantile(0.75)\n",
    "    iqr = q3 - q1\n",
    "\n",
    "    # Now let's calculate upper and lower bounds.\n",
    "    lower = q1 - 1.5*iqr\n",
    "    upper = q3 + 1.5*iqr\n",
    "\n",
    "    # Let us create our bins:\n",
    "    num_bins = 10\n",
    "    bin_width = (upper - lower) / num_bins\n",
    "    bins = [lower + i*bin_width for i in range(num_bins)]\n",
    "    bins += [upper, float('inf')]  # Now we add our last bin, which will contain any value greater than the upper-bound of the IQR.\n",
    "\n",
    "    # Let us create our labels:\n",
    "    labels = [f\"Range{i}\" for i in range(1,num_bins+1)]\n",
    "    labels.append(\"Outlier\")\n",
    "\n",
    "    # Finally, we add a new column to the df:\n",
    "    df[\"PriceCategory\"] = pd.cut(df[attribute], bins=bins, labels=labels)\n",
    "    \n",
    "    return df"
   ]
  }
 ],
 "metadata": {
  "kernelspec": {
   "display_name": "Python 3",
   "language": "python",
   "name": "python3"
  },
  "language_info": {
   "codemirror_mode": {
    "name": "ipython",
    "version": 3
   },
   "file_extension": ".py",
   "mimetype": "text/x-python",
   "name": "python",
   "nbconvert_exporter": "python",
   "pygments_lexer": "ipython3",
   "version": "3.9.2"
  }
 },
 "nbformat": 4,
 "nbformat_minor": 5
}