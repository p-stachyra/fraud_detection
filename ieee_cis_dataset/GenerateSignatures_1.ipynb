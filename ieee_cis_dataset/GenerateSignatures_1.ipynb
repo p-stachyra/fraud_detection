{
 "cells": [
  {
   "cell_type": "code",
   "execution_count": 1,
   "id": "038e18c7",
   "metadata": {
    "pycharm": {
     "name": "#%%\n"
    }
   },
   "outputs": [],
   "source": [
    "import pandas as pd"
   ]
  },
  {
   "cell_type": "markdown",
   "id": "7f1672ba",
   "metadata": {
    "pycharm": {
     "name": "#%% md\n"
    }
   },
   "source": [
    "# Load the dataset"
   ]
  },
  {
   "cell_type": "code",
   "execution_count": 2,
   "id": "6be05024",
   "metadata": {
    "pycharm": {
     "name": "#%%\n"
    }
   },
   "outputs": [],
   "source": [
    "data = pd.read_csv(\"fraud_detection_dataset.csv\")"
   ]
  },
  {
   "cell_type": "code",
   "execution_count": 3,
   "id": "67b40eee",
   "metadata": {
    "pycharm": {
     "name": "#%%\n"
    }
   },
   "outputs": [],
   "source": [
    "data = data.dropna(subset=[\"card1\", \"card2\", \"card3\", \"card4\", \"card5\", \"card6\"])"
   ]
  },
  {
   "cell_type": "markdown",
   "id": "c2ec02e0",
   "metadata": {
    "pycharm": {
     "name": "#%% md\n"
    }
   },
   "source": [
    "# Functions"
   ]
  },
  {
   "cell_type": "code",
   "execution_count": 4,
   "id": "757a34de",
   "metadata": {
    "pycharm": {
     "name": "#%%\n"
    }
   },
   "outputs": [],
   "source": [
    "def generateSignatures(dataframe, attributes):\n",
    "    identity_attributes = dataframe[attributes].dropna()\n",
    "    unique_accounts = identity_attributes.drop_duplicates()\n",
    "    \n",
    "    numeric_part = identity_attributes[[\"card1\", \"card2\", \"card3\", \"card5\"]].astype(int)\n",
    "    numeric_part = numeric_part.astype(str)\n",
    "    numeric_part = numeric_part[[\"card1\", \"card2\", \"card3\", \"card5\"]].agg(\"\".join, axis=1)\n",
    "    \n",
    "    first_char = identity_attributes[\"card4\"].str[0]\n",
    "    \n",
    "    second_char = identity_attributes[\"card6\"].apply(len).astype(str)\n",
    "    \n",
    "    result = numeric_part + first_char + second_char\n",
    "    \n",
    "    return result"
   ]
  },
  {
   "cell_type": "markdown",
   "id": "ddcc708b",
   "metadata": {
    "pycharm": {
     "name": "#%% md\n"
    }
   },
   "source": [
    "# Get Unique Nodes"
   ]
  },
  {
   "cell_type": "code",
   "execution_count": 5,
   "id": "348d5a64",
   "metadata": {
    "pycharm": {
     "name": "#%%\n"
    }
   },
   "outputs": [],
   "source": [
    "signatures = pd.DataFrame(generateSignatures(data, [\"card1\", \"card2\", \"card3\", \"card4\", \"card5\", \"card6\"]))"
   ]
  },
  {
   "cell_type": "code",
   "execution_count": 6,
   "id": "10114c93",
   "metadata": {
    "pycharm": {
     "name": "#%%\n"
    }
   },
   "outputs": [],
   "source": [
    "signatures.columns = [\"AccountName\"]"
   ]
  },
  {
   "cell_type": "code",
   "execution_count": 8,
   "id": "64fe1feb",
   "metadata": {
    "pycharm": {
     "name": "#%%\n"
    }
   },
   "outputs": [],
   "source": [
    "data_nodes = pd.concat([signatures, data], axis=1)"
   ]
  },
  {
   "cell_type": "code",
   "execution_count": 9,
   "id": "9ee906d0",
   "metadata": {
    "pycharm": {
     "name": "#%%\n"
    }
   },
   "outputs": [],
   "source": [
    "data_nodes.drop(columns=[\"Unnamed: 0\"], inplace=True)"
   ]
  },
  {
   "cell_type": "code",
   "execution_count": 10,
   "id": "8070be04",
   "metadata": {
    "pycharm": {
     "name": "#%%\n"
    }
   },
   "outputs": [
    {
     "data": {
      "text/plain": "(142667, 20)"
     },
     "execution_count": 10,
     "metadata": {},
     "output_type": "execute_result"
    }
   ],
   "source": [
    "data_nodes.shape"
   ]
  },
  {
   "cell_type": "code",
   "execution_count": 11,
   "id": "ff54fe27",
   "metadata": {
    "pycharm": {
     "name": "#%%\n"
    }
   },
   "outputs": [
    {
     "data": {
      "text/plain": "8404"
     },
     "execution_count": 11,
     "metadata": {},
     "output_type": "execute_result"
    }
   ],
   "source": [
    "data_nodes[\"AccountName\"].nunique()"
   ]
  },
  {
   "cell_type": "code",
   "execution_count": 14,
   "id": "745f2e04",
   "metadata": {
    "pycharm": {
     "name": "#%%\n"
    }
   },
   "outputs": [],
   "source": [
    "data_nodes.to_csv(\"node_oriented_dataset.csv\", index=False)"
   ]
  },
  {
   "cell_type": "markdown",
   "id": "4bddf443",
   "metadata": {
    "pycharm": {
     "name": "#%% md\n"
    }
   },
   "source": [
    "# Map Device Info/Transaction Amount to Unique Accounts\n"
   ]
  },
  {
   "cell_type": "code",
   "execution_count": 16,
   "id": "2557bf1e",
   "metadata": {
    "pycharm": {
     "name": "#%%\n"
    }
   },
   "outputs": [],
   "source": [
    "#data_nodes.drop(columns=[\"Unnamed: 0\"], inplace=True)"
   ]
  },
  {
   "cell_type": "code",
   "execution_count": 17,
   "id": "09b8fef3",
   "metadata": {
    "pycharm": {
     "name": "#%%\n"
    }
   },
   "outputs": [
    {
     "data": {
      "text/plain": "Index(['AccountName', 'TransactionID', 'DeviceType', 'DeviceInfo', 'isFraud',\n       'TransactionDT', 'TransactionAmt', 'ProductCD', 'card1', 'card2',\n       'card3', 'card4', 'card5', 'card6', 'addr1', 'addr2', 'dist1', 'dist2',\n       'P_emaildomain', 'R_emaildomain'],\n      dtype='object')"
     },
     "execution_count": 17,
     "metadata": {},
     "output_type": "execute_result"
    }
   ],
   "source": [
    "data_nodes.columns"
   ]
  },
  {
   "cell_type": "code",
   "execution_count": 18,
   "id": "ad5fc9de",
   "metadata": {
    "pycharm": {
     "name": "#%%\n"
    }
   },
   "outputs": [
    {
     "data": {
      "text/plain": "AccountName       DeviceInfo      \n10003555128226v5  S60 Build/MMB29M     3\n10004529150162v6  Windows              3\n                  iOS Device           3\n                  Trident/7.0          2\n                  MacOS                1\n                                      ..\n9995479150166v5   Trident/7.0          1\n                  Windows              1\n9999174150226v5   rv:11.0             15\n                  Trident/7.0          1\n                  Windows              1\nName: DeviceInfo, Length: 25984, dtype: int64"
     },
     "execution_count": 18,
     "metadata": {},
     "output_type": "execute_result"
    }
   ],
   "source": [
    "data_nodes.groupby(\"AccountName\")[\"DeviceInfo\"].value_counts()"
   ]
  },
  {
   "cell_type": "code",
   "execution_count": 19,
   "id": "988d0c37",
   "metadata": {
    "pycharm": {
     "name": "#%%\n"
    }
   },
   "outputs": [],
   "source": [
    "test_df = pd.DataFrame(data_nodes.groupby([\"AccountName\"])[\"DeviceInfo\"].value_counts())\n",
    "test_df.columns=[\"weight\"]"
   ]
  },
  {
   "cell_type": "code",
   "execution_count": 20,
   "id": "b5a27c8f",
   "metadata": {
    "pycharm": {
     "name": "#%%\n"
    }
   },
   "outputs": [],
   "source": [
    "test_df = test_df.reset_index()"
   ]
  },
  {
   "cell_type": "code",
   "execution_count": 21,
   "id": "2cf40aeb",
   "metadata": {
    "pycharm": {
     "name": "#%%\n"
    }
   },
   "outputs": [],
   "source": [
    "merged = pd.merge(test_df, data_nodes, on=[\"AccountName\", \"DeviceInfo\"])"
   ]
  },
  {
   "cell_type": "code",
   "execution_count": 22,
   "id": "e8b3d490",
   "metadata": {
    "pycharm": {
     "name": "#%%\n"
    }
   },
   "outputs": [
    {
     "data": {
      "text/plain": "AccountName\n10003555128226v5                          [3328484, 3337343, 3337365]\n10004529150162v6    [3006707, 3051248, 3522508, 3045388, 3086681, ...\n10005399150150a6                 [3076343, 3076354, 3076367, 3478374]\n1000555185224m5                                             [3230924]\n10006390150102m6                                            [3121106]\n                                          ...                        \n9992455150126m5     [3124651, 3185203, 3193849, 3271358, 3297459, ...\n9993399150185a6                                             [3033166]\n9994442150226v6                                             [3053803]\n9995479150166v5                                    [3039376, 3223057]\n9999174150226v5     [3136247, 3136255, 3136256, 3136270, 3151581, ...\nName: TransactionID, Length: 7750, dtype: object"
     },
     "execution_count": 22,
     "metadata": {},
     "output_type": "execute_result"
    }
   ],
   "source": [
    "merged.groupby(\"AccountName\")[\"TransactionID\"].apply(list)"
   ]
  },
  {
   "cell_type": "code",
   "execution_count": 23,
   "id": "9e754e41",
   "metadata": {
    "pycharm": {
     "name": "#%%\n"
    }
   },
   "outputs": [],
   "source": [
    "merged[[\"AccountName\", \"DeviceInfo\", \"weight\", \"TransactionID\", \"isFraud\", \"TransactionDT\", \"TransactionAmt\", \"ProductCD\"]].to_csv(\"weights_account_to_device.csv\")"
   ]
  },
  {
   "cell_type": "code",
   "execution_count": 24,
   "id": "e6975185",
   "metadata": {
    "pycharm": {
     "name": "#%%\n"
    }
   },
   "outputs": [
    {
     "data": {
      "text/plain": "DeviceType  isFraud\ndesktop     0          68719\n            1           4016\nmobile      0          40288\n            1           4318\nName: isFraud, dtype: int64"
     },
     "execution_count": 24,
     "metadata": {},
     "output_type": "execute_result"
    }
   ],
   "source": [
    "merged.groupby(\"DeviceType\")[\"isFraud\"].value_counts()"
   ]
  },
  {
   "cell_type": "code",
   "execution_count": 25,
   "id": "d90f6c53",
   "metadata": {
    "pycharm": {
     "name": "#%%\n"
    }
   },
   "outputs": [
    {
     "data": {
      "text/plain": "DeviceInfo      isFraud\n0PAJ5           0          1\n0PJA2           0          1\n0PM92           0          2\n                1          2\n1016S           0          1\n                          ..\nverykools5004   0          2\nverykools5034   0          1\nverykools5035   0          1\nvivo            0          5\nxs-Z47b7VqTMxs  0          1\nName: isFraud, Length: 2150, dtype: int64"
     },
     "execution_count": 25,
     "metadata": {},
     "output_type": "execute_result"
    }
   ],
   "source": [
    "merged.groupby(\"DeviceInfo\")[\"isFraud\"].value_counts()"
   ]
  },
  {
   "cell_type": "code",
   "execution_count": null,
   "id": "0fe95855",
   "metadata": {
    "pycharm": {
     "name": "#%%\n"
    }
   },
   "outputs": [],
   "source": []
  }
 ],
 "metadata": {
  "kernelspec": {
   "display_name": "Python 3",
   "language": "python",
   "name": "python3"
  },
  "language_info": {
   "codemirror_mode": {
    "name": "ipython",
    "version": 3
   },
   "file_extension": ".py",
   "mimetype": "text/x-python",
   "name": "python",
   "nbconvert_exporter": "python",
   "pygments_lexer": "ipython3",
   "version": "3.9.2"
  }
 },
 "nbformat": 4,
 "nbformat_minor": 5
}