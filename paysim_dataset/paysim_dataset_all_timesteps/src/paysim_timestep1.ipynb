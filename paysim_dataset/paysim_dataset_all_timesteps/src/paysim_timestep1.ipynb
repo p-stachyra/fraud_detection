{
 "cells": [
  {
   "cell_type": "markdown",
   "source": [
    "# Single timestep graph - Elliptic data set"
   ],
   "metadata": {
    "collapsed": false,
    "pycharm": {
     "name": "#%% md\n"
    }
   }
  },
  {
   "cell_type": "code",
   "execution_count": 146,
   "outputs": [],
   "source": [
    "# global imports\n",
    "import matplotlib.pyplot as plt\n",
    "import networkx as nx\n",
    "import numpy as np\n",
    "import pandas as pd\n",
    "import powerlaw\n",
    "import seaborn as sns\n",
    "\n",
    "from graphdatascience import GraphDataScience\n",
    "from matplotlib.ticker import FormatStrFormatter\n",
    "from tqdm.notebook import tqdm\n",
    "\n",
    "# local imports\n",
    "from AnalysisManager import AnalysisManager\n",
    "from NodeMetrics import NodeMetrics\n",
    "from GraphMetrics import GraphMetrics"
   ],
   "metadata": {
    "collapsed": false,
    "pycharm": {
     "name": "#%%\n"
    }
   }
  },
  {
   "cell_type": "markdown",
   "source": [
    "#### Neo4j modules"
   ],
   "metadata": {
    "collapsed": false,
    "pycharm": {
     "name": "#%% md\n"
    }
   }
  },
  {
   "cell_type": "code",
   "execution_count": 2,
   "outputs": [],
   "source": [
    "manager = AnalysisManager(\"neo4j\", \"paysim\", \"../data\", outputs_base_location=\"../\")\n",
    "connector = GraphDataScience(\"bolt://localhost:7687\", auth=(\"neo4j\", \"paysim\"))\n",
    "node_metrics = NodeMetrics(connector, \"paysim\", \"node\", \"TRANSACTION\")\n",
    "graph_metrics = GraphMetrics(connector, \"paysim\", \"node\", \"TRANSACTION\")"
   ],
   "metadata": {
    "collapsed": false,
    "pycharm": {
     "name": "#%%\n"
    }
   }
  },
  {
   "cell_type": "markdown",
   "source": [
    "#### Networkx graph"
   ],
   "metadata": {
    "collapsed": false,
    "pycharm": {
     "name": "#%% md\n"
    }
   }
  },
  {
   "cell_type": "code",
   "execution_count": 3,
   "outputs": [],
   "source": [
    "edgelist = pd.read_csv(\"../data/paysim_dataset.csv\")\n",
    "edgelist = edgelist[edgelist[\"step\"] == 1]\n",
    "graphtype = nx.DiGraph()\n",
    "graph = nx.from_pandas_edgelist(edgelist,\n",
    "                                source=\"nameOrig\",\n",
    "                                target=\"nameDest\",\n",
    "                                create_using=graphtype)"
   ],
   "metadata": {
    "collapsed": false,
    "pycharm": {
     "name": "#%%\n"
    }
   }
  },
  {
   "cell_type": "markdown",
   "source": [
    "### Functions related to working with Networkx library"
   ],
   "metadata": {
    "collapsed": false,
    "pycharm": {
     "name": "#%% md\n"
    }
   }
  },
  {
   "cell_type": "markdown",
   "source": [
    "Note on shortest paths"
   ],
   "metadata": {
    "collapsed": false,
    "pycharm": {
     "name": "#%% md\n"
    }
   }
  },
  {
   "cell_type": "markdown",
   "source": [
    "The shortest paths are determined using Networkx class static method shortest_path_length() which returns pairs of node ID and a dictionary containing all its neighbours IDs and path lengths to them. <br>\n",
    "In this case, the information is stored in a multidimensional array of heterogenious sizes of elements which store the origin node ID, destination node IDs and path lengths."
   ],
   "metadata": {
    "collapsed": false,
    "pycharm": {
     "name": "#%% md\n"
    }
   }
  },
  {
   "cell_type": "code",
   "execution_count": 4,
   "outputs": [],
   "source": [
    "def getAllShortestPaths(graph):\n",
    "    all_shortest_paths = []\n",
    "    for (i,j) in nx.shortest_path_length(graph):\n",
    "        all_shortest_paths.append([i, list(j.keys()), np.array(list(j.values()))])\n",
    "    return all_shortest_paths"
   ],
   "metadata": {
    "collapsed": false,
    "pycharm": {
     "name": "#%%\n"
    }
   }
  },
  {
   "cell_type": "code",
   "execution_count": 5,
   "outputs": [],
   "source": [
    "def getMeanOfShortestPaths(shortest_paths):\n",
    "    summed_lengths = 0\n",
    "    number_of_paths = 0\n",
    "    for i in range(len(shortest_paths)):\n",
    "        summed_lengths += (shortest_paths[i][2].sum())\n",
    "        number_of_paths += len(shortest_paths[i][2])\n",
    "\n",
    "    return summed_lengths / number_of_paths"
   ],
   "metadata": {
    "collapsed": false,
    "pycharm": {
     "name": "#%%\n"
    }
   }
  },
  {
   "cell_type": "code",
   "execution_count": 6,
   "outputs": [],
   "source": [
    "def getMedianOfShortestPaths(shortest_paths):\n",
    "    all_paths_lengths = []\n",
    "    for i in range(len(shortest_paths)):\n",
    "        for path_length in shortest_paths[i][2]:\n",
    "            all_paths_lengths.append(path_length)\n",
    "    all_paths_lengths = pd.Series(np.array(all_paths_lengths))\n",
    "    return all_paths_lengths.median()"
   ],
   "metadata": {
    "collapsed": false,
    "pycharm": {
     "name": "#%%\n"
    }
   }
  },
  {
   "cell_type": "code",
   "execution_count": 7,
   "outputs": [],
   "source": [
    "def getDiameter(shortest_paths):\n",
    "    all_paths_lengths = []\n",
    "    for i in range(len(shortest_paths)):\n",
    "        for path_length in shortest_paths[i][2]:\n",
    "            all_paths_lengths.append(path_length)\n",
    "    all_paths_lengths = pd.Series(np.array(all_paths_lengths))\n",
    "    return all_paths_lengths.max()"
   ],
   "metadata": {
    "collapsed": false,
    "pycharm": {
     "name": "#%%\n"
    }
   }
  },
  {
   "cell_type": "code",
   "execution_count": 8,
   "outputs": [],
   "source": [
    "def getDegreeDistribution(connector, nodes_and_classes):\n",
    "    nodes = nodes_and_classes[\"id\"]\n",
    "    degree_df = None\n",
    "    for node in tqdm(nodes):\n",
    "        results_in_degree = connector.run_cypher(\"\"\"\n",
    "                        MATCH (n:node)<-[r:TRANSACTION]-(m:node)\n",
    "                        WHERE n.id = '%s'\n",
    "                        RETURN n.id AS id, count(m) AS in_degree\n",
    "                        \"\"\" % node)\n",
    "        results_out_degree = connector.run_cypher(\"\"\"\n",
    "                        MATCH (n:node)-[r:TRANSACTION]->(m:node)\n",
    "                        WHERE n.id = '%s'\n",
    "                        RETURN n.id AS id, count(m) AS out_degree\n",
    "                        \"\"\" % node)\n",
    "\n",
    "        merged = pd.merge(results_in_degree, results_out_degree, on=\"id\", how=\"outer\")\n",
    "\n",
    "        if degree_df is None:\n",
    "            degree_df = merged\n",
    "        else:\n",
    "            degree_df = pd.concat([degree_df, merged], axis=0)\n",
    "\n",
    "    return degree_df.fillna(0)"
   ],
   "metadata": {
    "collapsed": false,
    "pycharm": {
     "name": "#%%\n"
    }
   }
  },
  {
   "cell_type": "markdown",
   "source": [
    "## Large-scale Network Properties"
   ],
   "metadata": {
    "collapsed": false,
    "pycharm": {
     "name": "#%% md\n"
    }
   }
  },
  {
   "cell_type": "code",
   "execution_count": 9,
   "outputs": [],
   "source": [
    "nodes_classes = node_metrics.getNodesClasses()"
   ],
   "metadata": {
    "collapsed": false,
    "pycharm": {
     "name": "#%%\n"
    }
   }
  },
  {
   "cell_type": "code",
   "execution_count": 10,
   "outputs": [
    {
     "data": {
      "text/plain": "  0%|          | 0/4341 [00:00<?, ?it/s]",
      "application/vnd.jupyter.widget-view+json": {
       "version_major": 2,
       "version_minor": 0,
       "model_id": "bc27f2881674439a94bafa0a873e5480"
      }
     },
     "metadata": {},
     "output_type": "display_data"
    }
   ],
   "source": [
    "degree_distribution_df = getDegreeDistribution(connector=connector, nodes_and_classes=nodes_classes)"
   ],
   "metadata": {
    "collapsed": false,
    "pycharm": {
     "name": "#%%\n"
    }
   }
  },
  {
   "cell_type": "code",
   "execution_count": 11,
   "outputs": [],
   "source": [
    "column_names = [\"Type\", \"n\", \"m\", \"c_in\", \"c_out\", \"S\", \"l\", \"alpha_in\", \"alpha_out\", \"C\"]\n",
    "properties = [\"Directed\"]"
   ],
   "metadata": {
    "collapsed": false,
    "pycharm": {
     "name": "#%%\n"
    }
   }
  },
  {
   "cell_type": "markdown",
   "source": [
    "Number of nodes"
   ],
   "metadata": {
    "collapsed": false,
    "pycharm": {
     "name": "#%% md\n"
    }
   }
  },
  {
   "cell_type": "code",
   "execution_count": 12,
   "outputs": [
    {
     "name": "stdout",
     "output_type": "stream",
     "text": [
      "4341\n"
     ]
    }
   ],
   "source": [
    "n = graph_metrics.getGraphSize()\n",
    "properties.append(n)\n",
    "print(n)"
   ],
   "metadata": {
    "collapsed": false,
    "pycharm": {
     "name": "#%%\n"
    }
   }
  },
  {
   "cell_type": "markdown",
   "source": [
    "Number of edges"
   ],
   "metadata": {
    "collapsed": false,
    "pycharm": {
     "name": "#%% md\n"
    }
   }
  },
  {
   "cell_type": "code",
   "execution_count": 13,
   "outputs": [
    {
     "name": "stdout",
     "output_type": "stream",
     "text": [
      "2708\n"
     ]
    }
   ],
   "source": [
    "m = graph_metrics.getNumberOfEdges().values[0][0]\n",
    "properties.append(m)\n",
    "print(m)"
   ],
   "metadata": {
    "collapsed": false,
    "pycharm": {
     "name": "#%%\n"
    }
   }
  },
  {
   "cell_type": "markdown",
   "source": [
    "Mean degree"
   ],
   "metadata": {
    "collapsed": false,
    "pycharm": {
     "name": "#%% md\n"
    }
   }
  },
  {
   "cell_type": "code",
   "execution_count": 14,
   "outputs": [
    {
     "name": "stdout",
     "output_type": "stream",
     "text": [
      "0.6238193964524303\n",
      "0.6238193964524303\n"
     ]
    }
   ],
   "source": [
    "c_in = degree_distribution_df[\"in_degree\"].mean()\n",
    "c_out = degree_distribution_df[\"out_degree\"].mean()\n",
    "properties.append(c_in)\n",
    "properties.append(c_out)\n",
    "print(c_in)\n",
    "print(c_out)"
   ],
   "metadata": {
    "collapsed": false,
    "pycharm": {
     "name": "#%%\n"
    }
   }
  },
  {
   "cell_type": "markdown",
   "source": [
    "Fraction of nodes in the giant component (the largest component)"
   ],
   "metadata": {
    "collapsed": false,
    "pycharm": {
     "name": "#%% md\n"
    }
   }
  },
  {
   "cell_type": "code",
   "execution_count": 15,
   "outputs": [
    {
     "name": "stdout",
     "output_type": "stream",
     "text": [
      "0.007601935038009675\n"
     ]
    }
   ],
   "source": [
    "fractions = pd.DataFrame(graph_metrics.getFractionsWeaklyConnectedComponents())\n",
    "fractions = fractions.reset_index()\n",
    "fractions.columns = [\"componentId\", \"fraction_of_nodes\"]\n",
    "S = fractions[fractions[\"fraction_of_nodes\"] == fractions[\"fraction_of_nodes\"].max()][\"fraction_of_nodes\"][0]\n",
    "properties.append(S)\n",
    "print(S)"
   ],
   "metadata": {
    "collapsed": false,
    "pycharm": {
     "name": "#%%\n"
    }
   }
  },
  {
   "cell_type": "markdown",
   "source": [
    "Mean distance between connected node pairs"
   ],
   "metadata": {
    "collapsed": false,
    "pycharm": {
     "name": "#%% md\n"
    }
   }
  },
  {
   "cell_type": "code",
   "execution_count": 16,
   "outputs": [
    {
     "name": "stdout",
     "output_type": "stream",
     "text": [
      "0.38416796708753015\n"
     ]
    }
   ],
   "source": [
    "l = getMeanOfShortestPaths(getAllShortestPaths(graph=graph))\n",
    "properties.append(l)\n",
    "print(l)"
   ],
   "metadata": {
    "collapsed": false,
    "pycharm": {
     "name": "#%%\n"
    }
   }
  },
  {
   "cell_type": "markdown",
   "source": [
    "Exponent alpha"
   ],
   "metadata": {
    "collapsed": false,
    "pycharm": {
     "name": "#%% md\n"
    }
   }
  },
  {
   "cell_type": "code",
   "execution_count": 17,
   "outputs": [
    {
     "name": "stdout",
     "output_type": "stream",
     "text": [
      "0     2708\n",
      "1     1452\n",
      "2       48\n",
      "3       25\n",
      "4       15\n",
      "7       14\n",
      "5       13\n",
      "6       12\n",
      "9        7\n",
      "15       7\n",
      "10       6\n",
      "14       5\n",
      "18       5\n",
      "13       4\n",
      "8        4\n",
      "20       3\n",
      "22       3\n",
      "32       2\n",
      "12       2\n",
      "11       2\n",
      "28       1\n",
      "21       1\n",
      "16       1\n",
      "17       1\n",
      "Name: in_degree, dtype: int64\n",
      "1    2708\n",
      "0    1633\n",
      "Name: out_degree, dtype: int64\n",
      "Calculating best minimal value for power law fit\n",
      "Calculating best minimal value for power law fit\n"
     ]
    },
    {
     "name": "stderr",
     "output_type": "stream",
     "text": [
      "Values less than or equal to 0 in data. Throwing out 0 or negative values\n",
      "Values less than or equal to 0 in data. Throwing out 0 or negative values\n",
      "Less than 2 unique data values left after xmin and xmax options! Cannot fit. Returning nans.\n"
     ]
    }
   ],
   "source": [
    "print(degree_distribution_df[\"in_degree\"].value_counts())\n",
    "print(degree_distribution_df[\"out_degree\"].value_counts())\n",
    "x1 = degree_distribution_df[\"in_degree\"].values\n",
    "x2 = degree_distribution_df[\"out_degree\"].values\n",
    "data1 = powerlaw.Fit(x1)\n",
    "data2 = powerlaw.Fit(x2)\n",
    "properties.append(data1.alpha)\n",
    "properties.append(data2.alpha)"
   ],
   "metadata": {
    "collapsed": false,
    "pycharm": {
     "name": "#%%\n"
    }
   }
  },
  {
   "cell_type": "code",
   "execution_count": 18,
   "outputs": [
    {
     "name": "stdout",
     "output_type": "stream",
     "text": [
      "6.582630997458917\n",
      "nan\n"
     ]
    }
   ],
   "source": [
    "print(data1.alpha)\n",
    "print(data2.alpha)"
   ],
   "metadata": {
    "collapsed": false,
    "pycharm": {
     "name": "#%%\n"
    }
   }
  },
  {
   "cell_type": "markdown",
   "source": [
    "Mean clustering coefficient"
   ],
   "metadata": {
    "collapsed": false,
    "pycharm": {
     "name": "#%% md\n"
    }
   }
  },
  {
   "cell_type": "code",
   "execution_count": 19,
   "outputs": [
    {
     "name": "stdout",
     "output_type": "stream",
     "text": [
      "0.0\n"
     ]
    }
   ],
   "source": [
    "local_clustering_coefficients = node_metrics.getClusteringCoefficient()\n",
    "C = local_clustering_coefficients[\"localClusteringCoefficient\"].mean()\n",
    "properties.append(C)\n",
    "print(C)"
   ],
   "metadata": {
    "collapsed": false,
    "pycharm": {
     "name": "#%%\n"
    }
   }
  },
  {
   "cell_type": "code",
   "execution_count": 20,
   "outputs": [
    {
     "data": {
      "text/plain": "       Type     n     m      c_in     c_out         S         l  alpha_in  \\\n0  Directed  4341  2708  0.623819  0.623819  0.007602  0.384168  6.582631   \n\n   alpha_out    C  \n0        NaN  0.0  ",
      "text/html": "<div>\n<style scoped>\n    .dataframe tbody tr th:only-of-type {\n        vertical-align: middle;\n    }\n\n    .dataframe tbody tr th {\n        vertical-align: top;\n    }\n\n    .dataframe thead th {\n        text-align: right;\n    }\n</style>\n<table border=\"1\" class=\"dataframe\">\n  <thead>\n    <tr style=\"text-align: right;\">\n      <th></th>\n      <th>Type</th>\n      <th>n</th>\n      <th>m</th>\n      <th>c_in</th>\n      <th>c_out</th>\n      <th>S</th>\n      <th>l</th>\n      <th>alpha_in</th>\n      <th>alpha_out</th>\n      <th>C</th>\n    </tr>\n  </thead>\n  <tbody>\n    <tr>\n      <th>0</th>\n      <td>Directed</td>\n      <td>4341</td>\n      <td>2708</td>\n      <td>0.623819</td>\n      <td>0.623819</td>\n      <td>0.007602</td>\n      <td>0.384168</td>\n      <td>6.582631</td>\n      <td>NaN</td>\n      <td>0.0</td>\n    </tr>\n  </tbody>\n</table>\n</div>"
     },
     "execution_count": 20,
     "metadata": {},
     "output_type": "execute_result"
    }
   ],
   "source": [
    "large_scale_structure_df = pd.DataFrame([properties])\n",
    "large_scale_structure_df.columns = column_names\n",
    "large_scale_structure_df.to_csv(\"../graph_large_scale_properties.csv\")\n",
    "large_scale_structure_df"
   ],
   "metadata": {
    "collapsed": false,
    "pycharm": {
     "name": "#%%\n"
    }
   }
  },
  {
   "cell_type": "markdown",
   "source": [
    "### Additional properties"
   ],
   "metadata": {
    "collapsed": false,
    "pycharm": {
     "name": "#%% md\n"
    }
   }
  },
  {
   "cell_type": "markdown",
   "source": [
    "Number of strongly connected components"
   ],
   "metadata": {
    "collapsed": false,
    "pycharm": {
     "name": "#%% md\n"
    }
   }
  },
  {
   "cell_type": "code",
   "execution_count": 21,
   "outputs": [
    {
     "data": {
      "text/plain": "4341"
     },
     "execution_count": 21,
     "metadata": {},
     "output_type": "execute_result"
    }
   ],
   "source": [
    "len(graph_metrics.getFractionsStronglyConnectedComponents())"
   ],
   "metadata": {
    "collapsed": false,
    "pycharm": {
     "name": "#%%\n"
    }
   }
  },
  {
   "cell_type": "markdown",
   "source": [
    "Number of weakly connected components"
   ],
   "metadata": {
    "collapsed": false,
    "pycharm": {
     "name": "#%% md\n"
    }
   }
  },
  {
   "cell_type": "code",
   "execution_count": 22,
   "outputs": [
    {
     "data": {
      "text/plain": "1633"
     },
     "execution_count": 22,
     "metadata": {},
     "output_type": "execute_result"
    }
   ],
   "source": [
    "len(graph_metrics.getFractionsWeaklyConnectedComponents())"
   ],
   "metadata": {
    "collapsed": false,
    "pycharm": {
     "name": "#%%\n"
    }
   }
  },
  {
   "cell_type": "markdown",
   "source": [
    "Graph's diameter"
   ],
   "metadata": {
    "collapsed": false,
    "pycharm": {
     "name": "#%% md\n"
    }
   }
  },
  {
   "cell_type": "code",
   "execution_count": 23,
   "outputs": [],
   "source": [
    "path_lengths = {}\n",
    "all_shortest_paths = getAllShortestPaths(graph)\n",
    "for i in range(len(all_shortest_paths)):\n",
    "    for path in all_shortest_paths[i][2]:\n",
    "        if path in path_lengths.keys():\n",
    "            path_lengths[path] += 1\n",
    "        else:\n",
    "            path_lengths[path] = 1"
   ],
   "metadata": {
    "collapsed": false,
    "pycharm": {
     "name": "#%%\n"
    }
   }
  },
  {
   "cell_type": "code",
   "execution_count": 24,
   "outputs": [
    {
     "data": {
      "text/plain": "{0: 4341, 1: 2708}"
     },
     "execution_count": 24,
     "metadata": {},
     "output_type": "execute_result"
    }
   ],
   "source": [
    "path_lengths"
   ],
   "metadata": {
    "collapsed": false,
    "pycharm": {
     "name": "#%%\n"
    }
   }
  },
  {
   "cell_type": "code",
   "execution_count": 25,
   "outputs": [
    {
     "data": {
      "text/plain": "1"
     },
     "execution_count": 25,
     "metadata": {},
     "output_type": "execute_result"
    }
   ],
   "source": [
    "getDiameter(getAllShortestPaths(graph=graph))"
   ],
   "metadata": {
    "collapsed": false,
    "pycharm": {
     "name": "#%%\n"
    }
   }
  },
  {
   "cell_type": "markdown",
   "source": [
    "## Centrality Metrics Analysis"
   ],
   "metadata": {
    "collapsed": false,
    "pycharm": {
     "name": "#%% md\n"
    }
   }
  },
  {
   "cell_type": "markdown",
   "source": [
    "#### Class imbalance"
   ],
   "metadata": {
    "collapsed": false,
    "pycharm": {
     "name": "#%% md\n"
    }
   }
  },
  {
   "cell_type": "code",
   "execution_count": 99,
   "outputs": [
    {
     "data": {
      "text/plain": "0    4309\n1      32\nName: class, dtype: int64"
     },
     "execution_count": 99,
     "metadata": {},
     "output_type": "execute_result"
    }
   ],
   "source": [
    "nodes_classes[\"class\"].value_counts()"
   ],
   "metadata": {
    "collapsed": false,
    "pycharm": {
     "name": "#%%\n"
    }
   }
  },
  {
   "cell_type": "markdown",
   "source": [
    "### Degree Distribution"
   ],
   "metadata": {
    "collapsed": false,
    "pycharm": {
     "name": "#%% md\n"
    }
   }
  },
  {
   "cell_type": "code",
   "execution_count": 26,
   "outputs": [
    {
     "data": {
      "text/plain": "   in_degree           id  out_degree\n0          0  C1305486145           1\n0          0   C840083671           1\n0          0  C1420196421           1\n0          0  C2101527076           1\n0          0   C137533655           1",
      "text/html": "<div>\n<style scoped>\n    .dataframe tbody tr th:only-of-type {\n        vertical-align: middle;\n    }\n\n    .dataframe tbody tr th {\n        vertical-align: top;\n    }\n\n    .dataframe thead th {\n        text-align: right;\n    }\n</style>\n<table border=\"1\" class=\"dataframe\">\n  <thead>\n    <tr style=\"text-align: right;\">\n      <th></th>\n      <th>in_degree</th>\n      <th>id</th>\n      <th>out_degree</th>\n    </tr>\n  </thead>\n  <tbody>\n    <tr>\n      <th>0</th>\n      <td>0</td>\n      <td>C1305486145</td>\n      <td>1</td>\n    </tr>\n    <tr>\n      <th>0</th>\n      <td>0</td>\n      <td>C840083671</td>\n      <td>1</td>\n    </tr>\n    <tr>\n      <th>0</th>\n      <td>0</td>\n      <td>C1420196421</td>\n      <td>1</td>\n    </tr>\n    <tr>\n      <th>0</th>\n      <td>0</td>\n      <td>C2101527076</td>\n      <td>1</td>\n    </tr>\n    <tr>\n      <th>0</th>\n      <td>0</td>\n      <td>C137533655</td>\n      <td>1</td>\n    </tr>\n  </tbody>\n</table>\n</div>"
     },
     "execution_count": 26,
     "metadata": {},
     "output_type": "execute_result"
    }
   ],
   "source": [
    "degree_distribution_df.head()"
   ],
   "metadata": {
    "collapsed": false,
    "pycharm": {
     "name": "#%%\n"
    }
   }
  },
  {
   "cell_type": "code",
   "execution_count": 129,
   "outputs": [],
   "source": [
    "def plotInDegreeDistribution(subset, title_postfix=\"\"):\n",
    "    subset = subset.value_counts()\n",
    "    plt.figure(figsize=(8,7))\n",
    "    sns.barplot(x=subset.index, y=subset, color=\"lightseagreen\")\n",
    "    plt.xlabel(\"in-degree\")\n",
    "    plt.ylabel(\"count\")\n",
    "    plt.title(f\"In-degree distribution {title_postfix}\")\n",
    "    plt.show()\n",
    "\n",
    "def plotOutDegreeDistribution(subset, title_postfix=\"\"):\n",
    "    subset = subset.value_counts()\n",
    "    plt.figure(figsize=(8,7))\n",
    "    sns.barplot(x=subset.index, y=subset, color=\"coral\")\n",
    "    plt.xlabel(\"out-degree\")\n",
    "    plt.ylabel(\"count\")\n",
    "    plt.title(f\"Out-degree distribution {title_postfix}\")\n",
    "    plt.show()"
   ],
   "metadata": {
    "collapsed": false,
    "pycharm": {
     "name": "#%%\n"
    }
   }
  },
  {
   "cell_type": "code",
   "execution_count": 130,
   "outputs": [
    {
     "data": {
      "text/plain": "<Figure size 576x504 with 1 Axes>",
      "image/png": "[encoded data removed]"
     },
     "metadata": {},
     "output_type": "display_data"
    },
    {
     "data": {
      "text/plain": "<Figure size 576x504 with 1 Axes>",
      "image/png": "[encoded data removed]"
     },
     "metadata": {},
     "output_type": "display_data"
    }
   ],
   "source": [
    "plotInDegreeDistribution(degree_distribution_df[\"in_degree\"], title_postfix=\": all transactions\")\n",
    "plotOutDegreeDistribution(degree_distribution_df[\"out_degree\"], title_postfix=\": all transactions\")"
   ],
   "metadata": {
    "collapsed": false,
    "pycharm": {
     "name": "#%%\n"
    }
   }
  },
  {
   "cell_type": "code",
   "execution_count": 131,
   "outputs": [
    {
     "data": {
      "text/plain": "<Figure size 576x504 with 1 Axes>",
      "image/png": "[encoded data removed]"
     },
     "metadata": {},
     "output_type": "display_data"
    }
   ],
   "source": [
    "plotInDegreeDistribution(degree_distribution_df[degree_distribution_df[\"in_degree\"] < 10][\"in_degree\"], title_postfix=\": degree limit of 10 exclusively\")"
   ],
   "metadata": {
    "collapsed": false,
    "pycharm": {
     "name": "#%%\n"
    }
   }
  },
  {
   "cell_type": "code",
   "execution_count": 132,
   "outputs": [
    {
     "data": {
      "text/plain": "<Figure size 576x504 with 1 Axes>",
      "image/png": "[encoded data removed]"
     },
     "metadata": {},
     "output_type": "display_data"
    }
   ],
   "source": [
    "plotInDegreeDistribution(degree_distribution_df[degree_distribution_df[\"in_degree\"] > 10][\"in_degree\"], title_postfix=\": degree greater than 10\")"
   ],
   "metadata": {
    "collapsed": false,
    "pycharm": {
     "name": "#%%\n"
    }
   }
  },
  {
   "cell_type": "code",
   "execution_count": 133,
   "outputs": [],
   "source": [
    "degree_distribution_and_class = pd.merge(nodes_classes, degree_distribution_df, on=\"id\")"
   ],
   "metadata": {
    "collapsed": false,
    "pycharm": {
     "name": "#%%\n"
    }
   }
  },
  {
   "cell_type": "code",
   "execution_count": 134,
   "outputs": [
    {
     "data": {
      "text/plain": "<Figure size 576x504 with 1 Axes>",
      "image/png": "[encoded data removed]"
     },
     "metadata": {},
     "output_type": "display_data"
    }
   ],
   "source": [
    "plotInDegreeDistribution(degree_distribution_and_class[degree_distribution_and_class[\"class\"] == 1][\"in_degree\"], title_postfix=\": fraudulent transactions\")"
   ],
   "metadata": {
    "collapsed": false,
    "pycharm": {
     "name": "#%%\n"
    }
   }
  },
  {
   "cell_type": "code",
   "execution_count": 135,
   "outputs": [
    {
     "data": {
      "text/plain": "<Figure size 576x504 with 1 Axes>",
      "image/png": "[encoded data removed]"
     },
     "metadata": {},
     "output_type": "display_data"
    }
   ],
   "source": [
    "plotInDegreeDistribution(degree_distribution_and_class[degree_distribution_and_class[\"class\"] == 0][\"in_degree\"], title_postfix=\": non-fraudulent transactions\")"
   ],
   "metadata": {
    "collapsed": false,
    "pycharm": {
     "name": "#%%\n"
    }
   }
  },
  {
   "cell_type": "code",
   "execution_count": 136,
   "outputs": [
    {
     "data": {
      "text/plain": "0     2692\n1     1443\n2       47\n3       22\n7       14\n4       14\n5       13\n6       12\n15       7\n9        6\n10       6\n14       5\n18       5\n13       4\n8        4\n20       3\n22       3\n32       2\n11       2\n28       1\n21       1\n16       1\n12       1\n17       1\nName: in_degree, dtype: int64"
     },
     "execution_count": 136,
     "metadata": {},
     "output_type": "execute_result"
    }
   ],
   "source": [
    "degree_distribution_and_class[degree_distribution_and_class[\"class\"] == 0][\"in_degree\"].value_counts()"
   ],
   "metadata": {
    "collapsed": false,
    "pycharm": {
     "name": "#%%\n"
    }
   }
  },
  {
   "cell_type": "code",
   "execution_count": 137,
   "outputs": [
    {
     "data": {
      "text/plain": "0     16\n1      9\n3      3\n2      1\n4      1\n9      1\n12     1\nName: in_degree, dtype: int64"
     },
     "execution_count": 137,
     "metadata": {},
     "output_type": "execute_result"
    }
   ],
   "source": [
    "degree_distribution_and_class[degree_distribution_and_class[\"class\"] == 1][\"in_degree\"].value_counts()"
   ],
   "metadata": {
    "collapsed": false,
    "pycharm": {
     "name": "#%%\n"
    }
   }
  },
  {
   "cell_type": "code",
   "execution_count": 138,
   "outputs": [
    {
     "data": {
      "text/plain": "<Figure size 576x504 with 1 Axes>",
      "image/png": "[encoded data removed]"
     },
     "metadata": {},
     "output_type": "display_data"
    }
   ],
   "source": [
    "plotOutDegreeDistribution(degree_distribution_and_class[degree_distribution_and_class[\"class\"] == 1][\"out_degree\"], title_postfix=\": fraudulent transactions\")"
   ],
   "metadata": {
    "collapsed": false,
    "pycharm": {
     "name": "#%%\n"
    }
   }
  },
  {
   "cell_type": "code",
   "execution_count": 139,
   "outputs": [
    {
     "data": {
      "text/plain": "<Figure size 576x504 with 1 Axes>",
      "image/png": "[encoded data removed]"
     },
     "metadata": {},
     "output_type": "display_data"
    }
   ],
   "source": [
    "plotOutDegreeDistribution(degree_distribution_and_class[degree_distribution_and_class[\"class\"] == 0][\"out_degree\"], title_postfix=\": non-fraudulent transactions\")"
   ],
   "metadata": {
    "collapsed": false,
    "pycharm": {
     "name": "#%%\n"
    }
   }
  },
  {
   "cell_type": "markdown",
   "source": [
    "### Pagerank scores distribution"
   ],
   "metadata": {
    "collapsed": false,
    "pycharm": {
     "name": "#%% md\n"
    }
   }
  },
  {
   "cell_type": "code",
   "execution_count": 150,
   "outputs": [],
   "source": [
    "def plotPageRankDistribution(subset, color, title_postfix=\"\"):\n",
    "    subset = subset.value_counts()\n",
    "    plt.figure(figsize=(8,7))\n",
    "    ax = sns.barplot(x=subset.index, y=subset, color=color)\n",
    "    ax.xaxis.set_major_formatter(FormatStrFormatter('%.2f'))\n",
    "    plt.xlabel(\"pagerank score\")\n",
    "    plt.xticks(rotation=45)\n",
    "    plt.ylabel(\"count\")\n",
    "    plt.title(f\"Pagerank scores distribution {title_postfix}\")\n",
    "    plt.show()"
   ],
   "metadata": {
    "collapsed": false,
    "pycharm": {
     "name": "#%%\n"
    }
   }
  },
  {
   "cell_type": "code",
   "execution_count": 151,
   "outputs": [
    {
     "data": {
      "text/plain": "                                  all_classes  illicit    licit\nmean_PageRankScore                    0.21461  0.21694  0.21461\nmedian_PageRankScore                  0.15000  0.21375  0.15000\nstandard_deviation_PageRankScore      0.06723  0.07020  0.06722\nminimum_value_PageRankScore           0.15000  0.15000  0.15000\nmaximum_value_PageRankScore           0.66000  0.40500  0.66000",
      "text/html": "<div>\n<style scoped>\n    .dataframe tbody tr th:only-of-type {\n        vertical-align: middle;\n    }\n\n    .dataframe tbody tr th {\n        vertical-align: top;\n    }\n\n    .dataframe thead th {\n        text-align: right;\n    }\n</style>\n<table border=\"1\" class=\"dataframe\">\n  <thead>\n    <tr style=\"text-align: right;\">\n      <th></th>\n      <th>all_classes</th>\n      <th>illicit</th>\n      <th>licit</th>\n    </tr>\n  </thead>\n  <tbody>\n    <tr>\n      <th>mean_PageRankScore</th>\n      <td>0.21461</td>\n      <td>0.21694</td>\n      <td>0.21461</td>\n    </tr>\n    <tr>\n      <th>median_PageRankScore</th>\n      <td>0.15000</td>\n      <td>0.21375</td>\n      <td>0.15000</td>\n    </tr>\n    <tr>\n      <th>standard_deviation_PageRankScore</th>\n      <td>0.06723</td>\n      <td>0.07020</td>\n      <td>0.06722</td>\n    </tr>\n    <tr>\n      <th>minimum_value_PageRankScore</th>\n      <td>0.15000</td>\n      <td>0.15000</td>\n      <td>0.15000</td>\n    </tr>\n    <tr>\n      <th>maximum_value_PageRankScore</th>\n      <td>0.66000</td>\n      <td>0.40500</td>\n      <td>0.66000</td>\n    </tr>\n  </tbody>\n</table>\n</div>"
     },
     "execution_count": 151,
     "metadata": {},
     "output_type": "execute_result"
    }
   ],
   "source": [
    "pagerank_scores = node_metrics.getPageRankScores()\n",
    "manager.getCentralityMetricsDataFrame(\"PageRankScore\")"
   ],
   "metadata": {
    "collapsed": false,
    "pycharm": {
     "name": "#%%\n"
    }
   }
  },
  {
   "cell_type": "code",
   "execution_count": 152,
   "outputs": [
    {
     "data": {
      "text/plain": "<Figure size 576x504 with 1 Axes>",
      "image/png": "[encoded data removed]"
     },
     "metadata": {},
     "output_type": "display_data"
    }
   ],
   "source": [
    "pagerank_scores_classes = pd.merge(pagerank_scores, nodes_classes, on=\"id\")\n",
    "plotPageRankDistribution(pagerank_scores_classes[\"PageRankScore\"], \"dodgerblue\", title_postfix=\": all nodes\")"
   ],
   "metadata": {
    "collapsed": false,
    "pycharm": {
     "name": "#%%\n"
    }
   }
  },
  {
   "cell_type": "code",
   "execution_count": 153,
   "outputs": [
    {
     "data": {
      "text/plain": "<Figure size 576x504 with 1 Axes>",
      "image/png": "[encoded data removed]"
     },
     "metadata": {},
     "output_type": "display_data"
    }
   ],
   "source": [
    "plotPageRankDistribution(pagerank_scores_classes[pagerank_scores_classes[\"PageRankScore\"] < 1][\"PageRankScore\"], \"dodgerblue\", title_postfix=\": all nodes, scores below 1\")"
   ],
   "metadata": {
    "collapsed": false,
    "pycharm": {
     "name": "#%%\n"
    }
   }
  },
  {
   "cell_type": "code",
   "execution_count": 154,
   "outputs": [
    {
     "data": {
      "text/plain": "<Figure size 576x504 with 1 Axes>",
      "image/png": "[encoded data removed]"
     },
     "metadata": {},
     "output_type": "display_data"
    }
   ],
   "source": [
    "plotPageRankDistribution(pagerank_scores_classes[pagerank_scores_classes[\"PageRankScore\"] > 1][\"PageRankScore\"], \"dodgerblue\", title_postfix=\": all nodes, scores above 1\")"
   ],
   "metadata": {
    "collapsed": false,
    "pycharm": {
     "name": "#%%\n"
    }
   }
  },
  {
   "cell_type": "code",
   "execution_count": 155,
   "outputs": [
    {
     "data": {
      "text/plain": "<Figure size 576x504 with 1 Axes>",
      "image/png": "[encoded data removed]"
     },
     "metadata": {},
     "output_type": "display_data"
    }
   ],
   "source": [
    "plotPageRankDistribution(pagerank_scores_classes[pagerank_scores_classes[\"class\"] == 1][\"PageRankScore\"], \"crimson\", title_postfix=\": fraudulent nodes\")"
   ],
   "metadata": {
    "collapsed": false,
    "pycharm": {
     "name": "#%%\n"
    }
   }
  },
  {
   "cell_type": "code",
   "execution_count": 156,
   "outputs": [
    {
     "data": {
      "text/plain": "<Figure size 576x504 with 1 Axes>",
      "image/png": "[encoded data removed]"
     },
     "metadata": {},
     "output_type": "display_data"
    }
   ],
   "source": [
    "plotPageRankDistribution(pagerank_scores_classes[pagerank_scores_classes[\"class\"] == 0][\"PageRankScore\"], \"green\", title_postfix=\": non-fraudulent nodes\")"
   ],
   "metadata": {
    "collapsed": false,
    "pycharm": {
     "name": "#%%\n"
    }
   }
  },
  {
   "cell_type": "markdown",
   "source": [
    "### Betweenness scores distribution"
   ],
   "metadata": {
    "collapsed": false,
    "pycharm": {
     "name": "#%% md\n"
    }
   }
  },
  {
   "cell_type": "code",
   "execution_count": 100,
   "outputs": [
    {
     "name": "stdout",
     "output_type": "stream",
     "text": [
      "0.0\n",
      "0.0\n"
     ]
    }
   ],
   "source": [
    "betweenness_scores = node_metrics.getBetweennessCentrality()\n",
    "print(betweenness_scores[\"BetweennessScore\"].max())\n",
    "print(betweenness_scores[\"BetweennessScore\"].min())"
   ],
   "metadata": {
    "collapsed": false,
    "pycharm": {
     "name": "#%%\n"
    }
   }
  },
  {
   "cell_type": "markdown",
   "source": [
    "### Eigenvector scores distribution"
   ],
   "metadata": {
    "collapsed": false,
    "pycharm": {
     "name": "#%% md\n"
    }
   }
  },
  {
   "cell_type": "code",
   "execution_count": 160,
   "outputs": [],
   "source": [
    "def plotEigenvectorScoresDistribution(subset, color, title_postfix=\"\"):\n",
    "    subset = subset.value_counts()\n",
    "    plt.figure(figsize=(8,7))\n",
    "    ax = sns.barplot(x=subset.index, y=subset, color=color)\n",
    "    ax.xaxis.set_major_formatter(FormatStrFormatter('%.2f'))\n",
    "    plt.xlabel(\"eigenvector score\")\n",
    "    plt.xticks(rotation=45)\n",
    "    plt.ylabel(\"count\")\n",
    "    plt.title(f\"Eigenvector scores distribution {title_postfix}\")\n",
    "    plt.show()"
   ],
   "metadata": {
    "collapsed": false,
    "pycharm": {
     "name": "#%%\n"
    }
   }
  },
  {
   "cell_type": "code",
   "execution_count": 181,
   "outputs": [],
   "source": [
    "eigenvector_scores = node_metrics.getEigenvectorCentrality()"
   ],
   "metadata": {
    "collapsed": false,
    "pycharm": {
     "name": "#%%\n"
    }
   }
  },
  {
   "cell_type": "code",
   "execution_count": 182,
   "outputs": [],
   "source": [
    "eigenvector_scores_classes = pd.merge(eigenvector_scores, nodes_classes, on=\"id\")"
   ],
   "metadata": {
    "collapsed": false,
    "pycharm": {
     "name": "#%%\n"
    }
   }
  },
  {
   "cell_type": "code",
   "execution_count": 183,
   "outputs": [
    {
     "data": {
      "text/plain": "                                          all_classes  illicit    licit\nmean_EigenvectorCentrality                    0.00279  0.00289  0.00279\nmedian_EigenvectorCentrality                  0.00024  0.00276  0.00024\nstandard_deviation_EigenvectorCentrality      0.00266  0.00278  0.00266\nminimum_value_EigenvectorCentrality           0.00024  0.00024  0.00024\nmaximum_value_EigenvectorCentrality           0.02042  0.01033  0.02042",
      "text/html": "<div>\n<style scoped>\n    .dataframe tbody tr th:only-of-type {\n        vertical-align: middle;\n    }\n\n    .dataframe tbody tr th {\n        vertical-align: top;\n    }\n\n    .dataframe thead th {\n        text-align: right;\n    }\n</style>\n<table border=\"1\" class=\"dataframe\">\n  <thead>\n    <tr style=\"text-align: right;\">\n      <th></th>\n      <th>all_classes</th>\n      <th>illicit</th>\n      <th>licit</th>\n    </tr>\n  </thead>\n  <tbody>\n    <tr>\n      <th>mean_EigenvectorCentrality</th>\n      <td>0.00279</td>\n      <td>0.00289</td>\n      <td>0.00279</td>\n    </tr>\n    <tr>\n      <th>median_EigenvectorCentrality</th>\n      <td>0.00024</td>\n      <td>0.00276</td>\n      <td>0.00024</td>\n    </tr>\n    <tr>\n      <th>standard_deviation_EigenvectorCentrality</th>\n      <td>0.00266</td>\n      <td>0.00278</td>\n      <td>0.00266</td>\n    </tr>\n    <tr>\n      <th>minimum_value_EigenvectorCentrality</th>\n      <td>0.00024</td>\n      <td>0.00024</td>\n      <td>0.00024</td>\n    </tr>\n    <tr>\n      <th>maximum_value_EigenvectorCentrality</th>\n      <td>0.02042</td>\n      <td>0.01033</td>\n      <td>0.02042</td>\n    </tr>\n  </tbody>\n</table>\n</div>"
     },
     "execution_count": 183,
     "metadata": {},
     "output_type": "execute_result"
    }
   ],
   "source": [
    "manager.getCentralityMetricsDataFrame(\"EigenvectorCentrality\")"
   ],
   "metadata": {
    "collapsed": false,
    "pycharm": {
     "name": "#%%\n"
    }
   }
  },
  {
   "cell_type": "code",
   "execution_count": 162,
   "outputs": [
    {
     "data": {
      "text/plain": "<Figure size 576x504 with 1 Axes>",
      "image/png": "[encoded data removed]"
     },
     "metadata": {},
     "output_type": "display_data"
    }
   ],
   "source": [
    "plotEigenvectorScoresDistribution(eigenvector_scores[\"EigenvectorCentrality\"], color=\"navy\", title_postfix=\": all nodes\")"
   ],
   "metadata": {
    "collapsed": false,
    "pycharm": {
     "name": "#%%\n"
    }
   }
  },
  {
   "cell_type": "code",
   "execution_count": 163,
   "outputs": [
    {
     "data": {
      "text/plain": "<Figure size 576x504 with 1 Axes>",
      "image/png": "[encoded data removed]"
     },
     "metadata": {},
     "output_type": "display_data"
    }
   ],
   "source": [
    "plotEigenvectorScoresDistribution(eigenvector_scores[eigenvector_scores[\"EigenvectorCentrality\"] < 0.04][\"EigenvectorCentrality\"], color=\"navy\", title_postfix=\": all nodes, scores lower than 0.04\")"
   ],
   "metadata": {
    "collapsed": false,
    "pycharm": {
     "name": "#%%\n"
    }
   }
  },
  {
   "cell_type": "code",
   "execution_count": 164,
   "outputs": [
    {
     "data": {
      "text/plain": "<Figure size 576x504 with 1 Axes>",
      "image/png": "[encoded data removed]"
     },
     "metadata": {},
     "output_type": "display_data"
    }
   ],
   "source": [
    "plotEigenvectorScoresDistribution(eigenvector_scores[eigenvector_scores[\"EigenvectorCentrality\"] > 0.04][\"EigenvectorCentrality\"], color=\"navy\", title_postfix=\": all nodes, scores greater than 0.1\")"
   ],
   "metadata": {
    "collapsed": false,
    "pycharm": {
     "name": "#%%\n"
    }
   }
  },
  {
   "cell_type": "code",
   "execution_count": 185,
   "outputs": [
    {
     "data": {
      "text/plain": "<Figure size 576x504 with 1 Axes>",
      "image/png": "[encoded data removed]"
     },
     "metadata": {},
     "output_type": "display_data"
    }
   ],
   "source": [
    "plotEigenvectorScoresDistribution(eigenvector_scores_classes[eigenvector_scores_classes[\"class\"] == 1][\"EigenvectorCentrality\"], color=\"crimson\", title_postfix=\": fraudulent nodes\")"
   ],
   "metadata": {
    "collapsed": false,
    "pycharm": {
     "name": "#%%\n"
    }
   }
  },
  {
   "cell_type": "code",
   "execution_count": 184,
   "outputs": [
    {
     "data": {
      "text/plain": "<Figure size 576x504 with 1 Axes>",
      "image/png": "[encoded data removed]"
     },
     "metadata": {},
     "output_type": "display_data"
    }
   ],
   "source": [
    "plotEigenvectorScoresDistribution(eigenvector_scores_classes[eigenvector_scores_classes[\"class\"] == 0][\"EigenvectorCentrality\"], color=\"green\", title_postfix=\": non-fraudulent nodes\")"
   ],
   "metadata": {
    "collapsed": false,
    "pycharm": {
     "name": "#%%\n"
    }
   }
  },
  {
   "cell_type": "markdown",
   "source": [
    "### Closeness Centrality Distribution"
   ],
   "metadata": {
    "collapsed": false,
    "pycharm": {
     "name": "#%% md\n"
    }
   }
  },
  {
   "cell_type": "code",
   "execution_count": 170,
   "outputs": [],
   "source": [
    "def plotClosenessScoresDistribution(subset, color, title_postfix=\"\"):\n",
    "    subset = subset.value_counts()\n",
    "    plt.figure(figsize=(8,7))\n",
    "    ax = sns.barplot(x=subset.index, y=subset, color=color)\n",
    "    ax.xaxis.set_major_formatter(FormatStrFormatter('%.2f'))\n",
    "    plt.xlabel(\"closeness score\")\n",
    "    plt.xticks(rotation=45)\n",
    "    plt.ylabel(\"count\")\n",
    "    plt.title(f\"Closeness scores distribution {title_postfix}\")\n",
    "    plt.show()"
   ],
   "metadata": {
    "collapsed": false,
    "pycharm": {
     "name": "#%%\n"
    }
   }
  },
  {
   "cell_type": "code",
   "execution_count": 171,
   "outputs": [],
   "source": [
    "closeness_scores = node_metrics.getClosenessCentrality()"
   ],
   "metadata": {
    "collapsed": false,
    "pycharm": {
     "name": "#%%\n"
    }
   }
  },
  {
   "cell_type": "code",
   "execution_count": 186,
   "outputs": [],
   "source": [
    "closeness_scores_classes = pd.merge(closeness_scores, nodes_classes, on=\"id\")"
   ],
   "metadata": {
    "collapsed": false,
    "pycharm": {
     "name": "#%%\n"
    }
   }
  },
  {
   "cell_type": "code",
   "execution_count": 172,
   "outputs": [
    {
     "data": {
      "text/plain": "                                   all_classes  illicit    licit\nmean_ClosenessScore                    0.49324  0.50000  0.49323\nmedian_ClosenessScore                  0.00000  0.50000  0.00000\nstandard_deviation_ClosenessScore      0.49996  0.50315  0.49996\nminimum_value_ClosenessScore           0.00000  0.00000  0.00000\nmaximum_value_ClosenessScore           1.00000  1.00000  1.00000",
      "text/html": "<div>\n<style scoped>\n    .dataframe tbody tr th:only-of-type {\n        vertical-align: middle;\n    }\n\n    .dataframe tbody tr th {\n        vertical-align: top;\n    }\n\n    .dataframe thead th {\n        text-align: right;\n    }\n</style>\n<table border=\"1\" class=\"dataframe\">\n  <thead>\n    <tr style=\"text-align: right;\">\n      <th></th>\n      <th>all_classes</th>\n      <th>illicit</th>\n      <th>licit</th>\n    </tr>\n  </thead>\n  <tbody>\n    <tr>\n      <th>mean_ClosenessScore</th>\n      <td>0.49324</td>\n      <td>0.50000</td>\n      <td>0.49323</td>\n    </tr>\n    <tr>\n      <th>median_ClosenessScore</th>\n      <td>0.00000</td>\n      <td>0.50000</td>\n      <td>0.00000</td>\n    </tr>\n    <tr>\n      <th>standard_deviation_ClosenessScore</th>\n      <td>0.49996</td>\n      <td>0.50315</td>\n      <td>0.49996</td>\n    </tr>\n    <tr>\n      <th>minimum_value_ClosenessScore</th>\n      <td>0.00000</td>\n      <td>0.00000</td>\n      <td>0.00000</td>\n    </tr>\n    <tr>\n      <th>maximum_value_ClosenessScore</th>\n      <td>1.00000</td>\n      <td>1.00000</td>\n      <td>1.00000</td>\n    </tr>\n  </tbody>\n</table>\n</div>"
     },
     "execution_count": 172,
     "metadata": {},
     "output_type": "execute_result"
    }
   ],
   "source": [
    "manager.getCentralityMetricsDataFrame(\"ClosenessScore\")"
   ],
   "metadata": {
    "collapsed": false,
    "pycharm": {
     "name": "#%%\n"
    }
   }
  },
  {
   "cell_type": "code",
   "execution_count": 179,
   "outputs": [
    {
     "data": {
      "text/plain": "<Figure size 576x504 with 1 Axes>",
      "image/png": "[encoded data removed]"
     },
     "metadata": {},
     "output_type": "display_data"
    }
   ],
   "source": [
    "plotClosenessScoresDistribution(closeness_scores[\"ClosenessScore\"], color=\"tan\")"
   ],
   "metadata": {
    "collapsed": false,
    "pycharm": {
     "name": "#%%\n"
    }
   }
  },
  {
   "cell_type": "code",
   "execution_count": 190,
   "outputs": [
    {
     "data": {
      "text/plain": "<Figure size 576x504 with 1 Axes>",
      "image/png": "[encoded data removed]"
     },
     "metadata": {},
     "output_type": "display_data"
    }
   ],
   "source": [
    "plotClosenessScoresDistribution(closeness_scores_classes[closeness_scores_classes[\"class\"] == 0][\"ClosenessScore\"], color=\"navy\", title_postfix=\": non-fraudulent nodes\")"
   ],
   "metadata": {
    "collapsed": false,
    "pycharm": {
     "name": "#%%\n"
    }
   }
  },
  {
   "cell_type": "code",
   "execution_count": 192,
   "outputs": [
    {
     "data": {
      "text/plain": "<Figure size 576x504 with 1 Axes>",
      "image/png": "[encoded data removed]"
     },
     "metadata": {},
     "output_type": "display_data"
    }
   ],
   "source": [
    "plotClosenessScoresDistribution(closeness_scores_classes[closeness_scores_classes[\"class\"] == 1][\"ClosenessScore\"], color=\"crimson\", title_postfix=\": fraudulent nodes\")"
   ],
   "metadata": {
    "collapsed": false,
    "pycharm": {
     "name": "#%%\n"
    }
   }
  },
  {
   "cell_type": "markdown",
   "source": [
    "## Louvain Communities Analysis"
   ],
   "metadata": {
    "collapsed": false,
    "pycharm": {
     "name": "#%% md\n"
    }
   }
  },
  {
   "cell_type": "code",
   "execution_count": 54,
   "outputs": [],
   "source": [
    "def getClassesDistributionInAllCommunities(analysis_manager, save=False, output_directory=None):\n",
    "    communities_distribution = analysis_manager.getNodeClassesInCommunities().groupby(\"communityId\")[\"class\"].value_counts()\n",
    "    content = pd.DataFrame(communities_distribution)\n",
    "    content.columns = [\"frequency\"]\n",
    "    content = content.reset_index()\n",
    "\n",
    "    if save & (output_directory is not None):\n",
    "        try:\n",
    "            with open(f\"{output_directory}/classes_distribution_in_louvain_communities.txt\", 'w') as fh:\n",
    "                fh.write(f\"{content.to_string(header=True, index=True)}\\n\")\n",
    "\n",
    "        except Exception as e:\n",
    "            print(\"Saving the contents failed. Error message: %s\" % e)\n",
    "\n",
    "    return content\n",
    "\n",
    "def getSuspiciousCommunities(classes_distribution_in_communities):\n",
    "    \"\"\"\n",
    "    :param classes_distribution_in_communities: a dataframe containing all communities' IDs and all transaction classes.\n",
    "    :return: a dataframe of communities which can be considered suspicious, potentially a fraud ring.\n",
    "    \"\"\"\n",
    "    communities_illicit = classes_distribution_in_communities[classes_distribution_in_communities[\"class\"] == 1][\"communityId\"]\n",
    "    communities_illicit = pd.DataFrame(communities_illicit)\n",
    "    communities_illicit.columns = [\"communityId\"]\n",
    "    return communities_illicit\n",
    "\n",
    "def getClassesDistributionInSuspiciousCommunities(suspicious_communities, classes_distribution_in_communities):\n",
    "    return pd.merge(suspicious_communities, classes_distribution_in_communities, on=\"communityId\")"
   ],
   "metadata": {
    "collapsed": false,
    "pycharm": {
     "name": "#%%\n"
    }
   }
  },
  {
   "cell_type": "code",
   "execution_count": 55,
   "outputs": [],
   "source": [
    "def getSuspiciousCommunitiesFlow(analysis_manager, suspicious_communities):\n",
    "\n",
    "    transactions_flow = None\n",
    "\n",
    "    classes_assigned = analysis_manager.getNodeClassesInCommunities()\n",
    "    node_ids = pd.merge(classes_assigned, suspicious_communities, on=\"communityId\")[\"id\"]\n",
    "    str1 = f\"{list(node_ids)}\"\n",
    "\n",
    "    try:\n",
    "        gds = GraphDataScience(\"bolt://localhost:7687\", auth=(\"neo4j\", \"paysim\"))\n",
    "        transactions_flow = gds.run_cypher(\"MATCH (n:node)-[r:TRANSACTION]->(m:node) WHERE n.id IN %s RETURN n.id AS txId1, n.class AS txId1_class, r.cost AS weight, m.id AS txId2, m.class AS txId2_class\" % str1)\n",
    "        gds.close()\n",
    "    except Exception as e:\n",
    "        print(\"Error occurred. Check if the database is online. Error message: %s\" % e)\n",
    "\n",
    "    return transactions_flow"
   ],
   "metadata": {
    "collapsed": false,
    "pycharm": {
     "name": "#%%\n"
    }
   }
  },
  {
   "cell_type": "markdown",
   "source": [
    "### Degree distribution in communities"
   ],
   "metadata": {
    "collapsed": false,
    "pycharm": {
     "name": "#%% md\n"
    }
   }
  },
  {
   "cell_type": "code",
   "execution_count": 56,
   "outputs": [],
   "source": [
    "communities = manager.detectLouvainCommunities()"
   ],
   "metadata": {
    "collapsed": false,
    "pycharm": {
     "name": "#%%\n"
    }
   }
  },
  {
   "cell_type": "code",
   "execution_count": 57,
   "outputs": [],
   "source": [
    "nodes_class = node_metrics.getNodesClasses()"
   ],
   "metadata": {
    "collapsed": false,
    "pycharm": {
     "name": "#%%\n"
    }
   }
  },
  {
   "cell_type": "code",
   "execution_count": 69,
   "outputs": [
    {
     "data": {
      "text/plain": "               id  communityId intermediateCommunityIds  in_degree  \\\n11    C1007251739           19                     None          1   \n187   C1118430673           21                     None          0   \n218   C1136419747           25                     None          1   \n252    C116289363           30                     None          1   \n423   C1275464847           28                     None          0   \n470   C1305486145           16                     None          0   \n508   C1334405552           23                     None          0   \n544   C1364127192           25                     None          0   \n545   C1364913072           28                     None          3   \n555     C13692003           29                     None          0   \n567    C137533655           20                     None          0   \n578   C1384210339           27                     None          1   \n640   C1420196421           18                     None          0   \n761   C1499825229           31                     None          0   \n987   C1635772897           26                     None          0   \n1321  C1848415041           20                     None          1   \n1359  C1872047468           30                     None          0   \n1545  C1983025922           26                     None          3   \n1736  C2100440237           31                     None          3   \n1738  C2101527076           19                     None          0   \n1922   C297927961           29                     None          4   \n1970   C339924917           21                     None          2   \n2037    C38997010           17                     None          1   \n2097   C431687661           23                     None          1   \n2152   C467632528           24                     None          0   \n2277   C553264065           16                     None          1   \n2441   C667346055           22                     None          9   \n2444   C669700766           27                     None          0   \n2520   C716083600           24                     None         12   \n2574   C749981943           22                     None          0   \n2738   C840083671           17                     None          0   \n2914   C972765878           18                     None          1   \n\n      out_degree  class  \n11             0      1  \n187            1      1  \n218            0      1  \n252            0      1  \n423            1      1  \n470            1      1  \n508            1      1  \n544            1      1  \n545            0      1  \n555            1      1  \n567            1      1  \n578            0      1  \n640            1      1  \n761            1      1  \n987            1      1  \n1321           0      1  \n1359           1      1  \n1545           0      1  \n1736           0      1  \n1738           1      1  \n1922           0      1  \n1970           0      1  \n2037           0      1  \n2097           0      1  \n2152           1      1  \n2277           0      1  \n2441           0      1  \n2444           1      1  \n2520           0      1  \n2574           1      1  \n2738           1      1  \n2914           0      1  ",
      "text/html": "<div>\n<style scoped>\n    .dataframe tbody tr th:only-of-type {\n        vertical-align: middle;\n    }\n\n    .dataframe tbody tr th {\n        vertical-align: top;\n    }\n\n    .dataframe thead th {\n        text-align: right;\n    }\n</style>\n<table border=\"1\" class=\"dataframe\">\n  <thead>\n    <tr style=\"text-align: right;\">\n      <th></th>\n      <th>id</th>\n      <th>communityId</th>\n      <th>intermediateCommunityIds</th>\n      <th>in_degree</th>\n      <th>out_degree</th>\n      <th>class</th>\n    </tr>\n  </thead>\n  <tbody>\n    <tr>\n      <th>11</th>\n      <td>C1007251739</td>\n      <td>19</td>\n      <td>None</td>\n      <td>1</td>\n      <td>0</td>\n      <td>1</td>\n    </tr>\n    <tr>\n      <th>187</th>\n      <td>C1118430673</td>\n      <td>21</td>\n      <td>None</td>\n      <td>0</td>\n      <td>1</td>\n      <td>1</td>\n    </tr>\n    <tr>\n      <th>218</th>\n      <td>C1136419747</td>\n      <td>25</td>\n      <td>None</td>\n      <td>1</td>\n      <td>0</td>\n      <td>1</td>\n    </tr>\n    <tr>\n      <th>252</th>\n      <td>C116289363</td>\n      <td>30</td>\n      <td>None</td>\n      <td>1</td>\n      <td>0</td>\n      <td>1</td>\n    </tr>\n    <tr>\n      <th>423</th>\n      <td>C1275464847</td>\n      <td>28</td>\n      <td>None</td>\n      <td>0</td>\n      <td>1</td>\n      <td>1</td>\n    </tr>\n    <tr>\n      <th>470</th>\n      <td>C1305486145</td>\n      <td>16</td>\n      <td>None</td>\n      <td>0</td>\n      <td>1</td>\n      <td>1</td>\n    </tr>\n    <tr>\n      <th>508</th>\n      <td>C1334405552</td>\n      <td>23</td>\n      <td>None</td>\n      <td>0</td>\n      <td>1</td>\n      <td>1</td>\n    </tr>\n    <tr>\n      <th>544</th>\n      <td>C1364127192</td>\n      <td>25</td>\n      <td>None</td>\n      <td>0</td>\n      <td>1</td>\n      <td>1</td>\n    </tr>\n    <tr>\n      <th>545</th>\n      <td>C1364913072</td>\n      <td>28</td>\n      <td>None</td>\n      <td>3</td>\n      <td>0</td>\n      <td>1</td>\n    </tr>\n    <tr>\n      <th>555</th>\n      <td>C13692003</td>\n      <td>29</td>\n      <td>None</td>\n      <td>0</td>\n      <td>1</td>\n      <td>1</td>\n    </tr>\n    <tr>\n      <th>567</th>\n      <td>C137533655</td>\n      <td>20</td>\n      <td>None</td>\n      <td>0</td>\n      <td>1</td>\n      <td>1</td>\n    </tr>\n    <tr>\n      <th>578</th>\n      <td>C1384210339</td>\n      <td>27</td>\n      <td>None</td>\n      <td>1</td>\n      <td>0</td>\n      <td>1</td>\n    </tr>\n    <tr>\n      <th>640</th>\n      <td>C1420196421</td>\n      <td>18</td>\n      <td>None</td>\n      <td>0</td>\n      <td>1</td>\n      <td>1</td>\n    </tr>\n    <tr>\n      <th>761</th>\n      <td>C1499825229</td>\n      <td>31</td>\n      <td>None</td>\n      <td>0</td>\n      <td>1</td>\n      <td>1</td>\n    </tr>\n    <tr>\n      <th>987</th>\n      <td>C1635772897</td>\n      <td>26</td>\n      <td>None</td>\n      <td>0</td>\n      <td>1</td>\n      <td>1</td>\n    </tr>\n    <tr>\n      <th>1321</th>\n      <td>C1848415041</td>\n      <td>20</td>\n      <td>None</td>\n      <td>1</td>\n      <td>0</td>\n      <td>1</td>\n    </tr>\n    <tr>\n      <th>1359</th>\n      <td>C1872047468</td>\n      <td>30</td>\n      <td>None</td>\n      <td>0</td>\n      <td>1</td>\n      <td>1</td>\n    </tr>\n    <tr>\n      <th>1545</th>\n      <td>C1983025922</td>\n      <td>26</td>\n      <td>None</td>\n      <td>3</td>\n      <td>0</td>\n      <td>1</td>\n    </tr>\n    <tr>\n      <th>1736</th>\n      <td>C2100440237</td>\n      <td>31</td>\n      <td>None</td>\n      <td>3</td>\n      <td>0</td>\n      <td>1</td>\n    </tr>\n    <tr>\n      <th>1738</th>\n      <td>C2101527076</td>\n      <td>19</td>\n      <td>None</td>\n      <td>0</td>\n      <td>1</td>\n      <td>1</td>\n    </tr>\n    <tr>\n      <th>1922</th>\n      <td>C297927961</td>\n      <td>29</td>\n      <td>None</td>\n      <td>4</td>\n      <td>0</td>\n      <td>1</td>\n    </tr>\n    <tr>\n      <th>1970</th>\n      <td>C339924917</td>\n      <td>21</td>\n      <td>None</td>\n      <td>2</td>\n      <td>0</td>\n      <td>1</td>\n    </tr>\n    <tr>\n      <th>2037</th>\n      <td>C38997010</td>\n      <td>17</td>\n      <td>None</td>\n      <td>1</td>\n      <td>0</td>\n      <td>1</td>\n    </tr>\n    <tr>\n      <th>2097</th>\n      <td>C431687661</td>\n      <td>23</td>\n      <td>None</td>\n      <td>1</td>\n      <td>0</td>\n      <td>1</td>\n    </tr>\n    <tr>\n      <th>2152</th>\n      <td>C467632528</td>\n      <td>24</td>\n      <td>None</td>\n      <td>0</td>\n      <td>1</td>\n      <td>1</td>\n    </tr>\n    <tr>\n      <th>2277</th>\n      <td>C553264065</td>\n      <td>16</td>\n      <td>None</td>\n      <td>1</td>\n      <td>0</td>\n      <td>1</td>\n    </tr>\n    <tr>\n      <th>2441</th>\n      <td>C667346055</td>\n      <td>22</td>\n      <td>None</td>\n      <td>9</td>\n      <td>0</td>\n      <td>1</td>\n    </tr>\n    <tr>\n      <th>2444</th>\n      <td>C669700766</td>\n      <td>27</td>\n      <td>None</td>\n      <td>0</td>\n      <td>1</td>\n      <td>1</td>\n    </tr>\n    <tr>\n      <th>2520</th>\n      <td>C716083600</td>\n      <td>24</td>\n      <td>None</td>\n      <td>12</td>\n      <td>0</td>\n      <td>1</td>\n    </tr>\n    <tr>\n      <th>2574</th>\n      <td>C749981943</td>\n      <td>22</td>\n      <td>None</td>\n      <td>0</td>\n      <td>1</td>\n      <td>1</td>\n    </tr>\n    <tr>\n      <th>2738</th>\n      <td>C840083671</td>\n      <td>17</td>\n      <td>None</td>\n      <td>0</td>\n      <td>1</td>\n      <td>1</td>\n    </tr>\n    <tr>\n      <th>2914</th>\n      <td>C972765878</td>\n      <td>18</td>\n      <td>None</td>\n      <td>1</td>\n      <td>0</td>\n      <td>1</td>\n    </tr>\n  </tbody>\n</table>\n</div>"
     },
     "execution_count": 69,
     "metadata": {},
     "output_type": "execute_result"
    }
   ],
   "source": [
    "degree_distribution_in_communities = pd.merge(communities, degree_distribution_df, on=\"id\")\n",
    "degree_class_in_communities = pd.merge(degree_distribution_in_communities, nodes_class, on=\"id\")\n",
    "degree_class_in_communities[degree_class_in_communities[\"class\"] == 1]"
   ],
   "metadata": {
    "collapsed": false,
    "pycharm": {
     "name": "#%%\n"
    }
   }
  },
  {
   "cell_type": "markdown",
   "source": [
    "### Transactions of each class - frequencies in communities"
   ],
   "metadata": {
    "collapsed": false,
    "pycharm": {
     "name": "#%% md\n"
    }
   }
  },
  {
   "cell_type": "code",
   "execution_count": null,
   "outputs": [],
   "source": [
    "communities_classes_distribution = getClassesDistributionInAllCommunities(manager, save=True, output_directory=\"../\")\n",
    "suspicious_communities = getSuspiciousCommunities(communities_classes_distribution)\n",
    "getClassesDistributionInSuspiciousCommunities(suspicious_communities, communities_classes_distribution)"
   ],
   "metadata": {
    "collapsed": false,
    "pycharm": {
     "name": "#%%\n"
    }
   }
  },
  {
   "cell_type": "markdown",
   "source": [
    "### Studying the transactions flow"
   ],
   "metadata": {
    "collapsed": false,
    "pycharm": {
     "name": "#%% md\n"
    }
   }
  },
  {
   "cell_type": "code",
   "execution_count": null,
   "outputs": [],
   "source": [
    "transaction_flow_in_suspicious_communities = getSuspiciousCommunitiesFlow(manager,\n",
    "                                                                          suspicious_communities=suspicious_communities)"
   ],
   "metadata": {
    "collapsed": false,
    "pycharm": {
     "name": "#%%\n"
    }
   }
  },
  {
   "cell_type": "code",
   "execution_count": null,
   "outputs": [],
   "source": [
    "transaction_flow_in_suspicious_communities"
   ],
   "metadata": {
    "collapsed": false,
    "pycharm": {
     "name": "#%%\n"
    }
   }
  },
  {
   "cell_type": "markdown",
   "source": [
    "As seen below, because the transaction is directed from nameOrig to nameDest, we can see that illicit transactions changed their status, as their counts dropped for txId2 classes. The number of licit transactions (2) increased, the number of unknown class transaction decreased as well."
   ],
   "metadata": {
    "collapsed": false,
    "pycharm": {
     "name": "#%% md\n"
    }
   }
  },
  {
   "cell_type": "code",
   "execution_count": null,
   "outputs": [],
   "source": [
    "def getTransactionsFlowDf(value_counts_transactions):\n",
    "    transactions_flow_df = pd.DataFrame(value_counts_transactions)\n",
    "    transactions_flow_df= transactions_flow_df.reset_index()\n",
    "    transactions_flow_df.columns = [\"transaction_class\", \"frequency\"]\n",
    "    return transactions_flow_df"
   ],
   "metadata": {
    "collapsed": false,
    "pycharm": {
     "name": "#%%\n"
    }
   }
  },
  {
   "cell_type": "code",
   "execution_count": null,
   "outputs": [],
   "source": [
    "flow_from = getTransactionsFlowDf(transaction_flow_in_suspicious_communities.txId1_class.value_counts())\n",
    "flow_from"
   ],
   "metadata": {
    "collapsed": false,
    "pycharm": {
     "name": "#%%\n"
    }
   }
  },
  {
   "cell_type": "code",
   "execution_count": null,
   "outputs": [],
   "source": [
    "flow_to = getTransactionsFlowDf(transaction_flow_in_suspicious_communities.txId2_class.value_counts())\n",
    "flow_to"
   ],
   "metadata": {
    "collapsed": false,
    "pycharm": {
     "name": "#%%\n"
    }
   }
  },
  {
   "cell_type": "code",
   "execution_count": null,
   "outputs": [],
   "source": [
    "def plotTransactionsFlowClasses(value_counts_transactions_flow1, value_counts_transactions_flow2):\n",
    "    fig, ax = plt.subplots(ncols=2, figsize=(8, 6))\n",
    "    sns.barplot(data=value_counts_transactions_flow1, x=\"transaction_class\", y=\"frequency\", ax=ax[0])\n",
    "    sns.barplot(data=value_counts_transactions_flow2, x=\"transaction_class\", y=\"frequency\", ax=ax[1])\n",
    "    ax[0].set_xlabel(\"Transaction class\", fontsize=12)\n",
    "    ax[1].set_xlabel(\"Transaction class\", fontsize=12)\n",
    "    ax[0].set_ylabel(\"Frequency\", fontsize=12)\n",
    "    ax[1].set_ylabel(\"Frequency\", fontsize=12)\n",
    "    ax[0].set_title(\"Transaction origin's entity\", fontsize=14)\n",
    "    ax[1].set_title(\"Transaction destination's entity\", fontsize=14)\n",
    "    plt.tight_layout()\n",
    "    plt.show()"
   ],
   "metadata": {
    "collapsed": false,
    "pycharm": {
     "name": "#%%\n"
    }
   }
  },
  {
   "cell_type": "code",
   "execution_count": null,
   "outputs": [],
   "source": [
    "plotTransactionsFlowClasses(flow_from, flow_to)"
   ],
   "metadata": {
    "collapsed": false,
    "pycharm": {
     "name": "#%%\n"
    }
   }
  },
  {
   "cell_type": "code",
   "execution_count": null,
   "outputs": [],
   "source": [
    "connector.close()"
   ],
   "metadata": {
    "collapsed": false,
    "pycharm": {
     "name": "#%%\n"
    }
   }
  },
  {
   "cell_type": "markdown",
   "source": [
    "## Mann-Whitney Test"
   ],
   "metadata": {
    "collapsed": false,
    "pycharm": {
     "name": "#%% md\n"
    }
   }
  },
  {
   "cell_type": "code",
   "execution_count": 62,
   "outputs": [],
   "source": [
    "from scipy.stats import mannwhitneyu"
   ],
   "metadata": {
    "collapsed": false,
    "pycharm": {
     "name": "#%%\n"
    }
   }
  },
  {
   "cell_type": "markdown",
   "source": [
    "### Degree distributions"
   ],
   "metadata": {
    "collapsed": false,
    "pycharm": {
     "name": "#%% md\n"
    }
   }
  },
  {
   "cell_type": "code",
   "execution_count": 65,
   "outputs": [],
   "source": [
    "fraud_indegree_distribution = degree_distribution_and_class[degree_distribution_and_class[\"class\"] == 1][\"in_degree\"]\n",
    "fraud_outdegree_distribution = degree_distribution_and_class[degree_distribution_and_class[\"class\"] == 1][\"out_degree\"]\n",
    "non_fraud_indegree_distribution = degree_distribution_and_class[degree_distribution_and_class[\"class\"] == 0][\"in_degree\"]\n",
    "non_fraud_outdegree_distribution = degree_distribution_and_class[degree_distribution_and_class[\"class\"] == 0][\"out_degree\"]"
   ],
   "metadata": {
    "collapsed": false,
    "pycharm": {
     "name": "#%%\n"
    }
   }
  },
  {
   "cell_type": "code",
   "execution_count": 112,
   "outputs": [
    {
     "name": "stdout",
     "output_type": "stream",
     "text": [
      "Mann-Whitney U test statistic: 81745.500\n",
      "p-value: 0.033\n"
     ]
    }
   ],
   "source": [
    "mw_result = mannwhitneyu(x=fraud_indegree_distribution, y=non_fraud_indegree_distribution, alternative=\"two-sided\")\n",
    "print(\"Mann-Whitney U test statistic: %5.3f\" % mw_result.statistic)\n",
    "print(\"p-value: %5.3f\" % mw_result.pvalue)"
   ],
   "metadata": {
    "collapsed": false,
    "pycharm": {
     "name": "#%%\n"
    }
   }
  },
  {
   "cell_type": "code",
   "execution_count": 71,
   "outputs": [
    {
     "data": {
      "text/plain": "0     16\n1      9\n3      3\n2      1\n4      1\n9      1\n12     1\nName: in_degree, dtype: int64"
     },
     "execution_count": 71,
     "metadata": {},
     "output_type": "execute_result"
    }
   ],
   "source": [
    "fraud_indegree_distribution.value_counts()"
   ],
   "metadata": {
    "collapsed": false,
    "pycharm": {
     "name": "#%%\n"
    }
   }
  },
  {
   "cell_type": "code",
   "execution_count": 72,
   "outputs": [
    {
     "data": {
      "text/plain": "0     2692\n1     1443\n2       47\n3       22\n7       14\n4       14\n5       13\n6       12\n15       7\n9        6\n10       6\n14       5\n18       5\n13       4\n8        4\n20       3\n22       3\n32       2\n11       2\n28       1\n21       1\n16       1\n12       1\n17       1\nName: in_degree, dtype: int64"
     },
     "execution_count": 72,
     "metadata": {},
     "output_type": "execute_result"
    }
   ],
   "source": [
    "non_fraud_indegree_distribution.value_counts()"
   ],
   "metadata": {
    "collapsed": false,
    "pycharm": {
     "name": "#%%\n"
    }
   }
  },
  {
   "cell_type": "code",
   "execution_count": 111,
   "outputs": [
    {
     "name": "stdout",
     "output_type": "stream",
     "text": [
      "Mann-Whitney U test statistic: 60344.000\n",
      "p-value: 0.147\n"
     ]
    }
   ],
   "source": [
    "mw_result = mannwhitneyu(x=fraud_outdegree_distribution, y=non_fraud_outdegree_distribution, alternative=\"two-sided\")\n",
    "print(\"Mann-Whitney U test statistic: %5.3f\" % mw_result.statistic)\n",
    "print(\"p-value: %5.3f\" % mw_result.pvalue)"
   ],
   "metadata": {
    "collapsed": false,
    "pycharm": {
     "name": "#%%\n"
    }
   }
  },
  {
   "cell_type": "markdown",
   "source": [
    "### PageRank scores distribution"
   ],
   "metadata": {
    "collapsed": false,
    "pycharm": {
     "name": "#%% md\n"
    }
   }
  },
  {
   "cell_type": "code",
   "execution_count": 77,
   "outputs": [],
   "source": [
    "pagerank_distributions = pd.merge(nodes_classes, pagerank_scores, on=\"id\")"
   ],
   "metadata": {
    "collapsed": false,
    "pycharm": {
     "name": "#%%\n"
    }
   }
  },
  {
   "cell_type": "code",
   "execution_count": 78,
   "outputs": [],
   "source": [
    "fraud_pagerank_distribution = pagerank_scores[pagerank_distributions[\"class\"] == 1][\"PageRankScore\"]\n",
    "non_fraud_pagerank_distribution = pagerank_distributions[pagerank_distributions[\"class\"] == 0][\"PageRankScore\"]"
   ],
   "metadata": {
    "collapsed": false,
    "pycharm": {
     "name": "#%%\n"
    }
   }
  },
  {
   "cell_type": "code",
   "execution_count": 113,
   "outputs": [
    {
     "name": "stdout",
     "output_type": "stream",
     "text": [
      "Mann-Whitney U test statistic: 137374.500\n",
      "p-value: 0.000\n"
     ]
    }
   ],
   "source": [
    "mw_result = mannwhitneyu(x=fraud_pagerank_distribution, y=non_fraud_pagerank_distribution, alternative=\"two-sided\")\n",
    "print(\"Mann-Whitney U test statistic: %5.3f\" % mw_result.statistic)\n",
    "print(\"p-value: %5.3f\" % mw_result.pvalue)"
   ],
   "metadata": {
    "collapsed": false,
    "pycharm": {
     "name": "#%%\n"
    }
   }
  },
  {
   "cell_type": "code",
   "execution_count": 117,
   "outputs": [
    {
     "data": {
      "text/plain": "1.8075    3\n1.9350    5\n2.0625    7\n2.1900    1\n2.3175    1\n2.4450    5\n2.7000    3\n2.8275    1\n2.9550    3\n3.7200    1\n4.2300    2\nName: PageRankScore, dtype: int64"
     },
     "execution_count": 117,
     "metadata": {},
     "output_type": "execute_result"
    }
   ],
   "source": [
    "fraud_pagerank_distribution.value_counts().sort_index()"
   ],
   "metadata": {
    "collapsed": false,
    "pycharm": {
     "name": "#%%\n"
    }
   }
  },
  {
   "cell_type": "code",
   "execution_count": 123,
   "outputs": [
    {
     "data": {
      "text/plain": "0.1500    2692\n0.2775    1443\n0.4050      47\n0.5325      22\n0.6600      14\n0.7875      13\n0.9150      12\n1.0425      14\n1.1700       4\n1.2975       6\n1.4250       6\n1.5525       2\n1.6800       1\n1.8075       4\n1.9350       5\n2.0625       7\n2.1900       1\n2.3175       1\n2.4450       5\n2.7000       3\n2.8275       1\n2.9550       3\n3.7200       1\n4.2300       2\nName: PageRankScore, dtype: int64"
     },
     "execution_count": 123,
     "metadata": {},
     "output_type": "execute_result"
    }
   ],
   "source": [
    "non_fraud_pagerank_distribution.value_counts().sort_index()"
   ],
   "metadata": {
    "collapsed": false,
    "pycharm": {
     "name": "#%%\n"
    }
   }
  },
  {
   "cell_type": "markdown",
   "source": [
    "## Notes"
   ],
   "metadata": {
    "collapsed": false,
    "pycharm": {
     "name": "#%% md\n"
    }
   }
  },
  {
   "cell_type": "markdown",
   "source": [
    "The graph's suspicious communities were visualized using Neo4jBrowser. The query was generated using additional code which prints the list of node IDs from a list and puts that in a formatted string of Cypher query. It is as follows:"
   ],
   "metadata": {
    "collapsed": false,
    "pycharm": {
     "name": "#%% md\n"
    }
   }
  },
  {
   "cell_type": "code",
   "execution_count": null,
   "outputs": [],
   "source": [
    "def getCommunitiesNodesList(transaction_flow):\n",
    "    org = transaction_flow[\"txId1\"]\n",
    "    dst = transaction_flow[\"txId2\"]\n",
    "\n",
    "    nodes_in_communities = []\n",
    "    for node1, node2 in zip(org, dst):\n",
    "        nodes_in_communities.append(node1)\n",
    "        nodes_in_communities.append(node2)\n",
    "    return list(pd.Series(nodes_in_communities).unique())"
   ],
   "metadata": {
    "collapsed": false,
    "pycharm": {
     "name": "#%%\n"
    }
   }
  },
  {
   "cell_type": "code",
   "execution_count": null,
   "outputs": [],
   "source": [
    "nodes_in_communities = getCommunitiesNodesList(getSuspiciousCommunitiesFlow(manager, suspicious_communities=getSuspiciousCommunities(getClassesDistributionInAllCommunities(manager, save=True, output_directory=\"../\"))))\n",
    "query = f\"MATCH (n:node)-[r:TRANSACTION]->(m:node) WHERE n.id IN {nodes_in_communities} OR m.id IN {nodes_in_communities} RETURN n.id AS sourceNodeID, m.id AS destinationNodeID, n.class AS sourceNodeClass, r.isFraud AS transactionCategory, r.type AS transactionType, m.class AS destinationNodeClass\"\n",
    "illicit_nodes_and_transactions = connector.run_cypher(query)\n",
    "for col in illicit_nodes_and_transactions:\n",
    "    if (col == \"sourceNodeID\") | (col == \"destinationNodeID\") | (col == \"transactionType\"):\n",
    "        continue\n",
    "    else:\n",
    "        print(illicit_nodes_and_transactions[col].value_counts())"
   ],
   "metadata": {
    "collapsed": false,
    "pycharm": {
     "name": "#%%\n"
    }
   }
  },
  {
   "cell_type": "markdown",
   "source": [
    "As seen above, within the communities, 16 out of 29 nodes are known to make fraudulent transactions, 16 out of 29 transactions were illicit, but all destination nodes are known to make illicit transactions."
   ],
   "metadata": {
    "collapsed": false,
    "pycharm": {
     "name": "#%% md\n"
    }
   }
  },
  {
   "cell_type": "code",
   "execution_count": null,
   "outputs": [],
   "source": [
    "illicit_nodes_and_transactions.groupby(\"transactionCategory\")[\"transactionType\"].value_counts()"
   ],
   "metadata": {
    "collapsed": false,
    "pycharm": {
     "name": "#%%\n"
    }
   }
  },
  {
   "cell_type": "code",
   "execution_count": null,
   "outputs": [],
   "source": [
    "node_ids = f\"{list(illicit_nodes_and_transactions.destinationNodeID)}\"\n",
    "query = f\"MATCH (n:node)-[r:TRANSACTION]->(m:node) WHERE n.id IN {node_ids} RETURN n.id AS sourceID, m.id AS destinationID, n.class AS sourceClass, m.class AS destinationClass, r.isFraud AS transactionCategory\"\n",
    "connector.run_cypher(query)"
   ],
   "metadata": {
    "collapsed": false,
    "pycharm": {
     "name": "#%%\n"
    }
   }
  },
  {
   "cell_type": "markdown",
   "source": [
    "As seen above, the trace ends at the destination nodes in communities, however, only some of the transactions were CASH_OUT type"
   ],
   "metadata": {
    "collapsed": false,
    "pycharm": {
     "name": "#%% md\n"
    }
   }
  }
 ],
 "metadata": {
  "kernelspec": {
   "display_name": "Python 3",
   "language": "python",
   "name": "python3"
  },
  "language_info": {
   "codemirror_mode": {
    "name": "ipython",
    "version": 2
   },
   "file_extension": ".py",
   "mimetype": "text/x-python",
   "name": "python",
   "nbconvert_exporter": "python",
   "pygments_lexer": "ipython2",
   "version": "2.7.6"
  }
 },
 "nbformat": 4,
 "nbformat_minor": 0
}