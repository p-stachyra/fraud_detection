{
 "cells": [
  {
   "cell_type": "code",
   "execution_count": 1,
   "metadata": {
    "pycharm": {
     "name": "#%%\n"
    }
   },
   "outputs": [],
   "source": [
    "import os\n",
    "import pandas as pd"
   ]
  },
  {
   "cell_type": "code",
   "execution_count": 2,
   "metadata": {
    "pycharm": {
     "name": "#%%\n"
    }
   },
   "outputs": [],
   "source": [
    "dataset = pd.read_csv(\"../data/paysim_dataset.csv\")\n",
    "dataset = dataset[dataset[\"step\"] < 4]\n",
    "dataset.to_csv(\"../data/paysim_3_timesteps.csv\")"
   ]
  },
  {
   "cell_type": "code",
   "execution_count": 3,
   "metadata": {
    "pycharm": {
     "name": "#%%\n"
    }
   },
   "outputs": [],
   "source": [
    "dataset.columns = ['step',\n",
    "                   'type',\n",
    "                   'amount',\n",
    "                   'nameOrig',\n",
    "                   'oldbalanceOrig',\n",
    "                   'newbalanceOrig',\n",
    "                   'nameDest',\n",
    "                   'oldbalanceDest',\n",
    "                   'newbalanceDest',\n",
    "                   'isFraud',\n",
    "                   'isFlaggedFraud']"
   ]
  },
  {
   "cell_type": "code",
   "execution_count": 4,
   "metadata": {
    "pycharm": {
     "name": "#%%\n"
    }
   },
   "outputs": [],
   "source": [
    "def generatePaysimNodesAttributes(dataset, timestep=None):\n",
    "\n",
    "    if timestep is not None:\n",
    "        dataset = dataset[dataset[\"step\"] == timestep]\n",
    "\n",
    "    paysim_nodes = dataset[[\"nameOrig\", \"isFraud\", \"nameDest\"]]\n",
    "    paysim_nodes.columns = [\"nameOrig\", \"class\", \"nameDest\"]\n",
    "    paysim_nodes = paysim_nodes.assign(label=\"node\")\n",
    "    return paysim_nodes"
   ]
  },
  {
   "cell_type": "code",
   "execution_count": 5,
   "metadata": {
    "pycharm": {
     "name": "#%%\n"
    }
   },
   "outputs": [],
   "source": [
    "def getAllNodes(paysim_nodes):\n",
    "    initial_nodes = list(paysim_nodes[\"nameOrig\"])\n",
    "\n",
    "    for node in paysim_nodes[\"nameDest\"]:\n",
    "        initial_nodes.append(node)\n",
    "\n",
    "    all_nodes = pd.DataFrame(initial_nodes)[0].unique()\n",
    "    all_nodes = pd.DataFrame(all_nodes)\n",
    "    all_nodes.columns = [\"nodeId\"]\n",
    "    return all_nodes"
   ]
  },
  {
   "cell_type": "code",
   "execution_count": 6,
   "metadata": {
    "pycharm": {
     "name": "#%%\n"
    }
   },
   "outputs": [],
   "source": [
    "def createNodesDataFile(dataset, timestep=None):\n",
    "    paysim_nodes = generatePaysimNodesAttributes(dataset=dataset, timestep=timestep)\n",
    "    all_nodes = getAllNodes(paysim_nodes)\n",
    "    fraudulent_nodes = getAllNodes(paysim_nodes[paysim_nodes[\"class\"] == 1][[\"nameOrig\", \"nameDest\"]])\n",
    "    fraudulent_nodes[\"class\"] = 1\n",
    "    merged = pd.merge(fraudulent_nodes, all_nodes, on=\"nodeId\", how=\"outer\")\n",
    "    merged.fillna(0, inplace=True)\n",
    "    merged[\"class\"] = merged[\"class\"].astype(\"uint8\")\n",
    "    merged = merged.assign(label=\"node\")\n",
    "\n",
    "    export_path_postfix = \"\"\n",
    "\n",
    "    if timestep is not None:\n",
    "        export_path_postfix = str(timestep)\n",
    "\n",
    "    if not os.path.isdir(f\"../export{export_path_postfix}\"):\n",
    "        os.mkdir(f\"../export{export_path_postfix}\")\n",
    "\n",
    "    merged.to_csv(f\"../export{export_path_postfix}/nodes_data.csv\", header=False, index=False)\n",
    "\n",
    "    return 0"
   ]
  },
  {
   "cell_type": "code",
   "execution_count": 7,
   "metadata": {
    "pycharm": {
     "name": "#%%\n"
    }
   },
   "outputs": [],
   "source": [
    "def createEdgesDataFile(dataset, timestep=None):\n",
    "\n",
    "    edges_data = dataset.copy()\n",
    "    edges_data = edges_data.assign(cost=1)\n",
    "    edges_data = edges_data.assign(Type=\"TRANSACTION\")\n",
    "    attributes_in_order = [\"nameOrig\", \"cost\", \"step\", \"type\", \"amount\", \"oldbalanceOrig\", \"newbalanceOrig\", \"oldbalanceDest\", \"newbalanceDest\", \"isFraud\", \"isFlaggedFraud\", \"nameDest\", \"Type\"]\n",
    "    ordered_edge_data = edges_data[attributes_in_order]\n",
    "    ordered_edge_data.columns = [\"nameOrig\", \"cost\", \"step\", \"transactionCategory\", \"amount\", \"oldbalanceOrig\", \"newbalanceOrig\", \"oldbalanceDest\", \"newbalanceDest\", \"isFraud\", \"isFlaggedFraud\", \"nameDest\", \"Type\"]\n",
    "\n",
    "    if timestep is not None:\n",
    "        ordered_edge_data = ordered_edge_data[ordered_edge_data[\"step\"] == timestep]\n",
    "\n",
    "    export_path_postfix = \"\"\n",
    "\n",
    "    if timestep is not None:\n",
    "        export_path_postfix = str(timestep)\n",
    "\n",
    "    if not os.path.isdir(f\"../export{export_path_postfix}\"):\n",
    "        os.mkdir(f\"../export{export_path_postfix}\")\n",
    "\n",
    "\n",
    "    ordered_edge_data.to_csv(f\"../export{export_path_postfix}/edges_data.csv\", header=False, index=False)\n",
    "\n",
    "    return 0"
   ]
  },
  {
   "cell_type": "code",
   "execution_count": 8,
   "metadata": {
    "pycharm": {
     "name": "#%%\n"
    }
   },
   "outputs": [],
   "source": [
    "def createNodesHeaderFile(timestep=None):\n",
    "\n",
    "    export_path_postfix = \"\"\n",
    "    if timestep is not None:\n",
    "        export_path_postfix = str(timestep)\n",
    "\n",
    "    if not os.path.isdir(f\"../export{export_path_postfix}\"):\n",
    "        os.mkdir(f\"../export{export_path_postfix}\")\n",
    "\n",
    "    nodes_header = \"id:ID,class:int,label:LABEL\"\n",
    "\n",
    "    with open(f\"../export{export_path_postfix}/nodes_header.csv\", 'w') as fh:\n",
    "        fh.write(nodes_header)\n",
    "\n",
    "    return 0"
   ]
  },
  {
   "cell_type": "code",
   "execution_count": 9,
   "metadata": {
    "pycharm": {
     "name": "#%%\n"
    }
   },
   "outputs": [],
   "source": [
    "def createEdgesHeaderFile(timestep=None):\n",
    "\n",
    "    export_path_postfix = \"\"\n",
    "    if timestep is not None:\n",
    "        export_path_postfix = str(timestep)\n",
    "\n",
    "    if not os.path.isdir(f\"../export{export_path_postfix}\"):\n",
    "        os.mkdir(f\"../export{export_path_postfix}\")\n",
    "\n",
    "    edges_header = \":START_ID,cost:int,step:long,type,amount:double,oldbalanceOrig:double,newbalanceOrg:double,oldbalanceDest:double,newbalanceDest:double,isFraud:long,isFlaggedFraud:long,:END_ID,:TYPE\"\n",
    "\n",
    "    with open(f\"../export{export_path_postfix}/edges_header.csv\", 'w') as fh:\n",
    "        fh.write(edges_header)\n",
    "\n",
    "    return 0"
   ]
  },
  {
   "cell_type": "code",
   "execution_count": 10,
   "metadata": {
    "pycharm": {
     "name": "#%%\n"
    }
   },
   "outputs": [
    {
     "data": {
      "text/plain": [
       "0"
      ]
     },
     "execution_count": 10,
     "metadata": {},
     "output_type": "execute_result"
    }
   ],
   "source": [
    "createNodesDataFile(dataset, timestep=None)\n",
    "createNodesHeaderFile()\n",
    "createEdgesDataFile(dataset=dataset)\n",
    "createEdgesHeaderFile()"
   ]
  },
  {
   "cell_type": "code",
   "execution_count": 11,
   "metadata": {
    "pycharm": {
     "name": "#%%\n"
    }
   },
   "outputs": [
    {
     "data": {
      "text/html": [
       "<div>\n",
       "<style scoped>\n",
       "    .dataframe tbody tr th:only-of-type {\n",
       "        vertical-align: middle;\n",
       "    }\n",
       "\n",
       "    .dataframe tbody tr th {\n",
       "        vertical-align: top;\n",
       "    }\n",
       "\n",
       "    .dataframe thead th {\n",
       "        text-align: right;\n",
       "    }\n",
       "</style>\n",
       "<table border=\"1\" class=\"dataframe\">\n",
       "  <thead>\n",
       "    <tr style=\"text-align: right;\">\n",
       "      <th></th>\n",
       "      <th>id:ID</th>\n",
       "      <th>class:int</th>\n",
       "      <th>label:LABEL</th>\n",
       "    </tr>\n",
       "  </thead>\n",
       "  <tbody>\n",
       "  </tbody>\n",
       "</table>\n",
       "</div>"
      ],
      "text/plain": [
       "Empty DataFrame\n",
       "Columns: [id:ID, class:int, label:LABEL]\n",
       "Index: []"
      ]
     },
     "execution_count": 11,
     "metadata": {},
     "output_type": "execute_result"
    }
   ],
   "source": [
    "pd.read_csv(\"../export/nodes_header.csv\")"
   ]
  },
  {
   "cell_type": "code",
   "execution_count": 12,
   "metadata": {
    "pycharm": {
     "name": "#%%\n"
    }
   },
   "outputs": [
    {
     "data": {
      "text/html": [
       "<div>\n",
       "<style scoped>\n",
       "    .dataframe tbody tr th:only-of-type {\n",
       "        vertical-align: middle;\n",
       "    }\n",
       "\n",
       "    .dataframe tbody tr th {\n",
       "        vertical-align: top;\n",
       "    }\n",
       "\n",
       "    .dataframe thead th {\n",
       "        text-align: right;\n",
       "    }\n",
       "</style>\n",
       "<table border=\"1\" class=\"dataframe\">\n",
       "  <thead>\n",
       "    <tr style=\"text-align: right;\">\n",
       "      <th></th>\n",
       "      <th>C1305486145</th>\n",
       "      <th>1</th>\n",
       "      <th>node</th>\n",
       "    </tr>\n",
       "  </thead>\n",
       "  <tbody>\n",
       "    <tr>\n",
       "      <th>0</th>\n",
       "      <td>C840083671</td>\n",
       "      <td>1</td>\n",
       "      <td>node</td>\n",
       "    </tr>\n",
       "    <tr>\n",
       "      <th>1</th>\n",
       "      <td>C1420196421</td>\n",
       "      <td>1</td>\n",
       "      <td>node</td>\n",
       "    </tr>\n",
       "    <tr>\n",
       "      <th>2</th>\n",
       "      <td>C2101527076</td>\n",
       "      <td>1</td>\n",
       "      <td>node</td>\n",
       "    </tr>\n",
       "    <tr>\n",
       "      <th>3</th>\n",
       "      <td>C137533655</td>\n",
       "      <td>1</td>\n",
       "      <td>node</td>\n",
       "    </tr>\n",
       "    <tr>\n",
       "      <th>4</th>\n",
       "      <td>C1118430673</td>\n",
       "      <td>1</td>\n",
       "      <td>node</td>\n",
       "    </tr>\n",
       "  </tbody>\n",
       "</table>\n",
       "</div>"
      ],
      "text/plain": [
       "   C1305486145  1  node\n",
       "0   C840083671  1  node\n",
       "1  C1420196421  1  node\n",
       "2  C2101527076  1  node\n",
       "3   C137533655  1  node\n",
       "4  C1118430673  1  node"
      ]
     },
     "execution_count": 12,
     "metadata": {},
     "output_type": "execute_result"
    }
   ],
   "source": [
    "pd.read_csv(\"../export/nodes_data.csv\").head()"
   ]
  },
  {
   "cell_type": "code",
   "execution_count": 13,
   "metadata": {
    "pycharm": {
     "name": "#%%\n"
    }
   },
   "outputs": [
    {
     "data": {
      "text/html": [
       "<div>\n",
       "<style scoped>\n",
       "    .dataframe tbody tr th:only-of-type {\n",
       "        vertical-align: middle;\n",
       "    }\n",
       "\n",
       "    .dataframe tbody tr th {\n",
       "        vertical-align: top;\n",
       "    }\n",
       "\n",
       "    .dataframe thead th {\n",
       "        text-align: right;\n",
       "    }\n",
       "</style>\n",
       "<table border=\"1\" class=\"dataframe\">\n",
       "  <thead>\n",
       "    <tr style=\"text-align: right;\">\n",
       "      <th></th>\n",
       "      <th>:START_ID</th>\n",
       "      <th>cost:int</th>\n",
       "      <th>step:long</th>\n",
       "      <th>type</th>\n",
       "      <th>amount:double</th>\n",
       "      <th>oldbalanceOrig:double</th>\n",
       "      <th>newbalanceOrg:double</th>\n",
       "      <th>oldbalanceDest:double</th>\n",
       "      <th>newbalanceDest:double</th>\n",
       "      <th>isFraud:long</th>\n",
       "      <th>isFlaggedFraud:long</th>\n",
       "      <th>:END_ID</th>\n",
       "      <th>:TYPE</th>\n",
       "    </tr>\n",
       "  </thead>\n",
       "  <tbody>\n",
       "  </tbody>\n",
       "</table>\n",
       "</div>"
      ],
      "text/plain": [
       "Empty DataFrame\n",
       "Columns: [:START_ID, cost:int, step:long, type, amount:double, oldbalanceOrig:double, newbalanceOrg:double, oldbalanceDest:double, newbalanceDest:double, isFraud:long, isFlaggedFraud:long, :END_ID, :TYPE]\n",
       "Index: []"
      ]
     },
     "execution_count": 13,
     "metadata": {},
     "output_type": "execute_result"
    }
   ],
   "source": [
    "pd.read_csv(\"../export/edges_header.csv\")"
   ]
  },
  {
   "cell_type": "code",
   "execution_count": 14,
   "metadata": {
    "pycharm": {
     "name": "#%%\n"
    }
   },
   "outputs": [
    {
     "data": {
      "text/html": [
       "<div>\n",
       "<style scoped>\n",
       "    .dataframe tbody tr th:only-of-type {\n",
       "        vertical-align: middle;\n",
       "    }\n",
       "\n",
       "    .dataframe tbody tr th {\n",
       "        vertical-align: top;\n",
       "    }\n",
       "\n",
       "    .dataframe thead th {\n",
       "        text-align: right;\n",
       "    }\n",
       "</style>\n",
       "<table border=\"1\" class=\"dataframe\">\n",
       "  <thead>\n",
       "    <tr style=\"text-align: right;\">\n",
       "      <th></th>\n",
       "      <th>C1231006815</th>\n",
       "      <th>1</th>\n",
       "      <th>1.1</th>\n",
       "      <th>PAYMENT</th>\n",
       "      <th>9839.64</th>\n",
       "      <th>170136.0</th>\n",
       "      <th>160296.36</th>\n",
       "      <th>0.0</th>\n",
       "      <th>0.0.1</th>\n",
       "      <th>0</th>\n",
       "      <th>0.1</th>\n",
       "      <th>M1979787155</th>\n",
       "      <th>TRANSACTION</th>\n",
       "    </tr>\n",
       "  </thead>\n",
       "  <tbody>\n",
       "    <tr>\n",
       "      <th>0</th>\n",
       "      <td>C1666544295</td>\n",
       "      <td>1</td>\n",
       "      <td>1</td>\n",
       "      <td>PAYMENT</td>\n",
       "      <td>1864.28</td>\n",
       "      <td>21249.0</td>\n",
       "      <td>19384.72</td>\n",
       "      <td>0.0</td>\n",
       "      <td>0.0</td>\n",
       "      <td>0</td>\n",
       "      <td>0</td>\n",
       "      <td>M2044282225</td>\n",
       "      <td>TRANSACTION</td>\n",
       "    </tr>\n",
       "    <tr>\n",
       "      <th>1</th>\n",
       "      <td>C1305486145</td>\n",
       "      <td>1</td>\n",
       "      <td>1</td>\n",
       "      <td>TRANSFER</td>\n",
       "      <td>181.00</td>\n",
       "      <td>181.0</td>\n",
       "      <td>0.00</td>\n",
       "      <td>0.0</td>\n",
       "      <td>0.0</td>\n",
       "      <td>1</td>\n",
       "      <td>0</td>\n",
       "      <td>C553264065</td>\n",
       "      <td>TRANSACTION</td>\n",
       "    </tr>\n",
       "    <tr>\n",
       "      <th>2</th>\n",
       "      <td>C840083671</td>\n",
       "      <td>1</td>\n",
       "      <td>1</td>\n",
       "      <td>CASH_OUT</td>\n",
       "      <td>181.00</td>\n",
       "      <td>181.0</td>\n",
       "      <td>0.00</td>\n",
       "      <td>21182.0</td>\n",
       "      <td>0.0</td>\n",
       "      <td>1</td>\n",
       "      <td>0</td>\n",
       "      <td>C38997010</td>\n",
       "      <td>TRANSACTION</td>\n",
       "    </tr>\n",
       "    <tr>\n",
       "      <th>3</th>\n",
       "      <td>C2048537720</td>\n",
       "      <td>1</td>\n",
       "      <td>1</td>\n",
       "      <td>PAYMENT</td>\n",
       "      <td>11668.14</td>\n",
       "      <td>41554.0</td>\n",
       "      <td>29885.86</td>\n",
       "      <td>0.0</td>\n",
       "      <td>0.0</td>\n",
       "      <td>0</td>\n",
       "      <td>0</td>\n",
       "      <td>M1230701703</td>\n",
       "      <td>TRANSACTION</td>\n",
       "    </tr>\n",
       "    <tr>\n",
       "      <th>4</th>\n",
       "      <td>C90045638</td>\n",
       "      <td>1</td>\n",
       "      <td>1</td>\n",
       "      <td>PAYMENT</td>\n",
       "      <td>7817.71</td>\n",
       "      <td>53860.0</td>\n",
       "      <td>46042.29</td>\n",
       "      <td>0.0</td>\n",
       "      <td>0.0</td>\n",
       "      <td>0</td>\n",
       "      <td>0</td>\n",
       "      <td>M573487274</td>\n",
       "      <td>TRANSACTION</td>\n",
       "    </tr>\n",
       "  </tbody>\n",
       "</table>\n",
       "</div>"
      ],
      "text/plain": [
       "   C1231006815  1  1.1   PAYMENT   9839.64  170136.0  160296.36      0.0  \\\n",
       "0  C1666544295  1    1   PAYMENT   1864.28   21249.0   19384.72      0.0   \n",
       "1  C1305486145  1    1  TRANSFER    181.00     181.0       0.00      0.0   \n",
       "2   C840083671  1    1  CASH_OUT    181.00     181.0       0.00  21182.0   \n",
       "3  C2048537720  1    1   PAYMENT  11668.14   41554.0   29885.86      0.0   \n",
       "4    C90045638  1    1   PAYMENT   7817.71   53860.0   46042.29      0.0   \n",
       "\n",
       "   0.0.1  0  0.1  M1979787155  TRANSACTION  \n",
       "0    0.0  0    0  M2044282225  TRANSACTION  \n",
       "1    0.0  1    0   C553264065  TRANSACTION  \n",
       "2    0.0  1    0    C38997010  TRANSACTION  \n",
       "3    0.0  0    0  M1230701703  TRANSACTION  \n",
       "4    0.0  0    0   M573487274  TRANSACTION  "
      ]
     },
     "execution_count": 14,
     "metadata": {},
     "output_type": "execute_result"
    }
   ],
   "source": [
    "pd.read_csv(\"../export/edges_data.csv\").head()"
   ]
  }
 ],
 "metadata": {
  "kernelspec": {
   "display_name": "Python 3 (ipykernel)",
   "language": "python",
   "name": "python3"
  },
  "language_info": {
   "codemirror_mode": {
    "name": "ipython",
    "version": 3
   },
   "file_extension": ".py",
   "mimetype": "text/x-python",
   "name": "python",
   "nbconvert_exporter": "python",
   "pygments_lexer": "ipython3",
   "version": "3.9.5"
  }
 },
 "nbformat": 4,
 "nbformat_minor": 1
}
