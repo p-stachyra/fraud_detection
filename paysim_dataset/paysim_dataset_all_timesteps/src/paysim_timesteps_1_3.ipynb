{
 "cells": [
  {
   "cell_type": "markdown",
   "metadata": {
    "pycharm": {
     "name": "#%% md\n"
    }
   },
   "source": [
    "# Single timestep graph - Elliptic data set"
   ]
  },
  {
   "cell_type": "code",
   "execution_count": 1,
   "metadata": {
    "pycharm": {
     "name": "#%%\n"
    }
   },
   "outputs": [],
   "source": [
    "# global imports\n",
    "import matplotlib.pyplot as plt\n",
    "import networkx as nx\n",
    "import numpy as np\n",
    "import pandas as pd\n",
    "import powerlaw\n",
    "import seaborn as sns\n",
    "\n",
    "from graphdatascience import GraphDataScience\n",
    "from matplotlib.ticker import FormatStrFormatter\n",
    "from tqdm.notebook import tqdm\n",
    "\n",
    "# local imports\n",
    "from AnalysisManager import AnalysisManager\n",
    "from NodeMetrics import NodeMetrics\n",
    "from GraphMetrics import GraphMetrics"
   ]
  },
  {
   "cell_type": "code",
   "execution_count": 2,
   "metadata": {
    "pycharm": {
     "name": "#%%\n"
    }
   },
   "outputs": [],
   "source": [
    "sns.set_theme(style=\"whitegrid\")"
   ]
  },
  {
   "cell_type": "markdown",
   "metadata": {
    "pycharm": {
     "name": "#%% md\n"
    }
   },
   "source": [
    "#### Neo4j modules"
   ]
  },
  {
   "cell_type": "code",
   "execution_count": 3,
   "metadata": {
    "pycharm": {
     "name": "#%%\n"
    }
   },
   "outputs": [],
   "source": [
    "manager = AnalysisManager(\"neo4j\", \"paysim\", \"../data\", outputs_base_location=\"../\")\n",
    "connector = GraphDataScience(\"bolt://localhost:7687\", auth=(\"neo4j\", \"paysim\"))\n",
    "node_metrics = NodeMetrics(connector, \"paysim\", \"node\", \"TRANSACTION\")\n",
    "graph_metrics = GraphMetrics(connector, \"paysim\", \"node\", \"TRANSACTION\")"
   ]
  },
  {
   "cell_type": "markdown",
   "metadata": {
    "pycharm": {
     "name": "#%% md\n"
    }
   },
   "source": [
    "#### Networkx graph"
   ]
  },
  {
   "cell_type": "code",
   "execution_count": 4,
   "metadata": {
    "pycharm": {
     "name": "#%%\n"
    }
   },
   "outputs": [],
   "source": [
    "edgelist = pd.read_csv(\"../data/paysim_3_timesteps.csv\")\n",
    "graphtype = nx.DiGraph()\n",
    "graph = nx.from_pandas_edgelist(edgelist,\n",
    "                                source=\"nameOrig\",\n",
    "                                target=\"nameDest\",\n",
    "                                create_using=graphtype)"
   ]
  },
  {
   "cell_type": "markdown",
   "metadata": {
    "pycharm": {
     "name": "#%% md\n"
    }
   },
   "source": [
    "### Functions related to working with Networkx library"
   ]
  },
  {
   "cell_type": "markdown",
   "metadata": {
    "pycharm": {
     "name": "#%% md\n"
    }
   },
   "source": [
    "Note on shortest paths"
   ]
  },
  {
   "cell_type": "markdown",
   "metadata": {
    "pycharm": {
     "name": "#%% md\n"
    }
   },
   "source": [
    "The shortest paths are determined using Networkx class static method shortest_path_length() which returns pairs of node ID and a dictionary containing all its neighbours IDs and path lengths to them. <br>\n",
    "In this case, the information is stored in a multidimensional array of heterogenious sizes of elements which store the origin node ID, destination node IDs and path lengths."
   ]
  },
  {
   "cell_type": "code",
   "execution_count": 5,
   "metadata": {
    "pycharm": {
     "name": "#%%\n"
    }
   },
   "outputs": [],
   "source": [
    "def getAllShortestPaths(graph):\n",
    "    all_shortest_paths = []\n",
    "    for (i,j) in nx.shortest_path_length(graph):\n",
    "        all_shortest_paths.append([i, list(j.keys()), np.array(list(j.values()))])\n",
    "    return all_shortest_paths"
   ]
  },
  {
   "cell_type": "code",
   "execution_count": 6,
   "metadata": {
    "pycharm": {
     "name": "#%%\n"
    }
   },
   "outputs": [],
   "source": [
    "def getMeanOfShortestPaths(shortest_paths):\n",
    "    summed_lengths = 0\n",
    "    number_of_paths = 0\n",
    "    for i in range(len(shortest_paths)):\n",
    "        summed_lengths += (shortest_paths[i][2].sum())\n",
    "        number_of_paths += sum(shortest_paths[i][2] != 0)\n",
    "\n",
    "    return summed_lengths / number_of_paths"
   ]
  },
  {
   "cell_type": "code",
   "execution_count": 7,
   "metadata": {
    "pycharm": {
     "name": "#%%\n"
    }
   },
   "outputs": [],
   "source": [
    "def getMedianOfShortestPaths(shortest_paths):\n",
    "    all_paths_lengths = []\n",
    "    for i in range(len(shortest_paths)):\n",
    "        for path_length in shortest_paths[i][2]:\n",
    "            all_paths_lengths.append(path_length)\n",
    "    all_paths_lengths = pd.Series(np.array(all_paths_lengths))\n",
    "    return all_paths_lengths.median()"
   ]
  },
  {
   "cell_type": "code",
   "execution_count": 8,
   "metadata": {
    "pycharm": {
     "name": "#%%\n"
    }
   },
   "outputs": [],
   "source": [
    "def getDiameter(shortest_paths):\n",
    "    all_paths_lengths = []\n",
    "    for i in range(len(shortest_paths)):\n",
    "        for path_length in shortest_paths[i][2]:\n",
    "            all_paths_lengths.append(path_length)\n",
    "    all_paths_lengths = pd.Series(np.array(all_paths_lengths))\n",
    "    return all_paths_lengths.max()"
   ]
  },
  {
   "cell_type": "code",
   "execution_count": 9,
   "metadata": {
    "pycharm": {
     "name": "#%%\n"
    }
   },
   "outputs": [],
   "source": [
    "def getDegreeDistribution(connector, nodes_and_classes):\n",
    "    nodes = nodes_and_classes[\"id\"]\n",
    "    degree_df = None\n",
    "    for node in tqdm(nodes):\n",
    "        results_in_degree = connector.run_cypher(\"\"\"\n",
    "                        MATCH (n:node)<-[r:TRANSACTION]-(m:node)\n",
    "                        WHERE n.id = '%s'\n",
    "                        RETURN n.id AS id, count(m) AS in_degree\n",
    "                        \"\"\" % node)\n",
    "        results_out_degree = connector.run_cypher(\"\"\"\n",
    "                        MATCH (n:node)-[r:TRANSACTION]->(m:node)\n",
    "                        WHERE n.id = '%s'\n",
    "                        RETURN n.id AS id, count(m) AS out_degree\n",
    "                        \"\"\" % node)\n",
    "\n",
    "        merged = pd.merge(results_in_degree, results_out_degree, on=\"id\", how=\"outer\")\n",
    "\n",
    "        if degree_df is None:\n",
    "            degree_df = merged\n",
    "        else:\n",
    "            degree_df = pd.concat([degree_df, merged], axis=0)\n",
    "\n",
    "    return degree_df.fillna(0)"
   ]
  },
  {
   "cell_type": "markdown",
   "metadata": {
    "pycharm": {
     "name": "#%% md\n"
    }
   },
   "source": [
    "## Large-scale Network Properties"
   ]
  },
  {
   "cell_type": "code",
   "execution_count": 10,
   "metadata": {
    "pycharm": {
     "name": "#%%\n"
    }
   },
   "outputs": [],
   "source": [
    "nodes_classes = node_metrics.getNodesClasses()"
   ]
  },
  {
   "cell_type": "code",
   "execution_count": 11,
   "metadata": {
    "pycharm": {
     "name": "#%%\n"
    }
   },
   "outputs": [
    {
     "data": {
      "application/vnd.jupyter.widget-view+json": {
       "model_id": "b89b367163d44466945163904c46b13e",
       "version_major": 2,
       "version_minor": 0
      },
      "text/plain": [
       "  0%|          | 0/6876 [00:00<?, ?it/s]"
      ]
     },
     "metadata": {},
     "output_type": "display_data"
    }
   ],
   "source": [
    "degree_distribution_df = getDegreeDistribution(connector=connector, nodes_and_classes=nodes_classes)"
   ]
  },
  {
   "cell_type": "code",
   "execution_count": 12,
   "metadata": {
    "pycharm": {
     "name": "#%%\n"
    }
   },
   "outputs": [],
   "source": [
    "column_names = [\"Type\", \"n\", \"m\", \"c\", \"S\", \"l\", \"alpha_in\", \"alpha_out\", \"C\"]\n",
    "properties = [\"Directed\"]"
   ]
  },
  {
   "cell_type": "markdown",
   "metadata": {
    "pycharm": {
     "name": "#%% md\n"
    }
   },
   "source": [
    "Number of nodes"
   ]
  },
  {
   "cell_type": "code",
   "execution_count": 13,
   "metadata": {
    "pycharm": {
     "name": "#%%\n"
    }
   },
   "outputs": [
    {
     "name": "stdout",
     "output_type": "stream",
     "text": [
      "6876\n"
     ]
    }
   ],
   "source": [
    "n = graph_metrics.getGraphSize()\n",
    "properties.append(n)\n",
    "print(n)"
   ]
  },
  {
   "cell_type": "markdown",
   "metadata": {
    "pycharm": {
     "name": "#%% md\n"
    }
   },
   "source": [
    "Number of edges"
   ]
  },
  {
   "cell_type": "code",
   "execution_count": 14,
   "metadata": {
    "pycharm": {
     "name": "#%%\n"
    }
   },
   "outputs": [
    {
     "name": "stdout",
     "output_type": "stream",
     "text": [
      "4274\n"
     ]
    }
   ],
   "source": [
    "m = graph_metrics.getNumberOfEdges().values[0][0]\n",
    "properties.append(m)\n",
    "print(m)"
   ]
  },
  {
   "cell_type": "markdown",
   "metadata": {
    "pycharm": {
     "name": "#%% md\n"
    }
   },
   "source": [
    "Mean degree"
   ]
  },
  {
   "cell_type": "code",
   "execution_count": 15,
   "metadata": {
    "pycharm": {
     "name": "#%%\n"
    }
   },
   "outputs": [
    {
     "name": "stdout",
     "output_type": "stream",
     "text": [
      "1.2431646305991855\n"
     ]
    }
   ],
   "source": [
    "c = 2 * m / n\n",
    "properties.append(c)\n",
    "print(c)"
   ]
  },
  {
   "cell_type": "markdown",
   "metadata": {
    "pycharm": {
     "name": "#%% md\n"
    }
   },
   "source": [
    "Fraction of nodes in the giant component (the largest component)"
   ]
  },
  {
   "cell_type": "code",
   "execution_count": 16,
   "metadata": {
    "pycharm": {
     "name": "#%%\n"
    }
   },
   "outputs": [
    {
     "name": "stdout",
     "output_type": "stream",
     "text": [
      "0.006253635834787667\n"
     ]
    }
   ],
   "source": [
    "fractions = pd.DataFrame(graph_metrics.getFractionsWeaklyConnectedComponents())\n",
    "fractions = fractions.reset_index()\n",
    "fractions.columns = [\"componentId\", \"fraction_of_nodes\"]\n",
    "S = fractions[fractions[\"fraction_of_nodes\"] == fractions[\"fraction_of_nodes\"].max()][\"fraction_of_nodes\"][0]\n",
    "properties.append(S)\n",
    "print(S)"
   ]
  },
  {
   "cell_type": "markdown",
   "metadata": {
    "pycharm": {
     "name": "#%% md\n"
    }
   },
   "source": [
    "Mean distance between connected node pairs"
   ]
  },
  {
   "cell_type": "code",
   "execution_count": 17,
   "metadata": {
    "pycharm": {
     "name": "#%%\n"
    }
   },
   "outputs": [
    {
     "name": "stdout",
     "output_type": "stream",
     "text": [
      "1.0\n"
     ]
    }
   ],
   "source": [
    "l = getMeanOfShortestPaths(getAllShortestPaths(graph=graph))\n",
    "properties.append(l)\n",
    "print(l)"
   ]
  },
  {
   "cell_type": "markdown",
   "metadata": {
    "pycharm": {
     "name": "#%% md\n"
    }
   },
   "source": [
    "Exponent alpha"
   ]
  },
  {
   "cell_type": "code",
   "execution_count": 18,
   "metadata": {
    "pycharm": {
     "name": "#%%\n"
    }
   },
   "outputs": [
    {
     "name": "stdout",
     "output_type": "stream",
     "text": [
      "0     4274\n",
      "1     2346\n",
      "2       58\n",
      "3       42\n",
      "4       32\n",
      "5       19\n",
      "7       19\n",
      "6       12\n",
      "10      11\n",
      "9        6\n",
      "11       5\n",
      "14       5\n",
      "18       4\n",
      "19       4\n",
      "8        4\n",
      "20       3\n",
      "17       3\n",
      "15       3\n",
      "16       3\n",
      "30       2\n",
      "22       2\n",
      "27       2\n",
      "24       2\n",
      "23       2\n",
      "13       2\n",
      "28       2\n",
      "25       2\n",
      "12       1\n",
      "42       1\n",
      "26       1\n",
      "29       1\n",
      "21       1\n",
      "36       1\n",
      "35       1\n",
      "Name: in_degree, dtype: int64\n",
      "1    4274\n",
      "0    2602\n",
      "Name: out_degree, dtype: int64\n",
      "Calculating best minimal value for power law fit\n",
      "Calculating best minimal value for power law fit\n"
     ]
    },
    {
     "name": "stderr",
     "output_type": "stream",
     "text": [
      "Values less than or equal to 0 in data. Throwing out 0 or negative values\n",
      "Values less than or equal to 0 in data. Throwing out 0 or negative values\n",
      "Less than 2 unique data values left after xmin and xmax options! Cannot fit. Returning nans.\n"
     ]
    }
   ],
   "source": [
    "print(degree_distribution_df[\"in_degree\"].value_counts())\n",
    "print(degree_distribution_df[\"out_degree\"].value_counts())\n",
    "x1 = degree_distribution_df[\"in_degree\"].values\n",
    "x2 = degree_distribution_df[\"out_degree\"].values\n",
    "data1 = powerlaw.Fit(x1)\n",
    "data2 = powerlaw.Fit(x2)\n",
    "properties.append(data1.alpha)\n",
    "properties.append(data2.alpha)"
   ]
  },
  {
   "cell_type": "code",
   "execution_count": 19,
   "metadata": {
    "pycharm": {
     "name": "#%%\n"
    }
   },
   "outputs": [
    {
     "name": "stdout",
     "output_type": "stream",
     "text": [
      "7.158472379630891\n",
      "nan\n"
     ]
    }
   ],
   "source": [
    "print(data1.alpha)\n",
    "print(data2.alpha)"
   ]
  },
  {
   "cell_type": "markdown",
   "metadata": {
    "pycharm": {
     "name": "#%% md\n"
    }
   },
   "source": [
    "Mean clustering coefficient"
   ]
  },
  {
   "cell_type": "code",
   "execution_count": 20,
   "metadata": {
    "pycharm": {
     "name": "#%%\n"
    }
   },
   "outputs": [
    {
     "name": "stdout",
     "output_type": "stream",
     "text": [
      "0.0\n"
     ]
    }
   ],
   "source": [
    "local_clustering_coefficients = node_metrics.getClusteringCoefficient()\n",
    "C = local_clustering_coefficients[\"localClusteringCoefficient\"].mean()\n",
    "properties.append(C)\n",
    "print(C)"
   ]
  },
  {
   "cell_type": "code",
   "execution_count": 21,
   "metadata": {
    "pycharm": {
     "name": "#%%\n"
    }
   },
   "outputs": [
    {
     "data": {
      "text/html": [
       "<div>\n",
       "<style scoped>\n",
       "    .dataframe tbody tr th:only-of-type {\n",
       "        vertical-align: middle;\n",
       "    }\n",
       "\n",
       "    .dataframe tbody tr th {\n",
       "        vertical-align: top;\n",
       "    }\n",
       "\n",
       "    .dataframe thead th {\n",
       "        text-align: right;\n",
       "    }\n",
       "</style>\n",
       "<table border=\"1\" class=\"dataframe\">\n",
       "  <thead>\n",
       "    <tr style=\"text-align: right;\">\n",
       "      <th></th>\n",
       "      <th>Type</th>\n",
       "      <th>n</th>\n",
       "      <th>m</th>\n",
       "      <th>c</th>\n",
       "      <th>S</th>\n",
       "      <th>l</th>\n",
       "      <th>alpha_in</th>\n",
       "      <th>alpha_out</th>\n",
       "      <th>C</th>\n",
       "    </tr>\n",
       "  </thead>\n",
       "  <tbody>\n",
       "    <tr>\n",
       "      <th>0</th>\n",
       "      <td>Directed</td>\n",
       "      <td>6876</td>\n",
       "      <td>4274</td>\n",
       "      <td>1.243165</td>\n",
       "      <td>0.006254</td>\n",
       "      <td>1.0</td>\n",
       "      <td>7.158472</td>\n",
       "      <td>NaN</td>\n",
       "      <td>0.0</td>\n",
       "    </tr>\n",
       "  </tbody>\n",
       "</table>\n",
       "</div>"
      ],
      "text/plain": [
       "       Type     n     m         c         S    l  alpha_in  alpha_out    C\n",
       "0  Directed  6876  4274  1.243165  0.006254  1.0  7.158472        NaN  0.0"
      ]
     },
     "execution_count": 21,
     "metadata": {},
     "output_type": "execute_result"
    }
   ],
   "source": [
    "large_scale_structure_df = pd.DataFrame([properties])\n",
    "large_scale_structure_df.columns = column_names\n",
    "large_scale_structure_df.to_csv(\"../graph_large_scale_properties.csv\")\n",
    "large_scale_structure_df"
   ]
  },
  {
   "cell_type": "markdown",
   "metadata": {
    "pycharm": {
     "name": "#%% md\n"
    }
   },
   "source": [
    "### Additional properties"
   ]
  },
  {
   "cell_type": "markdown",
   "metadata": {
    "pycharm": {
     "name": "#%% md\n"
    }
   },
   "source": [
    "Density"
   ]
  },
  {
   "cell_type": "code",
   "execution_count": 22,
   "metadata": {
    "pycharm": {
     "name": "#%%\n"
    }
   },
   "outputs": [
    {
     "name": "stdout",
     "output_type": "stream",
     "text": [
      "0.00018082394626897245\n"
     ]
    }
   ],
   "source": [
    "rho = (2 * m) / (n * (n - 1))\n",
    "print(rho)"
   ]
  },
  {
   "cell_type": "markdown",
   "metadata": {
    "pycharm": {
     "name": "#%% md\n"
    }
   },
   "source": [
    "Number of strongly connected components"
   ]
  },
  {
   "cell_type": "code",
   "execution_count": 23,
   "metadata": {
    "pycharm": {
     "name": "#%%\n"
    }
   },
   "outputs": [
    {
     "data": {
      "text/plain": [
       "6876"
      ]
     },
     "execution_count": 23,
     "metadata": {},
     "output_type": "execute_result"
    }
   ],
   "source": [
    "len(graph_metrics.getFractionsStronglyConnectedComponents())"
   ]
  },
  {
   "cell_type": "markdown",
   "metadata": {
    "pycharm": {
     "name": "#%% md\n"
    }
   },
   "source": [
    "Number of weakly connected components"
   ]
  },
  {
   "cell_type": "code",
   "execution_count": 24,
   "metadata": {
    "pycharm": {
     "name": "#%%\n"
    }
   },
   "outputs": [
    {
     "data": {
      "text/plain": [
       "2602"
      ]
     },
     "execution_count": 24,
     "metadata": {},
     "output_type": "execute_result"
    }
   ],
   "source": [
    "len(graph_metrics.getFractionsWeaklyConnectedComponents())"
   ]
  },
  {
   "cell_type": "markdown",
   "metadata": {
    "pycharm": {
     "name": "#%% md\n"
    }
   },
   "source": [
    "Graph's diameter"
   ]
  },
  {
   "cell_type": "code",
   "execution_count": 25,
   "metadata": {
    "pycharm": {
     "name": "#%%\n"
    }
   },
   "outputs": [],
   "source": [
    "path_lengths = {}\n",
    "all_shortest_paths = getAllShortestPaths(graph)\n",
    "for i in range(len(all_shortest_paths)):\n",
    "    for path in all_shortest_paths[i][2]:\n",
    "        if path in path_lengths.keys():\n",
    "            path_lengths[path] += 1\n",
    "        else:\n",
    "            path_lengths[path] = 1"
   ]
  },
  {
   "cell_type": "code",
   "execution_count": 26,
   "metadata": {
    "pycharm": {
     "name": "#%%\n"
    }
   },
   "outputs": [
    {
     "data": {
      "text/plain": [
       "{0: 6876, 1: 4274}"
      ]
     },
     "execution_count": 26,
     "metadata": {},
     "output_type": "execute_result"
    }
   ],
   "source": [
    "path_lengths"
   ]
  },
  {
   "cell_type": "code",
   "execution_count": 27,
   "metadata": {
    "pycharm": {
     "name": "#%%\n"
    }
   },
   "outputs": [
    {
     "data": {
      "text/plain": [
       "1"
      ]
     },
     "execution_count": 27,
     "metadata": {},
     "output_type": "execute_result"
    }
   ],
   "source": [
    "getDiameter(getAllShortestPaths(graph=graph))"
   ]
  },
  {
   "cell_type": "markdown",
   "metadata": {
    "pycharm": {
     "name": "#%% md\n"
    }
   },
   "source": [
    "## Centrality Metrics Analysis"
   ]
  },
  {
   "cell_type": "markdown",
   "metadata": {
    "pycharm": {
     "name": "#%% md\n"
    }
   },
   "source": [
    "#### Class imbalance"
   ]
  },
  {
   "cell_type": "code",
   "execution_count": 28,
   "metadata": {
    "pycharm": {
     "name": "#%%\n"
    }
   },
   "outputs": [
    {
     "data": {
      "text/plain": [
       "0    6820\n",
       "1      56\n",
       "Name: class, dtype: int64"
      ]
     },
     "execution_count": 28,
     "metadata": {},
     "output_type": "execute_result"
    }
   ],
   "source": [
    "nodes_classes[\"class\"].value_counts()"
   ]
  },
  {
   "cell_type": "markdown",
   "metadata": {
    "pycharm": {
     "name": "#%% md\n"
    }
   },
   "source": [
    "### Degree Distribution"
   ]
  },
  {
   "cell_type": "code",
   "execution_count": 29,
   "metadata": {
    "pycharm": {
     "name": "#%%\n"
    }
   },
   "outputs": [
    {
     "data": {
      "text/html": [
       "<div>\n",
       "<style scoped>\n",
       "    .dataframe tbody tr th:only-of-type {\n",
       "        vertical-align: middle;\n",
       "    }\n",
       "\n",
       "    .dataframe tbody tr th {\n",
       "        vertical-align: top;\n",
       "    }\n",
       "\n",
       "    .dataframe thead th {\n",
       "        text-align: right;\n",
       "    }\n",
       "</style>\n",
       "<table border=\"1\" class=\"dataframe\">\n",
       "  <thead>\n",
       "    <tr style=\"text-align: right;\">\n",
       "      <th></th>\n",
       "      <th>in_degree</th>\n",
       "      <th>id</th>\n",
       "      <th>out_degree</th>\n",
       "    </tr>\n",
       "  </thead>\n",
       "  <tbody>\n",
       "    <tr>\n",
       "      <th>0</th>\n",
       "      <td>0</td>\n",
       "      <td>C1305486145</td>\n",
       "      <td>1</td>\n",
       "    </tr>\n",
       "    <tr>\n",
       "      <th>0</th>\n",
       "      <td>0</td>\n",
       "      <td>C840083671</td>\n",
       "      <td>1</td>\n",
       "    </tr>\n",
       "    <tr>\n",
       "      <th>0</th>\n",
       "      <td>0</td>\n",
       "      <td>C1420196421</td>\n",
       "      <td>1</td>\n",
       "    </tr>\n",
       "    <tr>\n",
       "      <th>0</th>\n",
       "      <td>0</td>\n",
       "      <td>C2101527076</td>\n",
       "      <td>1</td>\n",
       "    </tr>\n",
       "    <tr>\n",
       "      <th>0</th>\n",
       "      <td>0</td>\n",
       "      <td>C137533655</td>\n",
       "      <td>1</td>\n",
       "    </tr>\n",
       "  </tbody>\n",
       "</table>\n",
       "</div>"
      ],
      "text/plain": [
       "   in_degree           id  out_degree\n",
       "0          0  C1305486145           1\n",
       "0          0   C840083671           1\n",
       "0          0  C1420196421           1\n",
       "0          0  C2101527076           1\n",
       "0          0   C137533655           1"
      ]
     },
     "execution_count": 29,
     "metadata": {},
     "output_type": "execute_result"
    }
   ],
   "source": [
    "degree_distribution_df.head()"
   ]
  },
  {
   "cell_type": "code",
   "execution_count": 30,
   "metadata": {
    "pycharm": {
     "name": "#%%\n"
    }
   },
   "outputs": [],
   "source": [
    "def plotInDegreeDistribution(x, y, color, title_postfix=\"\"):\n",
    "    sns.set_theme(style=\"whitegrid\")\n",
    "    plt.figure(figsize=(8,7))\n",
    "    sns.barplot(x=x, y=y, color=color)\n",
    "    plt.xlabel(\"in-degree\")\n",
    "    plt.ylabel(\"count\")\n",
    "    plt.title(f\"In-degree distribution{title_postfix}\", fontsize=16)\n",
    "    plt.show()\n",
    "\n",
    "def plotOutDegreeDistribution(x, y, color, title_postfix=\"\"):\n",
    "    sns.set_theme(style=\"whitegrid\")\n",
    "    plt.figure(figsize=(8,7))\n",
    "    sns.barplot(x=x, y=y, color=color)\n",
    "    plt.xlabel(\"out-degree\")\n",
    "    plt.ylabel(\"count\")\n",
    "    plt.title(f\"Out-degree distribution{title_postfix}\", fontsize=16)\n",
    "    plt.show()"
   ]
  },
  {
   "cell_type": "code",
   "execution_count": 31,
   "metadata": {
    "pycharm": {
     "name": "#%%\n"
    }
   },
   "outputs": [
    {
     "data": {
      "image/png": "[encoded data removed]",
      "text/plain": [
       "<Figure size 576x504 with 1 Axes>"
      ]
     },
     "metadata": {},
     "output_type": "display_data"
    }
   ],
   "source": [
    "plotInDegreeDistribution(x=degree_distribution_df[\"in_degree\"].value_counts().index, y=degree_distribution_df[\"in_degree\"].value_counts(), color=\"lightseagreen\")"
   ]
  },
  {
   "cell_type": "code",
   "execution_count": 32,
   "metadata": {
    "pycharm": {
     "name": "#%%\n"
    }
   },
   "outputs": [
    {
     "data": {
      "image/png": "[encoded data removed]",
      "text/plain": [
       "<Figure size 576x504 with 1 Axes>"
      ]
     },
     "metadata": {},
     "output_type": "display_data"
    }
   ],
   "source": [
    "plotOutDegreeDistribution(x=degree_distribution_df[\"out_degree\"].value_counts().index, y=degree_distribution_df[\"out_degree\"].value_counts(), color=\"orange\")"
   ]
  },
  {
   "cell_type": "code",
   "execution_count": 33,
   "metadata": {
    "pycharm": {
     "name": "#%%\n"
    }
   },
   "outputs": [],
   "source": [
    "degree_distribution_and_class = pd.merge(nodes_classes, degree_distribution_df, on=\"id\")"
   ]
  },
  {
   "cell_type": "code",
   "execution_count": 34,
   "metadata": {
    "pycharm": {
     "name": "#%%\n"
    }
   },
   "outputs": [
    {
     "data": {
      "image/png": "[encoded data removed]",
      "text/plain": [
       "<Figure size 576x504 with 1 Axes>"
      ]
     },
     "metadata": {},
     "output_type": "display_data"
    }
   ],
   "source": [
    "x = degree_distribution_and_class[degree_distribution_and_class[\"class\"] == 1][\"in_degree\"].value_counts().index\n",
    "y = degree_distribution_and_class[degree_distribution_and_class[\"class\"] == 1][\"in_degree\"].value_counts()\n",
    "plotInDegreeDistribution(x=x, y=y, title_postfix=\": fraudulent nodes\", color=\"crimson\")"
   ]
  },
  {
   "cell_type": "code",
   "execution_count": 35,
   "metadata": {
    "pycharm": {
     "name": "#%%\n"
    }
   },
   "outputs": [
    {
     "data": {
      "image/png": "[encoded data removed]",
      "text/plain": [
       "<Figure size 576x504 with 1 Axes>"
      ]
     },
     "metadata": {},
     "output_type": "display_data"
    }
   ],
   "source": [
    "x = degree_distribution_and_class[degree_distribution_and_class[\"class\"] == 0][\"in_degree\"].value_counts().index\n",
    "y = degree_distribution_and_class[degree_distribution_and_class[\"class\"] == 0][\"in_degree\"].value_counts()\n",
    "plotInDegreeDistribution(x=x, y=y, title_postfix=\": non-fraudulent nodes\", color=\"lightseagreen\")"
   ]
  },
  {
   "cell_type": "code",
   "execution_count": 36,
   "metadata": {
    "pycharm": {
     "name": "#%%\n"
    }
   },
   "outputs": [
    {
     "data": {
      "image/png": "[encoded data removed]",
      "text/plain": [
       "<Figure size 576x504 with 1 Axes>"
      ]
     },
     "metadata": {},
     "output_type": "display_data"
    }
   ],
   "source": [
    "x = degree_distribution_and_class[degree_distribution_and_class[\"class\"] == 1][\"out_degree\"].value_counts().index\n",
    "y = degree_distribution_and_class[degree_distribution_and_class[\"class\"] == 1][\"out_degree\"].value_counts()\n",
    "plotOutDegreeDistribution(x=x, y=y, title_postfix=\": fraudulent nodes\", color=\"crimson\")"
   ]
  },
  {
   "cell_type": "code",
   "execution_count": 37,
   "metadata": {
    "pycharm": {
     "name": "#%%\n"
    }
   },
   "outputs": [
    {
     "data": {
      "image/png": "[encoded data removed]",
      "text/plain": [
       "<Figure size 576x504 with 1 Axes>"
      ]
     },
     "metadata": {},
     "output_type": "display_data"
    }
   ],
   "source": [
    "x = degree_distribution_and_class[degree_distribution_and_class[\"class\"] == 0][\"out_degree\"].value_counts().index\n",
    "y = degree_distribution_and_class[degree_distribution_and_class[\"class\"] == 0][\"out_degree\"].value_counts()\n",
    "plotOutDegreeDistribution(x=x, y=y, title_postfix=\": non-fraudulent transactions\", color=\"lightseagreen\")"
   ]
  },
  {
   "cell_type": "code",
   "execution_count": 38,
   "metadata": {
    "pycharm": {
     "name": "#%%\n"
    }
   },
   "outputs": [
    {
     "data": {
      "text/plain": [
       "0     4246\n",
       "1     2330\n",
       "2       58\n",
       "3       38\n",
       "4       30\n",
       "7       18\n",
       "5       16\n",
       "6       12\n",
       "10      11\n",
       "9        6\n",
       "11       5\n",
       "14       5\n",
       "19       4\n",
       "8        4\n",
       "18       4\n",
       "16       3\n",
       "20       3\n",
       "15       3\n",
       "25       2\n",
       "24       2\n",
       "23       2\n",
       "13       2\n",
       "22       2\n",
       "28       2\n",
       "30       2\n",
       "27       2\n",
       "12       1\n",
       "42       1\n",
       "26       1\n",
       "29       1\n",
       "21       1\n",
       "17       1\n",
       "36       1\n",
       "35       1\n",
       "Name: in_degree, dtype: int64"
      ]
     },
     "execution_count": 38,
     "metadata": {},
     "output_type": "execute_result"
    }
   ],
   "source": [
    "degree_distribution_and_class[degree_distribution_and_class[\"class\"] == 0][\"in_degree\"].value_counts()"
   ]
  },
  {
   "cell_type": "code",
   "execution_count": 39,
   "metadata": {
    "pycharm": {
     "name": "#%%\n"
    }
   },
   "outputs": [
    {
     "data": {
      "text/plain": [
       "0     28\n",
       "1     16\n",
       "3      4\n",
       "5      3\n",
       "4      2\n",
       "17     2\n",
       "7      1\n",
       "Name: in_degree, dtype: int64"
      ]
     },
     "execution_count": 39,
     "metadata": {},
     "output_type": "execute_result"
    }
   ],
   "source": [
    "degree_distribution_and_class[degree_distribution_and_class[\"class\"] == 1][\"in_degree\"].value_counts()"
   ]
  },
  {
   "cell_type": "markdown",
   "metadata": {
    "pycharm": {
     "name": "#%% md\n"
    }
   },
   "source": [
    "### Pagerank scores distribution"
   ]
  },
  {
   "cell_type": "code",
   "execution_count": 40,
   "metadata": {
    "pycharm": {
     "name": "#%%\n"
    }
   },
   "outputs": [],
   "source": [
    "def plotPageRankDistribution(subset, color, title_postfix=\"\"):\n",
    "    subset = subset.value_counts()\n",
    "    plt.figure(figsize=(8,7))\n",
    "    sns.barplot(x=subset, y=subset.index, color=color)\n",
    "    plt.xlabel(\"pagerank score\")\n",
    "    plt.xticks(rotation=45)\n",
    "    plt.ylabel(\"count\")\n",
    "    plt.title(f\"Pagerank scores distribution{title_postfix}\")\n",
    "    plt.show()"
   ]
  },
  {
   "cell_type": "code",
   "execution_count": 41,
   "metadata": {
    "pycharm": {
     "name": "#%%\n"
    }
   },
   "outputs": [],
   "source": [
    "pagerank_scores = node_metrics.getPageRankScores().round(decimals=3)\n",
    "pagerank_scores_classes = pd.merge(pagerank_scores, nodes_classes, on=\"id\")"
   ]
  },
  {
   "cell_type": "code",
   "execution_count": 42,
   "metadata": {
    "pycharm": {
     "name": "#%%\n"
    }
   },
   "outputs": [
    {
     "data": {
      "text/html": [
       "<div>\n",
       "<style scoped>\n",
       "    .dataframe tbody tr th:only-of-type {\n",
       "        vertical-align: middle;\n",
       "    }\n",
       "\n",
       "    .dataframe tbody tr th {\n",
       "        vertical-align: top;\n",
       "    }\n",
       "\n",
       "    .dataframe thead th {\n",
       "        text-align: right;\n",
       "    }\n",
       "</style>\n",
       "<table border=\"1\" class=\"dataframe\">\n",
       "  <thead>\n",
       "    <tr style=\"text-align: right;\">\n",
       "      <th></th>\n",
       "      <th>all_classes</th>\n",
       "      <th>illicit</th>\n",
       "      <th>licit</th>\n",
       "    </tr>\n",
       "  </thead>\n",
       "  <tbody>\n",
       "    <tr>\n",
       "      <th>mean_PageRankScore</th>\n",
       "      <td>0.22925</td>\n",
       "      <td>0.35946</td>\n",
       "      <td>0.22818</td>\n",
       "    </tr>\n",
       "    <tr>\n",
       "      <th>median_PageRankScore</th>\n",
       "      <td>0.15000</td>\n",
       "      <td>0.21375</td>\n",
       "      <td>0.15000</td>\n",
       "    </tr>\n",
       "    <tr>\n",
       "      <th>standard_deviation_PageRankScore</th>\n",
       "      <td>0.25871</td>\n",
       "      <td>0.43318</td>\n",
       "      <td>0.25656</td>\n",
       "    </tr>\n",
       "    <tr>\n",
       "      <th>minimum_value_PageRankScore</th>\n",
       "      <td>0.15000</td>\n",
       "      <td>0.15000</td>\n",
       "      <td>0.15000</td>\n",
       "    </tr>\n",
       "    <tr>\n",
       "      <th>maximum_value_PageRankScore</th>\n",
       "      <td>5.50500</td>\n",
       "      <td>2.31750</td>\n",
       "      <td>5.50500</td>\n",
       "    </tr>\n",
       "  </tbody>\n",
       "</table>\n",
       "</div>"
      ],
      "text/plain": [
       "                                  all_classes  illicit    licit\n",
       "mean_PageRankScore                    0.22925  0.35946  0.22818\n",
       "median_PageRankScore                  0.15000  0.21375  0.15000\n",
       "standard_deviation_PageRankScore      0.25871  0.43318  0.25656\n",
       "minimum_value_PageRankScore           0.15000  0.15000  0.15000\n",
       "maximum_value_PageRankScore           5.50500  2.31750  5.50500"
      ]
     },
     "execution_count": 42,
     "metadata": {},
     "output_type": "execute_result"
    }
   ],
   "source": [
    "manager.getCentralityMetricsDataFrame(\"PageRankScore\")"
   ]
  },
  {
   "cell_type": "code",
   "execution_count": 43,
   "metadata": {
    "pycharm": {
     "name": "#%%\n"
    }
   },
   "outputs": [
    {
     "data": {
      "image/png": "[encoded data removed]",
      "text/plain": [
       "<Figure size 576x504 with 1 Axes>"
      ]
     },
     "metadata": {},
     "output_type": "display_data"
    }
   ],
   "source": [
    "plt.figure(figsize=(8,7))\n",
    "sns.barplot(x=pagerank_scores_classes[\"PageRankScore\"].value_counts().index, y=pagerank_scores_classes[\"PageRankScore\"].value_counts(), color=\"lightseagreen\")\n",
    "plt.xlabel(\"pagerank score\")\n",
    "plt.xticks(rotation=45)\n",
    "plt.ylabel(\"count\")\n",
    "plt.title(f\"Pagerank scores distribution\")\n",
    "plt.show()"
   ]
  },
  {
   "cell_type": "code",
   "execution_count": 44,
   "metadata": {
    "pycharm": {
     "name": "#%%\n"
    }
   },
   "outputs": [
    {
     "data": {
      "image/png": "[encoded data removed]",
      "text/plain": [
       "<Figure size 576x504 with 1 Axes>"
      ]
     },
     "metadata": {},
     "output_type": "display_data"
    }
   ],
   "source": [
    "subset = pagerank_scores_classes[pagerank_scores_classes[\"class\"] == 1][\"PageRankScore\"]\n",
    "plt.figure(figsize=(8,7))\n",
    "sns.barplot(x=subset.value_counts().index, y=subset.value_counts(), color=\"crimson\")\n",
    "plt.xlabel(\"PageRank score\")\n",
    "plt.xticks(rotation=45)\n",
    "plt.ylabel(\"count\")\n",
    "plt.title(f\"PageRank scores distribution: fraudulent nodes\", fontsize=16)\n",
    "plt.show()"
   ]
  },
  {
   "cell_type": "code",
   "execution_count": 45,
   "metadata": {
    "pycharm": {
     "name": "#%%\n"
    }
   },
   "outputs": [
    {
     "data": {
      "image/png": "[encoded data removed]",
      "text/plain": [
       "<Figure size 576x504 with 1 Axes>"
      ]
     },
     "metadata": {},
     "output_type": "display_data"
    }
   ],
   "source": [
    "subset = pagerank_scores_classes[pagerank_scores_classes[\"class\"] == 0][\"PageRankScore\"]\n",
    "plt.figure(figsize=(8,7))\n",
    "ax = sns.barplot(x=subset.value_counts().index, y=subset.value_counts(), color=\"lightseagreen\")\n",
    "ax.xaxis.set_major_locator(plt.MaxNLocator(10))\n",
    "plt.xlabel(\"PageRank score\")\n",
    "plt.xticks(rotation=45)\n",
    "plt.ylabel(\"count\")\n",
    "plt.title(f\"PageRank scores distribution: non-fraudulent nodes\", fontsize=16)\n",
    "plt.show()"
   ]
  },
  {
   "cell_type": "markdown",
   "metadata": {
    "pycharm": {
     "name": "#%% md\n"
    }
   },
   "source": [
    "### Betweenness scores distribution"
   ]
  },
  {
   "cell_type": "code",
   "execution_count": 46,
   "metadata": {
    "pycharm": {
     "name": "#%%\n"
    }
   },
   "outputs": [
    {
     "name": "stdout",
     "output_type": "stream",
     "text": [
      "0.0\n",
      "0.0\n"
     ]
    }
   ],
   "source": [
    "betweenness_scores = node_metrics.getBetweennessCentrality()\n",
    "print(betweenness_scores[\"BetweennessScore\"].max())\n",
    "print(betweenness_scores[\"BetweennessScore\"].min())"
   ]
  },
  {
   "cell_type": "markdown",
   "metadata": {
    "pycharm": {
     "name": "#%% md\n"
    }
   },
   "source": [
    "### Eigenvector scores distribution"
   ]
  },
  {
   "cell_type": "code",
   "execution_count": 47,
   "metadata": {
    "pycharm": {
     "name": "#%%\n"
    }
   },
   "outputs": [],
   "source": [
    "def plotEigenvectorScoresDistribution(subset, color, title_postfix=\"\"):\n",
    "    subset = subset.value_counts()\n",
    "    plt.figure(figsize=(8,7))\n",
    "    sns.barplot(x=subset.index, y=subset, color=color)\n",
    "    plt.xlabel(\"eigenvector score\")\n",
    "    plt.xticks(rotation=45)\n",
    "    plt.ylabel(\"count\")\n",
    "    plt.title(f\"Eigenvector scores distribution{title_postfix}\")\n",
    "    plt.show()"
   ]
  },
  {
   "cell_type": "code",
   "execution_count": 48,
   "metadata": {
    "pycharm": {
     "name": "#%%\n"
    }
   },
   "outputs": [],
   "source": [
    "eigenvector_scores = node_metrics.getEigenvectorCentrality().round(decimals=3)"
   ]
  },
  {
   "cell_type": "code",
   "execution_count": 49,
   "metadata": {
    "pycharm": {
     "name": "#%%\n"
    }
   },
   "outputs": [],
   "source": [
    "eigenvector_scores_classes = pd.merge(eigenvector_scores, nodes_classes, on=\"id\")"
   ]
  },
  {
   "cell_type": "code",
   "execution_count": 50,
   "metadata": {
    "pycharm": {
     "name": "#%%\n"
    }
   },
   "outputs": [
    {
     "data": {
      "text/html": [
       "<div>\n",
       "<style scoped>\n",
       "    .dataframe tbody tr th:only-of-type {\n",
       "        vertical-align: middle;\n",
       "    }\n",
       "\n",
       "    .dataframe tbody tr th {\n",
       "        vertical-align: top;\n",
       "    }\n",
       "\n",
       "    .dataframe thead th {\n",
       "        text-align: right;\n",
       "    }\n",
       "</style>\n",
       "<table border=\"1\" class=\"dataframe\">\n",
       "  <thead>\n",
       "    <tr style=\"text-align: right;\">\n",
       "      <th></th>\n",
       "      <th>all_classes</th>\n",
       "      <th>illicit</th>\n",
       "      <th>licit</th>\n",
       "    </tr>\n",
       "  </thead>\n",
       "  <tbody>\n",
       "    <tr>\n",
       "      <th>mean_EigenvectorCentrality</th>\n",
       "      <td>0.00375</td>\n",
       "      <td>0.00952</td>\n",
       "      <td>0.00370</td>\n",
       "    </tr>\n",
       "    <tr>\n",
       "      <th>median_EigenvectorCentrality</th>\n",
       "      <td>0.00024</td>\n",
       "      <td>0.00306</td>\n",
       "      <td>0.00024</td>\n",
       "    </tr>\n",
       "    <tr>\n",
       "      <th>standard_deviation_EigenvectorCentrality</th>\n",
       "      <td>0.01146</td>\n",
       "      <td>0.01919</td>\n",
       "      <td>0.01137</td>\n",
       "    </tr>\n",
       "    <tr>\n",
       "      <th>minimum_value_EigenvectorCentrality</th>\n",
       "      <td>0.00024</td>\n",
       "      <td>0.00024</td>\n",
       "      <td>0.00024</td>\n",
       "    </tr>\n",
       "    <tr>\n",
       "      <th>maximum_value_EigenvectorCentrality</th>\n",
       "      <td>0.23751</td>\n",
       "      <td>0.09628</td>\n",
       "      <td>0.23751</td>\n",
       "    </tr>\n",
       "  </tbody>\n",
       "</table>\n",
       "</div>"
      ],
      "text/plain": [
       "                                          all_classes  illicit    licit\n",
       "mean_EigenvectorCentrality                    0.00375  0.00952  0.00370\n",
       "median_EigenvectorCentrality                  0.00024  0.00306  0.00024\n",
       "standard_deviation_EigenvectorCentrality      0.01146  0.01919  0.01137\n",
       "minimum_value_EigenvectorCentrality           0.00024  0.00024  0.00024\n",
       "maximum_value_EigenvectorCentrality           0.23751  0.09628  0.23751"
      ]
     },
     "execution_count": 50,
     "metadata": {},
     "output_type": "execute_result"
    }
   ],
   "source": [
    "manager.getCentralityMetricsDataFrame(\"EigenvectorCentrality\")"
   ]
  },
  {
   "cell_type": "code",
   "execution_count": 51,
   "metadata": {
    "pycharm": {
     "name": "#%%\n"
    }
   },
   "outputs": [
    {
     "data": {
      "image/png": "[encoded data removed]",
      "text/plain": [
       "<Figure size 576x504 with 1 Axes>"
      ]
     },
     "metadata": {},
     "output_type": "display_data"
    }
   ],
   "source": [
    "plotEigenvectorScoresDistribution(eigenvector_scores[\"EigenvectorCentrality\"], color=\"navy\", title_postfix=\": all nodes\")"
   ]
  },
  {
   "cell_type": "code",
   "execution_count": 52,
   "metadata": {
    "pycharm": {
     "name": "#%%\n"
    }
   },
   "outputs": [
    {
     "data": {
      "image/png": "[encoded data removed]",
      "text/plain": [
       "<Figure size 576x504 with 1 Axes>"
      ]
     },
     "metadata": {},
     "output_type": "display_data"
    }
   ],
   "source": [
    "plotEigenvectorScoresDistribution(eigenvector_scores_classes[eigenvector_scores_classes[\"class\"] == 1][\"EigenvectorCentrality\"], color=\"navy\", title_postfix=\": fraudulent nodes\")"
   ]
  },
  {
   "cell_type": "code",
   "execution_count": 53,
   "metadata": {
    "pycharm": {
     "name": "#%%\n"
    }
   },
   "outputs": [
    {
     "data": {
      "image/png": "[encoded data removed]",
      "text/plain": [
       "<Figure size 576x504 with 1 Axes>"
      ]
     },
     "metadata": {},
     "output_type": "display_data"
    }
   ],
   "source": [
    "plotEigenvectorScoresDistribution(eigenvector_scores_classes[eigenvector_scores_classes[\"class\"] == 1][\"EigenvectorCentrality\"], color=\"navy\", title_postfix=\": non-fraudulent nodes\")"
   ]
  },
  {
   "cell_type": "markdown",
   "metadata": {
    "pycharm": {
     "name": "#%% md\n"
    }
   },
   "source": [
    "### Closeness Centrality Distribution"
   ]
  },
  {
   "cell_type": "code",
   "execution_count": 54,
   "metadata": {
    "pycharm": {
     "name": "#%%\n"
    }
   },
   "outputs": [],
   "source": [
    "def plotClosenessScoresDistribution(subset, color, title_postfix=\"\"):\n",
    "    subset = subset.value_counts()\n",
    "    plt.figure(figsize=(8,7))\n",
    "    ax = sns.barplot(x=subset.index, y=subset, color=color)\n",
    "    ax.xaxis.set_major_formatter(FormatStrFormatter('%.2f'))\n",
    "    plt.xlabel(\"closeness score\")\n",
    "    plt.ylabel(\"count\")\n",
    "    plt.title(f\"Closeness scores distribution{title_postfix}\", fontsize=16)\n",
    "    plt.show()"
   ]
  },
  {
   "cell_type": "code",
   "execution_count": 55,
   "metadata": {
    "pycharm": {
     "name": "#%%\n"
    }
   },
   "outputs": [],
   "source": [
    "closeness_scores = node_metrics.getClosenessCentrality()"
   ]
  },
  {
   "cell_type": "code",
   "execution_count": 56,
   "metadata": {
    "pycharm": {
     "name": "#%%\n"
    }
   },
   "outputs": [],
   "source": [
    "closeness_scores_classes = pd.merge(closeness_scores, nodes_classes, on=\"id\")"
   ]
  },
  {
   "cell_type": "code",
   "execution_count": 57,
   "metadata": {
    "pycharm": {
     "name": "#%%\n"
    }
   },
   "outputs": [
    {
     "data": {
      "text/html": [
       "<div>\n",
       "<style scoped>\n",
       "    .dataframe tbody tr th:only-of-type {\n",
       "        vertical-align: middle;\n",
       "    }\n",
       "\n",
       "    .dataframe tbody tr th {\n",
       "        vertical-align: top;\n",
       "    }\n",
       "\n",
       "    .dataframe thead th {\n",
       "        text-align: right;\n",
       "    }\n",
       "</style>\n",
       "<table border=\"1\" class=\"dataframe\">\n",
       "  <thead>\n",
       "    <tr style=\"text-align: right;\">\n",
       "      <th></th>\n",
       "      <th>all_classes</th>\n",
       "      <th>illicit</th>\n",
       "      <th>licit</th>\n",
       "    </tr>\n",
       "  </thead>\n",
       "  <tbody>\n",
       "    <tr>\n",
       "      <th>mean_ClosenessScore</th>\n",
       "      <td>0.37842</td>\n",
       "      <td>0.50000</td>\n",
       "      <td>0.37742</td>\n",
       "    </tr>\n",
       "    <tr>\n",
       "      <th>median_ClosenessScore</th>\n",
       "      <td>0.00000</td>\n",
       "      <td>0.50000</td>\n",
       "      <td>0.00000</td>\n",
       "    </tr>\n",
       "    <tr>\n",
       "      <th>standard_deviation_ClosenessScore</th>\n",
       "      <td>0.48503</td>\n",
       "      <td>0.50452</td>\n",
       "      <td>0.48478</td>\n",
       "    </tr>\n",
       "    <tr>\n",
       "      <th>minimum_value_ClosenessScore</th>\n",
       "      <td>0.00000</td>\n",
       "      <td>0.00000</td>\n",
       "      <td>0.00000</td>\n",
       "    </tr>\n",
       "    <tr>\n",
       "      <th>maximum_value_ClosenessScore</th>\n",
       "      <td>1.00000</td>\n",
       "      <td>1.00000</td>\n",
       "      <td>1.00000</td>\n",
       "    </tr>\n",
       "  </tbody>\n",
       "</table>\n",
       "</div>"
      ],
      "text/plain": [
       "                                   all_classes  illicit    licit\n",
       "mean_ClosenessScore                    0.37842  0.50000  0.37742\n",
       "median_ClosenessScore                  0.00000  0.50000  0.00000\n",
       "standard_deviation_ClosenessScore      0.48503  0.50452  0.48478\n",
       "minimum_value_ClosenessScore           0.00000  0.00000  0.00000\n",
       "maximum_value_ClosenessScore           1.00000  1.00000  1.00000"
      ]
     },
     "execution_count": 57,
     "metadata": {},
     "output_type": "execute_result"
    }
   ],
   "source": [
    "manager.getCentralityMetricsDataFrame(\"ClosenessScore\")"
   ]
  },
  {
   "cell_type": "code",
   "execution_count": 58,
   "metadata": {
    "pycharm": {
     "name": "#%%\n"
    }
   },
   "outputs": [
    {
     "data": {
      "image/png": "[encoded data removed]",
      "text/plain": [
       "<Figure size 576x504 with 1 Axes>"
      ]
     },
     "metadata": {},
     "output_type": "display_data"
    }
   ],
   "source": [
    "plotClosenessScoresDistribution(closeness_scores[\"ClosenessScore\"], color=\"orange\")"
   ]
  },
  {
   "cell_type": "code",
   "execution_count": 59,
   "metadata": {
    "pycharm": {
     "name": "#%%\n"
    }
   },
   "outputs": [
    {
     "data": {
      "image/png": "[encoded data removed]",
      "text/plain": [
       "<Figure size 576x504 with 1 Axes>"
      ]
     },
     "metadata": {},
     "output_type": "display_data"
    }
   ],
   "source": [
    "plotClosenessScoresDistribution(closeness_scores_classes[closeness_scores_classes[\"class\"] == 0][\"ClosenessScore\"], color=\"lightseagreen\", title_postfix=\": non-fraudulent nodes\")"
   ]
  },
  {
   "cell_type": "code",
   "execution_count": 60,
   "metadata": {
    "pycharm": {
     "name": "#%%\n"
    }
   },
   "outputs": [
    {
     "data": {
      "image/png": "[encoded data removed]",
      "text/plain": [
       "<Figure size 576x504 with 1 Axes>"
      ]
     },
     "metadata": {},
     "output_type": "display_data"
    }
   ],
   "source": [
    "plotClosenessScoresDistribution(closeness_scores_classes[closeness_scores_classes[\"class\"] == 1][\"ClosenessScore\"], color=\"crimson\", title_postfix=\": fraudulent nodes\")"
   ]
  },
  {
   "cell_type": "markdown",
   "metadata": {
    "pycharm": {
     "name": "#%% md\n"
    }
   },
   "source": [
    "### HITS scores distribution"
   ]
  },
  {
   "cell_type": "code",
   "execution_count": 61,
   "metadata": {
    "pycharm": {
     "name": "#%%\n"
    }
   },
   "outputs": [],
   "source": [
    "hits_scores = node_metrics.getHITSCentrality()\n",
    "hits_scores_classes = pd.merge(hits_scores, nodes_classes, on=\"id\")"
   ]
  },
  {
   "cell_type": "code",
   "execution_count": 62,
   "metadata": {
    "pycharm": {
     "name": "#%%\n"
    }
   },
   "outputs": [
    {
     "data": {
      "text/plain": [
       "(4588, 0.999)"
      ]
     },
     "execution_count": 62,
     "metadata": {},
     "output_type": "execute_result"
    }
   ],
   "source": [
    "hits_scores_classes.round(decimals=3)[\"authorityScore\"].idxmax(), hits_scores_classes.round(decimals=3)[\"authorityScore\"].max()"
   ]
  },
  {
   "cell_type": "code",
   "execution_count": 63,
   "metadata": {
    "pycharm": {
     "name": "#%%\n"
    }
   },
   "outputs": [
    {
     "data": {
      "text/plain": [
       "id                C985934102\n",
       "authorityScore      0.998611\n",
       "hubScore                 0.0\n",
       "class                      0\n",
       "Name: 4588, dtype: object"
      ]
     },
     "execution_count": 63,
     "metadata": {},
     "output_type": "execute_result"
    }
   ],
   "source": [
    "hits_scores_classes.iloc[4588]"
   ]
  },
  {
   "cell_type": "code",
   "execution_count": 64,
   "metadata": {
    "pycharm": {
     "name": "#%%\n"
    }
   },
   "outputs": [
    {
     "data": {
      "text/plain": [
       "(15, 0.154)"
      ]
     },
     "execution_count": 64,
     "metadata": {},
     "output_type": "execute_result"
    }
   ],
   "source": [
    "hits_scores_classes.round(decimals=3)[\"hubScore\"].idxmax(), hits_scores_classes.round(decimals=3)[\"hubScore\"].max()"
   ]
  },
  {
   "cell_type": "code",
   "execution_count": 65,
   "metadata": {
    "pycharm": {
     "name": "#%%\n"
    }
   },
   "outputs": [
    {
     "data": {
      "text/plain": [
       "id                C100708535\n",
       "authorityScore           0.0\n",
       "hubScore            0.154121\n",
       "class                      0\n",
       "Name: 15, dtype: object"
      ]
     },
     "execution_count": 65,
     "metadata": {},
     "output_type": "execute_result"
    }
   ],
   "source": [
    "hits_scores_classes.iloc[15]"
   ]
  },
  {
   "cell_type": "code",
   "execution_count": 66,
   "metadata": {
    "pycharm": {
     "name": "#%%\n"
    }
   },
   "outputs": [
    {
     "data": {
      "text/html": [
       "<div>\n",
       "<style scoped>\n",
       "    .dataframe tbody tr th:only-of-type {\n",
       "        vertical-align: middle;\n",
       "    }\n",
       "\n",
       "    .dataframe tbody tr th {\n",
       "        vertical-align: top;\n",
       "    }\n",
       "\n",
       "    .dataframe thead th {\n",
       "        text-align: right;\n",
       "    }\n",
       "</style>\n",
       "<table border=\"1\" class=\"dataframe\">\n",
       "  <thead>\n",
       "    <tr style=\"text-align: right;\">\n",
       "      <th></th>\n",
       "      <th>all_classes</th>\n",
       "      <th>illicit</th>\n",
       "      <th>licit</th>\n",
       "    </tr>\n",
       "  </thead>\n",
       "  <tbody>\n",
       "    <tr>\n",
       "      <th>mean_authorityScore</th>\n",
       "      <td>0.00016</td>\n",
       "      <td>0.0</td>\n",
       "      <td>0.00016</td>\n",
       "    </tr>\n",
       "    <tr>\n",
       "      <th>median_authorityScore</th>\n",
       "      <td>0.00000</td>\n",
       "      <td>0.0</td>\n",
       "      <td>0.00000</td>\n",
       "    </tr>\n",
       "    <tr>\n",
       "      <th>standard_deviation_authorityScore</th>\n",
       "      <td>0.01206</td>\n",
       "      <td>0.0</td>\n",
       "      <td>0.01211</td>\n",
       "    </tr>\n",
       "    <tr>\n",
       "      <th>minimum_value_authorityScore</th>\n",
       "      <td>0.00000</td>\n",
       "      <td>0.0</td>\n",
       "      <td>0.00000</td>\n",
       "    </tr>\n",
       "    <tr>\n",
       "      <th>maximum_value_authorityScore</th>\n",
       "      <td>0.99861</td>\n",
       "      <td>0.0</td>\n",
       "      <td>0.99861</td>\n",
       "    </tr>\n",
       "  </tbody>\n",
       "</table>\n",
       "</div>"
      ],
      "text/plain": [
       "                                   all_classes  illicit    licit\n",
       "mean_authorityScore                    0.00016      0.0  0.00016\n",
       "median_authorityScore                  0.00000      0.0  0.00000\n",
       "standard_deviation_authorityScore      0.01206      0.0  0.01211\n",
       "minimum_value_authorityScore           0.00000      0.0  0.00000\n",
       "maximum_value_authorityScore           0.99861      0.0  0.99861"
      ]
     },
     "execution_count": 66,
     "metadata": {},
     "output_type": "execute_result"
    }
   ],
   "source": [
    "manager.getCentralityMetricsDataFrame(\"authorityScore\")"
   ]
  },
  {
   "cell_type": "code",
   "execution_count": 67,
   "metadata": {
    "pycharm": {
     "name": "#%%\n"
    }
   },
   "outputs": [
    {
     "data": {
      "text/html": [
       "<div>\n",
       "<style scoped>\n",
       "    .dataframe tbody tr th:only-of-type {\n",
       "        vertical-align: middle;\n",
       "    }\n",
       "\n",
       "    .dataframe tbody tr th {\n",
       "        vertical-align: top;\n",
       "    }\n",
       "\n",
       "    .dataframe thead th {\n",
       "        text-align: right;\n",
       "    }\n",
       "</style>\n",
       "<table border=\"1\" class=\"dataframe\">\n",
       "  <thead>\n",
       "    <tr style=\"text-align: right;\">\n",
       "      <th></th>\n",
       "      <th>all_classes</th>\n",
       "      <th>illicit</th>\n",
       "      <th>licit</th>\n",
       "    </tr>\n",
       "  </thead>\n",
       "  <tbody>\n",
       "    <tr>\n",
       "      <th>mean_hubScore</th>\n",
       "      <td>0.00100</td>\n",
       "      <td>0.0</td>\n",
       "      <td>0.00101</td>\n",
       "    </tr>\n",
       "    <tr>\n",
       "      <th>median_hubScore</th>\n",
       "      <td>0.00000</td>\n",
       "      <td>0.0</td>\n",
       "      <td>0.00000</td>\n",
       "    </tr>\n",
       "    <tr>\n",
       "      <th>standard_deviation_hubScore</th>\n",
       "      <td>0.01202</td>\n",
       "      <td>0.0</td>\n",
       "      <td>0.01207</td>\n",
       "    </tr>\n",
       "    <tr>\n",
       "      <th>minimum_value_hubScore</th>\n",
       "      <td>0.00000</td>\n",
       "      <td>0.0</td>\n",
       "      <td>0.00000</td>\n",
       "    </tr>\n",
       "    <tr>\n",
       "      <th>maximum_value_hubScore</th>\n",
       "      <td>0.15412</td>\n",
       "      <td>0.0</td>\n",
       "      <td>0.15412</td>\n",
       "    </tr>\n",
       "  </tbody>\n",
       "</table>\n",
       "</div>"
      ],
      "text/plain": [
       "                             all_classes  illicit    licit\n",
       "mean_hubScore                    0.00100      0.0  0.00101\n",
       "median_hubScore                  0.00000      0.0  0.00000\n",
       "standard_deviation_hubScore      0.01202      0.0  0.01207\n",
       "minimum_value_hubScore           0.00000      0.0  0.00000\n",
       "maximum_value_hubScore           0.15412      0.0  0.15412"
      ]
     },
     "execution_count": 67,
     "metadata": {},
     "output_type": "execute_result"
    }
   ],
   "source": [
    "manager.getCentralityMetricsDataFrame(\"hubScore\")"
   ]
  },
  {
   "cell_type": "code",
   "execution_count": 68,
   "metadata": {
    "pycharm": {
     "name": "#%%\n"
    }
   },
   "outputs": [
    {
     "data": {
      "text/plain": [
       "0.000    6870\n",
       "0.001       3\n",
       "0.046       1\n",
       "0.026       1\n",
       "0.999       1\n",
       "Name: authorityScore, dtype: int64"
      ]
     },
     "execution_count": 68,
     "metadata": {},
     "output_type": "execute_result"
    }
   ],
   "source": [
    "hits_scores_classes[\"authorityScore\"].round(decimals=3).value_counts()"
   ]
  },
  {
   "cell_type": "code",
   "execution_count": 69,
   "metadata": {
    "pycharm": {
     "name": "#%%\n"
    }
   },
   "outputs": [
    {
     "data": {
      "text/plain": [
       "0.0    56\n",
       "Name: authorityScore, dtype: int64"
      ]
     },
     "execution_count": 69,
     "metadata": {},
     "output_type": "execute_result"
    }
   ],
   "source": [
    "hits_scores_classes[hits_scores_classes[\"class\"] == 1][\"authorityScore\"].round(decimals=3).value_counts()"
   ]
  },
  {
   "cell_type": "code",
   "execution_count": 70,
   "metadata": {
    "pycharm": {
     "name": "#%%\n"
    }
   },
   "outputs": [
    {
     "data": {
      "text/plain": [
       "0.000    6814\n",
       "0.001       3\n",
       "0.046       1\n",
       "0.026       1\n",
       "0.999       1\n",
       "Name: authorityScore, dtype: int64"
      ]
     },
     "execution_count": 70,
     "metadata": {},
     "output_type": "execute_result"
    }
   ],
   "source": [
    "hits_scores_classes[hits_scores_classes[\"class\"] == 0][\"authorityScore\"].round(decimals=3).value_counts()"
   ]
  },
  {
   "cell_type": "code",
   "execution_count": 71,
   "metadata": {
    "pycharm": {
     "name": "#%%\n"
    }
   },
   "outputs": [
    {
     "data": {
      "text/plain": [
       "0.000    6763\n",
       "0.154      42\n",
       "0.007      36\n",
       "0.004      35\n",
       "Name: hubScore, dtype: int64"
      ]
     },
     "execution_count": 71,
     "metadata": {},
     "output_type": "execute_result"
    }
   ],
   "source": [
    "hits_scores_classes[\"hubScore\"].round(decimals=3).value_counts()"
   ]
  },
  {
   "cell_type": "code",
   "execution_count": 72,
   "metadata": {
    "pycharm": {
     "name": "#%%\n"
    }
   },
   "outputs": [
    {
     "data": {
      "text/plain": [
       "0.0    56\n",
       "Name: hubScore, dtype: int64"
      ]
     },
     "execution_count": 72,
     "metadata": {},
     "output_type": "execute_result"
    }
   ],
   "source": [
    "hits_scores_classes[hits_scores_classes[\"class\"] == 1][\"hubScore\"].round(decimals=3).value_counts()"
   ]
  },
  {
   "cell_type": "code",
   "execution_count": 73,
   "metadata": {
    "pycharm": {
     "name": "#%%\n"
    }
   },
   "outputs": [
    {
     "data": {
      "text/plain": [
       "0.000    6707\n",
       "0.154      42\n",
       "0.007      36\n",
       "0.004      35\n",
       "Name: hubScore, dtype: int64"
      ]
     },
     "execution_count": 73,
     "metadata": {},
     "output_type": "execute_result"
    }
   ],
   "source": [
    "hits_scores_classes[hits_scores_classes[\"class\"] == 0][\"hubScore\"].round(decimals=3).value_counts()"
   ]
  },
  {
   "cell_type": "markdown",
   "metadata": {
    "pycharm": {
     "name": "#%% md\n"
    }
   },
   "source": [
    "## Louvain Communities Analysis"
   ]
  },
  {
   "cell_type": "code",
   "execution_count": 74,
   "metadata": {
    "pycharm": {
     "name": "#%%\n"
    }
   },
   "outputs": [],
   "source": [
    "def getClassesDistributionInAllCommunities(analysis_manager, save=False, output_directory=None):\n",
    "    communities_distribution = analysis_manager.getNodeClassesInCommunities().groupby(\"communityId\")[\"class\"].value_counts()\n",
    "    content = pd.DataFrame(communities_distribution)\n",
    "    content.columns = [\"frequency\"]\n",
    "    content = content.reset_index()\n",
    "\n",
    "    if save & (output_directory is not None):\n",
    "        try:\n",
    "            with open(f\"{output_directory}/classes_distribution_in_louvain_communities.txt\", 'w') as fh:\n",
    "                fh.write(f\"{content.to_string(header=True, index=True)}\\n\")\n",
    "\n",
    "        except Exception as e:\n",
    "            print(\"Saving the contents failed. Error message: %s\" % e)\n",
    "\n",
    "    return content\n",
    "\n",
    "def getSuspiciousCommunities(classes_distribution_in_communities):\n",
    "    \"\"\"\n",
    "    :param classes_distribution_in_communities: a dataframe containing all communities' IDs and all transaction classes.\n",
    "    :return: a dataframe of communities which can be considered suspicious, potentially a fraud ring.\n",
    "    \"\"\"\n",
    "    communities_illicit = classes_distribution_in_communities[classes_distribution_in_communities[\"class\"] == 1][\"communityId\"]\n",
    "    communities_illicit = pd.DataFrame(communities_illicit)\n",
    "    communities_illicit.columns = [\"communityId\"]\n",
    "    return communities_illicit\n",
    "\n",
    "def getClassesDistributionInSuspiciousCommunities(suspicious_communities, classes_distribution_in_communities):\n",
    "    return pd.merge(suspicious_communities, classes_distribution_in_communities, on=\"communityId\")"
   ]
  },
  {
   "cell_type": "code",
   "execution_count": 75,
   "metadata": {
    "pycharm": {
     "name": "#%%\n"
    }
   },
   "outputs": [],
   "source": [
    "def getSuspiciousCommunitiesFlow(analysis_manager, suspicious_communities):\n",
    "\n",
    "    transactions_flow = None\n",
    "\n",
    "    classes_assigned = analysis_manager.getNodeClassesInCommunities()\n",
    "    node_ids = pd.merge(classes_assigned, suspicious_communities, on=\"communityId\")[\"id\"]\n",
    "    str1 = f\"{list(node_ids)}\"\n",
    "\n",
    "    try:\n",
    "        gds = GraphDataScience(\"bolt://localhost:7687\", auth=(\"neo4j\", \"paysim\"))\n",
    "        transactions_flow = gds.run_cypher(\"MATCH (n:node)-[r:TRANSACTION]->(m:node) WHERE n.id IN %s RETURN n.id AS txId1, n.class AS txId1_class, r.cost AS weight, m.id AS txId2, m.class AS txId2_class\" % str1)\n",
    "        gds.close()\n",
    "    except Exception as e:\n",
    "        print(\"Error occurred. Check if the database is online. Error message: %s\" % e)\n",
    "\n",
    "    return transactions_flow"
   ]
  },
  {
   "cell_type": "markdown",
   "metadata": {
    "pycharm": {
     "name": "#%% md\n"
    }
   },
   "source": [
    "### Degree distribution in communities"
   ]
  },
  {
   "cell_type": "code",
   "execution_count": 76,
   "metadata": {
    "pycharm": {
     "name": "#%%\n"
    }
   },
   "outputs": [],
   "source": [
    "communities = manager.detectLouvainCommunities()"
   ]
  },
  {
   "cell_type": "code",
   "execution_count": 77,
   "metadata": {
    "pycharm": {
     "name": "#%%\n"
    }
   },
   "outputs": [],
   "source": [
    "nodes_class = node_metrics.getNodesClasses()"
   ]
  },
  {
   "cell_type": "code",
   "execution_count": 78,
   "metadata": {
    "pycharm": {
     "name": "#%%\n"
    }
   },
   "outputs": [
    {
     "data": {
      "text/plain": [
       "56"
      ]
     },
     "execution_count": 78,
     "metadata": {},
     "output_type": "execute_result"
    }
   ],
   "source": [
    "sum(nodes_class[\"class\"] == 1)"
   ]
  },
  {
   "cell_type": "code",
   "execution_count": 79,
   "metadata": {
    "pycharm": {
     "name": "#%%\n"
    }
   },
   "outputs": [
    {
     "data": {
      "text/html": [
       "<div>\n",
       "<style scoped>\n",
       "    .dataframe tbody tr th:only-of-type {\n",
       "        vertical-align: middle;\n",
       "    }\n",
       "\n",
       "    .dataframe tbody tr th {\n",
       "        vertical-align: top;\n",
       "    }\n",
       "\n",
       "    .dataframe thead th {\n",
       "        text-align: right;\n",
       "    }\n",
       "</style>\n",
       "<table border=\"1\" class=\"dataframe\">\n",
       "  <thead>\n",
       "    <tr style=\"text-align: right;\">\n",
       "      <th></th>\n",
       "      <th>id</th>\n",
       "      <th>communityId</th>\n",
       "      <th>intermediateCommunityIds</th>\n",
       "      <th>in_degree</th>\n",
       "      <th>out_degree</th>\n",
       "      <th>class</th>\n",
       "    </tr>\n",
       "  </thead>\n",
       "  <tbody>\n",
       "    <tr>\n",
       "      <th>1</th>\n",
       "      <td>C1002031672</td>\n",
       "      <td>54</td>\n",
       "      <td>None</td>\n",
       "      <td>1</td>\n",
       "      <td>0</td>\n",
       "      <td>1</td>\n",
       "    </tr>\n",
       "    <tr>\n",
       "      <th>16</th>\n",
       "      <td>C1007251739</td>\n",
       "      <td>31</td>\n",
       "      <td>None</td>\n",
       "      <td>1</td>\n",
       "      <td>0</td>\n",
       "      <td>1</td>\n",
       "    </tr>\n",
       "    <tr>\n",
       "      <th>67</th>\n",
       "      <td>C1032986144</td>\n",
       "      <td>49</td>\n",
       "      <td>None</td>\n",
       "      <td>5</td>\n",
       "      <td>0</td>\n",
       "      <td>1</td>\n",
       "    </tr>\n",
       "    <tr>\n",
       "      <th>207</th>\n",
       "      <td>C1093223281</td>\n",
       "      <td>44</td>\n",
       "      <td>None</td>\n",
       "      <td>0</td>\n",
       "      <td>1</td>\n",
       "      <td>1</td>\n",
       "    </tr>\n",
       "    <tr>\n",
       "      <th>275</th>\n",
       "      <td>C1118430673</td>\n",
       "      <td>33</td>\n",
       "      <td>None</td>\n",
       "      <td>0</td>\n",
       "      <td>1</td>\n",
       "      <td>1</td>\n",
       "    </tr>\n",
       "    <tr>\n",
       "      <th>315</th>\n",
       "      <td>C1134864869</td>\n",
       "      <td>52</td>\n",
       "      <td>None</td>\n",
       "      <td>0</td>\n",
       "      <td>1</td>\n",
       "      <td>1</td>\n",
       "    </tr>\n",
       "    <tr>\n",
       "      <th>321</th>\n",
       "      <td>C1136419747</td>\n",
       "      <td>37</td>\n",
       "      <td>None</td>\n",
       "      <td>1</td>\n",
       "      <td>0</td>\n",
       "      <td>1</td>\n",
       "    </tr>\n",
       "    <tr>\n",
       "      <th>374</th>\n",
       "      <td>C116289363</td>\n",
       "      <td>42</td>\n",
       "      <td>None</td>\n",
       "      <td>1</td>\n",
       "      <td>0</td>\n",
       "      <td>1</td>\n",
       "    </tr>\n",
       "    <tr>\n",
       "      <th>444</th>\n",
       "      <td>C118648358</td>\n",
       "      <td>52</td>\n",
       "      <td>None</td>\n",
       "      <td>1</td>\n",
       "      <td>0</td>\n",
       "      <td>1</td>\n",
       "    </tr>\n",
       "    <tr>\n",
       "      <th>583</th>\n",
       "      <td>C124540047</td>\n",
       "      <td>53</td>\n",
       "      <td>None</td>\n",
       "      <td>3</td>\n",
       "      <td>0</td>\n",
       "      <td>1</td>\n",
       "    </tr>\n",
       "    <tr>\n",
       "      <th>588</th>\n",
       "      <td>C1247938090</td>\n",
       "      <td>54</td>\n",
       "      <td>None</td>\n",
       "      <td>0</td>\n",
       "      <td>1</td>\n",
       "      <td>1</td>\n",
       "    </tr>\n",
       "    <tr>\n",
       "      <th>665</th>\n",
       "      <td>C1275464847</td>\n",
       "      <td>40</td>\n",
       "      <td>None</td>\n",
       "      <td>0</td>\n",
       "      <td>1</td>\n",
       "      <td>1</td>\n",
       "    </tr>\n",
       "    <tr>\n",
       "      <th>741</th>\n",
       "      <td>C1305486145</td>\n",
       "      <td>28</td>\n",
       "      <td>None</td>\n",
       "      <td>0</td>\n",
       "      <td>1</td>\n",
       "      <td>1</td>\n",
       "    </tr>\n",
       "    <tr>\n",
       "      <th>797</th>\n",
       "      <td>C1334405552</td>\n",
       "      <td>35</td>\n",
       "      <td>None</td>\n",
       "      <td>0</td>\n",
       "      <td>1</td>\n",
       "      <td>1</td>\n",
       "    </tr>\n",
       "    <tr>\n",
       "      <th>853</th>\n",
       "      <td>C1364127192</td>\n",
       "      <td>37</td>\n",
       "      <td>None</td>\n",
       "      <td>0</td>\n",
       "      <td>1</td>\n",
       "      <td>1</td>\n",
       "    </tr>\n",
       "    <tr>\n",
       "      <th>854</th>\n",
       "      <td>C1364913072</td>\n",
       "      <td>40</td>\n",
       "      <td>None</td>\n",
       "      <td>4</td>\n",
       "      <td>0</td>\n",
       "      <td>1</td>\n",
       "    </tr>\n",
       "    <tr>\n",
       "      <th>865</th>\n",
       "      <td>C13692003</td>\n",
       "      <td>41</td>\n",
       "      <td>None</td>\n",
       "      <td>0</td>\n",
       "      <td>1</td>\n",
       "      <td>1</td>\n",
       "    </tr>\n",
       "    <tr>\n",
       "      <th>883</th>\n",
       "      <td>C137533655</td>\n",
       "      <td>32</td>\n",
       "      <td>None</td>\n",
       "      <td>0</td>\n",
       "      <td>1</td>\n",
       "      <td>1</td>\n",
       "    </tr>\n",
       "    <tr>\n",
       "      <th>884</th>\n",
       "      <td>C1375503918</td>\n",
       "      <td>50</td>\n",
       "      <td>None</td>\n",
       "      <td>0</td>\n",
       "      <td>1</td>\n",
       "      <td>1</td>\n",
       "    </tr>\n",
       "    <tr>\n",
       "      <th>904</th>\n",
       "      <td>C1384210339</td>\n",
       "      <td>39</td>\n",
       "      <td>None</td>\n",
       "      <td>1</td>\n",
       "      <td>0</td>\n",
       "      <td>1</td>\n",
       "    </tr>\n",
       "    <tr>\n",
       "      <th>968</th>\n",
       "      <td>C140702728</td>\n",
       "      <td>48</td>\n",
       "      <td>None</td>\n",
       "      <td>0</td>\n",
       "      <td>1</td>\n",
       "      <td>1</td>\n",
       "    </tr>\n",
       "    <tr>\n",
       "      <th>1003</th>\n",
       "      <td>C1420196421</td>\n",
       "      <td>30</td>\n",
       "      <td>None</td>\n",
       "      <td>0</td>\n",
       "      <td>1</td>\n",
       "      <td>1</td>\n",
       "    </tr>\n",
       "    <tr>\n",
       "      <th>1051</th>\n",
       "      <td>C1440057381</td>\n",
       "      <td>46</td>\n",
       "      <td>None</td>\n",
       "      <td>0</td>\n",
       "      <td>1</td>\n",
       "      <td>1</td>\n",
       "    </tr>\n",
       "    <tr>\n",
       "      <th>1193</th>\n",
       "      <td>C1499825229</td>\n",
       "      <td>43</td>\n",
       "      <td>None</td>\n",
       "      <td>0</td>\n",
       "      <td>1</td>\n",
       "      <td>1</td>\n",
       "    </tr>\n",
       "    <tr>\n",
       "      <th>1540</th>\n",
       "      <td>C1635772897</td>\n",
       "      <td>38</td>\n",
       "      <td>None</td>\n",
       "      <td>0</td>\n",
       "      <td>1</td>\n",
       "      <td>1</td>\n",
       "    </tr>\n",
       "    <tr>\n",
       "      <th>1721</th>\n",
       "      <td>C1711105800</td>\n",
       "      <td>51</td>\n",
       "      <td>None</td>\n",
       "      <td>5</td>\n",
       "      <td>0</td>\n",
       "      <td>1</td>\n",
       "    </tr>\n",
       "    <tr>\n",
       "      <th>1839</th>\n",
       "      <td>C175961135</td>\n",
       "      <td>51</td>\n",
       "      <td>None</td>\n",
       "      <td>0</td>\n",
       "      <td>1</td>\n",
       "      <td>1</td>\n",
       "    </tr>\n",
       "    <tr>\n",
       "      <th>2061</th>\n",
       "      <td>C1848415041</td>\n",
       "      <td>32</td>\n",
       "      <td>None</td>\n",
       "      <td>1</td>\n",
       "      <td>0</td>\n",
       "      <td>1</td>\n",
       "    </tr>\n",
       "    <tr>\n",
       "      <th>2125</th>\n",
       "      <td>C1872047468</td>\n",
       "      <td>42</td>\n",
       "      <td>None</td>\n",
       "      <td>0</td>\n",
       "      <td>1</td>\n",
       "      <td>1</td>\n",
       "    </tr>\n",
       "    <tr>\n",
       "      <th>2407</th>\n",
       "      <td>C1983025922</td>\n",
       "      <td>38</td>\n",
       "      <td>None</td>\n",
       "      <td>3</td>\n",
       "      <td>0</td>\n",
       "      <td>1</td>\n",
       "    </tr>\n",
       "    <tr>\n",
       "      <th>2413</th>\n",
       "      <td>C1984954272</td>\n",
       "      <td>53</td>\n",
       "      <td>None</td>\n",
       "      <td>0</td>\n",
       "      <td>1</td>\n",
       "      <td>1</td>\n",
       "    </tr>\n",
       "    <tr>\n",
       "      <th>2613</th>\n",
       "      <td>C2063275841</td>\n",
       "      <td>44</td>\n",
       "      <td>None</td>\n",
       "      <td>1</td>\n",
       "      <td>0</td>\n",
       "      <td>1</td>\n",
       "    </tr>\n",
       "    <tr>\n",
       "      <th>2696</th>\n",
       "      <td>C2100440237</td>\n",
       "      <td>43</td>\n",
       "      <td>None</td>\n",
       "      <td>3</td>\n",
       "      <td>0</td>\n",
       "      <td>1</td>\n",
       "    </tr>\n",
       "    <tr>\n",
       "      <th>2701</th>\n",
       "      <td>C2101527076</td>\n",
       "      <td>31</td>\n",
       "      <td>None</td>\n",
       "      <td>0</td>\n",
       "      <td>1</td>\n",
       "      <td>1</td>\n",
       "    </tr>\n",
       "    <tr>\n",
       "      <th>2756</th>\n",
       "      <td>C2126545173</td>\n",
       "      <td>55</td>\n",
       "      <td>None</td>\n",
       "      <td>0</td>\n",
       "      <td>1</td>\n",
       "      <td>1</td>\n",
       "    </tr>\n",
       "    <tr>\n",
       "      <th>2846</th>\n",
       "      <td>C234430897</td>\n",
       "      <td>50</td>\n",
       "      <td>None</td>\n",
       "      <td>1</td>\n",
       "      <td>0</td>\n",
       "      <td>1</td>\n",
       "    </tr>\n",
       "    <tr>\n",
       "      <th>2936</th>\n",
       "      <td>C268086000</td>\n",
       "      <td>46</td>\n",
       "      <td>None</td>\n",
       "      <td>1</td>\n",
       "      <td>0</td>\n",
       "      <td>1</td>\n",
       "    </tr>\n",
       "    <tr>\n",
       "      <th>3011</th>\n",
       "      <td>C297927961</td>\n",
       "      <td>41</td>\n",
       "      <td>None</td>\n",
       "      <td>5</td>\n",
       "      <td>0</td>\n",
       "      <td>1</td>\n",
       "    </tr>\n",
       "    <tr>\n",
       "      <th>3088</th>\n",
       "      <td>C339924917</td>\n",
       "      <td>33</td>\n",
       "      <td>None</td>\n",
       "      <td>4</td>\n",
       "      <td>0</td>\n",
       "      <td>1</td>\n",
       "    </tr>\n",
       "    <tr>\n",
       "      <th>3198</th>\n",
       "      <td>C38997010</td>\n",
       "      <td>29</td>\n",
       "      <td>None</td>\n",
       "      <td>1</td>\n",
       "      <td>0</td>\n",
       "      <td>1</td>\n",
       "    </tr>\n",
       "    <tr>\n",
       "      <th>3207</th>\n",
       "      <td>C395257482</td>\n",
       "      <td>49</td>\n",
       "      <td>None</td>\n",
       "      <td>0</td>\n",
       "      <td>1</td>\n",
       "      <td>1</td>\n",
       "    </tr>\n",
       "    <tr>\n",
       "      <th>3292</th>\n",
       "      <td>C430329518</td>\n",
       "      <td>47</td>\n",
       "      <td>None</td>\n",
       "      <td>0</td>\n",
       "      <td>1</td>\n",
       "      <td>1</td>\n",
       "    </tr>\n",
       "    <tr>\n",
       "      <th>3294</th>\n",
       "      <td>C431687661</td>\n",
       "      <td>35</td>\n",
       "      <td>None</td>\n",
       "      <td>1</td>\n",
       "      <td>0</td>\n",
       "      <td>1</td>\n",
       "    </tr>\n",
       "    <tr>\n",
       "      <th>3372</th>\n",
       "      <td>C467632528</td>\n",
       "      <td>36</td>\n",
       "      <td>None</td>\n",
       "      <td>0</td>\n",
       "      <td>1</td>\n",
       "      <td>1</td>\n",
       "    </tr>\n",
       "    <tr>\n",
       "      <th>3568</th>\n",
       "      <td>C553264065</td>\n",
       "      <td>28</td>\n",
       "      <td>None</td>\n",
       "      <td>1</td>\n",
       "      <td>0</td>\n",
       "      <td>1</td>\n",
       "    </tr>\n",
       "    <tr>\n",
       "      <th>3616</th>\n",
       "      <td>C573200870</td>\n",
       "      <td>55</td>\n",
       "      <td>None</td>\n",
       "      <td>1</td>\n",
       "      <td>0</td>\n",
       "      <td>1</td>\n",
       "    </tr>\n",
       "    <tr>\n",
       "      <th>3743</th>\n",
       "      <td>C634210724</td>\n",
       "      <td>48</td>\n",
       "      <td>None</td>\n",
       "      <td>1</td>\n",
       "      <td>0</td>\n",
       "      <td>1</td>\n",
       "    </tr>\n",
       "    <tr>\n",
       "      <th>3772</th>\n",
       "      <td>C644345897</td>\n",
       "      <td>45</td>\n",
       "      <td>None</td>\n",
       "      <td>3</td>\n",
       "      <td>0</td>\n",
       "      <td>1</td>\n",
       "    </tr>\n",
       "    <tr>\n",
       "      <th>3822</th>\n",
       "      <td>C667346055</td>\n",
       "      <td>34</td>\n",
       "      <td>None</td>\n",
       "      <td>17</td>\n",
       "      <td>0</td>\n",
       "      <td>1</td>\n",
       "    </tr>\n",
       "    <tr>\n",
       "      <th>3829</th>\n",
       "      <td>C669700766</td>\n",
       "      <td>39</td>\n",
       "      <td>None</td>\n",
       "      <td>0</td>\n",
       "      <td>1</td>\n",
       "      <td>1</td>\n",
       "    </tr>\n",
       "    <tr>\n",
       "      <th>3945</th>\n",
       "      <td>C716083600</td>\n",
       "      <td>36</td>\n",
       "      <td>None</td>\n",
       "      <td>17</td>\n",
       "      <td>0</td>\n",
       "      <td>1</td>\n",
       "    </tr>\n",
       "    <tr>\n",
       "      <th>4027</th>\n",
       "      <td>C749981943</td>\n",
       "      <td>34</td>\n",
       "      <td>None</td>\n",
       "      <td>0</td>\n",
       "      <td>1</td>\n",
       "      <td>1</td>\n",
       "    </tr>\n",
       "    <tr>\n",
       "      <th>4075</th>\n",
       "      <td>C77163673</td>\n",
       "      <td>45</td>\n",
       "      <td>None</td>\n",
       "      <td>0</td>\n",
       "      <td>1</td>\n",
       "      <td>1</td>\n",
       "    </tr>\n",
       "    <tr>\n",
       "      <th>4259</th>\n",
       "      <td>C840083671</td>\n",
       "      <td>29</td>\n",
       "      <td>None</td>\n",
       "      <td>0</td>\n",
       "      <td>1</td>\n",
       "      <td>1</td>\n",
       "    </tr>\n",
       "    <tr>\n",
       "      <th>4553</th>\n",
       "      <td>C972765878</td>\n",
       "      <td>30</td>\n",
       "      <td>None</td>\n",
       "      <td>1</td>\n",
       "      <td>0</td>\n",
       "      <td>1</td>\n",
       "    </tr>\n",
       "    <tr>\n",
       "      <th>4613</th>\n",
       "      <td>C991505714</td>\n",
       "      <td>47</td>\n",
       "      <td>None</td>\n",
       "      <td>7</td>\n",
       "      <td>0</td>\n",
       "      <td>1</td>\n",
       "    </tr>\n",
       "  </tbody>\n",
       "</table>\n",
       "</div>"
      ],
      "text/plain": [
       "               id  communityId intermediateCommunityIds  in_degree  \\\n",
       "1     C1002031672           54                     None          1   \n",
       "16    C1007251739           31                     None          1   \n",
       "67    C1032986144           49                     None          5   \n",
       "207   C1093223281           44                     None          0   \n",
       "275   C1118430673           33                     None          0   \n",
       "315   C1134864869           52                     None          0   \n",
       "321   C1136419747           37                     None          1   \n",
       "374    C116289363           42                     None          1   \n",
       "444    C118648358           52                     None          1   \n",
       "583    C124540047           53                     None          3   \n",
       "588   C1247938090           54                     None          0   \n",
       "665   C1275464847           40                     None          0   \n",
       "741   C1305486145           28                     None          0   \n",
       "797   C1334405552           35                     None          0   \n",
       "853   C1364127192           37                     None          0   \n",
       "854   C1364913072           40                     None          4   \n",
       "865     C13692003           41                     None          0   \n",
       "883    C137533655           32                     None          0   \n",
       "884   C1375503918           50                     None          0   \n",
       "904   C1384210339           39                     None          1   \n",
       "968    C140702728           48                     None          0   \n",
       "1003  C1420196421           30                     None          0   \n",
       "1051  C1440057381           46                     None          0   \n",
       "1193  C1499825229           43                     None          0   \n",
       "1540  C1635772897           38                     None          0   \n",
       "1721  C1711105800           51                     None          5   \n",
       "1839   C175961135           51                     None          0   \n",
       "2061  C1848415041           32                     None          1   \n",
       "2125  C1872047468           42                     None          0   \n",
       "2407  C1983025922           38                     None          3   \n",
       "2413  C1984954272           53                     None          0   \n",
       "2613  C2063275841           44                     None          1   \n",
       "2696  C2100440237           43                     None          3   \n",
       "2701  C2101527076           31                     None          0   \n",
       "2756  C2126545173           55                     None          0   \n",
       "2846   C234430897           50                     None          1   \n",
       "2936   C268086000           46                     None          1   \n",
       "3011   C297927961           41                     None          5   \n",
       "3088   C339924917           33                     None          4   \n",
       "3198    C38997010           29                     None          1   \n",
       "3207   C395257482           49                     None          0   \n",
       "3292   C430329518           47                     None          0   \n",
       "3294   C431687661           35                     None          1   \n",
       "3372   C467632528           36                     None          0   \n",
       "3568   C553264065           28                     None          1   \n",
       "3616   C573200870           55                     None          1   \n",
       "3743   C634210724           48                     None          1   \n",
       "3772   C644345897           45                     None          3   \n",
       "3822   C667346055           34                     None         17   \n",
       "3829   C669700766           39                     None          0   \n",
       "3945   C716083600           36                     None         17   \n",
       "4027   C749981943           34                     None          0   \n",
       "4075    C77163673           45                     None          0   \n",
       "4259   C840083671           29                     None          0   \n",
       "4553   C972765878           30                     None          1   \n",
       "4613   C991505714           47                     None          7   \n",
       "\n",
       "      out_degree  class  \n",
       "1              0      1  \n",
       "16             0      1  \n",
       "67             0      1  \n",
       "207            1      1  \n",
       "275            1      1  \n",
       "315            1      1  \n",
       "321            0      1  \n",
       "374            0      1  \n",
       "444            0      1  \n",
       "583            0      1  \n",
       "588            1      1  \n",
       "665            1      1  \n",
       "741            1      1  \n",
       "797            1      1  \n",
       "853            1      1  \n",
       "854            0      1  \n",
       "865            1      1  \n",
       "883            1      1  \n",
       "884            1      1  \n",
       "904            0      1  \n",
       "968            1      1  \n",
       "1003           1      1  \n",
       "1051           1      1  \n",
       "1193           1      1  \n",
       "1540           1      1  \n",
       "1721           0      1  \n",
       "1839           1      1  \n",
       "2061           0      1  \n",
       "2125           1      1  \n",
       "2407           0      1  \n",
       "2413           1      1  \n",
       "2613           0      1  \n",
       "2696           0      1  \n",
       "2701           1      1  \n",
       "2756           1      1  \n",
       "2846           0      1  \n",
       "2936           0      1  \n",
       "3011           0      1  \n",
       "3088           0      1  \n",
       "3198           0      1  \n",
       "3207           1      1  \n",
       "3292           1      1  \n",
       "3294           0      1  \n",
       "3372           1      1  \n",
       "3568           0      1  \n",
       "3616           0      1  \n",
       "3743           0      1  \n",
       "3772           0      1  \n",
       "3822           0      1  \n",
       "3829           1      1  \n",
       "3945           0      1  \n",
       "4027           1      1  \n",
       "4075           1      1  \n",
       "4259           1      1  \n",
       "4553           0      1  \n",
       "4613           0      1  "
      ]
     },
     "execution_count": 79,
     "metadata": {},
     "output_type": "execute_result"
    }
   ],
   "source": [
    "degree_distribution_in_communities = pd.merge(communities, degree_distribution_df, on=\"id\")\n",
    "degree_class_in_communities = pd.merge(degree_distribution_in_communities, nodes_class, on=\"id\")\n",
    "degree_class_in_communities[degree_class_in_communities[\"class\"] == 1]"
   ]
  },
  {
   "cell_type": "code",
   "execution_count": 80,
   "metadata": {
    "pycharm": {
     "name": "#%%\n"
    }
   },
   "outputs": [
    {
     "data": {
      "text/html": [
       "<div>\n",
       "<style scoped>\n",
       "    .dataframe tbody tr th:only-of-type {\n",
       "        vertical-align: middle;\n",
       "    }\n",
       "\n",
       "    .dataframe tbody tr th {\n",
       "        vertical-align: top;\n",
       "    }\n",
       "\n",
       "    .dataframe thead th {\n",
       "        text-align: right;\n",
       "    }\n",
       "</style>\n",
       "<table border=\"1\" class=\"dataframe\">\n",
       "  <thead>\n",
       "    <tr style=\"text-align: right;\">\n",
       "      <th></th>\n",
       "      <th>id</th>\n",
       "      <th>communityId</th>\n",
       "      <th>intermediateCommunityIds</th>\n",
       "      <th>in_degree</th>\n",
       "      <th>out_degree</th>\n",
       "      <th>class</th>\n",
       "    </tr>\n",
       "  </thead>\n",
       "  <tbody>\n",
       "    <tr>\n",
       "      <th>0</th>\n",
       "      <td>C10001825</td>\n",
       "      <td>4861</td>\n",
       "      <td>None</td>\n",
       "      <td>0</td>\n",
       "      <td>1</td>\n",
       "      <td>0</td>\n",
       "    </tr>\n",
       "    <tr>\n",
       "      <th>1</th>\n",
       "      <td>C1002031672</td>\n",
       "      <td>54</td>\n",
       "      <td>None</td>\n",
       "      <td>1</td>\n",
       "      <td>0</td>\n",
       "      <td>1</td>\n",
       "    </tr>\n",
       "    <tr>\n",
       "      <th>2</th>\n",
       "      <td>C1002041276</td>\n",
       "      <td>5113</td>\n",
       "      <td>None</td>\n",
       "      <td>0</td>\n",
       "      <td>1</td>\n",
       "      <td>0</td>\n",
       "    </tr>\n",
       "    <tr>\n",
       "      <th>3</th>\n",
       "      <td>C1002872041</td>\n",
       "      <td>6665</td>\n",
       "      <td>None</td>\n",
       "      <td>0</td>\n",
       "      <td>1</td>\n",
       "      <td>0</td>\n",
       "    </tr>\n",
       "    <tr>\n",
       "      <th>4</th>\n",
       "      <td>C1002911155</td>\n",
       "      <td>5475</td>\n",
       "      <td>None</td>\n",
       "      <td>0</td>\n",
       "      <td>1</td>\n",
       "      <td>0</td>\n",
       "    </tr>\n",
       "    <tr>\n",
       "      <th>...</th>\n",
       "      <td>...</td>\n",
       "      <td>...</td>\n",
       "      <td>...</td>\n",
       "      <td>...</td>\n",
       "      <td>...</td>\n",
       "      <td>...</td>\n",
       "    </tr>\n",
       "    <tr>\n",
       "      <th>6871</th>\n",
       "      <td>M997294994</td>\n",
       "      <td>5186</td>\n",
       "      <td>None</td>\n",
       "      <td>1</td>\n",
       "      <td>0</td>\n",
       "      <td>0</td>\n",
       "    </tr>\n",
       "    <tr>\n",
       "      <th>6872</th>\n",
       "      <td>M99808631</td>\n",
       "      <td>4796</td>\n",
       "      <td>None</td>\n",
       "      <td>1</td>\n",
       "      <td>0</td>\n",
       "      <td>0</td>\n",
       "    </tr>\n",
       "    <tr>\n",
       "      <th>6873</th>\n",
       "      <td>M998283025</td>\n",
       "      <td>5234</td>\n",
       "      <td>None</td>\n",
       "      <td>1</td>\n",
       "      <td>0</td>\n",
       "      <td>0</td>\n",
       "    </tr>\n",
       "    <tr>\n",
       "      <th>6874</th>\n",
       "      <td>M998458782</td>\n",
       "      <td>6381</td>\n",
       "      <td>None</td>\n",
       "      <td>1</td>\n",
       "      <td>0</td>\n",
       "      <td>0</td>\n",
       "    </tr>\n",
       "    <tr>\n",
       "      <th>6875</th>\n",
       "      <td>M999221400</td>\n",
       "      <td>5417</td>\n",
       "      <td>None</td>\n",
       "      <td>1</td>\n",
       "      <td>0</td>\n",
       "      <td>0</td>\n",
       "    </tr>\n",
       "  </tbody>\n",
       "</table>\n",
       "<p>6876 rows × 6 columns</p>\n",
       "</div>"
      ],
      "text/plain": [
       "               id  communityId intermediateCommunityIds  in_degree  \\\n",
       "0       C10001825         4861                     None          0   \n",
       "1     C1002031672           54                     None          1   \n",
       "2     C1002041276         5113                     None          0   \n",
       "3     C1002872041         6665                     None          0   \n",
       "4     C1002911155         5475                     None          0   \n",
       "...           ...          ...                      ...        ...   \n",
       "6871   M997294994         5186                     None          1   \n",
       "6872    M99808631         4796                     None          1   \n",
       "6873   M998283025         5234                     None          1   \n",
       "6874   M998458782         6381                     None          1   \n",
       "6875   M999221400         5417                     None          1   \n",
       "\n",
       "      out_degree  class  \n",
       "0              1      0  \n",
       "1              0      1  \n",
       "2              1      0  \n",
       "3              1      0  \n",
       "4              1      0  \n",
       "...          ...    ...  \n",
       "6871           0      0  \n",
       "6872           0      0  \n",
       "6873           0      0  \n",
       "6874           0      0  \n",
       "6875           0      0  \n",
       "\n",
       "[6876 rows x 6 columns]"
      ]
     },
     "execution_count": 80,
     "metadata": {},
     "output_type": "execute_result"
    }
   ],
   "source": [
    "degree_class_in_communities"
   ]
  },
  {
   "cell_type": "markdown",
   "metadata": {
    "pycharm": {
     "name": "#%% md\n"
    }
   },
   "source": [
    "### Transactions of each class - frequencies in communities"
   ]
  },
  {
   "cell_type": "code",
   "execution_count": 81,
   "metadata": {
    "pycharm": {
     "name": "#%%\n"
    }
   },
   "outputs": [
    {
     "data": {
      "text/html": [
       "<div>\n",
       "<style scoped>\n",
       "    .dataframe tbody tr th:only-of-type {\n",
       "        vertical-align: middle;\n",
       "    }\n",
       "\n",
       "    .dataframe tbody tr th {\n",
       "        vertical-align: top;\n",
       "    }\n",
       "\n",
       "    .dataframe thead th {\n",
       "        text-align: right;\n",
       "    }\n",
       "</style>\n",
       "<table border=\"1\" class=\"dataframe\">\n",
       "  <thead>\n",
       "    <tr style=\"text-align: right;\">\n",
       "      <th></th>\n",
       "      <th>communityId</th>\n",
       "      <th>class</th>\n",
       "      <th>frequency</th>\n",
       "    </tr>\n",
       "  </thead>\n",
       "  <tbody>\n",
       "    <tr>\n",
       "      <th>0</th>\n",
       "      <td>28</td>\n",
       "      <td>1</td>\n",
       "      <td>2</td>\n",
       "    </tr>\n",
       "    <tr>\n",
       "      <th>1</th>\n",
       "      <td>29</td>\n",
       "      <td>1</td>\n",
       "      <td>2</td>\n",
       "    </tr>\n",
       "    <tr>\n",
       "      <th>2</th>\n",
       "      <td>30</td>\n",
       "      <td>1</td>\n",
       "      <td>2</td>\n",
       "    </tr>\n",
       "    <tr>\n",
       "      <th>3</th>\n",
       "      <td>31</td>\n",
       "      <td>1</td>\n",
       "      <td>2</td>\n",
       "    </tr>\n",
       "    <tr>\n",
       "      <th>4</th>\n",
       "      <td>32</td>\n",
       "      <td>1</td>\n",
       "      <td>2</td>\n",
       "    </tr>\n",
       "    <tr>\n",
       "      <th>5</th>\n",
       "      <td>33</td>\n",
       "      <td>0</td>\n",
       "      <td>3</td>\n",
       "    </tr>\n",
       "    <tr>\n",
       "      <th>6</th>\n",
       "      <td>33</td>\n",
       "      <td>1</td>\n",
       "      <td>2</td>\n",
       "    </tr>\n",
       "    <tr>\n",
       "      <th>7</th>\n",
       "      <td>34</td>\n",
       "      <td>0</td>\n",
       "      <td>16</td>\n",
       "    </tr>\n",
       "    <tr>\n",
       "      <th>8</th>\n",
       "      <td>34</td>\n",
       "      <td>1</td>\n",
       "      <td>2</td>\n",
       "    </tr>\n",
       "    <tr>\n",
       "      <th>9</th>\n",
       "      <td>35</td>\n",
       "      <td>1</td>\n",
       "      <td>2</td>\n",
       "    </tr>\n",
       "    <tr>\n",
       "      <th>10</th>\n",
       "      <td>36</td>\n",
       "      <td>0</td>\n",
       "      <td>16</td>\n",
       "    </tr>\n",
       "    <tr>\n",
       "      <th>11</th>\n",
       "      <td>36</td>\n",
       "      <td>1</td>\n",
       "      <td>2</td>\n",
       "    </tr>\n",
       "    <tr>\n",
       "      <th>12</th>\n",
       "      <td>37</td>\n",
       "      <td>1</td>\n",
       "      <td>2</td>\n",
       "    </tr>\n",
       "    <tr>\n",
       "      <th>13</th>\n",
       "      <td>38</td>\n",
       "      <td>0</td>\n",
       "      <td>2</td>\n",
       "    </tr>\n",
       "    <tr>\n",
       "      <th>14</th>\n",
       "      <td>38</td>\n",
       "      <td>1</td>\n",
       "      <td>2</td>\n",
       "    </tr>\n",
       "    <tr>\n",
       "      <th>15</th>\n",
       "      <td>39</td>\n",
       "      <td>1</td>\n",
       "      <td>2</td>\n",
       "    </tr>\n",
       "    <tr>\n",
       "      <th>16</th>\n",
       "      <td>40</td>\n",
       "      <td>0</td>\n",
       "      <td>3</td>\n",
       "    </tr>\n",
       "    <tr>\n",
       "      <th>17</th>\n",
       "      <td>40</td>\n",
       "      <td>1</td>\n",
       "      <td>2</td>\n",
       "    </tr>\n",
       "    <tr>\n",
       "      <th>18</th>\n",
       "      <td>41</td>\n",
       "      <td>0</td>\n",
       "      <td>4</td>\n",
       "    </tr>\n",
       "    <tr>\n",
       "      <th>19</th>\n",
       "      <td>41</td>\n",
       "      <td>1</td>\n",
       "      <td>2</td>\n",
       "    </tr>\n",
       "    <tr>\n",
       "      <th>20</th>\n",
       "      <td>42</td>\n",
       "      <td>1</td>\n",
       "      <td>2</td>\n",
       "    </tr>\n",
       "    <tr>\n",
       "      <th>21</th>\n",
       "      <td>43</td>\n",
       "      <td>0</td>\n",
       "      <td>2</td>\n",
       "    </tr>\n",
       "    <tr>\n",
       "      <th>22</th>\n",
       "      <td>43</td>\n",
       "      <td>1</td>\n",
       "      <td>2</td>\n",
       "    </tr>\n",
       "    <tr>\n",
       "      <th>23</th>\n",
       "      <td>44</td>\n",
       "      <td>1</td>\n",
       "      <td>2</td>\n",
       "    </tr>\n",
       "    <tr>\n",
       "      <th>24</th>\n",
       "      <td>45</td>\n",
       "      <td>0</td>\n",
       "      <td>2</td>\n",
       "    </tr>\n",
       "    <tr>\n",
       "      <th>25</th>\n",
       "      <td>45</td>\n",
       "      <td>1</td>\n",
       "      <td>2</td>\n",
       "    </tr>\n",
       "    <tr>\n",
       "      <th>26</th>\n",
       "      <td>46</td>\n",
       "      <td>1</td>\n",
       "      <td>2</td>\n",
       "    </tr>\n",
       "    <tr>\n",
       "      <th>27</th>\n",
       "      <td>47</td>\n",
       "      <td>0</td>\n",
       "      <td>6</td>\n",
       "    </tr>\n",
       "    <tr>\n",
       "      <th>28</th>\n",
       "      <td>47</td>\n",
       "      <td>1</td>\n",
       "      <td>2</td>\n",
       "    </tr>\n",
       "    <tr>\n",
       "      <th>29</th>\n",
       "      <td>48</td>\n",
       "      <td>1</td>\n",
       "      <td>2</td>\n",
       "    </tr>\n",
       "    <tr>\n",
       "      <th>30</th>\n",
       "      <td>49</td>\n",
       "      <td>0</td>\n",
       "      <td>4</td>\n",
       "    </tr>\n",
       "    <tr>\n",
       "      <th>31</th>\n",
       "      <td>49</td>\n",
       "      <td>1</td>\n",
       "      <td>2</td>\n",
       "    </tr>\n",
       "    <tr>\n",
       "      <th>32</th>\n",
       "      <td>50</td>\n",
       "      <td>1</td>\n",
       "      <td>2</td>\n",
       "    </tr>\n",
       "    <tr>\n",
       "      <th>33</th>\n",
       "      <td>51</td>\n",
       "      <td>0</td>\n",
       "      <td>4</td>\n",
       "    </tr>\n",
       "    <tr>\n",
       "      <th>34</th>\n",
       "      <td>51</td>\n",
       "      <td>1</td>\n",
       "      <td>2</td>\n",
       "    </tr>\n",
       "    <tr>\n",
       "      <th>35</th>\n",
       "      <td>52</td>\n",
       "      <td>1</td>\n",
       "      <td>2</td>\n",
       "    </tr>\n",
       "    <tr>\n",
       "      <th>36</th>\n",
       "      <td>53</td>\n",
       "      <td>0</td>\n",
       "      <td>2</td>\n",
       "    </tr>\n",
       "    <tr>\n",
       "      <th>37</th>\n",
       "      <td>53</td>\n",
       "      <td>1</td>\n",
       "      <td>2</td>\n",
       "    </tr>\n",
       "    <tr>\n",
       "      <th>38</th>\n",
       "      <td>54</td>\n",
       "      <td>1</td>\n",
       "      <td>2</td>\n",
       "    </tr>\n",
       "    <tr>\n",
       "      <th>39</th>\n",
       "      <td>55</td>\n",
       "      <td>1</td>\n",
       "      <td>2</td>\n",
       "    </tr>\n",
       "  </tbody>\n",
       "</table>\n",
       "</div>"
      ],
      "text/plain": [
       "    communityId  class  frequency\n",
       "0            28      1          2\n",
       "1            29      1          2\n",
       "2            30      1          2\n",
       "3            31      1          2\n",
       "4            32      1          2\n",
       "5            33      0          3\n",
       "6            33      1          2\n",
       "7            34      0         16\n",
       "8            34      1          2\n",
       "9            35      1          2\n",
       "10           36      0         16\n",
       "11           36      1          2\n",
       "12           37      1          2\n",
       "13           38      0          2\n",
       "14           38      1          2\n",
       "15           39      1          2\n",
       "16           40      0          3\n",
       "17           40      1          2\n",
       "18           41      0          4\n",
       "19           41      1          2\n",
       "20           42      1          2\n",
       "21           43      0          2\n",
       "22           43      1          2\n",
       "23           44      1          2\n",
       "24           45      0          2\n",
       "25           45      1          2\n",
       "26           46      1          2\n",
       "27           47      0          6\n",
       "28           47      1          2\n",
       "29           48      1          2\n",
       "30           49      0          4\n",
       "31           49      1          2\n",
       "32           50      1          2\n",
       "33           51      0          4\n",
       "34           51      1          2\n",
       "35           52      1          2\n",
       "36           53      0          2\n",
       "37           53      1          2\n",
       "38           54      1          2\n",
       "39           55      1          2"
      ]
     },
     "execution_count": 81,
     "metadata": {},
     "output_type": "execute_result"
    }
   ],
   "source": [
    "communities_classes_distribution = getClassesDistributionInAllCommunities(manager, save=True, output_directory=\"../\")\n",
    "suspicious_communities = getSuspiciousCommunities(communities_classes_distribution)\n",
    "getClassesDistributionInSuspiciousCommunities(suspicious_communities, communities_classes_distribution)"
   ]
  },
  {
   "cell_type": "markdown",
   "metadata": {
    "pycharm": {
     "name": "#%% md\n"
    }
   },
   "source": [
    "### Studying the transactions flow"
   ]
  },
  {
   "cell_type": "code",
   "execution_count": 82,
   "metadata": {
    "pycharm": {
     "name": "#%%\n"
    }
   },
   "outputs": [],
   "source": [
    "transaction_flow_in_suspicious_communities = getSuspiciousCommunitiesFlow(manager,\n",
    "                                                                          suspicious_communities=suspicious_communities)"
   ]
  },
  {
   "cell_type": "code",
   "execution_count": 83,
   "metadata": {
    "pycharm": {
     "name": "#%%\n"
    }
   },
   "outputs": [
    {
     "data": {
      "text/html": [
       "<div>\n",
       "<style scoped>\n",
       "    .dataframe tbody tr th:only-of-type {\n",
       "        vertical-align: middle;\n",
       "    }\n",
       "\n",
       "    .dataframe tbody tr th {\n",
       "        vertical-align: top;\n",
       "    }\n",
       "\n",
       "    .dataframe thead th {\n",
       "        text-align: right;\n",
       "    }\n",
       "</style>\n",
       "<table border=\"1\" class=\"dataframe\">\n",
       "  <thead>\n",
       "    <tr style=\"text-align: right;\">\n",
       "      <th></th>\n",
       "      <th>txId1</th>\n",
       "      <th>txId1_class</th>\n",
       "      <th>weight</th>\n",
       "      <th>txId2</th>\n",
       "      <th>txId2_class</th>\n",
       "    </tr>\n",
       "  </thead>\n",
       "  <tbody>\n",
       "    <tr>\n",
       "      <th>0</th>\n",
       "      <td>C1305486145</td>\n",
       "      <td>1</td>\n",
       "      <td>1</td>\n",
       "      <td>C553264065</td>\n",
       "      <td>1</td>\n",
       "    </tr>\n",
       "    <tr>\n",
       "      <th>1</th>\n",
       "      <td>C840083671</td>\n",
       "      <td>1</td>\n",
       "      <td>1</td>\n",
       "      <td>C38997010</td>\n",
       "      <td>1</td>\n",
       "    </tr>\n",
       "    <tr>\n",
       "      <th>2</th>\n",
       "      <td>C1420196421</td>\n",
       "      <td>1</td>\n",
       "      <td>1</td>\n",
       "      <td>C972765878</td>\n",
       "      <td>1</td>\n",
       "    </tr>\n",
       "    <tr>\n",
       "      <th>3</th>\n",
       "      <td>C2101527076</td>\n",
       "      <td>1</td>\n",
       "      <td>1</td>\n",
       "      <td>C1007251739</td>\n",
       "      <td>1</td>\n",
       "    </tr>\n",
       "    <tr>\n",
       "      <th>4</th>\n",
       "      <td>C137533655</td>\n",
       "      <td>1</td>\n",
       "      <td>1</td>\n",
       "      <td>C1848415041</td>\n",
       "      <td>1</td>\n",
       "    </tr>\n",
       "    <tr>\n",
       "      <th>...</th>\n",
       "      <td>...</td>\n",
       "      <td>...</td>\n",
       "      <td>...</td>\n",
       "      <td>...</td>\n",
       "      <td>...</td>\n",
       "    </tr>\n",
       "    <tr>\n",
       "      <th>87</th>\n",
       "      <td>C115297013</td>\n",
       "      <td>0</td>\n",
       "      <td>1</td>\n",
       "      <td>C991505714</td>\n",
       "      <td>1</td>\n",
       "    </tr>\n",
       "    <tr>\n",
       "      <th>88</th>\n",
       "      <td>C1755295609</td>\n",
       "      <td>0</td>\n",
       "      <td>1</td>\n",
       "      <td>C1711105800</td>\n",
       "      <td>1</td>\n",
       "    </tr>\n",
       "    <tr>\n",
       "      <th>89</th>\n",
       "      <td>C957683143</td>\n",
       "      <td>0</td>\n",
       "      <td>1</td>\n",
       "      <td>C667346055</td>\n",
       "      <td>1</td>\n",
       "    </tr>\n",
       "    <tr>\n",
       "      <th>90</th>\n",
       "      <td>C1548535364</td>\n",
       "      <td>0</td>\n",
       "      <td>1</td>\n",
       "      <td>C1032986144</td>\n",
       "      <td>1</td>\n",
       "    </tr>\n",
       "    <tr>\n",
       "      <th>91</th>\n",
       "      <td>C351249017</td>\n",
       "      <td>0</td>\n",
       "      <td>1</td>\n",
       "      <td>C667346055</td>\n",
       "      <td>1</td>\n",
       "    </tr>\n",
       "  </tbody>\n",
       "</table>\n",
       "<p>92 rows × 5 columns</p>\n",
       "</div>"
      ],
      "text/plain": [
       "          txId1  txId1_class  weight        txId2  txId2_class\n",
       "0   C1305486145            1       1   C553264065            1\n",
       "1    C840083671            1       1    C38997010            1\n",
       "2   C1420196421            1       1   C972765878            1\n",
       "3   C2101527076            1       1  C1007251739            1\n",
       "4    C137533655            1       1  C1848415041            1\n",
       "..          ...          ...     ...          ...          ...\n",
       "87   C115297013            0       1   C991505714            1\n",
       "88  C1755295609            0       1  C1711105800            1\n",
       "89   C957683143            0       1   C667346055            1\n",
       "90  C1548535364            0       1  C1032986144            1\n",
       "91   C351249017            0       1   C667346055            1\n",
       "\n",
       "[92 rows x 5 columns]"
      ]
     },
     "execution_count": 83,
     "metadata": {},
     "output_type": "execute_result"
    }
   ],
   "source": [
    "transaction_flow_in_suspicious_communities"
   ]
  },
  {
   "cell_type": "markdown",
   "metadata": {
    "pycharm": {
     "name": "#%% md\n"
    }
   },
   "source": [
    "As seen below, because the transaction is directed from nameOrig to nameDest, we can see that illicit transactions changed their status, as their counts dropped for txId2 classes. The number of licit transactions (2) increased, the number of unknown class transaction decreased as well."
   ]
  },
  {
   "cell_type": "code",
   "execution_count": 84,
   "metadata": {
    "pycharm": {
     "name": "#%%\n"
    }
   },
   "outputs": [],
   "source": [
    "def getTransactionsFlowDf(value_counts_transactions):\n",
    "    transactions_flow_df = pd.DataFrame(value_counts_transactions)\n",
    "    transactions_flow_df= transactions_flow_df.reset_index()\n",
    "    transactions_flow_df.columns = [\"transaction_class\", \"frequency\"]\n",
    "    return transactions_flow_df"
   ]
  },
  {
   "cell_type": "code",
   "execution_count": 85,
   "metadata": {
    "pycharm": {
     "name": "#%%\n"
    }
   },
   "outputs": [
    {
     "data": {
      "text/html": [
       "<div>\n",
       "<style scoped>\n",
       "    .dataframe tbody tr th:only-of-type {\n",
       "        vertical-align: middle;\n",
       "    }\n",
       "\n",
       "    .dataframe tbody tr th {\n",
       "        vertical-align: top;\n",
       "    }\n",
       "\n",
       "    .dataframe thead th {\n",
       "        text-align: right;\n",
       "    }\n",
       "</style>\n",
       "<table border=\"1\" class=\"dataframe\">\n",
       "  <thead>\n",
       "    <tr style=\"text-align: right;\">\n",
       "      <th></th>\n",
       "      <th>transaction_class</th>\n",
       "      <th>frequency</th>\n",
       "    </tr>\n",
       "  </thead>\n",
       "  <tbody>\n",
       "    <tr>\n",
       "      <th>0</th>\n",
       "      <td>0</td>\n",
       "      <td>64</td>\n",
       "    </tr>\n",
       "    <tr>\n",
       "      <th>1</th>\n",
       "      <td>1</td>\n",
       "      <td>28</td>\n",
       "    </tr>\n",
       "  </tbody>\n",
       "</table>\n",
       "</div>"
      ],
      "text/plain": [
       "   transaction_class  frequency\n",
       "0                  0         64\n",
       "1                  1         28"
      ]
     },
     "execution_count": 85,
     "metadata": {},
     "output_type": "execute_result"
    }
   ],
   "source": [
    "flow_from = getTransactionsFlowDf(transaction_flow_in_suspicious_communities.txId1_class.value_counts())\n",
    "flow_from"
   ]
  },
  {
   "cell_type": "code",
   "execution_count": 86,
   "metadata": {
    "pycharm": {
     "name": "#%%\n"
    }
   },
   "outputs": [
    {
     "data": {
      "text/html": [
       "<div>\n",
       "<style scoped>\n",
       "    .dataframe tbody tr th:only-of-type {\n",
       "        vertical-align: middle;\n",
       "    }\n",
       "\n",
       "    .dataframe tbody tr th {\n",
       "        vertical-align: top;\n",
       "    }\n",
       "\n",
       "    .dataframe thead th {\n",
       "        text-align: right;\n",
       "    }\n",
       "</style>\n",
       "<table border=\"1\" class=\"dataframe\">\n",
       "  <thead>\n",
       "    <tr style=\"text-align: right;\">\n",
       "      <th></th>\n",
       "      <th>transaction_class</th>\n",
       "      <th>frequency</th>\n",
       "    </tr>\n",
       "  </thead>\n",
       "  <tbody>\n",
       "    <tr>\n",
       "      <th>0</th>\n",
       "      <td>1</td>\n",
       "      <td>92</td>\n",
       "    </tr>\n",
       "  </tbody>\n",
       "</table>\n",
       "</div>"
      ],
      "text/plain": [
       "   transaction_class  frequency\n",
       "0                  1         92"
      ]
     },
     "execution_count": 86,
     "metadata": {},
     "output_type": "execute_result"
    }
   ],
   "source": [
    "flow_to = getTransactionsFlowDf(transaction_flow_in_suspicious_communities.txId2_class.value_counts())\n",
    "flow_to"
   ]
  },
  {
   "cell_type": "code",
   "execution_count": 87,
   "metadata": {
    "pycharm": {
     "name": "#%%\n"
    }
   },
   "outputs": [],
   "source": [
    "def plotTransactionsFlowClasses(value_counts_transactions_flow1, value_counts_transactions_flow2):\n",
    "    fig, ax = plt.subplots(ncols=2, figsize=(8, 6))\n",
    "    sns.barplot(data=value_counts_transactions_flow1, x=\"transaction_class\", y=\"frequency\", ax=ax[0])\n",
    "    sns.barplot(data=value_counts_transactions_flow2, x=\"transaction_class\", y=\"frequency\", ax=ax[1])\n",
    "    ax[0].set_xlabel(\"Transaction class\", fontsize=12)\n",
    "    ax[1].set_xlabel(\"Transaction class\", fontsize=12)\n",
    "    ax[0].set_ylabel(\"Frequency\", fontsize=12)\n",
    "    ax[1].set_ylabel(\"Frequency\", fontsize=12)\n",
    "    ax[0].set_title(\"Transaction origin's entity\", fontsize=14)\n",
    "    ax[1].set_title(\"Transaction destination's entity\", fontsize=14)\n",
    "    plt.tight_layout()\n",
    "    plt.show()"
   ]
  },
  {
   "cell_type": "code",
   "execution_count": 88,
   "metadata": {
    "pycharm": {
     "name": "#%%\n"
    }
   },
   "outputs": [
    {
     "data": {
      "image/png": "[encoded data removed]",
      "text/plain": [
       "<Figure size 576x432 with 2 Axes>"
      ]
     },
     "metadata": {},
     "output_type": "display_data"
    }
   ],
   "source": [
    "plotTransactionsFlowClasses(flow_from, flow_to)"
   ]
  },
  {
   "cell_type": "code",
   "execution_count": 89,
   "metadata": {
    "pycharm": {
     "name": "#%%\n"
    }
   },
   "outputs": [],
   "source": [
    "connector.close()"
   ]
  },
  {
   "cell_type": "markdown",
   "metadata": {
    "pycharm": {
     "name": "#%% md\n"
    }
   },
   "source": [
    "## Mann-Whitney Test"
   ]
  },
  {
   "cell_type": "code",
   "execution_count": 90,
   "metadata": {
    "pycharm": {
     "name": "#%%\n"
    }
   },
   "outputs": [],
   "source": [
    "from scipy.stats import mannwhitneyu"
   ]
  },
  {
   "cell_type": "markdown",
   "metadata": {
    "pycharm": {
     "name": "#%% md\n"
    }
   },
   "source": [
    "### Degree distributions"
   ]
  },
  {
   "cell_type": "code",
   "execution_count": 91,
   "metadata": {
    "pycharm": {
     "name": "#%%\n"
    }
   },
   "outputs": [],
   "source": [
    "fraud_indegree_distribution = degree_distribution_and_class[degree_distribution_and_class[\"class\"] == 1][\"in_degree\"]\n",
    "fraud_outdegree_distribution = degree_distribution_and_class[degree_distribution_and_class[\"class\"] == 1][\"out_degree\"]\n",
    "non_fraud_indegree_distribution = degree_distribution_and_class[degree_distribution_and_class[\"class\"] == 0][\"in_degree\"]\n",
    "non_fraud_outdegree_distribution = degree_distribution_and_class[degree_distribution_and_class[\"class\"] == 0][\"out_degree\"]"
   ]
  },
  {
   "cell_type": "code",
   "execution_count": 92,
   "metadata": {
    "pycharm": {
     "name": "#%%\n"
    }
   },
   "outputs": [
    {
     "name": "stdout",
     "output_type": "stream",
     "text": [
      "Mann-Whitney U test statistic: 226452.000\n",
      "p-value: 0.005\n"
     ]
    }
   ],
   "source": [
    "mw_result = mannwhitneyu(x=fraud_indegree_distribution, y=non_fraud_indegree_distribution, alternative=\"two-sided\")\n",
    "print(\"Mann-Whitney U test statistic: %5.3f\" % mw_result.statistic)\n",
    "print(\"p-value: %5.3f\" % mw_result.pvalue)"
   ]
  },
  {
   "cell_type": "code",
   "execution_count": 95,
   "metadata": {
    "pycharm": {
     "name": "#%%\n"
    }
   },
   "outputs": [
    {
     "name": "stdout",
     "output_type": "stream",
     "text": [
      "Mann-Whitney U test statistic: 167552.000\n",
      "p-value: 0.060\n"
     ]
    }
   ],
   "source": [
    "mw_result = mannwhitneyu(x=fraud_outdegree_distribution, y=non_fraud_outdegree_distribution, alternative=\"two-sided\")\n",
    "print(\"Mann-Whitney U test statistic: %5.3f\" % mw_result.statistic)\n",
    "print(\"p-value: %5.3f\" % mw_result.pvalue)"
   ]
  },
  {
   "cell_type": "markdown",
   "metadata": {
    "pycharm": {
     "name": "#%% md\n"
    }
   },
   "source": [
    "### PageRank scores distribution"
   ]
  },
  {
   "cell_type": "code",
   "execution_count": 96,
   "metadata": {
    "pycharm": {
     "name": "#%%\n"
    }
   },
   "outputs": [],
   "source": [
    "pagerank_distributions = pd.merge(nodes_classes, pagerank_scores, on=\"id\")"
   ]
  },
  {
   "cell_type": "code",
   "execution_count": 97,
   "metadata": {
    "pycharm": {
     "name": "#%%\n"
    }
   },
   "outputs": [],
   "source": [
    "fraud_pagerank_distribution = pagerank_scores[pagerank_distributions[\"class\"] == 1][\"PageRankScore\"]\n",
    "non_fraud_pagerank_distribution = pagerank_distributions[pagerank_distributions[\"class\"] == 0][\"PageRankScore\"]"
   ]
  },
  {
   "cell_type": "code",
   "execution_count": 98,
   "metadata": {
    "pycharm": {
     "name": "#%%\n"
    }
   },
   "outputs": [
    {
     "name": "stdout",
     "output_type": "stream",
     "text": [
      "Mann-Whitney U test statistic: 380387.000\n",
      "p-value: 0.000\n"
     ]
    }
   ],
   "source": [
    "mw_result = mannwhitneyu(x=fraud_pagerank_distribution, y=non_fraud_pagerank_distribution, alternative=\"two-sided\")\n",
    "print(\"Mann-Whitney U test statistic: %5.3f\" % mw_result.statistic)\n",
    "print(\"p-value: %5.3f\" % mw_result.pvalue)"
   ]
  },
  {
   "cell_type": "markdown",
   "metadata": {
    "pycharm": {
     "name": "#%% md\n"
    }
   },
   "source": [
    "### Closeness scores distribution"
   ]
  },
  {
   "cell_type": "code",
   "execution_count": 107,
   "metadata": {
    "pycharm": {
     "name": "#%%\n"
    }
   },
   "outputs": [],
   "source": [
    "closeness_distributions = pd.merge(nodes_classes, closeness_scores, on=\"id\")"
   ]
  },
  {
   "cell_type": "code",
   "execution_count": 108,
   "metadata": {
    "pycharm": {
     "name": "#%%\n"
    }
   },
   "outputs": [],
   "source": [
    "fraud_closeness_distribution = closeness_scores[closeness_distributions[\"class\"] == 1][\"ClosenessScore\"]\n",
    "non_fraud_closeness_distribution = closeness_distributions[closeness_distributions[\"class\"] == 0][\"ClosenessScore\"]"
   ]
  },
  {
   "cell_type": "code",
   "execution_count": 109,
   "metadata": {
    "pycharm": {
     "name": "#%%\n"
    }
   },
   "outputs": [
    {
     "name": "stdout",
     "output_type": "stream",
     "text": [
      "Mann-Whitney U test statistic: 309848.000\n",
      "p-value: 0.000\n"
     ]
    }
   ],
   "source": [
    "mw_result = mannwhitneyu(x=fraud_closeness_distribution, y=non_fraud_closeness_distribution, alternative=\"two-sided\")\n",
    "print(\"Mann-Whitney U test statistic: %5.3f\" % mw_result.statistic)\n",
    "print(\"p-value: %5.3f\" % mw_result.pvalue)"
   ]
  },
  {
   "cell_type": "markdown",
   "metadata": {
    "pycharm": {
     "name": "#%% md\n"
    }
   },
   "source": [
    "## Amounts"
   ]
  },
  {
   "cell_type": "code",
   "execution_count": 101,
   "metadata": {
    "pycharm": {
     "name": "#%%\n"
    }
   },
   "outputs": [
    {
     "data": {
      "image/png": "[encoded data removed]",
      "text/plain": [
       "<Figure size 576x504 with 1 Axes>"
      ]
     },
     "metadata": {},
     "output_type": "display_data"
    }
   ],
   "source": [
    "plt.figure(figsize=(8,7))\n",
    "ax = sns.boxplot(x=\"isFraud\", y=\"amount\", data=edgelist, showfliers=False)\n",
    "ax.yaxis.set_major_formatter(FormatStrFormatter(\"%d\"))\n",
    "plt.show()"
   ]
  },
  {
   "cell_type": "code",
   "execution_count": 102,
   "metadata": {
    "pycharm": {
     "name": "#%%\n"
    }
   },
   "outputs": [
    {
     "data": {
      "image/png": "[encoded data removed]",
      "text/plain": [
       "<Figure size 576x504 with 1 Axes>"
      ]
     },
     "metadata": {},
     "output_type": "display_data"
    }
   ],
   "source": [
    "plt.figure(figsize=(8,7))\n",
    "ax = sns.boxplot(x=\"isFraud\", y=\"amount\", data=edgelist, showfliers=True, flierprops = dict(markerfacecolor='b', markersize=2))\n",
    "ax.yaxis.set_major_formatter(FormatStrFormatter(\"%d\"))\n",
    "plt.show()"
   ]
  },
  {
   "cell_type": "markdown",
   "metadata": {
    "pycharm": {
     "name": "#%% md\n"
    }
   },
   "source": [
    "## Notes"
   ]
  },
  {
   "cell_type": "markdown",
   "metadata": {
    "pycharm": {
     "name": "#%% md\n"
    }
   },
   "source": [
    "The graph's suspicious communities were visualized using Neo4jBrowser. The query was generated using additional code which prints the list of node IDs from a list and puts that in a formatted string of Cypher query. It is as follows:"
   ]
  },
  {
   "cell_type": "code",
   "execution_count": 103,
   "metadata": {
    "pycharm": {
     "name": "#%%\n"
    }
   },
   "outputs": [],
   "source": [
    "def getCommunitiesNodesList(transaction_flow):\n",
    "    org = transaction_flow[\"txId1\"]\n",
    "    dst = transaction_flow[\"txId2\"]\n",
    "\n",
    "    nodes_in_communities = []\n",
    "    for node1, node2 in zip(org, dst):\n",
    "        nodes_in_communities.append(node1)\n",
    "        nodes_in_communities.append(node2)\n",
    "    return list(pd.Series(nodes_in_communities).unique())"
   ]
  },
  {
   "cell_type": "code",
   "execution_count": 104,
   "metadata": {
    "pycharm": {
     "name": "#%%\n"
    }
   },
   "outputs": [
    {
     "name": "stdout",
     "output_type": "stream",
     "text": [
      "0    64\n",
      "1    28\n",
      "Name: sourceNodeClass, dtype: int64\n",
      "0    64\n",
      "1    28\n",
      "Name: transactionCategory, dtype: int64\n",
      "1    92\n",
      "Name: destinationNodeClass, dtype: int64\n"
     ]
    }
   ],
   "source": [
    "nodes_in_communities = getCommunitiesNodesList(getSuspiciousCommunitiesFlow(manager, suspicious_communities=getSuspiciousCommunities(getClassesDistributionInAllCommunities(manager, save=True, output_directory=\"../\"))))\n",
    "query = f\"MATCH (n:node)-[r:TRANSACTION]->(m:node) WHERE n.id IN {nodes_in_communities} OR m.id IN {nodes_in_communities} RETURN n.id AS sourceNodeID, m.id AS destinationNodeID, n.class AS sourceNodeClass, r.isFraud AS transactionCategory, r.type AS transactionType, m.class AS destinationNodeClass\"\n",
    "illicit_nodes_and_transactions = connector.run_cypher(query)\n",
    "for col in illicit_nodes_and_transactions:\n",
    "    if (col == \"sourceNodeID\") | (col == \"destinationNodeID\") | (col == \"transactionType\"):\n",
    "        continue\n",
    "    else:\n",
    "        print(illicit_nodes_and_transactions[col].value_counts())"
   ]
  },
  {
   "cell_type": "markdown",
   "metadata": {
    "pycharm": {
     "name": "#%% md\n"
    }
   },
   "source": [
    "As seen above, within the communities, 16 out of 29 nodes are known to make fraudulent transactions, 16 out of 29 transactions were illicit, but all destination nodes are known to make illicit transactions."
   ]
  },
  {
   "cell_type": "code",
   "execution_count": 105,
   "metadata": {
    "pycharm": {
     "name": "#%%\n"
    }
   },
   "outputs": [
    {
     "data": {
      "text/plain": [
       "transactionCategory  transactionType\n",
       "0                    CASH_IN            30\n",
       "                     CASH_OUT           14\n",
       "                     TRANSFER           11\n",
       "                     DEBIT               9\n",
       "1                    CASH_OUT           15\n",
       "                     TRANSFER           13\n",
       "Name: transactionType, dtype: int64"
      ]
     },
     "execution_count": 105,
     "metadata": {},
     "output_type": "execute_result"
    }
   ],
   "source": [
    "illicit_nodes_and_transactions.groupby(\"transactionCategory\")[\"transactionType\"].value_counts()"
   ]
  },
  {
   "cell_type": "code",
   "execution_count": 106,
   "metadata": {
    "pycharm": {
     "name": "#%%\n"
    }
   },
   "outputs": [
    {
     "data": {
      "text/html": [
       "<div>\n",
       "<style scoped>\n",
       "    .dataframe tbody tr th:only-of-type {\n",
       "        vertical-align: middle;\n",
       "    }\n",
       "\n",
       "    .dataframe tbody tr th {\n",
       "        vertical-align: top;\n",
       "    }\n",
       "\n",
       "    .dataframe thead th {\n",
       "        text-align: right;\n",
       "    }\n",
       "</style>\n",
       "<table border=\"1\" class=\"dataframe\">\n",
       "  <thead>\n",
       "    <tr style=\"text-align: right;\">\n",
       "      <th></th>\n",
       "      <th>sourceID</th>\n",
       "      <th>destinationID</th>\n",
       "      <th>sourceClass</th>\n",
       "      <th>destinationClass</th>\n",
       "      <th>transactionCategory</th>\n",
       "    </tr>\n",
       "  </thead>\n",
       "  <tbody>\n",
       "  </tbody>\n",
       "</table>\n",
       "</div>"
      ],
      "text/plain": [
       "Empty DataFrame\n",
       "Columns: [sourceID, destinationID, sourceClass, destinationClass, transactionCategory]\n",
       "Index: []"
      ]
     },
     "execution_count": 106,
     "metadata": {},
     "output_type": "execute_result"
    }
   ],
   "source": [
    "node_ids = f\"{list(illicit_nodes_and_transactions.destinationNodeID)}\"\n",
    "query = f\"MATCH (n:node)-[r:TRANSACTION]->(m:node) WHERE n.id IN {node_ids} RETURN n.id AS sourceID, m.id AS destinationID, n.class AS sourceClass, m.class AS destinationClass, r.isFraud AS transactionCategory\"\n",
    "connector.run_cypher(query)"
   ]
  },
  {
   "cell_type": "markdown",
   "metadata": {
    "pycharm": {
     "name": "#%% md\n"
    }
   },
   "source": [
    "As seen above, the trace ends at the destination nodes in communities, however, only some of the transactions were CASH_OUT type"
   ]
  }
 ],
 "metadata": {
  "kernelspec": {
   "display_name": "Python 3 (ipykernel)",
   "language": "python",
   "name": "python3"
  },
  "language_info": {
   "codemirror_mode": {
    "name": "ipython",
    "version": 3
   },
   "file_extension": ".py",
   "mimetype": "text/x-python",
   "name": "python",
   "nbconvert_exporter": "python",
   "pygments_lexer": "ipython3",
   "version": "3.9.5"
  }
 },
 "nbformat": 4,
 "nbformat_minor": 1
}
