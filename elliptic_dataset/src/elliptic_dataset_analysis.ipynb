{
 "cells": [
  {
   "cell_type": "markdown",
   "metadata": {
    "pycharm": {
     "name": "#%% md\n"
    }
   },
   "source": [
    "# Single timestep graph - Elliptic data set"
   ]
  },
  {
   "cell_type": "code",
   "execution_count": 1,
   "metadata": {
    "pycharm": {
     "name": "#%%\n"
    }
   },
   "outputs": [],
   "source": [
    "# global imports\n",
    "import matplotlib.pyplot as plt\n",
    "import networkx as nx\n",
    "import numpy as np\n",
    "import pandas as pd\n",
    "import powerlaw\n",
    "import seaborn as sns\n",
    "from graphdatascience import GraphDataScience\n",
    "\n",
    "# local imports\n",
    "from GraphBuilder import extractAllTimestepsNodes, getTimestepEdgelist\n",
    "from AnalysisManager import AnalysisManager\n",
    "from NodeMetrics import NodeMetrics\n",
    "from GraphMetrics import GraphMetrics"
   ]
  },
  {
   "cell_type": "markdown",
   "metadata": {
    "pycharm": {
     "name": "#%% md\n"
    }
   },
   "source": [
    "#### Neo4j modules"
   ]
  },
  {
   "cell_type": "code",
   "execution_count": 2,
   "metadata": {
    "pycharm": {
     "name": "#%%\n"
    }
   },
   "outputs": [],
   "source": [
    "manager = AnalysisManager(\"neo4j\", \"elliptic\", \"../data\", outputs_base_location=\"../\")\n",
    "connector = GraphDataScience(\"bolt://localhost:7687\", auth=(\"neo4j\", \"elliptic\"))\n",
    "node_metrics = NodeMetrics(connector, \"elliptic\", \"node\", \"TRANSACTION\")\n",
    "graph_metrics = GraphMetrics(connector, \"elliptic\", \"node\", \"TRANSACTION\")"
   ]
  },
  {
   "cell_type": "markdown",
   "metadata": {
    "pycharm": {
     "name": "#%% md\n"
    }
   },
   "source": [
    "#### Networkx graph"
   ]
  },
  {
   "cell_type": "code",
   "execution_count": 3,
   "metadata": {
    "pycharm": {
     "name": "#%%\n"
    }
   },
   "outputs": [],
   "source": [
    "edgelist = pd.read_csv(\"../data/elliptic_txs_edgelist.csv\")\n",
    "transactions_features = pd.read_csv(\"../data/elliptic_txs_features.csv\", header=None)\n",
    "graphtype = nx.DiGraph()\n",
    "graph = nx.from_pandas_edgelist(edgelist,\n",
    "                                source=\"txId1\",\n",
    "                                target=\"txId2\",\n",
    "                                create_using=graphtype)"
   ]
  },
  {
   "cell_type": "markdown",
   "metadata": {
    "pycharm": {
     "name": "#%% md\n"
    }
   },
   "source": [
    "### Functions related to working with Networkx library"
   ]
  },
  {
   "cell_type": "markdown",
   "metadata": {
    "pycharm": {
     "name": "#%% md\n"
    }
   },
   "source": [
    "Note on shortest paths"
   ]
  },
  {
   "cell_type": "markdown",
   "metadata": {
    "pycharm": {
     "name": "#%% md\n"
    }
   },
   "source": [
    "The shortest paths are determined using Networkx class static method shortest_path_length() which returns pairs of node ID and a dictionary containing all its neighbours IDs and path lengths to them. <br>\n",
    "In this case, the information is stored in a multidimensional array of heterogenious sizes of elements which store the origin node ID, destination node IDs and path lengths."
   ]
  },
  {
   "cell_type": "code",
   "execution_count": 4,
   "metadata": {
    "pycharm": {
     "name": "#%%\n"
    }
   },
   "outputs": [],
   "source": [
    "def getAllShortestPaths(graph):\n",
    "    all_shortest_paths = []\n",
    "    for (i,j) in nx.shortest_path_length(graph):\n",
    "        all_shortest_paths.append([i, list(j.keys()), np.array(list(j.values()))])\n",
    "    return all_shortest_paths"
   ]
  },
  {
   "cell_type": "code",
   "execution_count": 5,
   "metadata": {
    "pycharm": {
     "name": "#%%\n"
    }
   },
   "outputs": [],
   "source": [
    "def getMeanOfShortestPaths(shortest_paths):\n",
    "    summed_lengths = 0\n",
    "    number_of_paths = 0\n",
    "    for i in range(len(shortest_paths)):\n",
    "        summed_lengths += (shortest_paths[i][2].sum())\n",
    "        number_of_paths += len(shortest_paths[i][2])\n",
    "\n",
    "    return summed_lengths / number_of_paths"
   ]
  },
  {
   "cell_type": "code",
   "execution_count": 6,
   "metadata": {
    "pycharm": {
     "name": "#%%\n"
    }
   },
   "outputs": [],
   "source": [
    "def getMedianOfShortestPaths(shortest_paths):\n",
    "    all_paths_lengths = []\n",
    "    for i in range(len(shortest_paths)):\n",
    "        for path_length in shortest_paths[i][2]:\n",
    "            all_paths_lengths.append(path_length)\n",
    "    all_paths_lengths = pd.Series(np.array(all_paths_lengths))\n",
    "    return all_paths_lengths.median()"
   ]
  },
  {
   "cell_type": "code",
   "execution_count": 7,
   "metadata": {
    "pycharm": {
     "name": "#%%\n"
    }
   },
   "outputs": [],
   "source": [
    "def getDiameter(shortest_paths):\n",
    "    all_paths_lengths = []\n",
    "    for i in range(len(shortest_paths)):\n",
    "        for path_length in shortest_paths[i][2]:\n",
    "            all_paths_lengths.append(path_length)\n",
    "    all_paths_lengths = pd.Series(np.array(all_paths_lengths))\n",
    "    return all_paths_lengths.max()"
   ]
  },
  {
   "cell_type": "markdown",
   "metadata": {
    "pycharm": {
     "name": "#%% md\n"
    }
   },
   "source": [
    "## Large-scale Network Properties"
   ]
  },
  {
   "cell_type": "code",
   "execution_count": 8,
   "metadata": {
    "pycharm": {
     "name": "#%%\n"
    }
   },
   "outputs": [],
   "source": [
    "column_names = [\"Type\", \"n\", \"m\", \"c\", \"S\", \"l\", \"alpha\", \"C\"]\n",
    "properties = [\"Directed\"]"
   ]
  },
  {
   "cell_type": "markdown",
   "metadata": {
    "pycharm": {
     "name": "#%% md\n"
    }
   },
   "source": [
    "Number of nodes"
   ]
  },
  {
   "cell_type": "code",
   "execution_count": 9,
   "metadata": {
    "pycharm": {
     "name": "#%%\n"
    }
   },
   "outputs": [
    {
     "name": "stdout",
     "output_type": "stream",
     "text": [
      "203769\n"
     ]
    }
   ],
   "source": [
    "n = graph_metrics.getGraphSize()\n",
    "properties.append(n)\n",
    "print(n)"
   ]
  },
  {
   "cell_type": "markdown",
   "metadata": {
    "pycharm": {
     "name": "#%% md\n"
    }
   },
   "source": [
    "Number of edges"
   ]
  },
  {
   "cell_type": "code",
   "execution_count": 10,
   "metadata": {
    "pycharm": {
     "name": "#%%\n"
    }
   },
   "outputs": [
    {
     "name": "stdout",
     "output_type": "stream",
     "text": [
      "234355\n"
     ]
    }
   ],
   "source": [
    "m = graph_metrics.getNumberOfEdges().values[0][0]\n",
    "properties.append(m)\n",
    "print(m)"
   ]
  },
  {
   "cell_type": "markdown",
   "metadata": {
    "pycharm": {
     "name": "#%% md\n"
    }
   },
   "source": [
    "Mean degree"
   ]
  },
  {
   "cell_type": "code",
   "execution_count": 11,
   "metadata": {
    "pycharm": {
     "name": "#%%\n"
    }
   },
   "outputs": [
    {
     "name": "stdout",
     "output_type": "stream",
     "text": [
      "1.1501013402431184\n"
     ]
    }
   ],
   "source": [
    "c = node_metrics.getDegreeDistribution()[\"degree\"].mean()\n",
    "properties.append(c)\n",
    "print(c)"
   ]
  },
  {
   "cell_type": "markdown",
   "metadata": {
    "pycharm": {
     "name": "#%% md\n"
    }
   },
   "source": [
    "Fraction of nodes in the giant component (the largest component)"
   ]
  },
  {
   "cell_type": "code",
   "execution_count": 12,
   "metadata": {
    "pycharm": {
     "name": "#%%\n"
    }
   },
   "outputs": [
    {
     "name": "stdout",
     "output_type": "stream",
     "text": [
      "0.03867124047328102\n"
     ]
    }
   ],
   "source": [
    "fractions = pd.DataFrame(graph_metrics.getFractionsWeaklyConnectedComponents())\n",
    "fractions = fractions.reset_index()\n",
    "fractions.columns = [\"componentId\", \"fraction_of_nodes\"]\n",
    "S = fractions[fractions[\"fraction_of_nodes\"] == fractions[\"fraction_of_nodes\"].max()][\"fraction_of_nodes\"][0]\n",
    "properties.append(S)\n",
    "print(S)"
   ]
  },
  {
   "cell_type": "markdown",
   "metadata": {
    "pycharm": {
     "name": "#%% md\n"
    }
   },
   "source": [
    "Mean distance between connected node pairs"
   ]
  },
  {
   "cell_type": "code",
   "execution_count": 13,
   "metadata": {
    "pycharm": {
     "name": "#%%\n"
    }
   },
   "outputs": [
    {
     "name": "stdout",
     "output_type": "stream",
     "text": [
      "125.2837481234031\n"
     ]
    }
   ],
   "source": [
    "l = getMeanOfShortestPaths(getAllShortestPaths(graph=graph))\n",
    "properties.append(l)\n",
    "print(l)"
   ]
  },
  {
   "cell_type": "markdown",
   "metadata": {
    "pycharm": {
     "name": "#%% md\n"
    }
   },
   "source": [
    "Exponent alpha"
   ]
  },
  {
   "cell_type": "code",
   "execution_count": 14,
   "metadata": {
    "pycharm": {
     "name": "#%%\n"
    }
   },
   "outputs": [
    {
     "name": "stdout",
     "output_type": "stream",
     "text": [
      "Calculating best minimal value for power law fit\n",
      "xmin progress: 98%\r"
     ]
    },
    {
     "name": "stderr",
     "output_type": "stream",
     "text": [
      "Values less than or equal to 0 in data. Throwing out 0 or negative values\n"
     ]
    }
   ],
   "source": [
    "degree_distribution = node_metrics.getDegreeDistribution()\n",
    "x = degree_distribution[\"degree\"].values\n",
    "data = powerlaw.Fit(x)\n",
    "properties.append(data.alpha)"
   ]
  },
  {
   "cell_type": "code",
   "execution_count": 15,
   "metadata": {
    "pycharm": {
     "name": "#%%\n"
    }
   },
   "outputs": [
    {
     "name": "stdout",
     "output_type": "stream",
     "text": [
      "3.785550920374367\n"
     ]
    }
   ],
   "source": [
    "print(data.alpha)"
   ]
  },
  {
   "cell_type": "markdown",
   "metadata": {
    "pycharm": {
     "name": "#%% md\n"
    }
   },
   "source": [
    "Mean clustering coefficient"
   ]
  },
  {
   "cell_type": "code",
   "execution_count": 16,
   "metadata": {
    "pycharm": {
     "name": "#%%\n"
    }
   },
   "outputs": [
    {
     "name": "stdout",
     "output_type": "stream",
     "text": [
      "0.01376219072424474\n"
     ]
    }
   ],
   "source": [
    "local_clustering_coefficients = node_metrics.getClusteringCoefficient()\n",
    "C = local_clustering_coefficients[\"localClusteringCoefficient\"].mean()\n",
    "properties.append(C)\n",
    "print(C)"
   ]
  },
  {
   "cell_type": "code",
   "execution_count": 17,
   "metadata": {
    "pycharm": {
     "name": "#%%\n"
    }
   },
   "outputs": [
    {
     "data": {
      "text/plain": "       Type       n       m         c         S           l     alpha  \\\n0  Directed  203769  234355  1.150101  0.038671  125.283748  3.785551   \n\n          C  \n0  0.013762  ",
      "text/html": "<div>\n<style scoped>\n    .dataframe tbody tr th:only-of-type {\n        vertical-align: middle;\n    }\n\n    .dataframe tbody tr th {\n        vertical-align: top;\n    }\n\n    .dataframe thead th {\n        text-align: right;\n    }\n</style>\n<table border=\"1\" class=\"dataframe\">\n  <thead>\n    <tr style=\"text-align: right;\">\n      <th></th>\n      <th>Type</th>\n      <th>n</th>\n      <th>m</th>\n      <th>c</th>\n      <th>S</th>\n      <th>l</th>\n      <th>alpha</th>\n      <th>C</th>\n    </tr>\n  </thead>\n  <tbody>\n    <tr>\n      <th>0</th>\n      <td>Directed</td>\n      <td>203769</td>\n      <td>234355</td>\n      <td>1.150101</td>\n      <td>0.038671</td>\n      <td>125.283748</td>\n      <td>3.785551</td>\n      <td>0.013762</td>\n    </tr>\n  </tbody>\n</table>\n</div>"
     },
     "execution_count": 17,
     "metadata": {},
     "output_type": "execute_result"
    }
   ],
   "source": [
    "large_scale_structure_df = pd.DataFrame([properties])\n",
    "large_scale_structure_df.columns = column_names\n",
    "large_scale_structure_df.to_csv(\"../graph_large_scale_properties.csv\")\n",
    "large_scale_structure_df"
   ]
  },
  {
   "cell_type": "markdown",
   "metadata": {
    "pycharm": {
     "name": "#%% md\n"
    }
   },
   "source": [
    "### Additional properties"
   ]
  },
  {
   "cell_type": "markdown",
   "metadata": {
    "pycharm": {
     "name": "#%% md\n"
    }
   },
   "source": [
    "Number of strongly connected components"
   ]
  },
  {
   "cell_type": "code",
   "execution_count": 18,
   "metadata": {
    "pycharm": {
     "name": "#%%\n"
    }
   },
   "outputs": [
    {
     "data": {
      "text/plain": "203769"
     },
     "execution_count": 18,
     "metadata": {},
     "output_type": "execute_result"
    }
   ],
   "source": [
    "len(graph_metrics.getFractionsStronglyConnectedComponents())"
   ]
  },
  {
   "cell_type": "markdown",
   "metadata": {
    "pycharm": {
     "name": "#%% md\n"
    }
   },
   "source": [
    "Number of weakly connected components"
   ]
  },
  {
   "cell_type": "code",
   "execution_count": 19,
   "metadata": {
    "pycharm": {
     "name": "#%%\n"
    }
   },
   "outputs": [
    {
     "data": {
      "text/plain": "49"
     },
     "execution_count": 19,
     "metadata": {},
     "output_type": "execute_result"
    }
   ],
   "source": [
    "len(graph_metrics.getFractionsWeaklyConnectedComponents())"
   ]
  },
  {
   "cell_type": "markdown",
   "metadata": {
    "pycharm": {
     "name": "#%% md\n"
    }
   },
   "source": [
    "Graph's diameter"
   ]
  },
  {
   "cell_type": "code",
   "execution_count": 20,
   "metadata": {
    "pycharm": {
     "name": "#%%\n"
    }
   },
   "outputs": [
    {
     "data": {
      "text/plain": "1248"
     },
     "execution_count": 20,
     "metadata": {},
     "output_type": "execute_result"
    }
   ],
   "source": [
    "getDiameter(getAllShortestPaths(graph=graph))"
   ]
  },
  {
   "cell_type": "markdown",
   "metadata": {
    "pycharm": {
     "name": "#%% md\n"
    }
   },
   "source": [
    "## Centrality Metrics Analysis"
   ]
  },
  {
   "cell_type": "code",
   "execution_count": 21,
   "metadata": {
    "pycharm": {
     "name": "#%%\n"
    }
   },
   "outputs": [
    {
     "data": {
      "text/plain": "        id  degree\n0  2984918   472.0\n1    89273   288.0\n2   102570   122.0\n3     3181   112.0\n4     7952    99.0",
      "text/html": "<div>\n<style scoped>\n    .dataframe tbody tr th:only-of-type {\n        vertical-align: middle;\n    }\n\n    .dataframe tbody tr th {\n        vertical-align: top;\n    }\n\n    .dataframe thead th {\n        text-align: right;\n    }\n</style>\n<table border=\"1\" class=\"dataframe\">\n  <thead>\n    <tr style=\"text-align: right;\">\n      <th></th>\n      <th>id</th>\n      <th>degree</th>\n    </tr>\n  </thead>\n  <tbody>\n    <tr>\n      <th>0</th>\n      <td>2984918</td>\n      <td>472.0</td>\n    </tr>\n    <tr>\n      <th>1</th>\n      <td>89273</td>\n      <td>288.0</td>\n    </tr>\n    <tr>\n      <th>2</th>\n      <td>102570</td>\n      <td>122.0</td>\n    </tr>\n    <tr>\n      <th>3</th>\n      <td>3181</td>\n      <td>112.0</td>\n    </tr>\n    <tr>\n      <th>4</th>\n      <td>7952</td>\n      <td>99.0</td>\n    </tr>\n  </tbody>\n</table>\n</div>"
     },
     "execution_count": 21,
     "metadata": {},
     "output_type": "execute_result"
    }
   ],
   "source": [
    "degree_distribution = node_metrics.getDegreeDistribution()\n",
    "degree_distribution.head()"
   ]
  },
  {
   "cell_type": "code",
   "execution_count": 22,
   "metadata": {
    "pycharm": {
     "name": "#%%\n"
    }
   },
   "outputs": [
    {
     "data": {
      "text/plain": "          id  PageRankScore\n0  225859042      42.279545\n1   43388675      41.865629\n2   99409352      40.702945\n3  179084283      39.748616\n4   30276715      37.464630",
      "text/html": "<div>\n<style scoped>\n    .dataframe tbody tr th:only-of-type {\n        vertical-align: middle;\n    }\n\n    .dataframe tbody tr th {\n        vertical-align: top;\n    }\n\n    .dataframe thead th {\n        text-align: right;\n    }\n</style>\n<table border=\"1\" class=\"dataframe\">\n  <thead>\n    <tr style=\"text-align: right;\">\n      <th></th>\n      <th>id</th>\n      <th>PageRankScore</th>\n    </tr>\n  </thead>\n  <tbody>\n    <tr>\n      <th>0</th>\n      <td>225859042</td>\n      <td>42.279545</td>\n    </tr>\n    <tr>\n      <th>1</th>\n      <td>43388675</td>\n      <td>41.865629</td>\n    </tr>\n    <tr>\n      <th>2</th>\n      <td>99409352</td>\n      <td>40.702945</td>\n    </tr>\n    <tr>\n      <th>3</th>\n      <td>179084283</td>\n      <td>39.748616</td>\n    </tr>\n    <tr>\n      <th>4</th>\n      <td>30276715</td>\n      <td>37.464630</td>\n    </tr>\n  </tbody>\n</table>\n</div>"
     },
     "execution_count": 22,
     "metadata": {},
     "output_type": "execute_result"
    }
   ],
   "source": [
    "pagerank_scores = node_metrics.getPageRankScores()\n",
    "pagerank_scores.head()"
   ]
  },
  {
   "cell_type": "code",
   "execution_count": 23,
   "metadata": {
    "pycharm": {
     "name": "#%%\n"
    }
   },
   "outputs": [
    {
     "data": {
      "text/plain": "          id  BetweennessScore\n0  245736770          389376.0\n1  245736765          389375.0\n2  245736776          389375.0\n3  245736761          389372.0\n4  245736986          389372.0",
      "text/html": "<div>\n<style scoped>\n    .dataframe tbody tr th:only-of-type {\n        vertical-align: middle;\n    }\n\n    .dataframe tbody tr th {\n        vertical-align: top;\n    }\n\n    .dataframe thead th {\n        text-align: right;\n    }\n</style>\n<table border=\"1\" class=\"dataframe\">\n  <thead>\n    <tr style=\"text-align: right;\">\n      <th></th>\n      <th>id</th>\n      <th>BetweennessScore</th>\n    </tr>\n  </thead>\n  <tbody>\n    <tr>\n      <th>0</th>\n      <td>245736770</td>\n      <td>389376.0</td>\n    </tr>\n    <tr>\n      <th>1</th>\n      <td>245736765</td>\n      <td>389375.0</td>\n    </tr>\n    <tr>\n      <th>2</th>\n      <td>245736776</td>\n      <td>389375.0</td>\n    </tr>\n    <tr>\n      <th>3</th>\n      <td>245736761</td>\n      <td>389372.0</td>\n    </tr>\n    <tr>\n      <th>4</th>\n      <td>245736986</td>\n      <td>389372.0</td>\n    </tr>\n  </tbody>\n</table>\n</div>"
     },
     "execution_count": 23,
     "metadata": {},
     "output_type": "execute_result"
    }
   ],
   "source": [
    "betweenness_scores = node_metrics.getBetweennessCentrality()\n",
    "betweenness_scores.head()"
   ]
  },
  {
   "cell_type": "code",
   "execution_count": 24,
   "metadata": {
    "pycharm": {
     "name": "#%%\n"
    }
   },
   "outputs": [
    {
     "data": {
      "text/plain": "          id  EigenvectorCentrality\n0  245988039               0.431922\n1  245988038               0.426715\n2  222730806               0.300389\n3  245932267               0.247939\n4  245988040               0.245649",
      "text/html": "<div>\n<style scoped>\n    .dataframe tbody tr th:only-of-type {\n        vertical-align: middle;\n    }\n\n    .dataframe tbody tr th {\n        vertical-align: top;\n    }\n\n    .dataframe thead th {\n        text-align: right;\n    }\n</style>\n<table border=\"1\" class=\"dataframe\">\n  <thead>\n    <tr style=\"text-align: right;\">\n      <th></th>\n      <th>id</th>\n      <th>EigenvectorCentrality</th>\n    </tr>\n  </thead>\n  <tbody>\n    <tr>\n      <th>0</th>\n      <td>245988039</td>\n      <td>0.431922</td>\n    </tr>\n    <tr>\n      <th>1</th>\n      <td>245988038</td>\n      <td>0.426715</td>\n    </tr>\n    <tr>\n      <th>2</th>\n      <td>222730806</td>\n      <td>0.300389</td>\n    </tr>\n    <tr>\n      <th>3</th>\n      <td>245932267</td>\n      <td>0.247939</td>\n    </tr>\n    <tr>\n      <th>4</th>\n      <td>245988040</td>\n      <td>0.245649</td>\n    </tr>\n  </tbody>\n</table>\n</div>"
     },
     "execution_count": 24,
     "metadata": {},
     "output_type": "execute_result"
    }
   ],
   "source": [
    "eigenvector_scores = node_metrics.getEigenvectorCentrality()\n",
    "eigenvector_scores.head()"
   ]
  },
  {
   "cell_type": "code",
   "execution_count": 25,
   "metadata": {
    "pycharm": {
     "name": "#%%\n"
    }
   },
   "outputs": [
    {
     "ename": "ValueError",
     "evalue": "2 columns passed, passed data had 4 columns",
     "output_type": "error",
     "traceback": [
      "\u001B[1;31m---------------------------------------------------------------------------\u001B[0m",
      "\u001B[1;31mAssertionError\u001B[0m                            Traceback (most recent call last)",
      "\u001B[1;32mc:\\users\\pstac\\appdata\\local\\programs\\python\\python39\\lib\\site-packages\\pandas\\core\\internals\\construction.py\u001B[0m in \u001B[0;36m_list_to_arrays\u001B[1;34m(data, columns, coerce_float, dtype)\u001B[0m\n\u001B[0;32m    567\u001B[0m     \u001B[1;32mtry\u001B[0m\u001B[1;33m:\u001B[0m\u001B[1;33m\u001B[0m\u001B[1;33m\u001B[0m\u001B[0m\n\u001B[1;32m--> 568\u001B[1;33m         \u001B[0mcolumns\u001B[0m \u001B[1;33m=\u001B[0m \u001B[0m_validate_or_indexify_columns\u001B[0m\u001B[1;33m(\u001B[0m\u001B[0mcontent\u001B[0m\u001B[1;33m,\u001B[0m \u001B[0mcolumns\u001B[0m\u001B[1;33m)\u001B[0m\u001B[1;33m\u001B[0m\u001B[1;33m\u001B[0m\u001B[0m\n\u001B[0m\u001B[0;32m    569\u001B[0m         \u001B[0mresult\u001B[0m \u001B[1;33m=\u001B[0m \u001B[0m_convert_object_array\u001B[0m\u001B[1;33m(\u001B[0m\u001B[0mcontent\u001B[0m\u001B[1;33m,\u001B[0m \u001B[0mdtype\u001B[0m\u001B[1;33m=\u001B[0m\u001B[0mdtype\u001B[0m\u001B[1;33m,\u001B[0m \u001B[0mcoerce_float\u001B[0m\u001B[1;33m=\u001B[0m\u001B[0mcoerce_float\u001B[0m\u001B[1;33m)\u001B[0m\u001B[1;33m\u001B[0m\u001B[1;33m\u001B[0m\u001B[0m\n",
      "\u001B[1;32mc:\\users\\pstac\\appdata\\local\\programs\\python\\python39\\lib\\site-packages\\pandas\\core\\internals\\construction.py\u001B[0m in \u001B[0;36m_validate_or_indexify_columns\u001B[1;34m(content, columns)\u001B[0m\n\u001B[0;32m    691\u001B[0m             \u001B[1;31m# caller's responsibility to check for this...\u001B[0m\u001B[1;33m\u001B[0m\u001B[1;33m\u001B[0m\u001B[1;33m\u001B[0m\u001B[0m\n\u001B[1;32m--> 692\u001B[1;33m             raise AssertionError(\n\u001B[0m\u001B[0;32m    693\u001B[0m                 \u001B[1;34mf\"{len(columns)} columns passed, passed data had \"\u001B[0m\u001B[1;33m\u001B[0m\u001B[1;33m\u001B[0m\u001B[0m\n",
      "\u001B[1;31mAssertionError\u001B[0m: 2 columns passed, passed data had 4 columns",
      "\nThe above exception was the direct cause of the following exception:\n",
      "\u001B[1;31mValueError\u001B[0m                                Traceback (most recent call last)",
      "\u001B[1;32m<ipython-input-25-f10d6515d5c2>\u001B[0m in \u001B[0;36m<module>\u001B[1;34m\u001B[0m\n\u001B[1;32m----> 1\u001B[1;33m \u001B[0mmanager\u001B[0m\u001B[1;33m.\u001B[0m\u001B[0mgetCentralityMetricsDataFrame\u001B[0m\u001B[1;33m(\u001B[0m\u001B[1;34m\"degree\"\u001B[0m\u001B[1;33m)\u001B[0m\u001B[1;33m\u001B[0m\u001B[1;33m\u001B[0m\u001B[0m\n\u001B[0m",
      "\u001B[1;32m~\\Data_Science\\thesis\\elliptic_dataset_all_timesteps\\src\\AnalysisManager.py\u001B[0m in \u001B[0;36mgetCentralityMetricsDataFrame\u001B[1;34m(self, metric_name)\u001B[0m\n\u001B[0;32m    112\u001B[0m                     \u001B[0mmaximum_values\u001B[0m\u001B[1;33m.\u001B[0m\u001B[0mappend\u001B[0m\u001B[1;33m(\u001B[0m\u001B[0mself\u001B[0m\u001B[1;33m.\u001B[0m\u001B[0mnodes_characteristics\u001B[0m\u001B[1;33m[\u001B[0m\u001B[0mself\u001B[0m\u001B[1;33m.\u001B[0m\u001B[0mnodes_characteristics\u001B[0m\u001B[1;33m[\u001B[0m\u001B[1;34m\"class\"\u001B[0m\u001B[1;33m]\u001B[0m \u001B[1;33m==\u001B[0m \u001B[0mc\u001B[0m\u001B[1;33m]\u001B[0m\u001B[1;33m[\u001B[0m\u001B[1;33m{\u001B[0m\u001B[0mmetric_name\u001B[0m\u001B[1;33m}\u001B[0m\u001B[1;33m]\u001B[0m\u001B[1;33m.\u001B[0m\u001B[0mmax\u001B[0m\u001B[1;33m(\u001B[0m\u001B[1;33m)\u001B[0m\u001B[1;33m[\u001B[0m\u001B[1;36m0\u001B[0m\u001B[1;33m]\u001B[0m\u001B[1;33m)\u001B[0m\u001B[1;33m\u001B[0m\u001B[1;33m\u001B[0m\u001B[0m\n\u001B[0;32m    113\u001B[0m \u001B[1;33m\u001B[0m\u001B[0m\n\u001B[1;32m--> 114\u001B[1;33m         basic_statistics_df = pd.DataFrame([means, medians, standard_deviations, minimum_values, maximum_values],\n\u001B[0m\u001B[0;32m    115\u001B[0m                                            \u001B[0mcolumns\u001B[0m\u001B[1;33m=\u001B[0m\u001B[0mheader\u001B[0m\u001B[1;33m,\u001B[0m\u001B[1;33m\u001B[0m\u001B[1;33m\u001B[0m\u001B[0m\n\u001B[0;32m    116\u001B[0m                                            index=index_names)\n",
      "\u001B[1;32mc:\\users\\pstac\\appdata\\local\\programs\\python\\python39\\lib\\site-packages\\pandas\\core\\frame.py\u001B[0m in \u001B[0;36m__init__\u001B[1;34m(self, data, index, columns, dtype, copy)\u001B[0m\n\u001B[0;32m    568\u001B[0m                     \u001B[1;32mif\u001B[0m \u001B[0mis_named_tuple\u001B[0m\u001B[1;33m(\u001B[0m\u001B[0mdata\u001B[0m\u001B[1;33m[\u001B[0m\u001B[1;36m0\u001B[0m\u001B[1;33m]\u001B[0m\u001B[1;33m)\u001B[0m \u001B[1;32mand\u001B[0m \u001B[0mcolumns\u001B[0m \u001B[1;32mis\u001B[0m \u001B[1;32mNone\u001B[0m\u001B[1;33m:\u001B[0m\u001B[1;33m\u001B[0m\u001B[1;33m\u001B[0m\u001B[0m\n\u001B[0;32m    569\u001B[0m                         \u001B[0mcolumns\u001B[0m \u001B[1;33m=\u001B[0m \u001B[0mdata\u001B[0m\u001B[1;33m[\u001B[0m\u001B[1;36m0\u001B[0m\u001B[1;33m]\u001B[0m\u001B[1;33m.\u001B[0m\u001B[0m_fields\u001B[0m\u001B[1;33m\u001B[0m\u001B[1;33m\u001B[0m\u001B[0m\n\u001B[1;32m--> 570\u001B[1;33m                     \u001B[0marrays\u001B[0m\u001B[1;33m,\u001B[0m \u001B[0mcolumns\u001B[0m \u001B[1;33m=\u001B[0m \u001B[0mto_arrays\u001B[0m\u001B[1;33m(\u001B[0m\u001B[0mdata\u001B[0m\u001B[1;33m,\u001B[0m \u001B[0mcolumns\u001B[0m\u001B[1;33m,\u001B[0m \u001B[0mdtype\u001B[0m\u001B[1;33m=\u001B[0m\u001B[0mdtype\u001B[0m\u001B[1;33m)\u001B[0m\u001B[1;33m\u001B[0m\u001B[1;33m\u001B[0m\u001B[0m\n\u001B[0m\u001B[0;32m    571\u001B[0m                     \u001B[0mcolumns\u001B[0m \u001B[1;33m=\u001B[0m \u001B[0mensure_index\u001B[0m\u001B[1;33m(\u001B[0m\u001B[0mcolumns\u001B[0m\u001B[1;33m)\u001B[0m\u001B[1;33m\u001B[0m\u001B[1;33m\u001B[0m\u001B[0m\n\u001B[0;32m    572\u001B[0m \u001B[1;33m\u001B[0m\u001B[0m\n",
      "\u001B[1;32mc:\\users\\pstac\\appdata\\local\\programs\\python\\python39\\lib\\site-packages\\pandas\\core\\internals\\construction.py\u001B[0m in \u001B[0;36mto_arrays\u001B[1;34m(data, columns, coerce_float, dtype)\u001B[0m\n\u001B[0;32m    526\u001B[0m         \u001B[1;32mreturn\u001B[0m \u001B[1;33m[\u001B[0m\u001B[1;33m]\u001B[0m\u001B[1;33m,\u001B[0m \u001B[1;33m[\u001B[0m\u001B[1;33m]\u001B[0m  \u001B[1;31m# columns if columns is not None else []\u001B[0m\u001B[1;33m\u001B[0m\u001B[1;33m\u001B[0m\u001B[0m\n\u001B[0;32m    527\u001B[0m     \u001B[1;32mif\u001B[0m \u001B[0misinstance\u001B[0m\u001B[1;33m(\u001B[0m\u001B[0mdata\u001B[0m\u001B[1;33m[\u001B[0m\u001B[1;36m0\u001B[0m\u001B[1;33m]\u001B[0m\u001B[1;33m,\u001B[0m \u001B[1;33m(\u001B[0m\u001B[0mlist\u001B[0m\u001B[1;33m,\u001B[0m \u001B[0mtuple\u001B[0m\u001B[1;33m)\u001B[0m\u001B[1;33m)\u001B[0m\u001B[1;33m:\u001B[0m\u001B[1;33m\u001B[0m\u001B[1;33m\u001B[0m\u001B[0m\n\u001B[1;32m--> 528\u001B[1;33m         \u001B[1;32mreturn\u001B[0m \u001B[0m_list_to_arrays\u001B[0m\u001B[1;33m(\u001B[0m\u001B[0mdata\u001B[0m\u001B[1;33m,\u001B[0m \u001B[0mcolumns\u001B[0m\u001B[1;33m,\u001B[0m \u001B[0mcoerce_float\u001B[0m\u001B[1;33m=\u001B[0m\u001B[0mcoerce_float\u001B[0m\u001B[1;33m,\u001B[0m \u001B[0mdtype\u001B[0m\u001B[1;33m=\u001B[0m\u001B[0mdtype\u001B[0m\u001B[1;33m)\u001B[0m\u001B[1;33m\u001B[0m\u001B[1;33m\u001B[0m\u001B[0m\n\u001B[0m\u001B[0;32m    529\u001B[0m     \u001B[1;32melif\u001B[0m \u001B[0misinstance\u001B[0m\u001B[1;33m(\u001B[0m\u001B[0mdata\u001B[0m\u001B[1;33m[\u001B[0m\u001B[1;36m0\u001B[0m\u001B[1;33m]\u001B[0m\u001B[1;33m,\u001B[0m \u001B[0mabc\u001B[0m\u001B[1;33m.\u001B[0m\u001B[0mMapping\u001B[0m\u001B[1;33m)\u001B[0m\u001B[1;33m:\u001B[0m\u001B[1;33m\u001B[0m\u001B[1;33m\u001B[0m\u001B[0m\n\u001B[0;32m    530\u001B[0m         return _list_of_dict_to_arrays(\n",
      "\u001B[1;32mc:\\users\\pstac\\appdata\\local\\programs\\python\\python39\\lib\\site-packages\\pandas\\core\\internals\\construction.py\u001B[0m in \u001B[0;36m_list_to_arrays\u001B[1;34m(data, columns, coerce_float, dtype)\u001B[0m\n\u001B[0;32m    569\u001B[0m         \u001B[0mresult\u001B[0m \u001B[1;33m=\u001B[0m \u001B[0m_convert_object_array\u001B[0m\u001B[1;33m(\u001B[0m\u001B[0mcontent\u001B[0m\u001B[1;33m,\u001B[0m \u001B[0mdtype\u001B[0m\u001B[1;33m=\u001B[0m\u001B[0mdtype\u001B[0m\u001B[1;33m,\u001B[0m \u001B[0mcoerce_float\u001B[0m\u001B[1;33m=\u001B[0m\u001B[0mcoerce_float\u001B[0m\u001B[1;33m)\u001B[0m\u001B[1;33m\u001B[0m\u001B[1;33m\u001B[0m\u001B[0m\n\u001B[0;32m    570\u001B[0m     \u001B[1;32mexcept\u001B[0m \u001B[0mAssertionError\u001B[0m \u001B[1;32mas\u001B[0m \u001B[0me\u001B[0m\u001B[1;33m:\u001B[0m\u001B[1;33m\u001B[0m\u001B[1;33m\u001B[0m\u001B[0m\n\u001B[1;32m--> 571\u001B[1;33m         \u001B[1;32mraise\u001B[0m \u001B[0mValueError\u001B[0m\u001B[1;33m(\u001B[0m\u001B[0me\u001B[0m\u001B[1;33m)\u001B[0m \u001B[1;32mfrom\u001B[0m \u001B[0me\u001B[0m\u001B[1;33m\u001B[0m\u001B[1;33m\u001B[0m\u001B[0m\n\u001B[0m\u001B[0;32m    572\u001B[0m     \u001B[1;32mreturn\u001B[0m \u001B[0mresult\u001B[0m\u001B[1;33m,\u001B[0m \u001B[0mcolumns\u001B[0m\u001B[1;33m\u001B[0m\u001B[1;33m\u001B[0m\u001B[0m\n\u001B[0;32m    573\u001B[0m \u001B[1;33m\u001B[0m\u001B[0m\n",
      "\u001B[1;31mValueError\u001B[0m: 2 columns passed, passed data had 4 columns"
     ]
    }
   ],
   "source": [
    "manager.getCentralityMetricsDataFrame(\"degree\")"
   ]
  },
  {
   "cell_type": "code",
   "execution_count": null,
   "metadata": {
    "pycharm": {
     "name": "#%%\n"
    }
   },
   "outputs": [],
   "source": [
    "manager.getCentralityMetricsDataFrame(\"EigenvectorCentrality\")"
   ]
  },
  {
   "cell_type": "code",
   "execution_count": null,
   "metadata": {
    "pycharm": {
     "name": "#%%\n"
    }
   },
   "outputs": [],
   "source": [
    "manager.getCentralityMetricsDataFrame(\"PageRankScore\")"
   ]
  },
  {
   "cell_type": "code",
   "execution_count": null,
   "metadata": {
    "pycharm": {
     "name": "#%%\n"
    }
   },
   "outputs": [],
   "source": [
    "manager.getCentralityMetricsDataFrame(\"BetweennessScore\")"
   ]
  },
  {
   "cell_type": "code",
   "execution_count": null,
   "metadata": {
    "pycharm": {
     "name": "#%%\n"
    }
   },
   "outputs": [],
   "source": [
    "manager.plotGlobalCentralityMetricsDistribution(\"degree\")"
   ]
  },
  {
   "cell_type": "code",
   "execution_count": null,
   "metadata": {
    "pycharm": {
     "name": "#%%\n"
    }
   },
   "outputs": [],
   "source": [
    "manager.plotGlobalCentralityMetricsDistribution(\"EigenvectorCentrality\")"
   ]
  },
  {
   "cell_type": "code",
   "execution_count": null,
   "metadata": {
    "pycharm": {
     "name": "#%%\n"
    }
   },
   "outputs": [],
   "source": [
    "manager.plotGlobalCentralityMetricsDistribution(\"PageRankScore\")"
   ]
  },
  {
   "cell_type": "code",
   "execution_count": null,
   "metadata": {
    "pycharm": {
     "name": "#%%\n"
    }
   },
   "outputs": [],
   "source": [
    "manager.plotGlobalCentralityMetricsDistribution(\"BetweennessScore\")"
   ]
  },
  {
   "cell_type": "code",
   "execution_count": null,
   "metadata": {
    "pycharm": {
     "name": "#%%\n"
    }
   },
   "outputs": [],
   "source": [
    "manager.plotClassCentralityMetricsDistribution(\"degree\", [1,2,3], {1: \"illicit\", 2: \"licit\", 3: \"unknown\"}, show=True)"
   ]
  },
  {
   "cell_type": "code",
   "execution_count": null,
   "metadata": {
    "pycharm": {
     "name": "#%%\n"
    }
   },
   "outputs": [],
   "source": [
    "manager.plotClassCentralityMetricsDistribution(\"EigenvectorCentrality\", [1,2,3], {1: \"illicit\", 2: \"licit\", 3: \"unknown\"}, show=True)"
   ]
  },
  {
   "cell_type": "code",
   "execution_count": null,
   "metadata": {
    "pycharm": {
     "name": "#%%\n"
    }
   },
   "outputs": [],
   "source": [
    "manager.plotClassCentralityMetricsDistribution(\"PageRankScore\", [1,2,3], {1: \"illicit\", 2: \"licit\", 3: \"unknown\"}, show=True)"
   ]
  },
  {
   "cell_type": "code",
   "execution_count": null,
   "metadata": {
    "pycharm": {
     "name": "#%%\n"
    }
   },
   "outputs": [],
   "source": [
    "manager.plotClassCentralityMetricsDistribution(\"BetweennessScore\", [1,2,3], {1: \"illicit\", 2: \"licit\", 3: \"unknown\"}, show=True)"
   ]
  },
  {
   "cell_type": "markdown",
   "metadata": {
    "pycharm": {
     "name": "#%% md\n"
    }
   },
   "source": [
    "## Louvain Communities Analysis"
   ]
  },
  {
   "cell_type": "code",
   "execution_count": null,
   "metadata": {
    "pycharm": {
     "name": "#%%\n"
    }
   },
   "outputs": [],
   "source": [
    "def getClassesDistributionInAllCommunities(analysis_manager, save=False, output_directory=None):\n",
    "    communities_distribution = analysis_manager.getNodeClassesInCommunities().groupby(\"communityId\")[\"class\"].value_counts()\n",
    "    content = pd.DataFrame(communities_distribution)\n",
    "    content.columns = [\"frequency\"]\n",
    "    content = content.reset_index()\n",
    "\n",
    "    if save & (output_directory is not None):\n",
    "        try:\n",
    "            with open(f\"{output_directory}/classes_distribution_in_louvain_communities.txt\", 'w') as fh:\n",
    "                fh.write(f\"{content.to_string(header=True, index=True)}\\n\")\n",
    "\n",
    "        except Exception as e:\n",
    "            print(\"Saving the contents failed. Error message: %s\" % e)\n",
    "\n",
    "    return content\n",
    "\n",
    "def getSuspiciousCommunities(classes_distribution_in_communities):\n",
    "    \"\"\"\n",
    "    :param classes_distribution_in_communities: a dataframe containing all communities' IDs and all transaction classes.\n",
    "    :return: a dataframe of communities which can be considered suspicious, potentially a fraud ring.\n",
    "    \"\"\"\n",
    "    communities_illicit = classes_distribution_in_communities[classes_distribution_in_communities[\"class\"] == 1][\"communityId\"]\n",
    "    communities_illicit = pd.DataFrame(communities_illicit)\n",
    "    communities_illicit.columns = [\"communityId\"]\n",
    "    return communities_illicit\n",
    "\n",
    "def getClassesDistributionInSuspiciousCommunities(suspicious_communities, classes_distribution_in_communities):\n",
    "    return pd.merge(suspicious_communities, classes_distribution_in_communities, on=\"communityId\")"
   ]
  },
  {
   "cell_type": "code",
   "execution_count": null,
   "metadata": {
    "pycharm": {
     "name": "#%%\n"
    }
   },
   "outputs": [],
   "source": [
    "def getSuspiciousCommunitiesFlow(analysis_manager, suspicious_communities):\n",
    "\n",
    "    transactions_flow = None\n",
    "\n",
    "    classes_assigned = analysis_manager.getNodeClassesInCommunities()\n",
    "    node_ids = pd.merge(classes_assigned, suspicious_communities, on=\"communityId\")[\"id\"]\n",
    "    str1 = f\"{list(node_ids)}\"\n",
    "\n",
    "    try:\n",
    "        gds = GraphDataScience(\"bolt://localhost:7687\", auth=(\"neo4j\", \"elliptic\"))\n",
    "        transactions_flow = gds.run_cypher(\"MATCH (n:node)-[r:TRANSACTION]->(m:node) WHERE n.id IN %s RETURN n.id AS txId1, n.class AS txId1_class, r.cost AS weight, m.id AS txId2, m.class AS txId2_class\" % str1)\n",
    "        gds.close()\n",
    "    except Exception as e:\n",
    "        print(\"Error occurred. Check if the database is online. Error message: %s\" % e)\n",
    "\n",
    "    return transactions_flow"
   ]
  },
  {
   "cell_type": "markdown",
   "metadata": {
    "pycharm": {
     "name": "#%% md\n"
    }
   },
   "source": [
    "### Degree distribution in communities"
   ]
  },
  {
   "cell_type": "code",
   "execution_count": null,
   "metadata": {
    "pycharm": {
     "name": "#%%\n"
    }
   },
   "outputs": [],
   "source": [
    "communities = manager.detectLouvainCommunities()\n",
    "communities[\"id\"] = communities[\"id\"].astype(\"int64\")"
   ]
  },
  {
   "cell_type": "code",
   "execution_count": null,
   "metadata": {
    "pycharm": {
     "name": "#%%\n"
    }
   },
   "outputs": [],
   "source": [
    "nodes_class = node_metrics.getNodesClasses()\n",
    "nodes_class[\"id\"] = nodes_class[\"id\"].astype(\"int64\")"
   ]
  },
  {
   "cell_type": "code",
   "execution_count": null,
   "metadata": {
    "pycharm": {
     "name": "#%%\n"
    }
   },
   "outputs": [],
   "source": [
    "degree_distribution_in_communities = pd.merge(communities, degree_distribution, on=\"id\")\n",
    "degree_class_in_communities = pd.merge(degree_distribution_in_communities, nodes_class, on=\"id\")\n",
    "degree_class_in_communities[degree_class_in_communities[\"class\"] == 1]"
   ]
  },
  {
   "cell_type": "markdown",
   "metadata": {
    "pycharm": {
     "name": "#%% md\n"
    }
   },
   "source": [
    "### Transactions of each class - frequencies in communities"
   ]
  },
  {
   "cell_type": "code",
   "execution_count": null,
   "metadata": {
    "pycharm": {
     "name": "#%%\n"
    }
   },
   "outputs": [],
   "source": [
    "communities_classes_distribution = getClassesDistributionInAllCommunities(manager, save=True, output_directory=\"../\")\n",
    "suspicious_communities = getSuspiciousCommunities(communities_classes_distribution)\n",
    "getClassesDistributionInSuspiciousCommunities(suspicious_communities, communities_classes_distribution)"
   ]
  },
  {
   "cell_type": "markdown",
   "metadata": {
    "pycharm": {
     "name": "#%% md\n"
    }
   },
   "source": [
    "### Studying the transactions flow"
   ]
  },
  {
   "cell_type": "code",
   "execution_count": null,
   "metadata": {
    "pycharm": {
     "name": "#%%\n"
    }
   },
   "outputs": [],
   "source": [
    "transaction_flow_in_suspicious_communities = getSuspiciousCommunitiesFlow(manager,\n",
    "                                                                          suspicious_communities=suspicious_communities)"
   ]
  },
  {
   "cell_type": "markdown",
   "metadata": {
    "pycharm": {
     "name": "#%% md\n"
    }
   },
   "source": [
    "As seen below, because the transaction is directed from txId1 to txId2, we can see that illicit transactions changed their status, as their counts dropped for txId2 classes. The number of licit transactions (2) increased, the number of unknown class transaction decreased as well."
   ]
  },
  {
   "cell_type": "code",
   "execution_count": null,
   "metadata": {
    "pycharm": {
     "name": "#%%\n"
    }
   },
   "outputs": [],
   "source": [
    "def getTransactionsFlowDf(value_counts_transactions):\n",
    "    transactions_flow_df = pd.DataFrame(value_counts_transactions)\n",
    "    transactions_flow_df= transactions_flow_df.reset_index()\n",
    "    transactions_flow_df.columns = [\"transaction_class\", \"frequency\"]\n",
    "    return transactions_flow_df"
   ]
  },
  {
   "cell_type": "code",
   "execution_count": null,
   "metadata": {
    "pycharm": {
     "name": "#%%\n"
    }
   },
   "outputs": [],
   "source": [
    "flow_from = getTransactionsFlowDf(transaction_flow_in_suspicious_communities.txId1_class.value_counts())\n",
    "flow_from"
   ]
  },
  {
   "cell_type": "code",
   "execution_count": null,
   "metadata": {
    "pycharm": {
     "name": "#%%\n"
    }
   },
   "outputs": [],
   "source": [
    "flow_to = getTransactionsFlowDf(transaction_flow_in_suspicious_communities.txId2_class.value_counts())\n",
    "flow_to"
   ]
  },
  {
   "cell_type": "code",
   "execution_count": null,
   "metadata": {
    "pycharm": {
     "name": "#%%\n"
    }
   },
   "outputs": [],
   "source": [
    "def plotTransactionsFlowClasses(value_counts_transactions_flow1, value_counts_transactions_flow2):\n",
    "    fig, ax = plt.subplots(ncols=2, figsize=(8, 6))\n",
    "    sns.barplot(data=value_counts_transactions_flow1, x=\"transaction_class\", y=\"frequency\", ax=ax[0])\n",
    "    sns.barplot(data=value_counts_transactions_flow2, x=\"transaction_class\", y=\"frequency\", ax=ax[1])\n",
    "    ax[0].set_xlabel(\"Transaction class\", fontsize=12)\n",
    "    ax[1].set_xlabel(\"Transaction class\", fontsize=12)\n",
    "    ax[0].set_ylabel(\"Frequency\", fontsize=12)\n",
    "    ax[1].set_ylabel(\"Frequency\", fontsize=12)\n",
    "    ax[0].set_title(\"Transaction origin's entity\", fontsize=14)\n",
    "    ax[1].set_title(\"Transaction destination's entity\", fontsize=14)\n",
    "    plt.tight_layout()\n",
    "    plt.show()"
   ]
  },
  {
   "cell_type": "code",
   "execution_count": null,
   "metadata": {
    "pycharm": {
     "name": "#%%\n"
    }
   },
   "outputs": [],
   "source": [
    "plotTransactionsFlowClasses(flow_from, flow_to)"
   ]
  },
  {
   "cell_type": "code",
   "execution_count": null,
   "metadata": {
    "pycharm": {
     "name": "#%%\n"
    }
   },
   "outputs": [],
   "source": [
    "connector.close()"
   ]
  },
  {
   "cell_type": "markdown",
   "metadata": {
    "pycharm": {
     "name": "#%% md\n"
    }
   },
   "source": [
    "## Notes"
   ]
  },
  {
   "cell_type": "markdown",
   "metadata": {
    "pycharm": {
     "name": "#%% md\n"
    }
   },
   "source": [
    "The graph's suspicious communities were visualized using Neo4jBrowser. The query was generated using additional code which prints the list of node IDs from a list and puts that in a formatted string of Cypher query. It is as follows:"
   ]
  },
  {
   "cell_type": "code",
   "execution_count": null,
   "metadata": {
    "pycharm": {
     "name": "#%%\n"
    }
   },
   "outputs": [],
   "source": [
    "print(\"\"\"\n",
    "MATCH (n:node)-[r:TRANSACTION]-(m) WHERE n.id IN ['232438397', '230432611', '230966618', '230449513', '230449518', '232047899', '3877856', '230437700', '3851887', '3877118', '230645825', '230649124', '3912536', '230438845', '230433274', '230438854', '230432970', '230440348', '230433507', '3880017', '232046508', '232061267', '3880228', '230814630', '8427177', '92491280', '230433276', '232047924', '230969378', '232042915', '230433803', '232052547', '231999952', '5686988', '230418063', '14090056', '3875041', '230432972', '232043907', '230456717', '232000564', '232000563', '3878606', '196535269', '71367715', '230556037', '231028826', '16754007', '219821008', '232039868', '230645829', '230649107', '3878718', '3881930', '3876512', '230647320', '22179034', '71377346', '230452718', '230969249', '230965656', '230643073', '3880822', '3874438', '3875725', '231992251', '231036638', '3875136', '3878694', '205337217', '232012623', '3820257', '230439793', '3903408', '2773281', '232438575', '3882627', '232051672', '230451747', '1234524', '230645826', '231028597', '230645772', '35025113', '230432810', '71373717', '3877156', '71369010', '230645824', '231004407', '231043940', '230420813', '71372878', '230434027', '205336060', '230645823', '231035659', '230456719', '214640616', '27429546', '230619786', '230645830', '231029351', '3408003', '230432792', '230594531', '231035673', '231992576', '230451744', '232012314', '3404992', '231029330', '232042947', '230471948', '230455503', '230436131', '27553029', '230454327', '2717498', '27489574', '230451730', '230389796', '61429103', '10983754', '17387772', '230453424', '3876550', '230453435', '3874463', '230451734', '51033972', '230411688', '226892542', '88367753', '55649387', '230451742', '232047017', '3205536', '232658952', '232673081', '62195631', '231990423', '12971085', '230397187', '230550396', '14847524', '3880150', '4959428', '10437353', '232377112', '86842626', '232377111', '24141114', '2876295', '230418806', '230428367', '230456623', '232345690', '230459342', '230332417', '230456624', '230531648', '230456618', '230531645', '230456625', '122282643', '10039990', '230352707', '230456622', '219822791', '219856741', '232345697', '89913568', '232345694', '17796937', '230390966', '232345692', '230683551', '52603109', '230429077', '9846194', '80855903', '233775069', '13341989', '232431892', '232431896', '232956033', '28032183', '230645812', '232956030', '234442906', '232339923', '232956032', '230428191', '232956034', '230428187', '55349030', '24155910', '230565413', '230417093', '211053597', '232793876', '232956040', '232906328', '234442914', '230625240', '232629023', '231573972', '232875618', '232639918', '232679753', '3324508', '184703182', '230713915', '49929726', '232903605', '230552340', '230452813', '232000574', '232000573', '232009674', '232009676', '87603321', '15192868', '232680483', '230593221', '230593717', '2920818', '231990430', '28514956', '232036152', '230581464', '230449494', '230449500', '230336180', '231990435', '230454323', '18907280', '230612860', '195312780', '204236566', '230454338', '230454693', '230454028', '230454330', '88541341', '219841229', '232906976', '230454697', '230454703', '232040303', '10414141', '16753577', '3904474', '3317903', '232014513', '232014511', '232947878', '232947876', '230590935', '121536582', '29115494', '3762140', '232404334', '233599196', '233419547', '16742787', '3395080'] RETURN n, m\n",
    "\"\"\")"
   ]
  },
  {
   "cell_type": "code",
   "execution_count": null,
   "metadata": {
    "pycharm": {
     "name": "#%%\n"
    }
   },
   "outputs": [],
   "source": []
  }
 ],
 "metadata": {
  "kernelspec": {
   "display_name": "Python 3",
   "language": "python",
   "name": "python3"
  },
  "language_info": {
   "codemirror_mode": {
    "name": "ipython",
    "version": 3
   },
   "file_extension": ".py",
   "mimetype": "text/x-python",
   "name": "python",
   "nbconvert_exporter": "python",
   "pygments_lexer": "ipython3",
   "version": "3.9.2"
  }
 },
 "nbformat": 4,
 "nbformat_minor": 1
}