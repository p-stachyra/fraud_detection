{
 "cells": [
  {
   "cell_type": "markdown",
   "metadata": {
    "pycharm": {
     "name": "#%% md\n"
    }
   },
   "source": [
    "# Single timestep graph - Elliptic data set"
   ]
  },
  {
   "cell_type": "code",
   "execution_count": 1,
   "metadata": {
    "pycharm": {
     "name": "#%%\n"
    }
   },
   "outputs": [],
   "source": [
    "# global imports\n",
    "import matplotlib.pyplot as plt\n",
    "import networkx as nx\n",
    "import numpy as np\n",
    "import pandas as pd\n",
    "import powerlaw\n",
    "import seaborn as sns\n",
    "\n",
    "from graphdatascience import GraphDataScience\n",
    "from matplotlib.ticker import FormatStrFormatter\n",
    "from tqdm.notebook import tqdm\n",
    "\n",
    "# local imports\n",
    "from GraphBuilder import extractTimestepNodes, getTimestepEdgelist\n",
    "from AnalysisManager import AnalysisManager\n",
    "from NodeMetrics import NodeMetrics\n",
    "from GraphMetrics import GraphMetrics"
   ]
  },
  {
   "cell_type": "markdown",
   "metadata": {
    "pycharm": {
     "name": "#%% md\n"
    }
   },
   "source": [
    "#### Neo4j modules"
   ]
  },
  {
   "cell_type": "code",
   "execution_count": 2,
   "metadata": {
    "pycharm": {
     "name": "#%%\n"
    }
   },
   "outputs": [],
   "source": [
    "manager = AnalysisManager(\"neo4j\", \"elliptic\", \"../data\", outputs_base_location=\"../\")\n",
    "connector = GraphDataScience(\"bolt://localhost:7687\", auth=(\"neo4j\", \"elliptic\"))\n",
    "node_metrics = NodeMetrics(connector, \"elliptic\", \"node\", \"TRANSACTION\")\n",
    "graph_metrics = GraphMetrics(connector, \"elliptic\", \"node\", \"TRANSACTION\")"
   ]
  },
  {
   "cell_type": "markdown",
   "metadata": {
    "pycharm": {
     "name": "#%% md\n"
    }
   },
   "source": [
    "#### Networkx graph"
   ]
  },
  {
   "cell_type": "code",
   "execution_count": 3,
   "metadata": {
    "pycharm": {
     "name": "#%%\n"
    }
   },
   "outputs": [
    {
     "name": "stdout",
     "output_type": "stream",
     "text": [
      "Progress: 234355 / 234355\r"
     ]
    }
   ],
   "source": [
    "edgelist = pd.read_csv(\"../data/elliptic_txs_edgelist.csv\")\n",
    "transactions_features = pd.read_csv(\"../data/elliptic_txs_features.csv\", header=None)\n",
    "extracted_nodes = extractTimestepNodes(transactions_features, timestep=1)\n",
    "timestep_1_edgelist = getTimestepEdgelist(extracted_nodes, edgelist)\n",
    "graphtype = nx.DiGraph()\n",
    "graph = nx.from_pandas_edgelist(edgelist,\n",
    "                                source=\"txId1\",\n",
    "                                target=\"txId2\",\n",
    "                                create_using=graphtype)"
   ]
  },
  {
   "cell_type": "markdown",
   "metadata": {
    "pycharm": {
     "name": "#%% md\n"
    }
   },
   "source": [
    "### Functions related to working with Networkx library"
   ]
  },
  {
   "cell_type": "markdown",
   "metadata": {
    "pycharm": {
     "name": "#%% md\n"
    }
   },
   "source": [
    "Note on shortest paths"
   ]
  },
  {
   "cell_type": "markdown",
   "metadata": {
    "pycharm": {
     "name": "#%% md\n"
    }
   },
   "source": [
    "The shortest paths are determined using Networkx class static method shortest_path_length() which returns pairs of node ID and a dictionary containing all its neighbours IDs and path lengths to them. <br>\n",
    "In this case, the information is stored in a multidimensional array of heterogenious sizes of elements which store the origin node ID, destination node IDs and path lengths."
   ]
  },
  {
   "cell_type": "code",
   "execution_count": 4,
   "metadata": {
    "pycharm": {
     "name": "#%%\n"
    }
   },
   "outputs": [],
   "source": [
    "def getAllShortestPaths(graph):\n",
    "    all_shortest_paths = []\n",
    "    for (i,j) in nx.shortest_path_length(graph):\n",
    "        all_shortest_paths.append([i, list(j.keys()), np.array(list(j.values()))])\n",
    "    return all_shortest_paths"
   ]
  },
  {
   "cell_type": "code",
   "execution_count": 5,
   "metadata": {
    "pycharm": {
     "name": "#%%\n"
    }
   },
   "outputs": [],
   "source": [
    "def getMeanOfShortestPaths(shortest_paths):\n",
    "    summed_lengths = 0\n",
    "    number_of_paths = 0\n",
    "    for i in range(len(shortest_paths)):\n",
    "        summed_lengths += (shortest_paths[i][2].sum())\n",
    "        number_of_paths += sum(shortest_paths[i][2] != 0)\n",
    "\n",
    "    return summed_lengths / number_of_paths"
   ]
  },
  {
   "cell_type": "code",
   "execution_count": 6,
   "metadata": {
    "pycharm": {
     "name": "#%%\n"
    }
   },
   "outputs": [],
   "source": [
    "def getMedianOfShortestPaths(shortest_paths):\n",
    "    all_paths_lengths = []\n",
    "    for i in range(len(shortest_paths)):\n",
    "        for path_length in shortest_paths[i][2]:\n",
    "            all_paths_lengths.append(path_length)\n",
    "    all_paths_lengths = pd.Series(np.array(all_paths_lengths))\n",
    "    return all_paths_lengths.median()"
   ]
  },
  {
   "cell_type": "code",
   "execution_count": 7,
   "metadata": {
    "pycharm": {
     "name": "#%%\n"
    }
   },
   "outputs": [],
   "source": [
    "def getDiameter(shortest_paths):\n",
    "    all_paths_lengths = []\n",
    "    for i in range(len(shortest_paths)):\n",
    "        for path_length in shortest_paths[i][2]:\n",
    "            all_paths_lengths.append(path_length)\n",
    "    all_paths_lengths = pd.Series(np.array(all_paths_lengths))\n",
    "    return all_paths_lengths.max()"
   ]
  },
  {
   "cell_type": "code",
   "execution_count": 8,
   "metadata": {
    "pycharm": {
     "name": "#%%\n"
    }
   },
   "outputs": [],
   "source": [
    "def getDegreeDistribution(connector, nodes_and_classes):\n",
    "    nodes = nodes_and_classes[\"id\"]\n",
    "    degree_df = None\n",
    "    for node in tqdm(nodes):\n",
    "        try:\n",
    "            results_in_degree = connector.run_cypher(\"\"\"\n",
    "                            MATCH (n:node)<-[r:TRANSACTION]-(m:node)\n",
    "                            WHERE n.id = '%s'\n",
    "                            RETURN n.id AS id, count(m) AS in_degree\n",
    "                            \"\"\" % node)\n",
    "            results_out_degree = connector.run_cypher(\"\"\"\n",
    "                            MATCH (n:node)-[r:TRANSACTION]->(m:node)\n",
    "                            WHERE n.id = '%s'\n",
    "                            RETURN n.id AS id, count(m) AS out_degree\n",
    "                            \"\"\" % node)\n",
    "\n",
    "            merged = pd.merge(results_in_degree, results_out_degree, on=\"id\", how=\"outer\")\n",
    "\n",
    "            if degree_df is None:\n",
    "                degree_df = merged\n",
    "            else:\n",
    "                degree_df = pd.concat([degree_df, merged], axis=0)\n",
    "        except:\n",
    "            continue\n",
    "\n",
    "    return degree_df.fillna(0)"
   ]
  },
  {
   "cell_type": "markdown",
   "metadata": {
    "pycharm": {
     "name": "#%% md\n"
    }
   },
   "source": [
    "## Large-scale Network Properties"
   ]
  },
  {
   "cell_type": "code",
   "execution_count": 9,
   "metadata": {
    "pycharm": {
     "name": "#%%\n"
    }
   },
   "outputs": [],
   "source": [
    "nodes_classes = node_metrics.getNodesClasses()"
   ]
  },
  {
   "cell_type": "code",
   "execution_count": 10,
   "metadata": {
    "pycharm": {
     "name": "#%%\n"
    }
   },
   "outputs": [
    {
     "data": {
      "application/vnd.jupyter.widget-view+json": {
       "model_id": "6998ae1e6ddf42fa9ebfb3e3095053cd",
       "version_major": 2,
       "version_minor": 0
      },
      "text/plain": [
       "  0%|          | 0/7880 [00:00<?, ?it/s]"
      ]
     },
     "metadata": {},
     "output_type": "display_data"
    }
   ],
   "source": [
    "degree_distribution_df = getDegreeDistribution(connector=connector, nodes_and_classes=nodes_classes)"
   ]
  },
  {
   "cell_type": "code",
   "execution_count": 11,
   "metadata": {
    "pycharm": {
     "name": "#%%\n"
    }
   },
   "outputs": [],
   "source": [
    "column_names = [\"Type\", \"n\", \"m\", \"c\", \"S\", \"l\", \"alpha_in\", \"alpha_out\", \"C\"]\n",
    "properties = [\"Directed\"]"
   ]
  },
  {
   "cell_type": "markdown",
   "metadata": {
    "pycharm": {
     "name": "#%% md\n"
    }
   },
   "source": [
    "Number of nodes"
   ]
  },
  {
   "cell_type": "code",
   "execution_count": 12,
   "metadata": {
    "pycharm": {
     "name": "#%%\n"
    }
   },
   "outputs": [
    {
     "name": "stdout",
     "output_type": "stream",
     "text": [
      "7880\n"
     ]
    }
   ],
   "source": [
    "n = graph_metrics.getGraphSize()\n",
    "properties.append(n)\n",
    "print(n)"
   ]
  },
  {
   "cell_type": "markdown",
   "metadata": {
    "pycharm": {
     "name": "#%% md\n"
    }
   },
   "source": [
    "Number of edges"
   ]
  },
  {
   "cell_type": "code",
   "execution_count": 13,
   "metadata": {
    "pycharm": {
     "name": "#%%\n"
    }
   },
   "outputs": [
    {
     "name": "stdout",
     "output_type": "stream",
     "text": [
      "9164\n"
     ]
    }
   ],
   "source": [
    "m = graph_metrics.getNumberOfEdges().values[0][0]\n",
    "properties.append(m)\n",
    "print(m)"
   ]
  },
  {
   "cell_type": "markdown",
   "metadata": {
    "pycharm": {
     "name": "#%% md\n"
    }
   },
   "source": [
    "Mean degree"
   ]
  },
  {
   "cell_type": "code",
   "execution_count": 14,
   "metadata": {
    "pycharm": {
     "name": "#%%\n"
    }
   },
   "outputs": [
    {
     "name": "stdout",
     "output_type": "stream",
     "text": [
      "2.3258883248730964\n"
     ]
    }
   ],
   "source": [
    "c = 2 * m / n\n",
    "properties.append(c)\n",
    "print(c)"
   ]
  },
  {
   "cell_type": "markdown",
   "metadata": {
    "pycharm": {
     "name": "#%% md\n"
    }
   },
   "source": [
    "Fraction of nodes in the giant component (the largest component)"
   ]
  },
  {
   "cell_type": "code",
   "execution_count": 15,
   "metadata": {
    "pycharm": {
     "name": "#%%\n"
    }
   },
   "outputs": [
    {
     "name": "stdout",
     "output_type": "stream",
     "text": [
      "1.0\n"
     ]
    }
   ],
   "source": [
    "fractions = pd.DataFrame(graph_metrics.getFractionsWeaklyConnectedComponents())\n",
    "fractions = fractions.reset_index()\n",
    "fractions.columns = [\"componentId\", \"fraction_of_nodes\"]\n",
    "S = fractions[fractions[\"fraction_of_nodes\"] == fractions[\"fraction_of_nodes\"].max()][\"fraction_of_nodes\"][0]\n",
    "properties.append(S)\n",
    "print(S)"
   ]
  },
  {
   "cell_type": "markdown",
   "metadata": {
    "pycharm": {
     "name": "#%% md\n"
    }
   },
   "source": [
    "Mean distance between connected node pairs"
   ]
  },
  {
   "cell_type": "code",
   "execution_count": 16,
   "metadata": {
    "pycharm": {
     "name": "#%%\n"
    }
   },
   "outputs": [
    {
     "name": "stdout",
     "output_type": "stream",
     "text": [
      "129.80861706805788\n"
     ]
    }
   ],
   "source": [
    "l = getMeanOfShortestPaths(getAllShortestPaths(graph=graph))\n",
    "properties.append(l)\n",
    "print(l)"
   ]
  },
  {
   "cell_type": "markdown",
   "metadata": {
    "pycharm": {
     "name": "#%% md\n"
    }
   },
   "source": [
    "Exponent alpha"
   ]
  },
  {
   "cell_type": "code",
   "execution_count": 17,
   "metadata": {
    "pycharm": {
     "name": "#%%\n"
    }
   },
   "outputs": [
    {
     "name": "stdout",
     "output_type": "stream",
     "text": [
      "1      5051\n",
      "0      1696\n",
      "2       840\n",
      "3       114\n",
      "4        69\n",
      "5        28\n",
      "7        15\n",
      "6        15\n",
      "8         7\n",
      "11        5\n",
      "10        4\n",
      "19        4\n",
      "12        3\n",
      "9         3\n",
      "15        3\n",
      "17        2\n",
      "21        2\n",
      "49        2\n",
      "28        2\n",
      "18        2\n",
      "160       1\n",
      "59        1\n",
      "31        1\n",
      "23        1\n",
      "22        1\n",
      "134       1\n",
      "106       1\n",
      "26        1\n",
      "40        1\n",
      "14        1\n",
      "24        1\n",
      "97        1\n",
      "143       1\n",
      "Name: in_degree, dtype: int64\n",
      "1      4693\n",
      "2      1883\n",
      "0      1208\n",
      "3        53\n",
      "4        19\n",
      "6         6\n",
      "5         5\n",
      "7         5\n",
      "9         2\n",
      "11        2\n",
      "8         1\n",
      "28        1\n",
      "288       1\n",
      "10        1\n",
      "Name: out_degree, dtype: int64\n",
      "Calculating best minimal value for power law fit\n",
      "Calculating best minimal value for power law fit\n",
      "xmin progress: 91%\r"
     ]
    },
    {
     "name": "stderr",
     "output_type": "stream",
     "text": [
      "Values less than or equal to 0 in data. Throwing out 0 or negative values\n",
      "Values less than or equal to 0 in data. Throwing out 0 or negative values\n"
     ]
    }
   ],
   "source": [
    "print(degree_distribution_df[\"in_degree\"].value_counts())\n",
    "print(degree_distribution_df[\"out_degree\"].value_counts())\n",
    "x1 = degree_distribution_df[\"in_degree\"].values\n",
    "x2 = degree_distribution_df[\"out_degree\"].values\n",
    "data1 = powerlaw.Fit(x1)\n",
    "data2 = powerlaw.Fit(x2)\n",
    "properties.append(data1.alpha)\n",
    "properties.append(data2.alpha)"
   ]
  },
  {
   "cell_type": "code",
   "execution_count": 18,
   "metadata": {
    "pycharm": {
     "name": "#%%\n"
    }
   },
   "outputs": [
    {
     "name": "stdout",
     "output_type": "stream",
     "text": [
      "2.921353729053532\n",
      "29.63192774380923\n"
     ]
    }
   ],
   "source": [
    "print(data1.alpha)\n",
    "print(data2.alpha)"
   ]
  },
  {
   "cell_type": "markdown",
   "metadata": {
    "pycharm": {
     "name": "#%% md\n"
    }
   },
   "source": [
    "Mean clustering coefficient"
   ]
  },
  {
   "cell_type": "code",
   "execution_count": 19,
   "metadata": {
    "pycharm": {
     "name": "#%%\n"
    }
   },
   "outputs": [
    {
     "name": "stdout",
     "output_type": "stream",
     "text": [
      "0.0161683011464482\n"
     ]
    }
   ],
   "source": [
    "local_clustering_coefficients = node_metrics.getClusteringCoefficient()\n",
    "C = local_clustering_coefficients[\"localClusteringCoefficient\"].mean()\n",
    "properties.append(C)\n",
    "print(C)"
   ]
  },
  {
   "cell_type": "code",
   "execution_count": 20,
   "metadata": {
    "pycharm": {
     "name": "#%%\n"
    }
   },
   "outputs": [
    {
     "data": {
      "text/html": [
       "<div>\n",
       "<style scoped>\n",
       "    .dataframe tbody tr th:only-of-type {\n",
       "        vertical-align: middle;\n",
       "    }\n",
       "\n",
       "    .dataframe tbody tr th {\n",
       "        vertical-align: top;\n",
       "    }\n",
       "\n",
       "    .dataframe thead th {\n",
       "        text-align: right;\n",
       "    }\n",
       "</style>\n",
       "<table border=\"1\" class=\"dataframe\">\n",
       "  <thead>\n",
       "    <tr style=\"text-align: right;\">\n",
       "      <th></th>\n",
       "      <th>Type</th>\n",
       "      <th>n</th>\n",
       "      <th>m</th>\n",
       "      <th>c</th>\n",
       "      <th>S</th>\n",
       "      <th>l</th>\n",
       "      <th>alpha_in</th>\n",
       "      <th>alpha_out</th>\n",
       "      <th>C</th>\n",
       "    </tr>\n",
       "  </thead>\n",
       "  <tbody>\n",
       "    <tr>\n",
       "      <th>0</th>\n",
       "      <td>Directed</td>\n",
       "      <td>7880</td>\n",
       "      <td>9164</td>\n",
       "      <td>2.325888</td>\n",
       "      <td>1.0</td>\n",
       "      <td>129.808617</td>\n",
       "      <td>2.921354</td>\n",
       "      <td>29.631928</td>\n",
       "      <td>0.016168</td>\n",
       "    </tr>\n",
       "  </tbody>\n",
       "</table>\n",
       "</div>"
      ],
      "text/plain": [
       "       Type     n     m         c    S           l  alpha_in  alpha_out  \\\n",
       "0  Directed  7880  9164  2.325888  1.0  129.808617  2.921354  29.631928   \n",
       "\n",
       "          C  \n",
       "0  0.016168  "
      ]
     },
     "execution_count": 20,
     "metadata": {},
     "output_type": "execute_result"
    }
   ],
   "source": [
    "large_scale_structure_df = pd.DataFrame([properties])\n",
    "large_scale_structure_df.columns = column_names\n",
    "large_scale_structure_df.to_csv(\"../graph_large_scale_properties.csv\")\n",
    "large_scale_structure_df"
   ]
  },
  {
   "cell_type": "markdown",
   "metadata": {
    "pycharm": {
     "name": "#%% md\n"
    }
   },
   "source": [
    "### Additional properties"
   ]
  },
  {
   "cell_type": "markdown",
   "metadata": {
    "pycharm": {
     "name": "#%% md\n"
    }
   },
   "source": [
    "Density"
   ]
  },
  {
   "cell_type": "code",
   "execution_count": 21,
   "metadata": {
    "pycharm": {
     "name": "#%%\n"
    }
   },
   "outputs": [
    {
     "name": "stdout",
     "output_type": "stream",
     "text": [
      "0.00029520095505433387\n"
     ]
    }
   ],
   "source": [
    "rho = (2 * m) / (n * (n - 1))\n",
    "print(rho)"
   ]
  },
  {
   "cell_type": "markdown",
   "metadata": {
    "pycharm": {
     "name": "#%% md\n"
    }
   },
   "source": [
    "Number of strongly connected components"
   ]
  },
  {
   "cell_type": "code",
   "execution_count": 22,
   "metadata": {
    "pycharm": {
     "name": "#%%\n"
    }
   },
   "outputs": [
    {
     "data": {
      "text/plain": [
       "7880"
      ]
     },
     "execution_count": 22,
     "metadata": {},
     "output_type": "execute_result"
    }
   ],
   "source": [
    "len(graph_metrics.getFractionsStronglyConnectedComponents())"
   ]
  },
  {
   "cell_type": "markdown",
   "metadata": {
    "pycharm": {
     "name": "#%% md\n"
    }
   },
   "source": [
    "Number of weakly connected components"
   ]
  },
  {
   "cell_type": "code",
   "execution_count": 23,
   "metadata": {
    "pycharm": {
     "name": "#%%\n"
    }
   },
   "outputs": [
    {
     "data": {
      "text/plain": [
       "1"
      ]
     },
     "execution_count": 23,
     "metadata": {},
     "output_type": "execute_result"
    }
   ],
   "source": [
    "len(graph_metrics.getFractionsWeaklyConnectedComponents())"
   ]
  },
  {
   "cell_type": "markdown",
   "metadata": {
    "pycharm": {
     "name": "#%% md\n"
    }
   },
   "source": [
    "Graph's diameter"
   ]
  },
  {
   "cell_type": "code",
   "execution_count": 24,
   "metadata": {
    "pycharm": {
     "name": "#%%\n"
    }
   },
   "outputs": [],
   "source": [
    "path_lengths = {}\n",
    "all_shortest_paths = getAllShortestPaths(graph)\n",
    "for i in range(len(all_shortest_paths)):\n",
    "    for path in all_shortest_paths[i][2]:\n",
    "        if path in path_lengths.keys():\n",
    "            path_lengths[path] += 1\n",
    "        else:\n",
    "            path_lengths[path] = 1"
   ]
  },
  {
   "cell_type": "code",
   "execution_count": 25,
   "metadata": {
    "pycharm": {
     "name": "#%%\n"
    }
   },
   "outputs": [
    {
     "data": {
      "text/plain": [
       "{0: 203769,\n",
       " 1: 234355,\n",
       " 2: 236004,\n",
       " 3: 226259,\n",
       " 4: 184091,\n",
       " 5: 143324,\n",
       " 6: 117486,\n",
       " 7: 99756,\n",
       " 8: 87182,\n",
       " 9: 78939,\n",
       " 10: 72810,\n",
       " 11: 67606,\n",
       " 12: 63521,\n",
       " 13: 60644,\n",
       " 14: 57901,\n",
       " 15: 55580,\n",
       " 16: 53342,\n",
       " 17: 51355,\n",
       " 18: 49183,\n",
       " 19: 47447,\n",
       " 20: 45971,\n",
       " 21: 44521,\n",
       " 22: 43297,\n",
       " 23: 41925,\n",
       " 24: 40589,\n",
       " 25: 39442,\n",
       " 26: 38368,\n",
       " 27: 37339,\n",
       " 28: 36507,\n",
       " 29: 35653,\n",
       " 30: 34870,\n",
       " 31: 34095,\n",
       " 32: 33329,\n",
       " 33: 32641,\n",
       " 34: 31952,\n",
       " 35: 31272,\n",
       " 36: 30692,\n",
       " 37: 30120,\n",
       " 38: 29579,\n",
       " 39: 28990,\n",
       " 40: 28386,\n",
       " 41: 27813,\n",
       " 42: 27265,\n",
       " 43: 26703,\n",
       " 44: 26198,\n",
       " 45: 25690,\n",
       " 46: 25199,\n",
       " 47: 24726,\n",
       " 48: 24244,\n",
       " 49: 23726,\n",
       " 50: 23247,\n",
       " 51: 22832,\n",
       " 52: 22394,\n",
       " 53: 21984,\n",
       " 54: 21603,\n",
       " 55: 21239,\n",
       " 56: 20870,\n",
       " 57: 20492,\n",
       " 58: 20119,\n",
       " 59: 19777,\n",
       " 60: 19409,\n",
       " 61: 19055,\n",
       " 62: 18724,\n",
       " 63: 18388,\n",
       " 64: 18048,\n",
       " 65: 17735,\n",
       " 66: 17396,\n",
       " 67: 17071,\n",
       " 68: 16795,\n",
       " 69: 16493,\n",
       " 70: 16223,\n",
       " 71: 15960,\n",
       " 72: 15687,\n",
       " 73: 15434,\n",
       " 74: 15192,\n",
       " 75: 14953,\n",
       " 76: 14699,\n",
       " 77: 14459,\n",
       " 78: 14244,\n",
       " 79: 14020,\n",
       " 80: 13799,\n",
       " 81: 13579,\n",
       " 82: 13380,\n",
       " 83: 13172,\n",
       " 84: 12988,\n",
       " 85: 12788,\n",
       " 86: 12589,\n",
       " 87: 12415,\n",
       " 88: 12235,\n",
       " 89: 12070,\n",
       " 90: 11906,\n",
       " 91: 11740,\n",
       " 92: 11584,\n",
       " 93: 11426,\n",
       " 94: 11268,\n",
       " 95: 11102,\n",
       " 96: 10957,\n",
       " 97: 10811,\n",
       " 98: 10670,\n",
       " 99: 10540,\n",
       " 100: 10420,\n",
       " 101: 10306,\n",
       " 102: 10189,\n",
       " 103: 10069,\n",
       " 104: 9940,\n",
       " 105: 9814,\n",
       " 106: 9706,\n",
       " 107: 9596,\n",
       " 108: 9498,\n",
       " 109: 9402,\n",
       " 110: 9303,\n",
       " 111: 9207,\n",
       " 112: 9106,\n",
       " 113: 9013,\n",
       " 114: 8924,\n",
       " 115: 8835,\n",
       " 116: 8750,\n",
       " 117: 8668,\n",
       " 118: 8583,\n",
       " 119: 8501,\n",
       " 120: 8415,\n",
       " 121: 8335,\n",
       " 122: 8254,\n",
       " 123: 8166,\n",
       " 124: 8081,\n",
       " 125: 8003,\n",
       " 126: 7924,\n",
       " 127: 7849,\n",
       " 128: 7777,\n",
       " 129: 7705,\n",
       " 130: 7636,\n",
       " 131: 7566,\n",
       " 132: 7496,\n",
       " 133: 7422,\n",
       " 134: 7353,\n",
       " 135: 7281,\n",
       " 136: 7209,\n",
       " 137: 7139,\n",
       " 138: 7075,\n",
       " 139: 7010,\n",
       " 140: 6948,\n",
       " 141: 6889,\n",
       " 142: 6835,\n",
       " 143: 6778,\n",
       " 144: 6726,\n",
       " 145: 6670,\n",
       " 146: 6616,\n",
       " 147: 6564,\n",
       " 148: 6507,\n",
       " 149: 6452,\n",
       " 150: 6396,\n",
       " 151: 6347,\n",
       " 152: 6295,\n",
       " 153: 6248,\n",
       " 154: 6203,\n",
       " 155: 6161,\n",
       " 156: 6121,\n",
       " 157: 6082,\n",
       " 158: 6042,\n",
       " 159: 6001,\n",
       " 160: 5958,\n",
       " 161: 5916,\n",
       " 162: 5868,\n",
       " 163: 5816,\n",
       " 164: 5772,\n",
       " 165: 5723,\n",
       " 166: 5676,\n",
       " 167: 5629,\n",
       " 168: 5582,\n",
       " 169: 5534,\n",
       " 170: 5490,\n",
       " 171: 5449,\n",
       " 172: 5409,\n",
       " 173: 5368,\n",
       " 174: 5327,\n",
       " 175: 5287,\n",
       " 176: 5252,\n",
       " 177: 5216,\n",
       " 178: 5182,\n",
       " 179: 5149,\n",
       " 180: 5116,\n",
       " 181: 5083,\n",
       " 182: 5052,\n",
       " 183: 5019,\n",
       " 184: 4988,\n",
       " 185: 4957,\n",
       " 186: 4927,\n",
       " 187: 4895,\n",
       " 188: 4864,\n",
       " 189: 4834,\n",
       " 190: 4804,\n",
       " 191: 4776,\n",
       " 192: 4748,\n",
       " 193: 4720,\n",
       " 194: 4692,\n",
       " 195: 4660,\n",
       " 196: 4632,\n",
       " 197: 4605,\n",
       " 198: 4579,\n",
       " 199: 4554,\n",
       " 200: 4533,\n",
       " 201: 4510,\n",
       " 202: 4490,\n",
       " 203: 4469,\n",
       " 204: 4448,\n",
       " 205: 4431,\n",
       " 206: 4409,\n",
       " 207: 4389,\n",
       " 208: 4369,\n",
       " 209: 4349,\n",
       " 210: 4326,\n",
       " 211: 4306,\n",
       " 212: 4286,\n",
       " 213: 4269,\n",
       " 214: 4252,\n",
       " 215: 4235,\n",
       " 216: 4218,\n",
       " 217: 4201,\n",
       " 218: 4183,\n",
       " 219: 4167,\n",
       " 220: 4152,\n",
       " 221: 4135,\n",
       " 222: 4118,\n",
       " 223: 4103,\n",
       " 224: 4086,\n",
       " 225: 4071,\n",
       " 226: 4058,\n",
       " 227: 4043,\n",
       " 228: 4027,\n",
       " 229: 4013,\n",
       " 230: 4000,\n",
       " 231: 3986,\n",
       " 232: 3974,\n",
       " 233: 3960,\n",
       " 234: 3947,\n",
       " 235: 3933,\n",
       " 236: 3918,\n",
       " 237: 3903,\n",
       " 238: 3889,\n",
       " 239: 3876,\n",
       " 240: 3862,\n",
       " 241: 3849,\n",
       " 242: 3838,\n",
       " 243: 3827,\n",
       " 244: 3815,\n",
       " 245: 3802,\n",
       " 246: 3791,\n",
       " 247: 3778,\n",
       " 248: 3766,\n",
       " 249: 3753,\n",
       " 250: 3741,\n",
       " 251: 3729,\n",
       " 252: 3717,\n",
       " 253: 3704,\n",
       " 254: 3692,\n",
       " 255: 3677,\n",
       " 256: 3665,\n",
       " 257: 3653,\n",
       " 258: 3639,\n",
       " 259: 3626,\n",
       " 260: 3614,\n",
       " 261: 3603,\n",
       " 262: 3590,\n",
       " 263: 3577,\n",
       " 264: 3565,\n",
       " 265: 3553,\n",
       " 266: 3542,\n",
       " 267: 3530,\n",
       " 268: 3517,\n",
       " 269: 3506,\n",
       " 270: 3494,\n",
       " 271: 3481,\n",
       " 272: 3468,\n",
       " 273: 3455,\n",
       " 274: 3443,\n",
       " 275: 3430,\n",
       " 276: 3416,\n",
       " 277: 3402,\n",
       " 278: 3389,\n",
       " 279: 3377,\n",
       " 280: 3366,\n",
       " 281: 3355,\n",
       " 282: 3343,\n",
       " 283: 3333,\n",
       " 284: 3322,\n",
       " 285: 3311,\n",
       " 286: 3299,\n",
       " 287: 3287,\n",
       " 288: 3277,\n",
       " 289: 3266,\n",
       " 290: 3256,\n",
       " 291: 3246,\n",
       " 292: 3235,\n",
       " 293: 3225,\n",
       " 294: 3214,\n",
       " 295: 3204,\n",
       " 296: 3194,\n",
       " 297: 3183,\n",
       " 298: 3172,\n",
       " 299: 3162,\n",
       " 300: 3152,\n",
       " 301: 3142,\n",
       " 302: 3130,\n",
       " 303: 3119,\n",
       " 304: 3109,\n",
       " 305: 3098,\n",
       " 306: 3087,\n",
       " 307: 3077,\n",
       " 308: 3067,\n",
       " 309: 3057,\n",
       " 310: 3047,\n",
       " 311: 3037,\n",
       " 312: 3025,\n",
       " 313: 3015,\n",
       " 314: 3004,\n",
       " 315: 2994,\n",
       " 316: 2983,\n",
       " 317: 2971,\n",
       " 318: 2962,\n",
       " 319: 2951,\n",
       " 320: 2943,\n",
       " 321: 2935,\n",
       " 322: 2927,\n",
       " 323: 2919,\n",
       " 324: 2911,\n",
       " 325: 2902,\n",
       " 326: 2893,\n",
       " 327: 2882,\n",
       " 328: 2873,\n",
       " 329: 2865,\n",
       " 330: 2857,\n",
       " 331: 2849,\n",
       " 332: 2840,\n",
       " 333: 2832,\n",
       " 334: 2823,\n",
       " 335: 2814,\n",
       " 336: 2805,\n",
       " 337: 2794,\n",
       " 338: 2785,\n",
       " 339: 2776,\n",
       " 340: 2768,\n",
       " 341: 2760,\n",
       " 342: 2750,\n",
       " 343: 2741,\n",
       " 344: 2732,\n",
       " 345: 2723,\n",
       " 346: 2714,\n",
       " 347: 2706,\n",
       " 348: 2697,\n",
       " 349: 2689,\n",
       " 350: 2681,\n",
       " 351: 2673,\n",
       " 352: 2664,\n",
       " 353: 2654,\n",
       " 354: 2645,\n",
       " 355: 2636,\n",
       " 356: 2626,\n",
       " 357: 2616,\n",
       " 358: 2608,\n",
       " 359: 2599,\n",
       " 360: 2590,\n",
       " 361: 2582,\n",
       " 362: 2573,\n",
       " 363: 2565,\n",
       " 364: 2556,\n",
       " 365: 2549,\n",
       " 366: 2542,\n",
       " 367: 2535,\n",
       " 368: 2528,\n",
       " 369: 2521,\n",
       " 370: 2514,\n",
       " 371: 2507,\n",
       " 372: 2500,\n",
       " 373: 2493,\n",
       " 374: 2485,\n",
       " 375: 2479,\n",
       " 376: 2471,\n",
       " 377: 2464,\n",
       " 378: 2458,\n",
       " 379: 2451,\n",
       " 380: 2445,\n",
       " 381: 2439,\n",
       " 382: 2432,\n",
       " 383: 2426,\n",
       " 384: 2419,\n",
       " 385: 2413,\n",
       " 386: 2407,\n",
       " 387: 2400,\n",
       " 388: 2394,\n",
       " 389: 2388,\n",
       " 390: 2381,\n",
       " 391: 2374,\n",
       " 392: 2368,\n",
       " 393: 2362,\n",
       " 394: 2355,\n",
       " 395: 2347,\n",
       " 396: 2338,\n",
       " 397: 2328,\n",
       " 398: 2321,\n",
       " 399: 2313,\n",
       " 400: 2305,\n",
       " 401: 2296,\n",
       " 402: 2289,\n",
       " 403: 2283,\n",
       " 404: 2276,\n",
       " 405: 2269,\n",
       " 406: 2261,\n",
       " 407: 2255,\n",
       " 408: 2247,\n",
       " 409: 2241,\n",
       " 410: 2235,\n",
       " 411: 2229,\n",
       " 412: 2221,\n",
       " 413: 2213,\n",
       " 414: 2207,\n",
       " 415: 2199,\n",
       " 416: 2192,\n",
       " 417: 2185,\n",
       " 418: 2177,\n",
       " 419: 2171,\n",
       " 420: 2165,\n",
       " 421: 2159,\n",
       " 422: 2153,\n",
       " 423: 2147,\n",
       " 424: 2140,\n",
       " 425: 2133,\n",
       " 426: 2127,\n",
       " 427: 2121,\n",
       " 428: 2114,\n",
       " 429: 2108,\n",
       " 430: 2102,\n",
       " 431: 2096,\n",
       " 432: 2089,\n",
       " 433: 2083,\n",
       " 434: 2076,\n",
       " 435: 2070,\n",
       " 436: 2064,\n",
       " 437: 2057,\n",
       " 438: 2051,\n",
       " 439: 2045,\n",
       " 440: 2039,\n",
       " 441: 2033,\n",
       " 442: 2026,\n",
       " 443: 2020,\n",
       " 444: 2014,\n",
       " 445: 2008,\n",
       " 446: 2001,\n",
       " 447: 1995,\n",
       " 448: 1988,\n",
       " 449: 1982,\n",
       " 450: 1975,\n",
       " 451: 1969,\n",
       " 452: 1962,\n",
       " 453: 1955,\n",
       " 454: 1949,\n",
       " 455: 1942,\n",
       " 456: 1934,\n",
       " 457: 1927,\n",
       " 458: 1921,\n",
       " 459: 1915,\n",
       " 460: 1908,\n",
       " 461: 1901,\n",
       " 462: 1895,\n",
       " 463: 1888,\n",
       " 464: 1882,\n",
       " 465: 1874,\n",
       " 466: 1868,\n",
       " 467: 1861,\n",
       " 468: 1854,\n",
       " 469: 1845,\n",
       " 470: 1839,\n",
       " 471: 1833,\n",
       " 472: 1826,\n",
       " 473: 1820,\n",
       " 474: 1813,\n",
       " 475: 1807,\n",
       " 476: 1801,\n",
       " 477: 1795,\n",
       " 478: 1789,\n",
       " 479: 1781,\n",
       " 480: 1775,\n",
       " 481: 1769,\n",
       " 482: 1761,\n",
       " 483: 1754,\n",
       " 484: 1748,\n",
       " 485: 1740,\n",
       " 486: 1733,\n",
       " 487: 1727,\n",
       " 488: 1721,\n",
       " 489: 1715,\n",
       " 490: 1707,\n",
       " 491: 1701,\n",
       " 492: 1695,\n",
       " 493: 1689,\n",
       " 494: 1683,\n",
       " 495: 1677,\n",
       " 496: 1670,\n",
       " 497: 1662,\n",
       " 498: 1656,\n",
       " 499: 1650,\n",
       " 500: 1643,\n",
       " 501: 1637,\n",
       " 502: 1631,\n",
       " 503: 1624,\n",
       " 504: 1618,\n",
       " 505: 1612,\n",
       " 506: 1605,\n",
       " 507: 1597,\n",
       " 508: 1591,\n",
       " 509: 1585,\n",
       " 510: 1578,\n",
       " 511: 1571,\n",
       " 512: 1564,\n",
       " 513: 1558,\n",
       " 514: 1552,\n",
       " 515: 1546,\n",
       " 516: 1540,\n",
       " 517: 1533,\n",
       " 518: 1526,\n",
       " 519: 1519,\n",
       " 520: 1512,\n",
       " 521: 1506,\n",
       " 522: 1500,\n",
       " 523: 1493,\n",
       " 524: 1487,\n",
       " 525: 1480,\n",
       " 526: 1474,\n",
       " 527: 1468,\n",
       " 528: 1462,\n",
       " 529: 1456,\n",
       " 530: 1450,\n",
       " 531: 1444,\n",
       " 532: 1438,\n",
       " 533: 1432,\n",
       " 534: 1426,\n",
       " 535: 1419,\n",
       " 536: 1412,\n",
       " 537: 1405,\n",
       " 538: 1399,\n",
       " 539: 1393,\n",
       " 540: 1387,\n",
       " 541: 1380,\n",
       " 542: 1374,\n",
       " 543: 1368,\n",
       " 544: 1362,\n",
       " 545: 1355,\n",
       " 546: 1349,\n",
       " 547: 1342,\n",
       " 548: 1336,\n",
       " 549: 1330,\n",
       " 550: 1323,\n",
       " 551: 1317,\n",
       " 552: 1311,\n",
       " 553: 1305,\n",
       " 554: 1299,\n",
       " 555: 1292,\n",
       " 556: 1286,\n",
       " 557: 1279,\n",
       " 558: 1273,\n",
       " 559: 1266,\n",
       " 560: 1260,\n",
       " 561: 1254,\n",
       " 562: 1248,\n",
       " 563: 1242,\n",
       " 564: 1235,\n",
       " 565: 1229,\n",
       " 566: 1223,\n",
       " 567: 1217,\n",
       " 568: 1211,\n",
       " 569: 1206,\n",
       " 570: 1201,\n",
       " 571: 1195,\n",
       " 572: 1189,\n",
       " 573: 1184,\n",
       " 574: 1179,\n",
       " 575: 1174,\n",
       " 576: 1169,\n",
       " 577: 1163,\n",
       " 578: 1158,\n",
       " 579: 1152,\n",
       " 580: 1147,\n",
       " 581: 1142,\n",
       " 582: 1136,\n",
       " 583: 1131,\n",
       " 584: 1125,\n",
       " 585: 1120,\n",
       " 586: 1114,\n",
       " 587: 1109,\n",
       " 588: 1103,\n",
       " 589: 1097,\n",
       " 590: 1091,\n",
       " 591: 1085,\n",
       " 592: 1080,\n",
       " 593: 1075,\n",
       " 594: 1070,\n",
       " 595: 1065,\n",
       " 596: 1060,\n",
       " 597: 1055,\n",
       " 598: 1050,\n",
       " 599: 1043,\n",
       " 600: 1036,\n",
       " 601: 1031,\n",
       " 602: 1026,\n",
       " 603: 1020,\n",
       " 604: 1013,\n",
       " 605: 1008,\n",
       " 606: 1002,\n",
       " 607: 996,\n",
       " 608: 990,\n",
       " 609: 984,\n",
       " 610: 978,\n",
       " 611: 973,\n",
       " 612: 968,\n",
       " 613: 963,\n",
       " 614: 958,\n",
       " 615: 954,\n",
       " 616: 950,\n",
       " 617: 946,\n",
       " 618: 941,\n",
       " 619: 937,\n",
       " 620: 932,\n",
       " 621: 928,\n",
       " 622: 924,\n",
       " 623: 919,\n",
       " 624: 915,\n",
       " 625: 911,\n",
       " 626: 907,\n",
       " 627: 903,\n",
       " 628: 899,\n",
       " 629: 895,\n",
       " 630: 891,\n",
       " 631: 887,\n",
       " 632: 883,\n",
       " 633: 879,\n",
       " 634: 875,\n",
       " 635: 871,\n",
       " 636: 867,\n",
       " 637: 863,\n",
       " 638: 858,\n",
       " 639: 854,\n",
       " 640: 850,\n",
       " 641: 846,\n",
       " 642: 842,\n",
       " 643: 838,\n",
       " 644: 833,\n",
       " 645: 829,\n",
       " 646: 825,\n",
       " 647: 821,\n",
       " 648: 816,\n",
       " 649: 812,\n",
       " 650: 808,\n",
       " 651: 804,\n",
       " 652: 800,\n",
       " 653: 796,\n",
       " 654: 792,\n",
       " 655: 788,\n",
       " 656: 784,\n",
       " 657: 780,\n",
       " 658: 776,\n",
       " 659: 772,\n",
       " 660: 768,\n",
       " 661: 764,\n",
       " 662: 760,\n",
       " 663: 756,\n",
       " 664: 752,\n",
       " 665: 748,\n",
       " 666: 744,\n",
       " 667: 740,\n",
       " 668: 736,\n",
       " 669: 732,\n",
       " 670: 728,\n",
       " 671: 724,\n",
       " 672: 720,\n",
       " 673: 716,\n",
       " 674: 712,\n",
       " 675: 707,\n",
       " 676: 703,\n",
       " 677: 699,\n",
       " 678: 695,\n",
       " 679: 691,\n",
       " 680: 687,\n",
       " 681: 683,\n",
       " 682: 679,\n",
       " 683: 674,\n",
       " 684: 670,\n",
       " 685: 666,\n",
       " 686: 661,\n",
       " 687: 657,\n",
       " 688: 653,\n",
       " 689: 649,\n",
       " 690: 645,\n",
       " 691: 641,\n",
       " 692: 637,\n",
       " 693: 633,\n",
       " 694: 629,\n",
       " 695: 625,\n",
       " 696: 621,\n",
       " 697: 617,\n",
       " 698: 613,\n",
       " 699: 609,\n",
       " 700: 605,\n",
       " 701: 601,\n",
       " 702: 597,\n",
       " 703: 594,\n",
       " 704: 591,\n",
       " 705: 588,\n",
       " 706: 585,\n",
       " 707: 582,\n",
       " 708: 579,\n",
       " 709: 576,\n",
       " 710: 573,\n",
       " 711: 570,\n",
       " 712: 567,\n",
       " 713: 564,\n",
       " 714: 561,\n",
       " 715: 558,\n",
       " 716: 555,\n",
       " 717: 552,\n",
       " 718: 550,\n",
       " 719: 548,\n",
       " 720: 546,\n",
       " 721: 544,\n",
       " 722: 542,\n",
       " 723: 540,\n",
       " 724: 538,\n",
       " 725: 536,\n",
       " 726: 534,\n",
       " 727: 532,\n",
       " 728: 530,\n",
       " 729: 528,\n",
       " 730: 526,\n",
       " 731: 524,\n",
       " 732: 522,\n",
       " 733: 520,\n",
       " 734: 518,\n",
       " 735: 516,\n",
       " 736: 514,\n",
       " 737: 512,\n",
       " 738: 511,\n",
       " 739: 510,\n",
       " 740: 509,\n",
       " 741: 508,\n",
       " 742: 507,\n",
       " 743: 506,\n",
       " 744: 505,\n",
       " 745: 504,\n",
       " 746: 503,\n",
       " 747: 502,\n",
       " 748: 501,\n",
       " 749: 500,\n",
       " 750: 499,\n",
       " 751: 498,\n",
       " 752: 497,\n",
       " 753: 496,\n",
       " 754: 495,\n",
       " 755: 494,\n",
       " 756: 493,\n",
       " 757: 492,\n",
       " 758: 491,\n",
       " 759: 490,\n",
       " 760: 489,\n",
       " 761: 488,\n",
       " 762: 487,\n",
       " 763: 486,\n",
       " 764: 485,\n",
       " 765: 484,\n",
       " 766: 483,\n",
       " 767: 482,\n",
       " 768: 481,\n",
       " 769: 480,\n",
       " 770: 479,\n",
       " 771: 478,\n",
       " 772: 477,\n",
       " 773: 476,\n",
       " 774: 475,\n",
       " 775: 474,\n",
       " 776: 473,\n",
       " 777: 472,\n",
       " 778: 471,\n",
       " 779: 470,\n",
       " 780: 469,\n",
       " 781: 468,\n",
       " 782: 467,\n",
       " 783: 466,\n",
       " 784: 465,\n",
       " 785: 464,\n",
       " 786: 463,\n",
       " 787: 462,\n",
       " 788: 461,\n",
       " 789: 460,\n",
       " 790: 459,\n",
       " 791: 458,\n",
       " 792: 457,\n",
       " 793: 456,\n",
       " 794: 455,\n",
       " 795: 454,\n",
       " 796: 453,\n",
       " 797: 452,\n",
       " 798: 451,\n",
       " 799: 450,\n",
       " 800: 449,\n",
       " 801: 448,\n",
       " 802: 447,\n",
       " 803: 446,\n",
       " 804: 445,\n",
       " 805: 444,\n",
       " 806: 443,\n",
       " 807: 442,\n",
       " 808: 441,\n",
       " 809: 440,\n",
       " 810: 439,\n",
       " 811: 438,\n",
       " 812: 437,\n",
       " 813: 436,\n",
       " 814: 435,\n",
       " 815: 434,\n",
       " 816: 433,\n",
       " 817: 432,\n",
       " 818: 431,\n",
       " 819: 430,\n",
       " 820: 429,\n",
       " 821: 428,\n",
       " 822: 427,\n",
       " 823: 426,\n",
       " 824: 425,\n",
       " 825: 424,\n",
       " 826: 423,\n",
       " 827: 422,\n",
       " 828: 421,\n",
       " 829: 420,\n",
       " 830: 419,\n",
       " 831: 418,\n",
       " 832: 417,\n",
       " 833: 416,\n",
       " 834: 415,\n",
       " 835: 414,\n",
       " 836: 413,\n",
       " 837: 412,\n",
       " 838: 411,\n",
       " 839: 410,\n",
       " 840: 409,\n",
       " 841: 408,\n",
       " 842: 407,\n",
       " 843: 406,\n",
       " 844: 405,\n",
       " 845: 404,\n",
       " 846: 403,\n",
       " 847: 402,\n",
       " 848: 401,\n",
       " 849: 400,\n",
       " 850: 399,\n",
       " 851: 398,\n",
       " 852: 397,\n",
       " 853: 396,\n",
       " 854: 395,\n",
       " 855: 394,\n",
       " 856: 393,\n",
       " 857: 392,\n",
       " 858: 391,\n",
       " 859: 390,\n",
       " 860: 389,\n",
       " 861: 388,\n",
       " 862: 387,\n",
       " 863: 386,\n",
       " 864: 385,\n",
       " 865: 384,\n",
       " 866: 383,\n",
       " 867: 382,\n",
       " 868: 381,\n",
       " 869: 380,\n",
       " 870: 379,\n",
       " 871: 378,\n",
       " 872: 377,\n",
       " 873: 376,\n",
       " 874: 375,\n",
       " 875: 374,\n",
       " 876: 373,\n",
       " 877: 372,\n",
       " 878: 371,\n",
       " 879: 370,\n",
       " 880: 369,\n",
       " 881: 368,\n",
       " 882: 367,\n",
       " 883: 366,\n",
       " 884: 365,\n",
       " 885: 364,\n",
       " 886: 363,\n",
       " 887: 362,\n",
       " 888: 361,\n",
       " 889: 360,\n",
       " 890: 359,\n",
       " 891: 358,\n",
       " 892: 357,\n",
       " 893: 356,\n",
       " 894: 355,\n",
       " 895: 354,\n",
       " 896: 353,\n",
       " 897: 352,\n",
       " 898: 351,\n",
       " 899: 350,\n",
       " 900: 349,\n",
       " 901: 348,\n",
       " 902: 347,\n",
       " 903: 346,\n",
       " 904: 345,\n",
       " 905: 344,\n",
       " 906: 343,\n",
       " 907: 342,\n",
       " 908: 341,\n",
       " 909: 340,\n",
       " 910: 339,\n",
       " 911: 338,\n",
       " 912: 337,\n",
       " 913: 336,\n",
       " 914: 335,\n",
       " 915: 334,\n",
       " 916: 333,\n",
       " 917: 332,\n",
       " 918: 331,\n",
       " 919: 330,\n",
       " 920: 329,\n",
       " 921: 328,\n",
       " 922: 327,\n",
       " 923: 326,\n",
       " 924: 325,\n",
       " 925: 324,\n",
       " 926: 323,\n",
       " 927: 322,\n",
       " 928: 321,\n",
       " 929: 320,\n",
       " 930: 319,\n",
       " 931: 318,\n",
       " 932: 317,\n",
       " 933: 316,\n",
       " 934: 315,\n",
       " 935: 314,\n",
       " 936: 313,\n",
       " 937: 312,\n",
       " 938: 311,\n",
       " 939: 310,\n",
       " 940: 309,\n",
       " 941: 308,\n",
       " 942: 307,\n",
       " 943: 306,\n",
       " 944: 305,\n",
       " 945: 304,\n",
       " 946: 303,\n",
       " 947: 302,\n",
       " 948: 301,\n",
       " 949: 300,\n",
       " 950: 299,\n",
       " 951: 298,\n",
       " 952: 297,\n",
       " 953: 296,\n",
       " 954: 295,\n",
       " 955: 294,\n",
       " 956: 293,\n",
       " 957: 292,\n",
       " 958: 291,\n",
       " 959: 290,\n",
       " 960: 289,\n",
       " 961: 288,\n",
       " 962: 287,\n",
       " 963: 286,\n",
       " 964: 285,\n",
       " 965: 284,\n",
       " 966: 283,\n",
       " 967: 282,\n",
       " 968: 281,\n",
       " 969: 280,\n",
       " 970: 279,\n",
       " 971: 278,\n",
       " 972: 277,\n",
       " 973: 276,\n",
       " 974: 275,\n",
       " 975: 274,\n",
       " 976: 273,\n",
       " 977: 272,\n",
       " 978: 271,\n",
       " 979: 270,\n",
       " 980: 269,\n",
       " 981: 268,\n",
       " 982: 267,\n",
       " 983: 266,\n",
       " 984: 265,\n",
       " 985: 264,\n",
       " 986: 263,\n",
       " 987: 262,\n",
       " 988: 261,\n",
       " 989: 260,\n",
       " 990: 259,\n",
       " 991: 258,\n",
       " 992: 257,\n",
       " 993: 256,\n",
       " 994: 255,\n",
       " 995: 254,\n",
       " 996: 253,\n",
       " 997: 252,\n",
       " 998: 251,\n",
       " 999: 250,\n",
       " ...}"
      ]
     },
     "execution_count": 25,
     "metadata": {},
     "output_type": "execute_result"
    }
   ],
   "source": [
    "path_lengths"
   ]
  },
  {
   "cell_type": "code",
   "execution_count": 26,
   "metadata": {
    "pycharm": {
     "name": "#%%\n"
    }
   },
   "outputs": [
    {
     "data": {
      "text/plain": [
       "1248"
      ]
     },
     "execution_count": 26,
     "metadata": {},
     "output_type": "execute_result"
    }
   ],
   "source": [
    "getDiameter(getAllShortestPaths(graph=graph))"
   ]
  },
  {
   "cell_type": "markdown",
   "metadata": {
    "pycharm": {
     "name": "#%% md\n"
    }
   },
   "source": [
    "## Centrality Metrics Analysis"
   ]
  },
  {
   "cell_type": "markdown",
   "metadata": {
    "pycharm": {
     "name": "#%% md\n"
    }
   },
   "source": [
    "#### Class imbalance"
   ]
  },
  {
   "cell_type": "code",
   "execution_count": 27,
   "metadata": {
    "pycharm": {
     "name": "#%%\n"
    }
   },
   "outputs": [
    {
     "data": {
      "text/plain": [
       "3    5733\n",
       "2    2130\n",
       "1      17\n",
       "Name: class, dtype: int64"
      ]
     },
     "execution_count": 27,
     "metadata": {},
     "output_type": "execute_result"
    }
   ],
   "source": [
    "nodes_classes[\"class\"].value_counts()"
   ]
  },
  {
   "cell_type": "markdown",
   "metadata": {
    "pycharm": {
     "name": "#%% md\n"
    }
   },
   "source": [
    "### Degree Distribution"
   ]
  },
  {
   "cell_type": "code",
   "execution_count": 28,
   "metadata": {
    "pycharm": {
     "name": "#%%\n"
    }
   },
   "outputs": [
    {
     "data": {
      "text/html": [
       "<div>\n",
       "<style scoped>\n",
       "    .dataframe tbody tr th:only-of-type {\n",
       "        vertical-align: middle;\n",
       "    }\n",
       "\n",
       "    .dataframe tbody tr th {\n",
       "        vertical-align: top;\n",
       "    }\n",
       "\n",
       "    .dataframe thead th {\n",
       "        text-align: right;\n",
       "    }\n",
       "</style>\n",
       "<table border=\"1\" class=\"dataframe\">\n",
       "  <thead>\n",
       "    <tr style=\"text-align: right;\">\n",
       "      <th></th>\n",
       "      <th>id</th>\n",
       "      <th>in_degree</th>\n",
       "      <th>out_degree</th>\n",
       "    </tr>\n",
       "  </thead>\n",
       "  <tbody>\n",
       "    <tr>\n",
       "      <th>0</th>\n",
       "      <td>230425980</td>\n",
       "      <td>1</td>\n",
       "      <td>1</td>\n",
       "    </tr>\n",
       "    <tr>\n",
       "      <th>0</th>\n",
       "      <td>5530458</td>\n",
       "      <td>1</td>\n",
       "      <td>1</td>\n",
       "    </tr>\n",
       "    <tr>\n",
       "      <th>0</th>\n",
       "      <td>232022460</td>\n",
       "      <td>1</td>\n",
       "      <td>2</td>\n",
       "    </tr>\n",
       "    <tr>\n",
       "      <th>0</th>\n",
       "      <td>232438397</td>\n",
       "      <td>160</td>\n",
       "      <td>1</td>\n",
       "    </tr>\n",
       "    <tr>\n",
       "      <th>0</th>\n",
       "      <td>230460314</td>\n",
       "      <td>2</td>\n",
       "      <td>8</td>\n",
       "    </tr>\n",
       "  </tbody>\n",
       "</table>\n",
       "</div>"
      ],
      "text/plain": [
       "          id  in_degree  out_degree\n",
       "0  230425980          1           1\n",
       "0    5530458          1           1\n",
       "0  232022460          1           2\n",
       "0  232438397        160           1\n",
       "0  230460314          2           8"
      ]
     },
     "execution_count": 28,
     "metadata": {},
     "output_type": "execute_result"
    }
   ],
   "source": [
    "degree_distribution_df.head()"
   ]
  },
  {
   "cell_type": "code",
   "execution_count": 29,
   "metadata": {
    "pycharm": {
     "name": "#%%\n"
    }
   },
   "outputs": [],
   "source": [
    "degree_distribution_df = degree_distribution_df.round(decimals=3)\n",
    "degree_distribution_classes = pd.merge(degree_distribution_df, nodes_classes, on=\"id\")"
   ]
  },
  {
   "cell_type": "code",
   "execution_count": 45,
   "metadata": {
    "pycharm": {
     "name": "#%%\n"
    }
   },
   "outputs": [],
   "source": [
    "def plotInDegreeDistribution(x, y, color, title_postfix=\"\"):\n",
    "    sns.set_theme(style=\"whitegrid\")\n",
    "    plt.figure(figsize=(8,7))\n",
    "    ax = sns.barplot(x=x, y=y, color=color)\n",
    "    ax.xaxis.set_major_locator(plt.MaxNLocator(10))\n",
    "    plt.xlabel(\"in-degree\")\n",
    "    plt.ylabel(\"count\")\n",
    "    plt.title(f\"In-degree distribution{title_postfix}\", fontsize=16)\n",
    "    plt.show()\n",
    "\n",
    "def plotOutDegreeDistribution(x, y, color, title_postfix=\"\"):\n",
    "    sns.set_theme(style=\"whitegrid\")\n",
    "    plt.figure(figsize=(8,7))\n",
    "    ax = sns.barplot(x=x, y=y, color=color)\n",
    "    ax.xaxis.set_major_locator(plt.MaxNLocator(10))\n",
    "    plt.xlabel(\"out-degree\")\n",
    "    plt.ylabel(\"count\")\n",
    "    plt.title(f\"Out-degree distribution{title_postfix}\", fontsize=16)\n",
    "    plt.show()"
   ]
  },
  {
   "cell_type": "code",
   "execution_count": 46,
   "metadata": {
    "pycharm": {
     "name": "#%%\n"
    }
   },
   "outputs": [
    {
     "data": {
      "image/png": "[encoded data removed]",
      "text/plain": [
       "<Figure size 576x504 with 1 Axes>"
      ]
     },
     "metadata": {},
     "output_type": "display_data"
    }
   ],
   "source": [
    "plotInDegreeDistribution(x=degree_distribution_df[\"in_degree\"].value_counts().index, y=degree_distribution_df[\"in_degree\"].value_counts(), color=\"lightseagreen\")"
   ]
  },
  {
   "cell_type": "code",
   "execution_count": 47,
   "metadata": {
    "pycharm": {
     "name": "#%%\n"
    }
   },
   "outputs": [
    {
     "data": {
      "image/png": "[encoded data removed]",
      "text/plain": [
       "<Figure size 576x504 with 1 Axes>"
      ]
     },
     "metadata": {},
     "output_type": "display_data"
    }
   ],
   "source": [
    "plotOutDegreeDistribution(x=degree_distribution_df[\"out_degree\"].value_counts().index, y=degree_distribution_df[\"out_degree\"].value_counts(), color=\"orange\")"
   ]
  },
  {
   "cell_type": "code",
   "execution_count": 48,
   "metadata": {
    "pycharm": {
     "name": "#%%\n"
    }
   },
   "outputs": [
    {
     "data": {
      "text/plain": [
       "0    14\n",
       "1     2\n",
       "2     1\n",
       "Name: in_degree, dtype: int64"
      ]
     },
     "execution_count": 48,
     "metadata": {},
     "output_type": "execute_result"
    }
   ],
   "source": [
    "degree_distribution_classes[degree_distribution_classes[\"class\"] == 1][\"in_degree\"].value_counts()"
   ]
  },
  {
   "cell_type": "code",
   "execution_count": 49,
   "metadata": {
    "pycharm": {
     "name": "#%%\n"
    }
   },
   "outputs": [
    {
     "data": {
      "image/png": "[encoded data removed]",
      "text/plain": [
       "<Figure size 576x504 with 1 Axes>"
      ]
     },
     "metadata": {},
     "output_type": "display_data"
    }
   ],
   "source": [
    "x = degree_distribution_classes[degree_distribution_classes[\"class\"] == 2][\"in_degree\"].value_counts().index\n",
    "y = degree_distribution_classes[degree_distribution_classes[\"class\"] == 2][\"in_degree\"].value_counts()\n",
    "plotInDegreeDistribution(x=x, y=y, color=\"lightseagreen\", title_postfix=\": licit transactions\")"
   ]
  },
  {
   "cell_type": "code",
   "execution_count": 50,
   "metadata": {
    "pycharm": {
     "name": "#%%\n"
    }
   },
   "outputs": [
    {
     "data": {
      "image/png": "[encoded data removed]",
      "text/plain": [
       "<Figure size 576x504 with 1 Axes>"
      ]
     },
     "metadata": {},
     "output_type": "display_data"
    }
   ],
   "source": [
    "plt.figure(figsize=(8,7))\n",
    "sns.barplot(x=degree_distribution_classes[degree_distribution_classes[\"class\"] == 1][\"in_degree\"].value_counts().index, y=degree_distribution_classes[degree_distribution_classes[\"class\"] == 1][\"in_degree\"].value_counts(), color=\"crimson\")\n",
    "plt.title(\"In-degree distribution: illicit transactions\", fontsize=16)\n",
    "plt.xlabel(\"in-degree\")\n",
    "plt.ylabel(\"count\")\n",
    "plt.show()"
   ]
  },
  {
   "cell_type": "code",
   "execution_count": 51,
   "metadata": {
    "pycharm": {
     "name": "#%%\n"
    }
   },
   "outputs": [
    {
     "data": {
      "image/png": "[encoded data removed]",
      "text/plain": [
       "<Figure size 576x504 with 1 Axes>"
      ]
     },
     "metadata": {},
     "output_type": "display_data"
    }
   ],
   "source": [
    "x = degree_distribution_classes[degree_distribution_classes[\"class\"] == 2][\"out_degree\"].value_counts().index\n",
    "y = degree_distribution_classes[degree_distribution_classes[\"class\"] == 2][\"out_degree\"].value_counts()\n",
    "plotOutDegreeDistribution(x=x, y=y, color=\"lightseagreen\", title_postfix=\": licit transactions\")"
   ]
  },
  {
   "cell_type": "code",
   "execution_count": 52,
   "metadata": {
    "pycharm": {
     "name": "#%%\n"
    }
   },
   "outputs": [
    {
     "data": {
      "image/png": "[encoded data removed]",
      "text/plain": [
       "<Figure size 576x504 with 1 Axes>"
      ]
     },
     "metadata": {},
     "output_type": "display_data"
    }
   ],
   "source": [
    "plt.figure(figsize=(8,7))\n",
    "sns.barplot(x=degree_distribution_classes[degree_distribution_classes[\"class\"] == 1][\"out_degree\"].value_counts().index, y=degree_distribution_classes[degree_distribution_classes[\"class\"] == 1][\"out_degree\"].value_counts(), color=\"crimson\")\n",
    "plt.title(\"Out-degree distribution: illicit transactions\", fontsize=16)\n",
    "plt.xlabel(\"out-degree\")\n",
    "plt.ylabel(\"count\")\n",
    "plt.show()"
   ]
  },
  {
   "cell_type": "markdown",
   "metadata": {
    "pycharm": {
     "name": "#%% md\n"
    }
   },
   "source": [
    "### Mann-Whitney U test"
   ]
  },
  {
   "cell_type": "code",
   "execution_count": 106,
   "metadata": {
    "pycharm": {
     "name": "#%%\n"
    }
   },
   "outputs": [],
   "source": [
    "from scipy.stats import mannwhitneyu"
   ]
  },
  {
   "cell_type": "code",
   "execution_count": 107,
   "metadata": {
    "pycharm": {
     "name": "#%%\n"
    }
   },
   "outputs": [],
   "source": [
    "fraud_indegree_distribution = degree_distribution_classes[degree_distribution_classes[\"class\"] == 1][\"in_degree\"]\n",
    "fraud_outdegree_distribution = degree_distribution_classes[degree_distribution_classes[\"class\"] == 1][\"out_degree\"]\n",
    "non_fraud_indegree_distribution = degree_distribution_classes[degree_distribution_classes[\"class\"] == 2][\"in_degree\"]\n",
    "non_fraud_outdegree_distribution = degree_distribution_classes[degree_distribution_classes[\"class\"] == 2][\"out_degree\"]"
   ]
  },
  {
   "cell_type": "code",
   "execution_count": 108,
   "metadata": {
    "pycharm": {
     "name": "#%%\n"
    }
   },
   "outputs": [
    {
     "name": "stdout",
     "output_type": "stream",
     "text": [
      "Mann-Whitney U test statistic: 7807.000\n",
      "p-value: 0.000\n"
     ]
    }
   ],
   "source": [
    "mw_result = mannwhitneyu(x=fraud_indegree_distribution, y=non_fraud_indegree_distribution, alternative=\"two-sided\")\n",
    "print(\"Mann-Whitney U test statistic: %5.3f\" % mw_result.statistic)\n",
    "print(\"p-value: %5.3f\" % mw_result.pvalue)"
   ]
  },
  {
   "cell_type": "code",
   "execution_count": 109,
   "metadata": {
    "pycharm": {
     "name": "#%%\n"
    }
   },
   "outputs": [
    {
     "name": "stdout",
     "output_type": "stream",
     "text": [
      "Mann-Whitney U test statistic: 16454.000\n",
      "p-value: 0.479\n"
     ]
    }
   ],
   "source": [
    "mw_result = mannwhitneyu(x=fraud_outdegree_distribution, y=non_fraud_outdegree_distribution, alternative=\"two-sided\")\n",
    "print(\"Mann-Whitney U test statistic: %5.3f\" % mw_result.statistic)\n",
    "print(\"p-value: %5.3f\" % mw_result.pvalue)"
   ]
  },
  {
   "cell_type": "markdown",
   "metadata": {
    "pycharm": {
     "name": "#%% md\n"
    }
   },
   "source": [
    "### Pagerank scores distribution"
   ]
  },
  {
   "cell_type": "code",
   "execution_count": 53,
   "metadata": {
    "pycharm": {
     "name": "#%%\n"
    }
   },
   "outputs": [],
   "source": [
    "def plotPageRankDistribution(subset, color, title_postfix=\"\"):\n",
    "    subset = subset.value_counts()\n",
    "    plt.figure(figsize=(8,7))\n",
    "    sns.barplot(x=subset, y=subset.index, color=color)\n",
    "    plt.xlabel(\"pagerank score\")\n",
    "    plt.xticks(rotation=45)\n",
    "    plt.ylabel(\"count\")\n",
    "    plt.title(f\"Pagerank scores distribution{title_postfix}\")\n",
    "    plt.show()"
   ]
  },
  {
   "cell_type": "code",
   "execution_count": 54,
   "metadata": {
    "pycharm": {
     "name": "#%%\n"
    }
   },
   "outputs": [],
   "source": [
    "pagerank_scores = node_metrics.getPageRankScores().round(decimals=3)\n",
    "pagerank_scores_classes = pd.merge(pagerank_scores, nodes_classes, on=\"id\")"
   ]
  },
  {
   "cell_type": "code",
   "execution_count": 55,
   "metadata": {
    "pycharm": {
     "name": "#%%\n"
    }
   },
   "outputs": [
    {
     "data": {
      "text/html": [
       "<div>\n",
       "<style scoped>\n",
       "    .dataframe tbody tr th:only-of-type {\n",
       "        vertical-align: middle;\n",
       "    }\n",
       "\n",
       "    .dataframe tbody tr th {\n",
       "        vertical-align: top;\n",
       "    }\n",
       "\n",
       "    .dataframe thead th {\n",
       "        text-align: right;\n",
       "    }\n",
       "</style>\n",
       "<table border=\"1\" class=\"dataframe\">\n",
       "  <thead>\n",
       "    <tr style=\"text-align: right;\">\n",
       "      <th></th>\n",
       "      <th>id</th>\n",
       "      <th>class</th>\n",
       "      <th>degree</th>\n",
       "      <th>EigenvectorCentrality</th>\n",
       "      <th>PageRankScore</th>\n",
       "      <th>BetweennessScore</th>\n",
       "      <th>ClosenessScore</th>\n",
       "      <th>authorityScore</th>\n",
       "      <th>hubScore</th>\n",
       "    </tr>\n",
       "  </thead>\n",
       "  <tbody>\n",
       "    <tr>\n",
       "      <th>0</th>\n",
       "      <td>230425980</td>\n",
       "      <td>3</td>\n",
       "      <td>1.0</td>\n",
       "      <td>1.331093e-20</td>\n",
       "      <td>0.387650</td>\n",
       "      <td>14.000000</td>\n",
       "      <td>0.250000</td>\n",
       "      <td>4.208200e-49</td>\n",
       "      <td>2.473501e-50</td>\n",
       "    </tr>\n",
       "    <tr>\n",
       "      <th>1</th>\n",
       "      <td>5530458</td>\n",
       "      <td>3</td>\n",
       "      <td>1.0</td>\n",
       "      <td>4.466042e-18</td>\n",
       "      <td>0.479503</td>\n",
       "      <td>8.000000</td>\n",
       "      <td>0.222222</td>\n",
       "      <td>4.208200e-49</td>\n",
       "      <td>2.473501e-50</td>\n",
       "    </tr>\n",
       "    <tr>\n",
       "      <th>2</th>\n",
       "      <td>232022460</td>\n",
       "      <td>3</td>\n",
       "      <td>2.0</td>\n",
       "      <td>9.124115e-33</td>\n",
       "      <td>0.477994</td>\n",
       "      <td>30.000000</td>\n",
       "      <td>0.500000</td>\n",
       "      <td>4.208200e-49</td>\n",
       "      <td>2.104224e-04</td>\n",
       "    </tr>\n",
       "    <tr>\n",
       "      <th>3</th>\n",
       "      <td>232438397</td>\n",
       "      <td>2</td>\n",
       "      <td>1.0</td>\n",
       "      <td>1.686240e-08</td>\n",
       "      <td>26.485577</td>\n",
       "      <td>2355.000000</td>\n",
       "      <td>0.383550</td>\n",
       "      <td>3.567407e-03</td>\n",
       "      <td>2.473501e-50</td>\n",
       "    </tr>\n",
       "    <tr>\n",
       "      <th>4</th>\n",
       "      <td>230460314</td>\n",
       "      <td>3</td>\n",
       "      <td>8.0</td>\n",
       "      <td>9.129204e-33</td>\n",
       "      <td>0.201232</td>\n",
       "      <td>16.752381</td>\n",
       "      <td>0.750000</td>\n",
       "      <td>2.285641e-11</td>\n",
       "      <td>5.672538e-10</td>\n",
       "    </tr>\n",
       "    <tr>\n",
       "      <th>...</th>\n",
       "      <td>...</td>\n",
       "      <td>...</td>\n",
       "      <td>...</td>\n",
       "      <td>...</td>\n",
       "      <td>...</td>\n",
       "      <td>...</td>\n",
       "      <td>...</td>\n",
       "      <td>...</td>\n",
       "      <td>...</td>\n",
       "    </tr>\n",
       "    <tr>\n",
       "      <th>7875</th>\n",
       "      <td>230658152</td>\n",
       "      <td>3</td>\n",
       "      <td>1.0</td>\n",
       "      <td>2.628190e-44</td>\n",
       "      <td>0.150000</td>\n",
       "      <td>0.000000</td>\n",
       "      <td>0.000000</td>\n",
       "      <td>0.000000e+00</td>\n",
       "      <td>9.434011e-08</td>\n",
       "    </tr>\n",
       "    <tr>\n",
       "      <th>7876</th>\n",
       "      <td>54735200</td>\n",
       "      <td>2</td>\n",
       "      <td>0.0</td>\n",
       "      <td>2.544614e-36</td>\n",
       "      <td>0.331688</td>\n",
       "      <td>0.000000</td>\n",
       "      <td>0.666667</td>\n",
       "      <td>4.208200e-49</td>\n",
       "      <td>0.000000e+00</td>\n",
       "    </tr>\n",
       "    <tr>\n",
       "      <th>7877</th>\n",
       "      <td>230551382</td>\n",
       "      <td>3</td>\n",
       "      <td>1.0</td>\n",
       "      <td>2.628190e-44</td>\n",
       "      <td>0.150000</td>\n",
       "      <td>0.000000</td>\n",
       "      <td>0.000000</td>\n",
       "      <td>0.000000e+00</td>\n",
       "      <td>3.674932e-03</td>\n",
       "    </tr>\n",
       "    <tr>\n",
       "      <th>7878</th>\n",
       "      <td>33654709</td>\n",
       "      <td>3</td>\n",
       "      <td>0.0</td>\n",
       "      <td>3.956971e-40</td>\n",
       "      <td>0.213750</td>\n",
       "      <td>0.000000</td>\n",
       "      <td>1.000000</td>\n",
       "      <td>6.131404e-32</td>\n",
       "      <td>0.000000e+00</td>\n",
       "    </tr>\n",
       "    <tr>\n",
       "      <th>7879</th>\n",
       "      <td>39251209</td>\n",
       "      <td>3</td>\n",
       "      <td>1.0</td>\n",
       "      <td>2.628190e-44</td>\n",
       "      <td>0.150000</td>\n",
       "      <td>0.000000</td>\n",
       "      <td>0.000000</td>\n",
       "      <td>0.000000e+00</td>\n",
       "      <td>2.473501e-50</td>\n",
       "    </tr>\n",
       "  </tbody>\n",
       "</table>\n",
       "<p>7880 rows × 9 columns</p>\n",
       "</div>"
      ],
      "text/plain": [
       "             id  class  degree  EigenvectorCentrality  PageRankScore  \\\n",
       "0     230425980      3     1.0           1.331093e-20       0.387650   \n",
       "1       5530458      3     1.0           4.466042e-18       0.479503   \n",
       "2     232022460      3     2.0           9.124115e-33       0.477994   \n",
       "3     232438397      2     1.0           1.686240e-08      26.485577   \n",
       "4     230460314      3     8.0           9.129204e-33       0.201232   \n",
       "...         ...    ...     ...                    ...            ...   \n",
       "7875  230658152      3     1.0           2.628190e-44       0.150000   \n",
       "7876   54735200      2     0.0           2.544614e-36       0.331688   \n",
       "7877  230551382      3     1.0           2.628190e-44       0.150000   \n",
       "7878   33654709      3     0.0           3.956971e-40       0.213750   \n",
       "7879   39251209      3     1.0           2.628190e-44       0.150000   \n",
       "\n",
       "      BetweennessScore  ClosenessScore  authorityScore      hubScore  \n",
       "0            14.000000        0.250000    4.208200e-49  2.473501e-50  \n",
       "1             8.000000        0.222222    4.208200e-49  2.473501e-50  \n",
       "2            30.000000        0.500000    4.208200e-49  2.104224e-04  \n",
       "3          2355.000000        0.383550    3.567407e-03  2.473501e-50  \n",
       "4            16.752381        0.750000    2.285641e-11  5.672538e-10  \n",
       "...                ...             ...             ...           ...  \n",
       "7875          0.000000        0.000000    0.000000e+00  9.434011e-08  \n",
       "7876          0.000000        0.666667    4.208200e-49  0.000000e+00  \n",
       "7877          0.000000        0.000000    0.000000e+00  3.674932e-03  \n",
       "7878          0.000000        1.000000    6.131404e-32  0.000000e+00  \n",
       "7879          0.000000        0.000000    0.000000e+00  2.473501e-50  \n",
       "\n",
       "[7880 rows x 9 columns]"
      ]
     },
     "execution_count": 55,
     "metadata": {},
     "output_type": "execute_result"
    }
   ],
   "source": [
    "manager.getNodesMetrics()"
   ]
  },
  {
   "cell_type": "code",
   "execution_count": 56,
   "metadata": {
    "pycharm": {
     "name": "#%%\n"
    }
   },
   "outputs": [
    {
     "data": {
      "image/png": "[encoded data removed]",
      "text/plain": [
       "<Figure size 576x504 with 1 Axes>"
      ]
     },
     "metadata": {},
     "output_type": "display_data"
    }
   ],
   "source": [
    "plt.figure(figsize=(8,7))\n",
    "sns.barplot(x=pagerank_scores_classes[\"PageRankScore\"].value_counts().index, y=pagerank_scores_classes[\"PageRankScore\"].value_counts(), color=\"lightseagreen\")\n",
    "plt.xlabel(\"pagerank score\")\n",
    "plt.xticks(rotation=45)\n",
    "plt.ylabel(\"count\")\n",
    "plt.title(f\"Pagerank scores distribution\")\n",
    "plt.show()"
   ]
  },
  {
   "cell_type": "code",
   "execution_count": 57,
   "metadata": {
    "pycharm": {
     "name": "#%%\n"
    }
   },
   "outputs": [
    {
     "data": {
      "image/png": "[encoded data removed]",
      "text/plain": [
       "<Figure size 576x504 with 1 Axes>"
      ]
     },
     "metadata": {},
     "output_type": "display_data"
    }
   ],
   "source": [
    "subset = pagerank_scores_classes[pagerank_scores_classes[\"class\"] == 1][\"PageRankScore\"]\n",
    "plt.figure(figsize=(8,7))\n",
    "sns.barplot(x=subset.value_counts().index, y=subset.value_counts(), color=\"crimson\")\n",
    "plt.xlabel(\"PageRank score\")\n",
    "plt.xticks(rotation=45)\n",
    "plt.ylabel(\"count\")\n",
    "plt.title(f\"PageRank scores distribution: illicit transactions\", fontsize=16)\n",
    "plt.show()"
   ]
  },
  {
   "cell_type": "code",
   "execution_count": 58,
   "metadata": {
    "pycharm": {
     "name": "#%%\n"
    }
   },
   "outputs": [
    {
     "data": {
      "image/png": "[encoded data removed]",
      "text/plain": [
       "<Figure size 576x504 with 1 Axes>"
      ]
     },
     "metadata": {},
     "output_type": "display_data"
    }
   ],
   "source": [
    "plt.figure(figsize=(8,7))\n",
    "sns.histplot(pagerank_scores_classes[pagerank_scores_classes[\"class\"] == 2][\"PageRankScore\"], color=\"lightseagreen\")\n",
    "plt.title(\"PageRank scores distribution: licit transactions\", fontsize=16)\n",
    "plt.ylabel(\"count\")\n",
    "plt.xlabel(\"PageRank score\")\n",
    "plt.show()"
   ]
  },
  {
   "cell_type": "code",
   "execution_count": 59,
   "metadata": {
    "pycharm": {
     "name": "#%%\n"
    }
   },
   "outputs": [
    {
     "data": {
      "text/plain": [
       "0.150    14\n",
       "0.193     1\n",
       "0.368     1\n",
       "0.355     1\n",
       "Name: PageRankScore, dtype: int64"
      ]
     },
     "execution_count": 59,
     "metadata": {},
     "output_type": "execute_result"
    }
   ],
   "source": [
    "pagerank_scores_classes[pagerank_scores_classes[\"class\"] == 1][\"PageRankScore\"].value_counts()"
   ]
  },
  {
   "cell_type": "markdown",
   "metadata": {
    "pycharm": {
     "name": "#%% md\n"
    }
   },
   "source": [
    "### Mann-Whitney U test"
   ]
  },
  {
   "cell_type": "code",
   "execution_count": 113,
   "metadata": {
    "pycharm": {
     "name": "#%%\n"
    }
   },
   "outputs": [],
   "source": [
    "pagerank_distributions = pd.merge(nodes_classes, pagerank_scores, on=\"id\")"
   ]
  },
  {
   "cell_type": "code",
   "execution_count": 114,
   "metadata": {
    "pycharm": {
     "name": "#%%\n"
    }
   },
   "outputs": [],
   "source": [
    "fraud_pagerank_distribution = pagerank_scores[pagerank_distributions[\"class\"] == 1][\"PageRankScore\"]\n",
    "non_fraud_pagerank_distribution = pagerank_distributions[pagerank_distributions[\"class\"] == 2][\"PageRankScore\"]"
   ]
  },
  {
   "cell_type": "code",
   "execution_count": 115,
   "metadata": {
    "pycharm": {
     "name": "#%%\n"
    }
   },
   "outputs": [
    {
     "name": "stdout",
     "output_type": "stream",
     "text": [
      "Mann-Whitney U test statistic: 14590.500\n",
      "p-value: 0.164\n"
     ]
    }
   ],
   "source": [
    "mw_result = mannwhitneyu(x=fraud_pagerank_distribution, y=non_fraud_pagerank_distribution, alternative=\"two-sided\")\n",
    "print(\"Mann-Whitney U test statistic: %5.3f\" % mw_result.statistic)\n",
    "print(\"p-value: %5.3f\" % mw_result.pvalue)"
   ]
  },
  {
   "cell_type": "markdown",
   "metadata": {
    "pycharm": {
     "name": "#%% md\n"
    }
   },
   "source": [
    "### Betweenness scores distribution"
   ]
  },
  {
   "cell_type": "code",
   "execution_count": 60,
   "metadata": {
    "pycharm": {
     "name": "#%%\n"
    }
   },
   "outputs": [
    {
     "name": "stdout",
     "output_type": "stream",
     "text": [
      "14256.0\n",
      "0.0\n"
     ]
    }
   ],
   "source": [
    "betweenness_scores = node_metrics.getBetweennessCentrality()\n",
    "print(betweenness_scores[\"BetweennessScore\"].max())\n",
    "print(betweenness_scores[\"BetweennessScore\"].min())"
   ]
  },
  {
   "cell_type": "markdown",
   "metadata": {
    "pycharm": {
     "name": "#%% md\n"
    }
   },
   "source": [
    "### Eigenvector scores distribution"
   ]
  },
  {
   "cell_type": "code",
   "execution_count": 61,
   "metadata": {
    "pycharm": {
     "name": "#%%\n"
    }
   },
   "outputs": [],
   "source": [
    "def plotEigenvectorScoresDistribution(subset, color, title_postfix=\"\"):\n",
    "    subset = subset.value_counts()\n",
    "    plt.figure(figsize=(8,7))\n",
    "    sns.barplot(x=subset.index, y=subset, color=color)\n",
    "    plt.xlabel(\"eigenvector score\")\n",
    "    plt.xticks(rotation=45)\n",
    "    plt.ylabel(\"count\")\n",
    "    plt.title(f\"Eigenvector scores distribution{title_postfix}\")\n",
    "    plt.show()"
   ]
  },
  {
   "cell_type": "code",
   "execution_count": 62,
   "metadata": {
    "pycharm": {
     "name": "#%%\n"
    }
   },
   "outputs": [],
   "source": [
    "eigenvector_scores = node_metrics.getEigenvectorCentrality().round(decimals=3)"
   ]
  },
  {
   "cell_type": "code",
   "execution_count": 63,
   "metadata": {
    "pycharm": {
     "name": "#%%\n"
    }
   },
   "outputs": [],
   "source": [
    "eigenvector_scores_classes = pd.merge(eigenvector_scores, nodes_classes, on=\"id\")"
   ]
  },
  {
   "cell_type": "code",
   "execution_count": 65,
   "metadata": {
    "pycharm": {
     "name": "#%%\n"
    }
   },
   "outputs": [
    {
     "data": {
      "image/png": "[encoded data removed]",
      "text/plain": [
       "<Figure size 576x504 with 1 Axes>"
      ]
     },
     "metadata": {},
     "output_type": "display_data"
    }
   ],
   "source": [
    "plotEigenvectorScoresDistribution(eigenvector_scores[\"EigenvectorCentrality\"], color=\"navy\", title_postfix=\": all nodes\")"
   ]
  },
  {
   "cell_type": "code",
   "execution_count": 66,
   "metadata": {
    "pycharm": {
     "name": "#%%\n"
    }
   },
   "outputs": [
    {
     "data": {
      "image/png": "[encoded data removed]",
      "text/plain": [
       "<Figure size 576x504 with 1 Axes>"
      ]
     },
     "metadata": {},
     "output_type": "display_data"
    }
   ],
   "source": [
    "plotEigenvectorScoresDistribution(eigenvector_scores_classes[eigenvector_scores_classes[\"class\"] == 1][\"EigenvectorCentrality\"], color=\"navy\", title_postfix=\": fraudulent nodes\")"
   ]
  },
  {
   "cell_type": "code",
   "execution_count": 67,
   "metadata": {
    "pycharm": {
     "name": "#%%\n"
    }
   },
   "outputs": [
    {
     "data": {
      "image/png": "[encoded data removed]",
      "text/plain": [
       "<Figure size 576x504 with 1 Axes>"
      ]
     },
     "metadata": {},
     "output_type": "display_data"
    }
   ],
   "source": [
    "plotEigenvectorScoresDistribution(eigenvector_scores_classes[eigenvector_scores_classes[\"class\"] == 1][\"EigenvectorCentrality\"], color=\"navy\", title_postfix=\": non-fraudulent nodes\")"
   ]
  },
  {
   "cell_type": "markdown",
   "metadata": {
    "pycharm": {
     "name": "#%% md\n"
    }
   },
   "source": [
    "### Closeness Centrality Distribution"
   ]
  },
  {
   "cell_type": "code",
   "execution_count": 68,
   "metadata": {
    "pycharm": {
     "name": "#%%\n"
    }
   },
   "outputs": [],
   "source": [
    "def plotClosenessScoresDistribution(subset, color, title_postfix=\"\"):\n",
    "    subset = subset.value_counts()\n",
    "    plt.figure(figsize=(8,7))\n",
    "    ax = sns.barplot(x=subset.index, y=subset, color=color)\n",
    "    ax.xaxis.set_major_formatter(FormatStrFormatter('%.2f'))\n",
    "    plt.xlabel(\"closeness score\")\n",
    "    plt.ylabel(\"count\")\n",
    "    plt.title(f\"Closeness scores distribution{title_postfix}\", fontsize=16)\n",
    "    plt.show()"
   ]
  },
  {
   "cell_type": "code",
   "execution_count": 69,
   "metadata": {
    "pycharm": {
     "name": "#%%\n"
    }
   },
   "outputs": [],
   "source": [
    "closeness_scores = node_metrics.getClosenessCentrality()"
   ]
  },
  {
   "cell_type": "code",
   "execution_count": 70,
   "metadata": {
    "pycharm": {
     "name": "#%%\n"
    }
   },
   "outputs": [],
   "source": [
    "closeness_scores_classes = pd.merge(closeness_scores, nodes_classes, on=\"id\")"
   ]
  },
  {
   "cell_type": "code",
   "execution_count": 72,
   "metadata": {
    "pycharm": {
     "name": "#%%\n"
    }
   },
   "outputs": [
    {
     "data": {
      "image/png": "[encoded data removed]",
      "text/plain": [
       "<Figure size 576x504 with 1 Axes>"
      ]
     },
     "metadata": {},
     "output_type": "display_data"
    }
   ],
   "source": [
    "plotClosenessScoresDistribution(closeness_scores[\"ClosenessScore\"], color=\"orange\")"
   ]
  },
  {
   "cell_type": "code",
   "execution_count": 73,
   "metadata": {
    "pycharm": {
     "name": "#%%\n"
    }
   },
   "outputs": [
    {
     "data": {
      "image/png": "[encoded data removed]",
      "text/plain": [
       "<Figure size 576x504 with 1 Axes>"
      ]
     },
     "metadata": {},
     "output_type": "display_data"
    }
   ],
   "source": [
    "plt.figure(figsize=(8,7))\n",
    "sns.histplot(closeness_scores_classes[closeness_scores_classes[\"class\"] == 1][\"ClosenessScore\"], color=\"crimson\")\n",
    "plt.xlabel(\"closeness score\")\n",
    "plt.ylabel(\"count\")\n",
    "plt.title(f\"Closeness scores distribution: illicit nodes\", fontsize=16)\n",
    "plt.show()"
   ]
  },
  {
   "cell_type": "code",
   "execution_count": 74,
   "metadata": {
    "pycharm": {
     "name": "#%%\n"
    }
   },
   "outputs": [
    {
     "data": {
      "image/png": "[encoded data removed]",
      "text/plain": [
       "<Figure size 576x504 with 1 Axes>"
      ]
     },
     "metadata": {},
     "output_type": "display_data"
    }
   ],
   "source": [
    "plt.figure(figsize=(8,7))\n",
    "sns.histplot(closeness_scores_classes[closeness_scores_classes[\"class\"] == 2][\"ClosenessScore\"], color=\"lightseagreen\")\n",
    "plt.xlabel(\"closeness score\")\n",
    "plt.ylabel(\"count\")\n",
    "plt.title(f\"Closeness scores distribution: licit nodes\", fontsize=16)\n",
    "plt.show()"
   ]
  },
  {
   "cell_type": "code",
   "execution_count": 75,
   "metadata": {
    "pycharm": {
     "name": "#%%\n"
    }
   },
   "outputs": [
    {
     "data": {
      "image/png": "[encoded data removed]",
      "text/plain": [
       "<Figure size 576x504 with 1 Axes>"
      ]
     },
     "metadata": {},
     "output_type": "display_data"
    }
   ],
   "source": [
    "plotClosenessScoresDistribution(closeness_scores_classes[closeness_scores_classes[\"class\"] == 2][\"ClosenessScore\"], color=\"crimson\", title_postfix=\": licit nodes\")"
   ]
  },
  {
   "cell_type": "markdown",
   "metadata": {
    "pycharm": {
     "name": "#%% md\n"
    }
   },
   "source": [
    "### Mann-Whitney U test"
   ]
  },
  {
   "cell_type": "code",
   "execution_count": 116,
   "metadata": {
    "pycharm": {
     "name": "#%%\n"
    }
   },
   "outputs": [],
   "source": [
    "closeness_distributions = pd.merge(nodes_classes, closeness_scores, on=\"id\")"
   ]
  },
  {
   "cell_type": "code",
   "execution_count": 117,
   "metadata": {
    "pycharm": {
     "name": "#%%\n"
    }
   },
   "outputs": [],
   "source": [
    "fraud_closeness_distribution = closeness_scores[closeness_distributions[\"class\"] == 1][\"ClosenessScore\"]\n",
    "non_fraud_closeness_distribution = closeness_distributions[closeness_distributions[\"class\"] == 2][\"ClosenessScore\"]"
   ]
  },
  {
   "cell_type": "code",
   "execution_count": 118,
   "metadata": {
    "pycharm": {
     "name": "#%%\n"
    }
   },
   "outputs": [
    {
     "name": "stdout",
     "output_type": "stream",
     "text": [
      "Mann-Whitney U test statistic: 11803.000\n",
      "p-value: 0.012\n"
     ]
    }
   ],
   "source": [
    "mw_result = mannwhitneyu(x=fraud_closeness_distribution, y=non_fraud_closeness_distribution, alternative=\"two-sided\")\n",
    "print(\"Mann-Whitney U test statistic: %5.3f\" % mw_result.statistic)\n",
    "print(\"p-value: %5.3f\" % mw_result.pvalue)"
   ]
  },
  {
   "cell_type": "markdown",
   "metadata": {
    "pycharm": {
     "name": "#%% md\n"
    }
   },
   "source": [
    "### HITS scores distribution"
   ]
  },
  {
   "cell_type": "code",
   "execution_count": 76,
   "metadata": {
    "pycharm": {
     "name": "#%%\n"
    }
   },
   "outputs": [],
   "source": [
    "hits_scores = node_metrics.getHITSCentrality()\n",
    "hits_scores_classes = pd.merge(hits_scores, nodes_classes, on=\"id\")"
   ]
  },
  {
   "cell_type": "code",
   "execution_count": 77,
   "metadata": {
    "pycharm": {
     "name": "#%%\n"
    }
   },
   "outputs": [
    {
     "data": {
      "text/plain": [
       "(2518, 0.065)"
      ]
     },
     "execution_count": 77,
     "metadata": {},
     "output_type": "execute_result"
    }
   ],
   "source": [
    "hits_scores_classes.round(decimals=3)[\"authorityScore\"].idxmax(), hits_scores_classes.round(decimals=3)[\"authorityScore\"].max()"
   ]
  },
  {
   "cell_type": "code",
   "execution_count": 78,
   "metadata": {
    "pycharm": {
     "name": "#%%\n"
    }
   },
   "outputs": [
    {
     "data": {
      "text/plain": [
       "id                230537117\n",
       "authorityScore     0.065151\n",
       "hubScore                0.0\n",
       "class                     3\n",
       "Name: 2518, dtype: object"
      ]
     },
     "execution_count": 78,
     "metadata": {},
     "output_type": "execute_result"
    }
   ],
   "source": [
    "hits_scores_classes.iloc[2518]"
   ]
  },
  {
   "cell_type": "code",
   "execution_count": 79,
   "metadata": {
    "pycharm": {
     "name": "#%%\n"
    }
   },
   "outputs": [
    {
     "data": {
      "text/plain": [
       "(7745, 0.997)"
      ]
     },
     "execution_count": 79,
     "metadata": {},
     "output_type": "execute_result"
    }
   ],
   "source": [
    "hits_scores_classes.round(decimals=3)[\"hubScore\"].idxmax(), hits_scores_classes.round(decimals=3)[\"hubScore\"].max()"
   ]
  },
  {
   "cell_type": "code",
   "execution_count": 80,
   "metadata": {
    "pycharm": {
     "name": "#%%\n"
    }
   },
   "outputs": [
    {
     "data": {
      "text/plain": [
       "id                   89273\n",
       "authorityScore         0.0\n",
       "hubScore          0.997373\n",
       "class                    2\n",
       "Name: 7745, dtype: object"
      ]
     },
     "execution_count": 80,
     "metadata": {},
     "output_type": "execute_result"
    }
   ],
   "source": [
    "hits_scores_classes.iloc[7745]"
   ]
  },
  {
   "cell_type": "code",
   "execution_count": 82,
   "metadata": {
    "pycharm": {
     "name": "#%%\n"
    }
   },
   "outputs": [
    {
     "data": {
      "text/plain": [
       "0.000    7565\n",
       "0.059     264\n",
       "0.001      24\n",
       "0.060      10\n",
       "0.061       7\n",
       "0.063       3\n",
       "0.002       2\n",
       "0.064       2\n",
       "0.062       1\n",
       "0.065       1\n",
       "0.004       1\n",
       "Name: authorityScore, dtype: int64"
      ]
     },
     "execution_count": 82,
     "metadata": {},
     "output_type": "execute_result"
    }
   ],
   "source": [
    "hits_scores_classes[\"authorityScore\"].round(decimals=3).value_counts()"
   ]
  },
  {
   "cell_type": "code",
   "execution_count": 83,
   "metadata": {
    "pycharm": {
     "name": "#%%\n"
    }
   },
   "outputs": [
    {
     "data": {
      "text/plain": [
       "0.0    17\n",
       "Name: authorityScore, dtype: int64"
      ]
     },
     "execution_count": 83,
     "metadata": {},
     "output_type": "execute_result"
    }
   ],
   "source": [
    "hits_scores_classes[hits_scores_classes[\"class\"] == 1][\"authorityScore\"].round(decimals=3).value_counts()"
   ]
  },
  {
   "cell_type": "code",
   "execution_count": 84,
   "metadata": {
    "pycharm": {
     "name": "#%%\n"
    }
   },
   "outputs": [
    {
     "data": {
      "text/plain": [
       "0.000    1861\n",
       "0.059     228\n",
       "0.001      22\n",
       "0.061       6\n",
       "0.060       6\n",
       "0.002       2\n",
       "0.063       2\n",
       "0.064       1\n",
       "0.004       1\n",
       "0.062       1\n",
       "Name: authorityScore, dtype: int64"
      ]
     },
     "execution_count": 84,
     "metadata": {},
     "output_type": "execute_result"
    }
   ],
   "source": [
    "hits_scores_classes[hits_scores_classes[\"class\"] == 2][\"authorityScore\"].round(decimals=3).value_counts()"
   ]
  },
  {
   "cell_type": "code",
   "execution_count": 85,
   "metadata": {
    "pycharm": {
     "name": "#%%\n"
    }
   },
   "outputs": [
    {
     "data": {
      "text/plain": [
       "0.000    7526\n",
       "0.004     248\n",
       "0.003      97\n",
       "0.007       6\n",
       "0.008       1\n",
       "0.997       1\n",
       "0.019       1\n",
       "Name: hubScore, dtype: int64"
      ]
     },
     "execution_count": 85,
     "metadata": {},
     "output_type": "execute_result"
    }
   ],
   "source": [
    "hits_scores_classes[\"hubScore\"].round(decimals=3).value_counts()"
   ]
  },
  {
   "cell_type": "code",
   "execution_count": 86,
   "metadata": {
    "pycharm": {
     "name": "#%%\n"
    }
   },
   "outputs": [
    {
     "data": {
      "text/plain": [
       "0.000    15\n",
       "0.004     2\n",
       "Name: hubScore, dtype: int64"
      ]
     },
     "execution_count": 86,
     "metadata": {},
     "output_type": "execute_result"
    }
   ],
   "source": [
    "hits_scores_classes[hits_scores_classes[\"class\"] == 1][\"hubScore\"].round(decimals=3).value_counts()"
   ]
  },
  {
   "cell_type": "code",
   "execution_count": 87,
   "metadata": {
    "pycharm": {
     "name": "#%%\n"
    }
   },
   "outputs": [
    {
     "data": {
      "text/plain": [
       "0.000    2004\n",
       "0.004      71\n",
       "0.003      48\n",
       "0.007       5\n",
       "0.997       1\n",
       "0.019       1\n",
       "Name: hubScore, dtype: int64"
      ]
     },
     "execution_count": 87,
     "metadata": {},
     "output_type": "execute_result"
    }
   ],
   "source": [
    "hits_scores_classes[hits_scores_classes[\"class\"] == 2][\"hubScore\"].round(decimals=3).value_counts()"
   ]
  },
  {
   "cell_type": "markdown",
   "metadata": {
    "pycharm": {
     "name": "#%% md\n"
    }
   },
   "source": [
    "## Louvain Communities Analysis"
   ]
  },
  {
   "cell_type": "code",
   "execution_count": 88,
   "metadata": {
    "pycharm": {
     "name": "#%%\n"
    }
   },
   "outputs": [],
   "source": [
    "def getClassesDistributionInAllCommunities(analysis_manager, save=False, output_directory=None):\n",
    "    communities_distribution = analysis_manager.getNodeClassesInCommunities().groupby(\"communityId\")[\"class\"].value_counts()\n",
    "    content = pd.DataFrame(communities_distribution)\n",
    "    content.columns = [\"frequency\"]\n",
    "    content = content.reset_index()\n",
    "\n",
    "    if save & (output_directory is not None):\n",
    "        try:\n",
    "            with open(f\"{output_directory}/classes_distribution_in_louvain_communities.txt\", 'w') as fh:\n",
    "                fh.write(f\"{content.to_string(header=True, index=True)}\\n\")\n",
    "\n",
    "        except Exception as e:\n",
    "            print(\"Saving the contents failed. Error message: %s\" % e)\n",
    "\n",
    "    return content\n",
    "\n",
    "def getSuspiciousCommunities(classes_distribution_in_communities):\n",
    "    \"\"\"\n",
    "    :param classes_distribution_in_communities: a dataframe containing all communities' IDs and all transaction classes.\n",
    "    :return: a dataframe of communities which can be considered suspicious, potentially a fraud ring.\n",
    "    \"\"\"\n",
    "    communities_illicit = classes_distribution_in_communities[classes_distribution_in_communities[\"class\"] == 1][\"communityId\"]\n",
    "    communities_illicit = pd.DataFrame(communities_illicit)\n",
    "    communities_illicit.columns = [\"communityId\"]\n",
    "    return communities_illicit\n",
    "\n",
    "def getClassesDistributionInSuspiciousCommunities(suspicious_communities, classes_distribution_in_communities):\n",
    "    return pd.merge(suspicious_communities, classes_distribution_in_communities, on=\"communityId\")"
   ]
  },
  {
   "cell_type": "code",
   "execution_count": 89,
   "metadata": {
    "pycharm": {
     "name": "#%%\n"
    }
   },
   "outputs": [],
   "source": [
    "def getSuspiciousCommunitiesFlow(analysis_manager, suspicious_communities):\n",
    "\n",
    "    transactions_flow = None\n",
    "\n",
    "    classes_assigned = analysis_manager.getNodeClassesInCommunities()\n",
    "    node_ids = pd.merge(classes_assigned, suspicious_communities, on=\"communityId\")[\"id\"]\n",
    "    str1 = f\"{list(node_ids)}\"\n",
    "\n",
    "    try:\n",
    "        gds = GraphDataScience(\"bolt://localhost:7687\", auth=(\"neo4j\", \"elliptic\"))\n",
    "        transactions_flow = gds.run_cypher(\"MATCH (n:node)-[r:TRANSACTION]->(m:node) WHERE n.id IN %s RETURN n.id AS txId1, n.class AS txId1_class, r.cost AS weight, m.id AS txId2, m.class AS txId2_class\" % str1)\n",
    "        gds.close()\n",
    "    except Exception as e:\n",
    "        print(\"Error occurred. Check if the database is online. Error message: %s\" % e)\n",
    "\n",
    "    return transactions_flow"
   ]
  },
  {
   "cell_type": "markdown",
   "metadata": {
    "pycharm": {
     "name": "#%% md\n"
    }
   },
   "source": [
    "### Degree distribution in communities"
   ]
  },
  {
   "cell_type": "code",
   "execution_count": 90,
   "metadata": {
    "pycharm": {
     "name": "#%%\n"
    }
   },
   "outputs": [],
   "source": [
    "communities = manager.detectLouvainCommunities()"
   ]
  },
  {
   "cell_type": "code",
   "execution_count": 91,
   "metadata": {
    "pycharm": {
     "name": "#%%\n"
    }
   },
   "outputs": [],
   "source": [
    "nodes_class = node_metrics.getNodesClasses()"
   ]
  },
  {
   "cell_type": "code",
   "execution_count": 92,
   "metadata": {
    "pycharm": {
     "name": "#%%\n"
    }
   },
   "outputs": [
    {
     "data": {
      "text/plain": [
       "17"
      ]
     },
     "execution_count": 92,
     "metadata": {},
     "output_type": "execute_result"
    }
   ],
   "source": [
    "sum(nodes_class[\"class\"] == 1)"
   ]
  },
  {
   "cell_type": "code",
   "execution_count": 93,
   "metadata": {
    "pycharm": {
     "name": "#%%\n"
    }
   },
   "outputs": [
    {
     "data": {
      "text/html": [
       "<div>\n",
       "<style scoped>\n",
       "    .dataframe tbody tr th:only-of-type {\n",
       "        vertical-align: middle;\n",
       "    }\n",
       "\n",
       "    .dataframe tbody tr th {\n",
       "        vertical-align: top;\n",
       "    }\n",
       "\n",
       "    .dataframe thead th {\n",
       "        text-align: right;\n",
       "    }\n",
       "</style>\n",
       "<table border=\"1\" class=\"dataframe\">\n",
       "  <thead>\n",
       "    <tr style=\"text-align: right;\">\n",
       "      <th></th>\n",
       "      <th>id</th>\n",
       "      <th>communityId</th>\n",
       "      <th>intermediateCommunityIds</th>\n",
       "      <th>in_degree</th>\n",
       "      <th>out_degree</th>\n",
       "      <th>class</th>\n",
       "    </tr>\n",
       "  </thead>\n",
       "  <tbody>\n",
       "    <tr>\n",
       "      <th>367</th>\n",
       "      <td>16742787</td>\n",
       "      <td>7767</td>\n",
       "      <td>None</td>\n",
       "      <td>0</td>\n",
       "      <td>1</td>\n",
       "      <td>1</td>\n",
       "    </tr>\n",
       "    <tr>\n",
       "      <th>368</th>\n",
       "      <td>16753577</td>\n",
       "      <td>975</td>\n",
       "      <td>None</td>\n",
       "      <td>0</td>\n",
       "      <td>1</td>\n",
       "      <td>1</td>\n",
       "    </tr>\n",
       "    <tr>\n",
       "      <th>369</th>\n",
       "      <td>16754007</td>\n",
       "      <td>5631</td>\n",
       "      <td>None</td>\n",
       "      <td>0</td>\n",
       "      <td>1</td>\n",
       "      <td>1</td>\n",
       "    </tr>\n",
       "    <tr>\n",
       "      <th>378</th>\n",
       "      <td>17387772</td>\n",
       "      <td>1080</td>\n",
       "      <td>None</td>\n",
       "      <td>1</td>\n",
       "      <td>1</td>\n",
       "      <td>1</td>\n",
       "    </tr>\n",
       "    <tr>\n",
       "      <th>389</th>\n",
       "      <td>17796937</td>\n",
       "      <td>2026</td>\n",
       "      <td>None</td>\n",
       "      <td>0</td>\n",
       "      <td>1</td>\n",
       "      <td>1</td>\n",
       "    </tr>\n",
       "    <tr>\n",
       "      <th>429</th>\n",
       "      <td>184703182</td>\n",
       "      <td>7668</td>\n",
       "      <td>None</td>\n",
       "      <td>0</td>\n",
       "      <td>1</td>\n",
       "      <td>1</td>\n",
       "    </tr>\n",
       "    <tr>\n",
       "      <th>1094</th>\n",
       "      <td>230389796</td>\n",
       "      <td>1080</td>\n",
       "      <td>None</td>\n",
       "      <td>0</td>\n",
       "      <td>1</td>\n",
       "      <td>1</td>\n",
       "    </tr>\n",
       "    <tr>\n",
       "      <th>3631</th>\n",
       "      <td>231990430</td>\n",
       "      <td>919</td>\n",
       "      <td>None</td>\n",
       "      <td>0</td>\n",
       "      <td>1</td>\n",
       "      <td>1</td>\n",
       "    </tr>\n",
       "    <tr>\n",
       "      <th>3632</th>\n",
       "      <td>231990435</td>\n",
       "      <td>919</td>\n",
       "      <td>None</td>\n",
       "      <td>0</td>\n",
       "      <td>1</td>\n",
       "      <td>1</td>\n",
       "    </tr>\n",
       "    <tr>\n",
       "      <th>3933</th>\n",
       "      <td>232014511</td>\n",
       "      <td>2228</td>\n",
       "      <td>None</td>\n",
       "      <td>1</td>\n",
       "      <td>1</td>\n",
       "      <td>1</td>\n",
       "    </tr>\n",
       "    <tr>\n",
       "      <th>4325</th>\n",
       "      <td>232345692</td>\n",
       "      <td>2026</td>\n",
       "      <td>None</td>\n",
       "      <td>0</td>\n",
       "      <td>1</td>\n",
       "      <td>1</td>\n",
       "    </tr>\n",
       "    <tr>\n",
       "      <th>5117</th>\n",
       "      <td>232629023</td>\n",
       "      <td>7668</td>\n",
       "      <td>None</td>\n",
       "      <td>0</td>\n",
       "      <td>1</td>\n",
       "      <td>1</td>\n",
       "    </tr>\n",
       "    <tr>\n",
       "      <th>5497</th>\n",
       "      <td>232947878</td>\n",
       "      <td>2816</td>\n",
       "      <td>None</td>\n",
       "      <td>0</td>\n",
       "      <td>1</td>\n",
       "      <td>1</td>\n",
       "    </tr>\n",
       "    <tr>\n",
       "      <th>5726</th>\n",
       "      <td>24141114</td>\n",
       "      <td>973</td>\n",
       "      <td>None</td>\n",
       "      <td>0</td>\n",
       "      <td>1</td>\n",
       "      <td>1</td>\n",
       "    </tr>\n",
       "    <tr>\n",
       "      <th>5727</th>\n",
       "      <td>24155910</td>\n",
       "      <td>847</td>\n",
       "      <td>None</td>\n",
       "      <td>0</td>\n",
       "      <td>1</td>\n",
       "      <td>1</td>\n",
       "    </tr>\n",
       "    <tr>\n",
       "      <th>6042</th>\n",
       "      <td>3205536</td>\n",
       "      <td>1080</td>\n",
       "      <td>None</td>\n",
       "      <td>0</td>\n",
       "      <td>1</td>\n",
       "      <td>1</td>\n",
       "    </tr>\n",
       "    <tr>\n",
       "      <th>6946</th>\n",
       "      <td>62195631</td>\n",
       "      <td>5438</td>\n",
       "      <td>None</td>\n",
       "      <td>2</td>\n",
       "      <td>0</td>\n",
       "      <td>1</td>\n",
       "    </tr>\n",
       "  </tbody>\n",
       "</table>\n",
       "</div>"
      ],
      "text/plain": [
       "             id  communityId intermediateCommunityIds  in_degree  out_degree  \\\n",
       "367    16742787         7767                     None          0           1   \n",
       "368    16753577          975                     None          0           1   \n",
       "369    16754007         5631                     None          0           1   \n",
       "378    17387772         1080                     None          1           1   \n",
       "389    17796937         2026                     None          0           1   \n",
       "429   184703182         7668                     None          0           1   \n",
       "1094  230389796         1080                     None          0           1   \n",
       "3631  231990430          919                     None          0           1   \n",
       "3632  231990435          919                     None          0           1   \n",
       "3933  232014511         2228                     None          1           1   \n",
       "4325  232345692         2026                     None          0           1   \n",
       "5117  232629023         7668                     None          0           1   \n",
       "5497  232947878         2816                     None          0           1   \n",
       "5726   24141114          973                     None          0           1   \n",
       "5727   24155910          847                     None          0           1   \n",
       "6042    3205536         1080                     None          0           1   \n",
       "6946   62195631         5438                     None          2           0   \n",
       "\n",
       "      class  \n",
       "367       1  \n",
       "368       1  \n",
       "369       1  \n",
       "378       1  \n",
       "389       1  \n",
       "429       1  \n",
       "1094      1  \n",
       "3631      1  \n",
       "3632      1  \n",
       "3933      1  \n",
       "4325      1  \n",
       "5117      1  \n",
       "5497      1  \n",
       "5726      1  \n",
       "5727      1  \n",
       "6042      1  \n",
       "6946      1  "
      ]
     },
     "execution_count": 93,
     "metadata": {},
     "output_type": "execute_result"
    }
   ],
   "source": [
    "degree_distribution_in_communities = pd.merge(communities, degree_distribution_df, on=\"id\")\n",
    "degree_class_in_communities = pd.merge(degree_distribution_in_communities, nodes_class, on=\"id\")\n",
    "degree_class_in_communities[degree_class_in_communities[\"class\"] == 1]"
   ]
  },
  {
   "cell_type": "code",
   "execution_count": 94,
   "metadata": {
    "pycharm": {
     "name": "#%%\n"
    }
   },
   "outputs": [
    {
     "data": {
      "text/html": [
       "<div>\n",
       "<style scoped>\n",
       "    .dataframe tbody tr th:only-of-type {\n",
       "        vertical-align: middle;\n",
       "    }\n",
       "\n",
       "    .dataframe tbody tr th {\n",
       "        vertical-align: top;\n",
       "    }\n",
       "\n",
       "    .dataframe thead th {\n",
       "        text-align: right;\n",
       "    }\n",
       "</style>\n",
       "<table border=\"1\" class=\"dataframe\">\n",
       "  <thead>\n",
       "    <tr style=\"text-align: right;\">\n",
       "      <th></th>\n",
       "      <th>id</th>\n",
       "      <th>communityId</th>\n",
       "      <th>intermediateCommunityIds</th>\n",
       "      <th>in_degree</th>\n",
       "      <th>out_degree</th>\n",
       "      <th>class</th>\n",
       "    </tr>\n",
       "  </thead>\n",
       "  <tbody>\n",
       "    <tr>\n",
       "      <th>0</th>\n",
       "      <td>100197784</td>\n",
       "      <td>211</td>\n",
       "      <td>None</td>\n",
       "      <td>1</td>\n",
       "      <td>1</td>\n",
       "      <td>3</td>\n",
       "    </tr>\n",
       "    <tr>\n",
       "      <th>1</th>\n",
       "      <td>100197901</td>\n",
       "      <td>6373</td>\n",
       "      <td>None</td>\n",
       "      <td>1</td>\n",
       "      <td>1</td>\n",
       "      <td>3</td>\n",
       "    </tr>\n",
       "    <tr>\n",
       "      <th>2</th>\n",
       "      <td>100256600</td>\n",
       "      <td>61</td>\n",
       "      <td>None</td>\n",
       "      <td>1</td>\n",
       "      <td>1</td>\n",
       "      <td>3</td>\n",
       "    </tr>\n",
       "    <tr>\n",
       "      <th>3</th>\n",
       "      <td>10033979</td>\n",
       "      <td>6918</td>\n",
       "      <td>None</td>\n",
       "      <td>1</td>\n",
       "      <td>0</td>\n",
       "      <td>3</td>\n",
       "    </tr>\n",
       "    <tr>\n",
       "      <th>4</th>\n",
       "      <td>10039990</td>\n",
       "      <td>2026</td>\n",
       "      <td>None</td>\n",
       "      <td>0</td>\n",
       "      <td>1</td>\n",
       "      <td>3</td>\n",
       "    </tr>\n",
       "    <tr>\n",
       "      <th>...</th>\n",
       "      <td>...</td>\n",
       "      <td>...</td>\n",
       "      <td>...</td>\n",
       "      <td>...</td>\n",
       "      <td>...</td>\n",
       "      <td>...</td>\n",
       "    </tr>\n",
       "    <tr>\n",
       "      <th>7875</th>\n",
       "      <td>99506348</td>\n",
       "      <td>1119</td>\n",
       "      <td>None</td>\n",
       "      <td>1</td>\n",
       "      <td>1</td>\n",
       "      <td>3</td>\n",
       "    </tr>\n",
       "    <tr>\n",
       "      <th>7876</th>\n",
       "      <td>99506349</td>\n",
       "      <td>7115</td>\n",
       "      <td>None</td>\n",
       "      <td>1</td>\n",
       "      <td>1</td>\n",
       "      <td>3</td>\n",
       "    </tr>\n",
       "    <tr>\n",
       "      <th>7877</th>\n",
       "      <td>99600686</td>\n",
       "      <td>1050</td>\n",
       "      <td>None</td>\n",
       "      <td>1</td>\n",
       "      <td>0</td>\n",
       "      <td>2</td>\n",
       "    </tr>\n",
       "    <tr>\n",
       "      <th>7878</th>\n",
       "      <td>99606749</td>\n",
       "      <td>4053</td>\n",
       "      <td>None</td>\n",
       "      <td>1</td>\n",
       "      <td>1</td>\n",
       "      <td>3</td>\n",
       "    </tr>\n",
       "    <tr>\n",
       "      <th>7879</th>\n",
       "      <td>99761805</td>\n",
       "      <td>7750</td>\n",
       "      <td>None</td>\n",
       "      <td>1</td>\n",
       "      <td>0</td>\n",
       "      <td>3</td>\n",
       "    </tr>\n",
       "  </tbody>\n",
       "</table>\n",
       "<p>7880 rows × 6 columns</p>\n",
       "</div>"
      ],
      "text/plain": [
       "             id  communityId intermediateCommunityIds  in_degree  out_degree  \\\n",
       "0     100197784          211                     None          1           1   \n",
       "1     100197901         6373                     None          1           1   \n",
       "2     100256600           61                     None          1           1   \n",
       "3      10033979         6918                     None          1           0   \n",
       "4      10039990         2026                     None          0           1   \n",
       "...         ...          ...                      ...        ...         ...   \n",
       "7875   99506348         1119                     None          1           1   \n",
       "7876   99506349         7115                     None          1           1   \n",
       "7877   99600686         1050                     None          1           0   \n",
       "7878   99606749         4053                     None          1           1   \n",
       "7879   99761805         7750                     None          1           0   \n",
       "\n",
       "      class  \n",
       "0         3  \n",
       "1         3  \n",
       "2         3  \n",
       "3         3  \n",
       "4         3  \n",
       "...     ...  \n",
       "7875      3  \n",
       "7876      3  \n",
       "7877      2  \n",
       "7878      3  \n",
       "7879      3  \n",
       "\n",
       "[7880 rows x 6 columns]"
      ]
     },
     "execution_count": 94,
     "metadata": {},
     "output_type": "execute_result"
    }
   ],
   "source": [
    "degree_class_in_communities"
   ]
  },
  {
   "cell_type": "markdown",
   "metadata": {
    "pycharm": {
     "name": "#%% md\n"
    }
   },
   "source": [
    "### Transactions of each class - frequencies in communities"
   ]
  },
  {
   "cell_type": "code",
   "execution_count": 95,
   "metadata": {
    "pycharm": {
     "name": "#%%\n"
    }
   },
   "outputs": [
    {
     "data": {
      "text/html": [
       "<div>\n",
       "<style scoped>\n",
       "    .dataframe tbody tr th:only-of-type {\n",
       "        vertical-align: middle;\n",
       "    }\n",
       "\n",
       "    .dataframe tbody tr th {\n",
       "        vertical-align: top;\n",
       "    }\n",
       "\n",
       "    .dataframe thead th {\n",
       "        text-align: right;\n",
       "    }\n",
       "</style>\n",
       "<table border=\"1\" class=\"dataframe\">\n",
       "  <thead>\n",
       "    <tr style=\"text-align: right;\">\n",
       "      <th></th>\n",
       "      <th>communityId</th>\n",
       "      <th>class</th>\n",
       "      <th>frequency</th>\n",
       "    </tr>\n",
       "  </thead>\n",
       "  <tbody>\n",
       "    <tr>\n",
       "      <th>0</th>\n",
       "      <td>847</td>\n",
       "      <td>3</td>\n",
       "      <td>26</td>\n",
       "    </tr>\n",
       "    <tr>\n",
       "      <th>1</th>\n",
       "      <td>847</td>\n",
       "      <td>2</td>\n",
       "      <td>2</td>\n",
       "    </tr>\n",
       "    <tr>\n",
       "      <th>2</th>\n",
       "      <td>847</td>\n",
       "      <td>1</td>\n",
       "      <td>1</td>\n",
       "    </tr>\n",
       "    <tr>\n",
       "      <th>3</th>\n",
       "      <td>919</td>\n",
       "      <td>3</td>\n",
       "      <td>11</td>\n",
       "    </tr>\n",
       "    <tr>\n",
       "      <th>4</th>\n",
       "      <td>919</td>\n",
       "      <td>2</td>\n",
       "      <td>8</td>\n",
       "    </tr>\n",
       "    <tr>\n",
       "      <th>5</th>\n",
       "      <td>919</td>\n",
       "      <td>1</td>\n",
       "      <td>2</td>\n",
       "    </tr>\n",
       "    <tr>\n",
       "      <th>6</th>\n",
       "      <td>973</td>\n",
       "      <td>2</td>\n",
       "      <td>6</td>\n",
       "    </tr>\n",
       "    <tr>\n",
       "      <th>7</th>\n",
       "      <td>973</td>\n",
       "      <td>3</td>\n",
       "      <td>6</td>\n",
       "    </tr>\n",
       "    <tr>\n",
       "      <th>8</th>\n",
       "      <td>973</td>\n",
       "      <td>1</td>\n",
       "      <td>1</td>\n",
       "    </tr>\n",
       "    <tr>\n",
       "      <th>9</th>\n",
       "      <td>975</td>\n",
       "      <td>3</td>\n",
       "      <td>10</td>\n",
       "    </tr>\n",
       "    <tr>\n",
       "      <th>10</th>\n",
       "      <td>975</td>\n",
       "      <td>2</td>\n",
       "      <td>6</td>\n",
       "    </tr>\n",
       "    <tr>\n",
       "      <th>11</th>\n",
       "      <td>975</td>\n",
       "      <td>1</td>\n",
       "      <td>1</td>\n",
       "    </tr>\n",
       "    <tr>\n",
       "      <th>12</th>\n",
       "      <td>1080</td>\n",
       "      <td>2</td>\n",
       "      <td>11</td>\n",
       "    </tr>\n",
       "    <tr>\n",
       "      <th>13</th>\n",
       "      <td>1080</td>\n",
       "      <td>3</td>\n",
       "      <td>8</td>\n",
       "    </tr>\n",
       "    <tr>\n",
       "      <th>14</th>\n",
       "      <td>1080</td>\n",
       "      <td>1</td>\n",
       "      <td>3</td>\n",
       "    </tr>\n",
       "    <tr>\n",
       "      <th>15</th>\n",
       "      <td>2026</td>\n",
       "      <td>3</td>\n",
       "      <td>12</td>\n",
       "    </tr>\n",
       "    <tr>\n",
       "      <th>16</th>\n",
       "      <td>2026</td>\n",
       "      <td>2</td>\n",
       "      <td>9</td>\n",
       "    </tr>\n",
       "    <tr>\n",
       "      <th>17</th>\n",
       "      <td>2026</td>\n",
       "      <td>1</td>\n",
       "      <td>2</td>\n",
       "    </tr>\n",
       "    <tr>\n",
       "      <th>18</th>\n",
       "      <td>2228</td>\n",
       "      <td>2</td>\n",
       "      <td>2</td>\n",
       "    </tr>\n",
       "    <tr>\n",
       "      <th>19</th>\n",
       "      <td>2228</td>\n",
       "      <td>1</td>\n",
       "      <td>1</td>\n",
       "    </tr>\n",
       "    <tr>\n",
       "      <th>20</th>\n",
       "      <td>2228</td>\n",
       "      <td>3</td>\n",
       "      <td>1</td>\n",
       "    </tr>\n",
       "    <tr>\n",
       "      <th>21</th>\n",
       "      <td>2816</td>\n",
       "      <td>3</td>\n",
       "      <td>2</td>\n",
       "    </tr>\n",
       "    <tr>\n",
       "      <th>22</th>\n",
       "      <td>2816</td>\n",
       "      <td>1</td>\n",
       "      <td>1</td>\n",
       "    </tr>\n",
       "    <tr>\n",
       "      <th>23</th>\n",
       "      <td>5438</td>\n",
       "      <td>3</td>\n",
       "      <td>2</td>\n",
       "    </tr>\n",
       "    <tr>\n",
       "      <th>24</th>\n",
       "      <td>5438</td>\n",
       "      <td>1</td>\n",
       "      <td>1</td>\n",
       "    </tr>\n",
       "    <tr>\n",
       "      <th>25</th>\n",
       "      <td>5631</td>\n",
       "      <td>2</td>\n",
       "      <td>69</td>\n",
       "    </tr>\n",
       "    <tr>\n",
       "      <th>26</th>\n",
       "      <td>5631</td>\n",
       "      <td>3</td>\n",
       "      <td>46</td>\n",
       "    </tr>\n",
       "    <tr>\n",
       "      <th>27</th>\n",
       "      <td>5631</td>\n",
       "      <td>1</td>\n",
       "      <td>1</td>\n",
       "    </tr>\n",
       "    <tr>\n",
       "      <th>28</th>\n",
       "      <td>7668</td>\n",
       "      <td>3</td>\n",
       "      <td>5</td>\n",
       "    </tr>\n",
       "    <tr>\n",
       "      <th>29</th>\n",
       "      <td>7668</td>\n",
       "      <td>1</td>\n",
       "      <td>2</td>\n",
       "    </tr>\n",
       "    <tr>\n",
       "      <th>30</th>\n",
       "      <td>7668</td>\n",
       "      <td>2</td>\n",
       "      <td>2</td>\n",
       "    </tr>\n",
       "    <tr>\n",
       "      <th>31</th>\n",
       "      <td>7767</td>\n",
       "      <td>3</td>\n",
       "      <td>5</td>\n",
       "    </tr>\n",
       "    <tr>\n",
       "      <th>32</th>\n",
       "      <td>7767</td>\n",
       "      <td>2</td>\n",
       "      <td>2</td>\n",
       "    </tr>\n",
       "    <tr>\n",
       "      <th>33</th>\n",
       "      <td>7767</td>\n",
       "      <td>1</td>\n",
       "      <td>1</td>\n",
       "    </tr>\n",
       "  </tbody>\n",
       "</table>\n",
       "</div>"
      ],
      "text/plain": [
       "    communityId  class  frequency\n",
       "0           847      3         26\n",
       "1           847      2          2\n",
       "2           847      1          1\n",
       "3           919      3         11\n",
       "4           919      2          8\n",
       "5           919      1          2\n",
       "6           973      2          6\n",
       "7           973      3          6\n",
       "8           973      1          1\n",
       "9           975      3         10\n",
       "10          975      2          6\n",
       "11          975      1          1\n",
       "12         1080      2         11\n",
       "13         1080      3          8\n",
       "14         1080      1          3\n",
       "15         2026      3         12\n",
       "16         2026      2          9\n",
       "17         2026      1          2\n",
       "18         2228      2          2\n",
       "19         2228      1          1\n",
       "20         2228      3          1\n",
       "21         2816      3          2\n",
       "22         2816      1          1\n",
       "23         5438      3          2\n",
       "24         5438      1          1\n",
       "25         5631      2         69\n",
       "26         5631      3         46\n",
       "27         5631      1          1\n",
       "28         7668      3          5\n",
       "29         7668      1          2\n",
       "30         7668      2          2\n",
       "31         7767      3          5\n",
       "32         7767      2          2\n",
       "33         7767      1          1"
      ]
     },
     "execution_count": 95,
     "metadata": {},
     "output_type": "execute_result"
    }
   ],
   "source": [
    "communities_classes_distribution = getClassesDistributionInAllCommunities(manager, save=True, output_directory=\"../\")\n",
    "suspicious_communities = getSuspiciousCommunities(communities_classes_distribution)\n",
    "getClassesDistributionInSuspiciousCommunities(suspicious_communities, communities_classes_distribution)"
   ]
  },
  {
   "cell_type": "markdown",
   "metadata": {
    "pycharm": {
     "name": "#%% md\n"
    }
   },
   "source": [
    "### Studying the transactions flow"
   ]
  },
  {
   "cell_type": "code",
   "execution_count": 96,
   "metadata": {
    "pycharm": {
     "name": "#%%\n"
    }
   },
   "outputs": [],
   "source": [
    "transaction_flow_in_suspicious_communities = getSuspiciousCommunitiesFlow(manager,\n",
    "                                                                          suspicious_communities=suspicious_communities)"
   ]
  },
  {
   "cell_type": "code",
   "execution_count": 97,
   "metadata": {
    "pycharm": {
     "name": "#%%\n"
    }
   },
   "outputs": [
    {
     "data": {
      "text/html": [
       "<div>\n",
       "<style scoped>\n",
       "    .dataframe tbody tr th:only-of-type {\n",
       "        vertical-align: middle;\n",
       "    }\n",
       "\n",
       "    .dataframe tbody tr th {\n",
       "        vertical-align: top;\n",
       "    }\n",
       "\n",
       "    .dataframe thead th {\n",
       "        text-align: right;\n",
       "    }\n",
       "</style>\n",
       "<table border=\"1\" class=\"dataframe\">\n",
       "  <thead>\n",
       "    <tr style=\"text-align: right;\">\n",
       "      <th></th>\n",
       "      <th>txId1</th>\n",
       "      <th>txId1_class</th>\n",
       "      <th>weight</th>\n",
       "      <th>txId2</th>\n",
       "      <th>txId2_class</th>\n",
       "    </tr>\n",
       "  </thead>\n",
       "  <tbody>\n",
       "    <tr>\n",
       "      <th>0</th>\n",
       "      <td>232438397</td>\n",
       "      <td>2</td>\n",
       "      <td>1</td>\n",
       "      <td>92491280</td>\n",
       "      <td>2</td>\n",
       "    </tr>\n",
       "    <tr>\n",
       "      <th>1</th>\n",
       "      <td>27553029</td>\n",
       "      <td>2</td>\n",
       "      <td>1</td>\n",
       "      <td>230411688</td>\n",
       "      <td>2</td>\n",
       "    </tr>\n",
       "    <tr>\n",
       "      <th>2</th>\n",
       "      <td>232658952</td>\n",
       "      <td>3</td>\n",
       "      <td>1</td>\n",
       "      <td>62195631</td>\n",
       "      <td>1</td>\n",
       "    </tr>\n",
       "    <tr>\n",
       "      <th>3</th>\n",
       "      <td>232658952</td>\n",
       "      <td>3</td>\n",
       "      <td>1</td>\n",
       "      <td>232658962</td>\n",
       "      <td>3</td>\n",
       "    </tr>\n",
       "    <tr>\n",
       "      <th>4</th>\n",
       "      <td>230432611</td>\n",
       "      <td>2</td>\n",
       "      <td>1</td>\n",
       "      <td>71372878</td>\n",
       "      <td>3</td>\n",
       "    </tr>\n",
       "    <tr>\n",
       "      <th>...</th>\n",
       "      <td>...</td>\n",
       "      <td>...</td>\n",
       "      <td>...</td>\n",
       "      <td>...</td>\n",
       "      <td>...</td>\n",
       "    </tr>\n",
       "    <tr>\n",
       "      <th>297</th>\n",
       "      <td>232042947</td>\n",
       "      <td>2</td>\n",
       "      <td>1</td>\n",
       "      <td>232438397</td>\n",
       "      <td>2</td>\n",
       "    </tr>\n",
       "    <tr>\n",
       "      <th>298</th>\n",
       "      <td>3205536</td>\n",
       "      <td>1</td>\n",
       "      <td>1</td>\n",
       "      <td>230451730</td>\n",
       "      <td>2</td>\n",
       "    </tr>\n",
       "    <tr>\n",
       "      <th>299</th>\n",
       "      <td>230471948</td>\n",
       "      <td>3</td>\n",
       "      <td>1</td>\n",
       "      <td>232438397</td>\n",
       "      <td>2</td>\n",
       "    </tr>\n",
       "    <tr>\n",
       "      <th>300</th>\n",
       "      <td>230455503</td>\n",
       "      <td>3</td>\n",
       "      <td>1</td>\n",
       "      <td>232438397</td>\n",
       "      <td>2</td>\n",
       "    </tr>\n",
       "    <tr>\n",
       "      <th>301</th>\n",
       "      <td>230436131</td>\n",
       "      <td>3</td>\n",
       "      <td>1</td>\n",
       "      <td>232438397</td>\n",
       "      <td>2</td>\n",
       "    </tr>\n",
       "  </tbody>\n",
       "</table>\n",
       "<p>302 rows × 5 columns</p>\n",
       "</div>"
      ],
      "text/plain": [
       "         txId1  txId1_class  weight      txId2  txId2_class\n",
       "0    232438397            2       1   92491280            2\n",
       "1     27553029            2       1  230411688            2\n",
       "2    232658952            3       1   62195631            1\n",
       "3    232658952            3       1  232658962            3\n",
       "4    230432611            2       1   71372878            3\n",
       "..         ...          ...     ...        ...          ...\n",
       "297  232042947            2       1  232438397            2\n",
       "298    3205536            1       1  230451730            2\n",
       "299  230471948            3       1  232438397            2\n",
       "300  230455503            3       1  232438397            2\n",
       "301  230436131            3       1  232438397            2\n",
       "\n",
       "[302 rows x 5 columns]"
      ]
     },
     "execution_count": 97,
     "metadata": {},
     "output_type": "execute_result"
    }
   ],
   "source": [
    "transaction_flow_in_suspicious_communities"
   ]
  },
  {
   "cell_type": "markdown",
   "metadata": {
    "pycharm": {
     "name": "#%% md\n"
    }
   },
   "source": [
    "As seen below, because the transaction is directed from nameOrig to nameDest, we can see that illicit transactions changed their status, as their counts dropped for txId2 classes. The number of licit transactions (2) increased, the number of unknown class transaction decreased as well."
   ]
  },
  {
   "cell_type": "code",
   "execution_count": 98,
   "metadata": {
    "pycharm": {
     "name": "#%%\n"
    }
   },
   "outputs": [],
   "source": [
    "def getTransactionsFlowDf(value_counts_transactions):\n",
    "    transactions_flow_df = pd.DataFrame(value_counts_transactions)\n",
    "    transactions_flow_df= transactions_flow_df.reset_index()\n",
    "    transactions_flow_df.columns = [\"transaction_class\", \"frequency\"]\n",
    "    return transactions_flow_df"
   ]
  },
  {
   "cell_type": "code",
   "execution_count": 99,
   "metadata": {
    "pycharm": {
     "name": "#%%\n"
    }
   },
   "outputs": [
    {
     "data": {
      "text/html": [
       "<div>\n",
       "<style scoped>\n",
       "    .dataframe tbody tr th:only-of-type {\n",
       "        vertical-align: middle;\n",
       "    }\n",
       "\n",
       "    .dataframe tbody tr th {\n",
       "        vertical-align: top;\n",
       "    }\n",
       "\n",
       "    .dataframe thead th {\n",
       "        text-align: right;\n",
       "    }\n",
       "</style>\n",
       "<table border=\"1\" class=\"dataframe\">\n",
       "  <thead>\n",
       "    <tr style=\"text-align: right;\">\n",
       "      <th></th>\n",
       "      <th>transaction_class</th>\n",
       "      <th>frequency</th>\n",
       "    </tr>\n",
       "  </thead>\n",
       "  <tbody>\n",
       "    <tr>\n",
       "      <th>0</th>\n",
       "      <td>3</td>\n",
       "      <td>155</td>\n",
       "    </tr>\n",
       "    <tr>\n",
       "      <th>1</th>\n",
       "      <td>2</td>\n",
       "      <td>131</td>\n",
       "    </tr>\n",
       "    <tr>\n",
       "      <th>2</th>\n",
       "      <td>1</td>\n",
       "      <td>16</td>\n",
       "    </tr>\n",
       "  </tbody>\n",
       "</table>\n",
       "</div>"
      ],
      "text/plain": [
       "   transaction_class  frequency\n",
       "0                  3        155\n",
       "1                  2        131\n",
       "2                  1         16"
      ]
     },
     "execution_count": 99,
     "metadata": {},
     "output_type": "execute_result"
    }
   ],
   "source": [
    "flow_from = getTransactionsFlowDf(transaction_flow_in_suspicious_communities.txId1_class.value_counts())\n",
    "flow_from"
   ]
  },
  {
   "cell_type": "code",
   "execution_count": 100,
   "metadata": {
    "pycharm": {
     "name": "#%%\n"
    }
   },
   "outputs": [
    {
     "data": {
      "text/html": [
       "<div>\n",
       "<style scoped>\n",
       "    .dataframe tbody tr th:only-of-type {\n",
       "        vertical-align: middle;\n",
       "    }\n",
       "\n",
       "    .dataframe tbody tr th {\n",
       "        vertical-align: top;\n",
       "    }\n",
       "\n",
       "    .dataframe thead th {\n",
       "        text-align: right;\n",
       "    }\n",
       "</style>\n",
       "<table border=\"1\" class=\"dataframe\">\n",
       "  <thead>\n",
       "    <tr style=\"text-align: right;\">\n",
       "      <th></th>\n",
       "      <th>transaction_class</th>\n",
       "      <th>frequency</th>\n",
       "    </tr>\n",
       "  </thead>\n",
       "  <tbody>\n",
       "    <tr>\n",
       "      <th>0</th>\n",
       "      <td>2</td>\n",
       "      <td>208</td>\n",
       "    </tr>\n",
       "    <tr>\n",
       "      <th>1</th>\n",
       "      <td>3</td>\n",
       "      <td>91</td>\n",
       "    </tr>\n",
       "    <tr>\n",
       "      <th>2</th>\n",
       "      <td>1</td>\n",
       "      <td>3</td>\n",
       "    </tr>\n",
       "  </tbody>\n",
       "</table>\n",
       "</div>"
      ],
      "text/plain": [
       "   transaction_class  frequency\n",
       "0                  2        208\n",
       "1                  3         91\n",
       "2                  1          3"
      ]
     },
     "execution_count": 100,
     "metadata": {},
     "output_type": "execute_result"
    }
   ],
   "source": [
    "flow_to = getTransactionsFlowDf(transaction_flow_in_suspicious_communities.txId2_class.value_counts())\n",
    "flow_to"
   ]
  },
  {
   "cell_type": "code",
   "execution_count": 101,
   "metadata": {
    "pycharm": {
     "name": "#%%\n"
    }
   },
   "outputs": [],
   "source": [
    "def plotTransactionsFlowClasses(value_counts_transactions_flow1, value_counts_transactions_flow2):\n",
    "    fig, ax = plt.subplots(ncols=2, figsize=(8, 6))\n",
    "    sns.barplot(data=value_counts_transactions_flow1, x=\"transaction_class\", y=\"frequency\", ax=ax[0])\n",
    "    sns.barplot(data=value_counts_transactions_flow2, x=\"transaction_class\", y=\"frequency\", ax=ax[1])\n",
    "    ax[0].set_xlabel(\"Transaction class\", fontsize=12)\n",
    "    ax[1].set_xlabel(\"Transaction class\", fontsize=12)\n",
    "    ax[0].set_ylabel(\"Frequency\", fontsize=12)\n",
    "    ax[1].set_ylabel(\"Frequency\", fontsize=12)\n",
    "    ax[0].set_title(\"Transaction origin's entity\", fontsize=14)\n",
    "    ax[1].set_title(\"Transaction destination's entity\", fontsize=14)\n",
    "    plt.tight_layout()\n",
    "    plt.show()"
   ]
  },
  {
   "cell_type": "code",
   "execution_count": 102,
   "metadata": {
    "pycharm": {
     "name": "#%%\n"
    }
   },
   "outputs": [
    {
     "data": {
      "image/png": "[encoded data removed]",
      "text/plain": [
       "<Figure size 576x432 with 2 Axes>"
      ]
     },
     "metadata": {},
     "output_type": "display_data"
    }
   ],
   "source": [
    "plotTransactionsFlowClasses(flow_from, flow_to)"
   ]
  },
  {
   "cell_type": "code",
   "execution_count": 103,
   "metadata": {
    "pycharm": {
     "name": "#%%\n"
    }
   },
   "outputs": [],
   "source": [
    "connector.close()"
   ]
  },
  {
   "cell_type": "markdown",
   "metadata": {
    "pycharm": {
     "name": "#%% md\n"
    }
   },
   "source": [
    "## Mann-Whitney Test"
   ]
  },
  {
   "cell_type": "code",
   "execution_count": null,
   "metadata": {
    "pycharm": {
     "name": "#%%\n"
    }
   },
   "outputs": [],
   "source": [
    "from scipy.stats import mannwhitneyu"
   ]
  },
  {
   "cell_type": "markdown",
   "metadata": {
    "pycharm": {
     "name": "#%% md\n"
    }
   },
   "source": [
    "### Degree distributions"
   ]
  },
  {
   "cell_type": "code",
   "execution_count": null,
   "metadata": {
    "pycharm": {
     "name": "#%%\n"
    }
   },
   "outputs": [],
   "source": [
    "fraud_indegree_distribution = degree_distribution_and_class[degree_distribution_and_class[\"class\"] == 1][\"in_degree\"]\n",
    "fraud_outdegree_distribution = degree_distribution_and_class[degree_distribution_and_class[\"class\"] == 1][\"out_degree\"]\n",
    "non_fraud_indegree_distribution = degree_distribution_and_class[degree_distribution_and_class[\"class\"] == 0][\"in_degree\"]\n",
    "non_fraud_outdegree_distribution = degree_distribution_and_class[degree_distribution_and_class[\"class\"] == 0][\"out_degree\"]"
   ]
  },
  {
   "cell_type": "code",
   "execution_count": null,
   "metadata": {
    "pycharm": {
     "name": "#%%\n"
    }
   },
   "outputs": [],
   "source": [
    "mw_result = mannwhitneyu(x=fraud_indegree_distribution, y=non_fraud_indegree_distribution, alternative=\"two-sided\")\n",
    "print(\"Mann-Whitney U test statistic: %5.3f\" % mw_result.statistic)\n",
    "print(\"p-value: %5.3f\" % mw_result.pvalue)"
   ]
  },
  {
   "cell_type": "code",
   "execution_count": null,
   "metadata": {
    "pycharm": {
     "name": "#%%\n"
    }
   },
   "outputs": [],
   "source": [
    "fraud_indegree_distribution.value_counts()"
   ]
  },
  {
   "cell_type": "code",
   "execution_count": null,
   "metadata": {
    "pycharm": {
     "name": "#%%\n"
    }
   },
   "outputs": [],
   "source": [
    "non_fraud_indegree_distribution.value_counts()"
   ]
  },
  {
   "cell_type": "code",
   "execution_count": null,
   "metadata": {
    "pycharm": {
     "name": "#%%\n"
    }
   },
   "outputs": [],
   "source": [
    "mw_result = mannwhitneyu(x=fraud_outdegree_distribution, y=non_fraud_outdegree_distribution, alternative=\"two-sided\")\n",
    "print(\"Mann-Whitney U test statistic: %5.3f\" % mw_result.statistic)\n",
    "print(\"p-value: %5.3f\" % mw_result.pvalue)"
   ]
  },
  {
   "cell_type": "markdown",
   "metadata": {
    "pycharm": {
     "name": "#%% md\n"
    }
   },
   "source": [
    "### PageRank scores distribution"
   ]
  },
  {
   "cell_type": "code",
   "execution_count": null,
   "metadata": {
    "pycharm": {
     "name": "#%%\n"
    }
   },
   "outputs": [],
   "source": [
    "pagerank_distributions = pd.merge(nodes_classes, pagerank_scores, on=\"id\")"
   ]
  },
  {
   "cell_type": "code",
   "execution_count": null,
   "metadata": {
    "pycharm": {
     "name": "#%%\n"
    }
   },
   "outputs": [],
   "source": [
    "fraud_pagerank_distribution = pagerank_scores[pagerank_distributions[\"class\"] == 1][\"PageRankScore\"]\n",
    "non_fraud_pagerank_distribution = pagerank_distributions[pagerank_distributions[\"class\"] == 0][\"PageRankScore\"]"
   ]
  },
  {
   "cell_type": "code",
   "execution_count": null,
   "metadata": {
    "pycharm": {
     "name": "#%%\n"
    }
   },
   "outputs": [],
   "source": [
    "mw_result = mannwhitneyu(x=fraud_pagerank_distribution, y=non_fraud_pagerank_distribution, alternative=\"two-sided\")\n",
    "print(\"Mann-Whitney U test statistic: %5.3f\" % mw_result.statistic)\n",
    "print(\"p-value: %5.3f\" % mw_result.pvalue)"
   ]
  },
  {
   "cell_type": "code",
   "execution_count": null,
   "metadata": {
    "pycharm": {
     "name": "#%%\n"
    }
   },
   "outputs": [],
   "source": [
    "fraud_pagerank_distribution.value_counts().sort_index()"
   ]
  },
  {
   "cell_type": "code",
   "execution_count": null,
   "metadata": {
    "pycharm": {
     "name": "#%%\n"
    }
   },
   "outputs": [],
   "source": [
    "non_fraud_pagerank_distribution.value_counts().sort_index()"
   ]
  },
  {
   "cell_type": "markdown",
   "metadata": {
    "pycharm": {
     "name": "#%% md\n"
    }
   },
   "source": [
    "## Amounts"
   ]
  },
  {
   "cell_type": "code",
   "execution_count": null,
   "metadata": {
    "pycharm": {
     "name": "#%%\n"
    }
   },
   "outputs": [],
   "source": [
    "plt.figure(figsize=(8,7))\n",
    "ax = sns.boxplot(x=\"isFraud\", y=\"amount\", data=edgelist, showfliers=False)\n",
    "ax.yaxis.set_major_formatter(FormatStrFormatter(\"%d\"))\n",
    "plt.show()"
   ]
  },
  {
   "cell_type": "code",
   "execution_count": null,
   "metadata": {
    "pycharm": {
     "name": "#%%\n"
    }
   },
   "outputs": [],
   "source": [
    "plt.figure(figsize=(8,7))\n",
    "ax = sns.boxplot(x=\"isFraud\", y=\"amount\", data=edgelist, showfliers=True, flierprops = dict(markerfacecolor='b', markersize=2))\n",
    "ax.yaxis.set_major_formatter(FormatStrFormatter(\"%d\"))\n",
    "plt.show()"
   ]
  },
  {
   "cell_type": "markdown",
   "metadata": {
    "pycharm": {
     "name": "#%% md\n"
    }
   },
   "source": [
    "## Notes"
   ]
  },
  {
   "cell_type": "markdown",
   "metadata": {
    "pycharm": {
     "name": "#%% md\n"
    }
   },
   "source": [
    "The graph's suspicious communities were visualized using Neo4jBrowser. The query was generated using additional code which prints the list of node IDs from a list and puts that in a formatted string of Cypher query. It is as follows:"
   ]
  },
  {
   "cell_type": "code",
   "execution_count": null,
   "metadata": {
    "pycharm": {
     "name": "#%%\n"
    }
   },
   "outputs": [],
   "source": [
    "def getCommunitiesNodesList(transaction_flow):\n",
    "    org = transaction_flow[\"txId1\"]\n",
    "    dst = transaction_flow[\"txId2\"]\n",
    "\n",
    "    nodes_in_communities = []\n",
    "    for node1, node2 in zip(org, dst):\n",
    "        nodes_in_communities.append(node1)\n",
    "        nodes_in_communities.append(node2)\n",
    "    return list(pd.Series(nodes_in_communities).unique())"
   ]
  },
  {
   "cell_type": "code",
   "execution_count": null,
   "metadata": {
    "pycharm": {
     "name": "#%%\n"
    }
   },
   "outputs": [],
   "source": [
    "nodes_in_communities = getCommunitiesNodesList(getSuspiciousCommunitiesFlow(manager, suspicious_communities=getSuspiciousCommunities(getClassesDistributionInAllCommunities(manager, save=True, output_directory=\"../\"))))\n",
    "query = f\"MATCH (n:node)-[r:TRANSACTION]->(m:node) WHERE n.id IN {nodes_in_communities} OR m.id IN {nodes_in_communities} RETURN n.id AS sourceNodeID, m.id AS destinationNodeID, n.class AS sourceNodeClass, r.isFraud AS transactionCategory, r.type AS transactionType, m.class AS destinationNodeClass\"\n",
    "illicit_nodes_and_transactions = connector.run_cypher(query)\n",
    "for col in illicit_nodes_and_transactions:\n",
    "    if (col == \"sourceNodeID\") | (col == \"destinationNodeID\") | (col == \"transactionType\"):\n",
    "        continue\n",
    "    else:\n",
    "        print(illicit_nodes_and_transactions[col].value_counts())"
   ]
  },
  {
   "cell_type": "markdown",
   "metadata": {
    "pycharm": {
     "name": "#%% md\n"
    }
   },
   "source": [
    "As seen above, within the communities, 16 out of 29 nodes are known to make fraudulent transactions, 16 out of 29 transactions were illicit, but all destination nodes are known to make illicit transactions."
   ]
  },
  {
   "cell_type": "code",
   "execution_count": null,
   "metadata": {
    "pycharm": {
     "name": "#%%\n"
    }
   },
   "outputs": [],
   "source": [
    "illicit_nodes_and_transactions.groupby(\"transactionCategory\")[\"transactionType\"].value_counts()"
   ]
  },
  {
   "cell_type": "code",
   "execution_count": null,
   "metadata": {
    "pycharm": {
     "name": "#%%\n"
    }
   },
   "outputs": [],
   "source": [
    "node_ids = f\"{list(illicit_nodes_and_transactions.destinationNodeID)}\"\n",
    "query = f\"MATCH (n:node)-[r:TRANSACTION]->(m:node) WHERE n.id IN {node_ids} RETURN n.id AS sourceID, m.id AS destinationID, n.class AS sourceClass, m.class AS destinationClass, r.isFraud AS transactionCategory\"\n",
    "connector.run_cypher(query)"
   ]
  },
  {
   "cell_type": "markdown",
   "metadata": {
    "pycharm": {
     "name": "#%% md\n"
    }
   },
   "source": [
    "As seen above, the trace ends at the destination nodes in communities, however, only some of the transactions were CASH_OUT type"
   ]
  }
 ],
 "metadata": {
  "kernelspec": {
   "display_name": "Python 3",
   "language": "python",
   "name": "python3"
  },
  "language_info": {
   "codemirror_mode": {
    "name": "ipython",
    "version": 3
   },
   "file_extension": ".py",
   "mimetype": "text/x-python",
   "name": "python",
   "nbconvert_exporter": "python",
   "pygments_lexer": "ipython3",
   "version": "3.9.2"
  }
 },
 "nbformat": 4,
 "nbformat_minor": 1
}