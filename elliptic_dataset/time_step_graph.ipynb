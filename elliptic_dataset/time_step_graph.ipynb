{
 "cells": [
  {
   "cell_type": "code",
   "execution_count": 59,
   "outputs": [],
   "source": [
    "import os\n",
    "import pandas as pd\n",
    "\n",
    "from tqdm.notebook import tqdm"
   ],
   "metadata": {
    "collapsed": false,
    "pycharm": {
     "name": "#%%\n"
    }
   }
  },
  {
   "cell_type": "code",
   "execution_count": 60,
   "outputs": [],
   "source": [
    "def extractTimestepFeatures(data_features, timestep=1):\n",
    "    nodes_timestep_x = data_features[data_features[1] == timestep][0]\n",
    "    nodes_timestep_x = pd.DataFrame(nodes_timestep_x)\n",
    "    nodes_timestep_x.columns = [\"txId\"]\n",
    "    return nodes_timestep_x"
   ],
   "metadata": {
    "collapsed": false,
    "pycharm": {
     "name": "#%%\n"
    }
   }
  },
  {
   "cell_type": "code",
   "execution_count": 61,
   "outputs": [],
   "source": [
    "def getTimestepEdgelist(nodes_timestep_x, data_edges):\n",
    "    # make sure that the transactions exist in a time step\n",
    "    # select only those records which transaction IDs exist in timestep1 list\n",
    "    nodes_timestep_x = nodes_timestep_x[\"txId\"].unique()\n",
    "    txId1_timestep_x = []\n",
    "    txId2_timestep_x = []\n",
    "    for i in tqdm(range(len(data_edges))):\n",
    "        if (data_edges.txId1.iloc[i] in nodes_timestep_x) & (data_edges.txId2.iloc[i] in nodes_timestep_x):\n",
    "            txId1_timestep_x.append(data_edges.txId1.iloc[i])\n",
    "            txId2_timestep_x.append(data_edges.txId2.iloc[i])\n",
    "\n",
    "    data_edges_timestep_x = pd.DataFrame([txId1_timestep_x, txId2_timestep_x]).T\n",
    "    data_edges_timestep_x.columns = [\"txId1\", \"txId2\"]\n",
    "\n",
    "    return data_edges_timestep_x"
   ],
   "metadata": {
    "collapsed": false,
    "pycharm": {
     "name": "#%%\n"
    }
   }
  },
  {
   "cell_type": "code",
   "execution_count": 62,
   "outputs": [],
   "source": [
    "def createNodesHeaderFile(nodes_header, output_directory=\"export\"):\n",
    "    if not os.path.isdir(output_directory):\n",
    "        os.mkdir(output_directory)\n",
    "\n",
    "    with open(f\"{output_directory}/nodes_header.csv\", 'w') as fh:\n",
    "        fh.write(nodes_header)"
   ],
   "metadata": {
    "collapsed": false,
    "pycharm": {
     "name": "#%%\n"
    }
   }
  },
  {
   "cell_type": "code",
   "execution_count": 63,
   "outputs": [],
   "source": [
    "def createNodesDataFile(data_classes, nodes_timestamp_x, output_directory=\"export\"):\n",
    "\n",
    "    data_classes_timestep_x = pd.merge(data_classes, nodes_timestamp_x, on=\"txId\")\n",
    "    data_classes_timestep_x[\"class\"] = data_classes_timestep_x[\"class\"].replace({\"unknown\" : 3}).astype(\"uint8\")\n",
    "    data_classes_timestep_x = data_classes_timestep_x.assign(label=\"node\")\n",
    "    data_classes_timestep_x.to_csv(f\"{output_directory}/nodes_data.csv\", header=False, index=False)\n",
    "\n",
    "    return 0"
   ],
   "metadata": {
    "collapsed": false,
    "pycharm": {
     "name": "#%%\n"
    }
   }
  },
  {
   "cell_type": "code",
   "execution_count": 64,
   "outputs": [],
   "source": [
    "def createEdgesHeaderFile(edges_header, output_directory=\"export\"):\n",
    "    if not os.path.isdir(output_directory):\n",
    "        os.mkdir(output_directory)\n",
    "\n",
    "    with open(f\"{output_directory}/edges_header.csv\", 'w') as fh:\n",
    "        fh.write(edges_header)"
   ],
   "metadata": {
    "collapsed": false,
    "pycharm": {
     "name": "#%%\n"
    }
   }
  },
  {
   "cell_type": "code",
   "execution_count": 65,
   "outputs": [],
   "source": [
    "def createEdgesDataFile(edgelist_timestep_x, output_directory=\"export\"):\n",
    "    # for obtaining relationship properties, the edge properties must be added using the data from the edgelist\n",
    "    # the properties must be between START ID and END ID\n",
    "    edges_timestep_x = edgelist_timestep_x[[\"txId1\"]]\n",
    "    edges_timestep_x = edges_timestep_x.assign(cost=1)\n",
    "    edges_timestep_x = edges_timestep_x.assign(txId2=edgelist_timestep_x[\"txId2\"])\n",
    "    edges_timestep_x = edges_timestep_x.assign(Type=\"TRANSACTION\")\n",
    "    edges_timestep_x.to_csv(f\"{output_directory}/edges_data.csv\", header=False, index=False)\n",
    "\n",
    "    return 0"
   ],
   "metadata": {
    "collapsed": false,
    "pycharm": {
     "name": "#%%\n"
    }
   }
  },
  {
   "cell_type": "code",
   "execution_count": 66,
   "outputs": [],
   "source": [
    "def main():\n",
    "\n",
    "    data_edges = pd.read_csv(\"data/elliptic_txs_edgelist.csv\")\n",
    "    data_features = pd.read_csv(\"data/elliptic_txs_features.csv\", header=None)\n",
    "    data_classes = pd.read_csv(\"data/elliptic_txs_classes.csv\")\n",
    "\n",
    "    nodes_timestep_1 = extractTimestepFeatures(data_features=data_features, timestep=1)\n",
    "    createNodesHeaderFile(nodes_header=\"id:ID,class:int,label:LABEL\", output_directory=\"export_timestep_1\")\n",
    "    createNodesDataFile(data_classes=data_classes, nodes_timestamp_x=nodes_timestep_1, output_directory=\"export_timestep_1\")\n",
    "\n",
    "    edgelist_timestep_1 = getTimestepEdgelist(nodes_timestep_x=nodes_timestep_1, data_edges=data_edges)\n",
    "    createEdgesHeaderFile(edges_header=\":START_ID,cost:int,:END_ID,:TYPE\", output_directory=\"export_timestep_1\")\n",
    "    createEdgesDataFile(edgelist_timestep_1, output_directory=\"export_timestep_1\")\n",
    "\n",
    "    return 0"
   ],
   "metadata": {
    "collapsed": false,
    "pycharm": {
     "name": "#%%\n"
    }
   }
  },
  {
   "cell_type": "code",
   "execution_count": 67,
   "outputs": [
    {
     "data": {
      "text/plain": "  0%|          | 0/234355 [00:00<?, ?it/s]",
      "application/vnd.jupyter.widget-view+json": {
       "version_major": 2,
       "version_minor": 0,
       "model_id": "23c71a5f56d949429727b2dbbb21593f"
      }
     },
     "metadata": {},
     "output_type": "display_data"
    },
    {
     "data": {
      "text/plain": "0"
     },
     "execution_count": 51,
     "metadata": {},
     "output_type": "execute_result"
    },
    {
     "data": {
      "text/plain": "  0%|          | 0/234355 [00:00<?, ?it/s]",
      "application/vnd.jupyter.widget-view+json": {
       "version_major": 2,
       "version_minor": 0,
       "model_id": "917286e610a040568f340b207c08b77e"
      }
     },
     "metadata": {},
     "output_type": "display_data"
    },
    {
     "data": {
      "text/plain": "0"
     },
     "execution_count": 67,
     "metadata": {},
     "output_type": "execute_result"
    }
   ],
   "source": [
    "main()"
   ],
   "metadata": {
    "collapsed": false,
    "pycharm": {
     "name": "#%%\n"
    }
   }
  },
  {
   "cell_type": "code",
   "execution_count": 77,
   "outputs": [],
   "source": [
    "\n",
    "dist = data_features[1].value_counts()\n",
    "dist = pd.DataFrame(dist).reset_index()\n",
    "dist.columns = [\"TimeStep\", \"Size\"]"
   ],
   "metadata": {
    "collapsed": false,
    "pycharm": {
     "name": "#%%\n"
    }
   }
  },
  {
   "cell_type": "code",
   "execution_count": 80,
   "outputs": [
    {
     "data": {
      "text/plain": "4291.0"
     },
     "execution_count": 80,
     "metadata": {},
     "output_type": "execute_result"
    }
   ],
   "source": [
    "dist[\"Size\"].median()"
   ],
   "metadata": {
    "collapsed": false,
    "pycharm": {
     "name": "#%%\n"
    }
   }
  },
  {
   "cell_type": "code",
   "execution_count": 91,
   "outputs": [
    {
     "data": {
      "text/plain": "<Figure size 576x504 with 1 Axes>",
      "image/png": "[encoded data removed]"
     },
     "metadata": {
      "needs_background": "light"
     },
     "output_type": "display_data"
    }
   ],
   "source": [
    "import seaborn as sns\n",
    "import matplotlib.pyplot as plt\n",
    "\n",
    "merged = pd.merge(data_features[[0, 1]], data_classes, left_on=0, right_on=\"txId\")\n",
    "fraud_timesteps = merged[merged[\"class\"] == \"1\"][1].value_counts()\n",
    "fraud_timesteps = fraud_timesteps.reset_index()\n",
    "fraud_timesteps.columns = [\"TimeStep\", \"NumberOfFraudulentTransactions\"]\n",
    "plt.figure(figsize=(8,7))\n",
    "sns.barplot(data=fraud_timesteps.sort_values(\"TimeStep\"),\n",
    "            x=\"TimeStep\",\n",
    "            y=\"NumberOfFraudulentTransactions\",\n",
    "            color=\"lightcoral\")\n",
    "plt.xticks(rotation=90)\n",
    "plt.xlabel(\"Time step\")\n",
    "plt.ylabel(\"Fraudulent transactions\")\n",
    "plt.title(\"Fraudulent transaction for each time step\", fontsize=15)\n",
    "plt.show()"
   ],
   "metadata": {
    "collapsed": false,
    "pycharm": {
     "name": "#%%\n"
    }
   }
  },
  {
   "cell_type": "code",
   "execution_count": 92,
   "outputs": [],
   "source": [
    "merged = pd.merge(data_features[[0, 1]], data_classes, left_on=0, right_on=\"txId\")\n",
    "fraud_timesteps = merged[merged[\"class\"] == \"1\"][1].value_counts()"
   ],
   "metadata": {
    "collapsed": false,
    "pycharm": {
     "name": "#%%\n"
    }
   }
  },
  {
   "cell_type": "code",
   "execution_count": 93,
   "outputs": [
    {
     "data": {
      "text/plain": "32    342\n29    329\n13    291\n20    260\n9     248\n42    239\n35    182\n22    158\n15    147\n24    137\n11    131\n16    128\n25    118\n41    116\n40    112\n38    111\n31    106\n7     102\n21    100\n17     99\n26     96\n28     85\n30     83\n39     81\n19     80\n8      67\n49     56\n23     53\n18     52\n14     43\n37     40\n34     37\n48     36\n36     33\n4      30\n27     24\n44     24\n43     24\n33     23\n47     22\n10     18\n2      18\n1      17\n12     16\n3      11\n5       8\n6       5\n45      5\n46      2\nName: 1, dtype: int64"
     },
     "execution_count": 93,
     "metadata": {},
     "output_type": "execute_result"
    }
   ],
   "source": [
    "fraud_timesteps"
   ],
   "metadata": {
    "collapsed": false,
    "pycharm": {
     "name": "#%%\n"
    }
   }
  },
  {
   "cell_type": "code",
   "execution_count": null,
   "outputs": [],
   "source": [],
   "metadata": {
    "collapsed": false,
    "pycharm": {
     "name": "#%%\n"
    }
   }
  }
 ],
 "metadata": {
  "kernelspec": {
   "display_name": "Python 3",
   "language": "python",
   "name": "python3"
  },
  "language_info": {
   "codemirror_mode": {
    "name": "ipython",
    "version": 2
   },
   "file_extension": ".py",
   "mimetype": "text/x-python",
   "name": "python",
   "nbconvert_exporter": "python",
   "pygments_lexer": "ipython2",
   "version": "2.7.6"
  }
 },
 "nbformat": 4,
 "nbformat_minor": 0
}